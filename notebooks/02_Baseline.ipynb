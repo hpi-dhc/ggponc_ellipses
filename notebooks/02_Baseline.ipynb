{
 "cells": [
  {
   "cell_type": "code",
   "execution_count": 1,
   "id": "6c88bc99-ed99-4dad-a70b-3c3cfc061144",
   "metadata": {},
   "outputs": [],
   "source": [
    "import sys\n",
    "sys.path.append('../scripts')"
   ]
  },
  {
   "cell_type": "code",
   "execution_count": 2,
   "id": "dfeb1e56-50fe-4849-8f05-136e1e527848",
   "metadata": {},
   "outputs": [
    {
     "name": "stderr",
     "output_type": "stream",
     "text": [
      "/home/Florian.Borchert/miniconda3/envs/ellipses/lib/python3.10/site-packages/tqdm/auto.py:22: TqdmWarning: IProgress not found. Please update jupyter and ipywidgets. See https://ipywidgets.readthedocs.io/en/stable/user_install.html\n",
      "  from .autonotebook import tqdm as notebook_tqdm\n"
     ]
    }
   ],
   "source": [
    "from rules.cnf_resolver import RulebasedCNFResolver\n",
    "from evaluation import Metrics\n",
    "import pandas as pd\n",
    "from pathlib import Path\n",
    "from dataset import load_data\n",
    "from evaluation import error_analysis, get_scores"
   ]
  },
  {
   "cell_type": "code",
   "execution_count": 3,
   "id": "95b3c977-b83e-46e2-a60f-12aec204fc9a",
   "metadata": {},
   "outputs": [],
   "source": [
    "import hydra\n",
    "from hydra import compose, initialize\n",
    "\n",
    "hydra.core.global_hydra.GlobalHydra.instance().clear()\n",
    "initialize(config_path=Path('..'), job_name='foo', version_base='1.1')\n",
    "config = compose(config_name='experiment.yaml')"
   ]
  },
  {
   "cell_type": "code",
   "execution_count": 4,
   "id": "5b1e1dfc-a251-44d9-b65b-22219b65f5cf",
   "metadata": {},
   "outputs": [],
   "source": [
    "#!python -m spacy download de_core_news_lg"
   ]
  },
  {
   "cell_type": "markdown",
   "id": "69e8f680-3665-4993-830c-834bec3acc36",
   "metadata": {},
   "source": [
    "## Load Data"
   ]
  },
  {
   "cell_type": "code",
   "execution_count": 14,
   "id": "e49f288e-fdfc-4fa5-b9b6-08f5ae88e5c0",
   "metadata": {},
   "outputs": [],
   "source": [
    "train_df, valid_df, test_df = load_data(Path('..') / config.data.cnf_tsv_path, Path('..') / config.data.controls_tsv_path)"
   ]
  },
  {
   "cell_type": "code",
   "execution_count": 7,
   "id": "a59518dd-ac84-4c16-a6df-bd7b9c1f8780",
   "metadata": {},
   "outputs": [],
   "source": [
    "#m = Metrics(['exact_match', 'google_bleu'], tokenizer=None)"
   ]
  },
  {
   "cell_type": "code",
   "execution_count": 8,
   "id": "f7c20238-4a83-43d9-8248-a63847f7a105",
   "metadata": {},
   "outputs": [],
   "source": [
    "#def print_metrics(pred, ground_truth):\n",
    "#    exact = m.compute_exact_match(pred, ground_truth)\n",
    "#    bleu = m.compute_bleu(pred, ground_truth)\n",
    "#    print(f\"Exact match: {exact:.3f} \\n GLEU score: {bleu:.3f}\")"
   ]
  },
  {
   "cell_type": "markdown",
   "id": "596f6686-b1f4-4d62-893f-5632b3403065",
   "metadata": {},
   "source": [
    "### Optimal values"
   ]
  },
  {
   "cell_type": "code",
   "execution_count": 18,
   "id": "bd979d09-12bc-416e-987f-6ae41a74d0fe",
   "metadata": {},
   "outputs": [
    {
     "data": {
      "text/plain": [
       "{'eval/tp': 1.0,\n",
       " 'eval/tp_abs': 1031,\n",
       " 'eval/fn': 0.0,\n",
       " 'eval/fn_abs': 0,\n",
       " 'eval/replace': 0.0,\n",
       " 'eval/replace_abs': 0,\n",
       " 'eval/insert': 0.0,\n",
       " 'eval/insert_abs': 0,\n",
       " 'eval/delete': 0.0,\n",
       " 'eval/delete_abs': 0,\n",
       " 'eval/complex': 0.0,\n",
       " 'eval/complex_abs': 0,\n",
       " 'eval/edit_distance_rel': 1.0,\n",
       " 'eval/exact_match': 1.0,\n",
       " 'eval/gleu': 1.0,\n",
       " 'eval/edit_distance_abs': 0.0}"
      ]
     },
     "execution_count": 18,
     "metadata": {},
     "output_type": "execute_result"
    }
   ],
   "source": [
    "ea = error_analysis(valid_df.full_resolution.values, valid_df.full_resolution.values, valid_df.raw_sentence.values)\n",
    "get_scores(ea, \"eval\")"
   ]
  },
  {
   "cell_type": "markdown",
   "id": "bbbe86af-bc22-4706-837c-8c9f4d18b5d5",
   "metadata": {},
   "source": [
    "## Trivial baseline: do nothing"
   ]
  },
  {
   "cell_type": "code",
   "execution_count": 17,
   "id": "c3a43b55-e544-4305-a95d-69266837c7e5",
   "metadata": {},
   "outputs": [
    {
     "data": {
      "text/plain": [
       "{'eval/tp': 0.5053346265761397,\n",
       " 'eval/tp_abs': 521,\n",
       " 'eval/fn': 0.49466537342386036,\n",
       " 'eval/fn_abs': 510,\n",
       " 'eval/replace': 0.0,\n",
       " 'eval/replace_abs': 0,\n",
       " 'eval/insert': 0.0,\n",
       " 'eval/insert_abs': 0,\n",
       " 'eval/delete': 0.0,\n",
       " 'eval/delete_abs': 0,\n",
       " 'eval/complex': 0.0,\n",
       " 'eval/complex_abs': 0,\n",
       " 'eval/edit_distance_rel': 0.5053346265761397,\n",
       " 'eval/exact_match': 0.5053346265761397,\n",
       " 'eval/gleu': 0.9431774678698387,\n",
       " 'eval/edit_distance_abs': 5.346265761396702}"
      ]
     },
     "execution_count": 17,
     "metadata": {},
     "output_type": "execute_result"
    }
   ],
   "source": [
    "ea = error_analysis(valid_df.raw_sentence.values, valid_df.full_resolution.values, valid_df.raw_sentence.values)\n",
    "get_scores(ea, \"eval\")"
   ]
  },
  {
   "cell_type": "code",
   "execution_count": 19,
   "id": "6a9a0306-2123-4eea-9a13-6355d3e02f21",
   "metadata": {},
   "outputs": [
    {
     "data": {
      "text/plain": [
       "{'test/tp': 0.5154845154845155,\n",
       " 'test/tp_abs': 516,\n",
       " 'test/fn': 0.48451548451548454,\n",
       " 'test/fn_abs': 485,\n",
       " 'test/replace': 0.0,\n",
       " 'test/replace_abs': 0,\n",
       " 'test/insert': 0.0,\n",
       " 'test/insert_abs': 0,\n",
       " 'test/delete': 0.0,\n",
       " 'test/delete_abs': 0,\n",
       " 'test/complex': 0.0,\n",
       " 'test/complex_abs': 0,\n",
       " 'test/edit_distance_rel': 0.5154845154845155,\n",
       " 'test/exact_match': 0.5154845154845155,\n",
       " 'test/gleu': 0.9425790379824756,\n",
       " 'test/edit_distance_abs': 5.588411588411589}"
      ]
     },
     "execution_count": 19,
     "metadata": {},
     "output_type": "execute_result"
    }
   ],
   "source": [
    "ea = error_analysis(test_df.raw_sentence.values, test_df.full_resolution.values, test_df.raw_sentence.values)\n",
    "get_scores(ea, \"test\")"
   ]
  },
  {
   "cell_type": "markdown",
   "id": "6b4df710-f09a-40e8-a77d-859fe80a67b6",
   "metadata": {},
   "source": [
    "## Rule-based resolver"
   ]
  },
  {
   "cell_type": "code",
   "execution_count": 20,
   "id": "c1b9abbc-9ac4-4cc0-9fca-ac24b6207b6f",
   "metadata": {},
   "outputs": [],
   "source": [
    "resolver = RulebasedCNFResolver(5)"
   ]
  },
  {
   "cell_type": "code",
   "execution_count": 22,
   "id": "f9133e69-94a1-4c72-8c29-6521e0a18d0f",
   "metadata": {},
   "outputs": [],
   "source": [
    "valid_preds = resolver.predict_all(valid_df.raw_sentence)"
   ]
  },
  {
   "cell_type": "code",
   "execution_count": 24,
   "id": "dfbe4b32-a4c3-43d4-bbfb-3d99d1d4e5f7",
   "metadata": {},
   "outputs": [
    {
     "data": {
      "text/plain": [
       "{'eval/tp': 0.6207565470417071,\n",
       " 'eval/tp_abs': 640,\n",
       " 'eval/fn': 0.24733268671193018,\n",
       " 'eval/fn_abs': 255,\n",
       " 'eval/replace': 0.05625606207565471,\n",
       " 'eval/replace_abs': 58,\n",
       " 'eval/insert': 0.016488845780795344,\n",
       " 'eval/insert_abs': 17,\n",
       " 'eval/delete': 0.03976721629485936,\n",
       " 'eval/delete_abs': 41,\n",
       " 'eval/complex': 0.019398642095053348,\n",
       " 'eval/complex_abs': 20,\n",
       " 'eval/edit_distance_rel': 0.702262819636803,\n",
       " 'eval/exact_match': 0.6207565470417071,\n",
       " 'eval/gleu': 0.9556788975775141,\n",
       " 'eval/edit_distance_abs': 3.5460717749757515}"
      ]
     },
     "execution_count": 24,
     "metadata": {},
     "output_type": "execute_result"
    }
   ],
   "source": [
    "ea = error_analysis(valid_preds, valid_df.full_resolution.values, valid_df.raw_sentence.values)\n",
    "get_scores(ea, \"eval\")"
   ]
  },
  {
   "cell_type": "code",
   "execution_count": 25,
   "id": "9c114bc4-66f7-4734-9bfc-8565d7baa70c",
   "metadata": {},
   "outputs": [],
   "source": [
    "test_preds = resolver.predict_all(test_df.raw_sentence)"
   ]
  },
  {
   "cell_type": "code",
   "execution_count": 26,
   "id": "ff6d8f37-d64a-4084-b214-7f32f4bfe6b8",
   "metadata": {},
   "outputs": [
    {
     "data": {
      "text/plain": [
       "{'test/tp': 0.6723276723276723,\n",
       " 'test/tp_abs': 673,\n",
       " 'test/fn': 0.18681318681318682,\n",
       " 'test/fn_abs': 187,\n",
       " 'test/replace': 0.05194805194805195,\n",
       " 'test/replace_abs': 52,\n",
       " 'test/insert': 0.013986013986013986,\n",
       " 'test/insert_abs': 14,\n",
       " 'test/delete': 0.03996003996003996,\n",
       " 'test/delete_abs': 40,\n",
       " 'test/complex': 0.03496503496503497,\n",
       " 'test/complex_abs': 35,\n",
       " 'test/edit_distance_rel': 0.7584831053670736,\n",
       " 'test/exact_match': 0.6723276723276723,\n",
       " 'test/gleu': 0.9597314790771035,\n",
       " 'test/edit_distance_abs': 3.3226773226773227}"
      ]
     },
     "execution_count": 26,
     "metadata": {},
     "output_type": "execute_result"
    }
   ],
   "source": [
    "ea = error_analysis(test_preds, test_df.full_resolution.values, test_df.raw_sentence.values)\n",
    "get_scores(ea, \"test\")"
   ]
  },
  {
   "cell_type": "code",
   "execution_count": 2,
   "id": "149032b8-d42c-4523-a075-f7ad7117f8d6",
   "metadata": {},
   "outputs": [],
   "source": [
    "# Analyze errors for baseline, e.g., failure to detect TRUNC, complex ellipses, etc.??"
   ]
  },
  {
   "cell_type": "code",
   "execution_count": null,
   "id": "4b6f536d-7565-4765-a84b-7faef23664dd",
   "metadata": {},
   "outputs": [],
   "source": []
  }
 ],
 "metadata": {
  "kernelspec": {
   "display_name": "Python [conda env:ellipses]",
   "language": "python",
   "name": "conda-env-ellipses-py"
  },
  "language_info": {
   "codemirror_mode": {
    "name": "ipython",
    "version": 3
   },
   "file_extension": ".py",
   "mimetype": "text/x-python",
   "name": "python",
   "nbconvert_exporter": "python",
   "pygments_lexer": "ipython3",
   "version": "3.10.6"
  }
 },
 "nbformat": 4,
 "nbformat_minor": 5
}
