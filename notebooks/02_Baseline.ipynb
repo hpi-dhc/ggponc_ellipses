{
 "cells": [
  {
   "cell_type": "code",
   "execution_count": 1,
   "id": "6c88bc99-ed99-4dad-a70b-3c3cfc061144",
   "metadata": {},
   "outputs": [],
   "source": [
    "import sys\n",
    "sys.path.append('../scripts')"
   ]
  },
  {
   "cell_type": "code",
   "execution_count": 2,
   "id": "dfeb1e56-50fe-4849-8f05-136e1e527848",
   "metadata": {},
   "outputs": [],
   "source": [
    "from rules.cnf_resolver import RulebasedCNFResolver"
   ]
  },
  {
   "cell_type": "code",
   "execution_count": 8,
   "id": "5b1e1dfc-a251-44d9-b65b-22219b65f5cf",
   "metadata": {},
   "outputs": [],
   "source": [
    "#!python -m spacy download de_core_news_lg"
   ]
  },
  {
   "cell_type": "code",
   "execution_count": 7,
   "id": "49394fd5-6977-4219-a5db-d3f99e2b546f",
   "metadata": {},
   "outputs": [],
   "source": [
    "resolver = RulebasedCNFResolver(5)"
   ]
  },
  {
   "cell_type": "code",
   "execution_count": null,
   "id": "78cdc290-f36e-4149-8d3c-36fbaff2036e",
   "metadata": {},
   "outputs": [],
   "source": []
  }
 ],
 "metadata": {
  "kernelspec": {
   "display_name": "Python [conda env:ellipses]",
   "language": "python",
   "name": "conda-env-ellipses-py"
  },
  "language_info": {
   "codemirror_mode": {
    "name": "ipython",
    "version": 3
   },
   "file_extension": ".py",
   "mimetype": "text/x-python",
   "name": "python",
   "nbconvert_exporter": "python",
   "pygments_lexer": "ipython3",
   "version": "3.10.6"
  }
 },
 "nbformat": 4,
 "nbformat_minor": 5
}
