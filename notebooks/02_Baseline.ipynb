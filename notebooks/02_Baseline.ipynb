{
 "cells": [
  {
   "cell_type": "code",
   "execution_count": 1,
   "id": "6c88bc99-ed99-4dad-a70b-3c3cfc061144",
   "metadata": {},
   "outputs": [],
   "source": [
    "import sys\n",
    "sys.path.append('../scripts')"
   ]
  },
  {
   "cell_type": "code",
   "execution_count": 16,
   "id": "dfeb1e56-50fe-4849-8f05-136e1e527848",
   "metadata": {},
   "outputs": [],
   "source": [
    "from rules.cnf_resolver import RulebasedCNFResolver\n",
    "from evaluation import Metrics\n",
    "import pandas as pd"
   ]
  },
  {
   "cell_type": "code",
   "execution_count": 8,
   "id": "5b1e1dfc-a251-44d9-b65b-22219b65f5cf",
   "metadata": {},
   "outputs": [],
   "source": [
    "#!python -m spacy download de_core_news_lg"
   ]
  },
  {
   "cell_type": "markdown",
   "id": "69e8f680-3665-4993-830c-834bec3acc36",
   "metadata": {},
   "source": [
    "## Load Data"
   ]
  },
  {
   "cell_type": "code",
   "execution_count": 52,
   "id": "78cdc290-f36e-4149-8d3c-36fbaff2036e",
   "metadata": {},
   "outputs": [],
   "source": [
    "df_ellipses = pd.read_csv('../../ggponc_annotation/notebooks/ggponc_ccnfs.tsv', sep='\\t')"
   ]
  },
  {
   "cell_type": "code",
   "execution_count": 53,
   "id": "63a22266-d4ff-4b5b-aa6b-5256f579a047",
   "metadata": {},
   "outputs": [],
   "source": [
    "val_sent = df_ellipses[df_ellipses.split == 'dev']\n",
    "test_sent = df_ellipses[df_ellipses.split == 'test']"
   ]
  },
  {
   "cell_type": "code",
   "execution_count": 26,
   "id": "a59518dd-ac84-4c16-a6df-bd7b9c1f8780",
   "metadata": {},
   "outputs": [
    {
     "name": "stderr",
     "output_type": "stream",
     "text": [
      "[nltk_data] Downloading package wordnet to\n",
      "[nltk_data]     /home/Florian.Borchert/nltk_data...\n",
      "[nltk_data]   Package wordnet is already up-to-date!\n",
      "[nltk_data] Downloading package punkt to\n",
      "[nltk_data]     /home/Florian.Borchert/nltk_data...\n",
      "[nltk_data]   Package punkt is already up-to-date!\n",
      "[nltk_data] Downloading package omw-1.4 to\n",
      "[nltk_data]     /home/Florian.Borchert/nltk_data...\n",
      "[nltk_data]   Package omw-1.4 is already up-to-date!\n"
     ]
    }
   ],
   "source": [
    "m = Metrics(['exact_match', 'google_bleu'], tokenizer=None)"
   ]
  },
  {
   "cell_type": "code",
   "execution_count": 73,
   "id": "f7c20238-4a83-43d9-8248-a63847f7a105",
   "metadata": {},
   "outputs": [],
   "source": [
    "def print_metrics(pred, ground_truth):\n",
    "    exact = m.compute_exact_match(pred, ground_truth)\n",
    "    bleu = m.compute_bleu(pred, ground_truth)\n",
    "    print(f\"Exact match: {exact:.3f} \\n GLEU score: {bleu:.3f}\")"
   ]
  },
  {
   "cell_type": "markdown",
   "id": "bbbe86af-bc22-4706-837c-8c9f4d18b5d5",
   "metadata": {},
   "source": [
    "## Trivial baseline: do nothing"
   ]
  },
  {
   "cell_type": "code",
   "execution_count": 74,
   "id": "92317af8-5c8c-4339-826b-660ee4689584",
   "metadata": {},
   "outputs": [
    {
     "name": "stdout",
     "output_type": "stream",
     "text": [
      "Exact match: 0.000 \n",
      " GLEU score: 0.900\n"
     ]
    }
   ],
   "source": [
    "print_metrics(val_sent.raw_sentence.values, val_sent.full_resolution.values)"
   ]
  },
  {
   "cell_type": "code",
   "execution_count": 75,
   "id": "60eabe61-e3d2-4cc3-ad86-7a89777c91d8",
   "metadata": {},
   "outputs": [
    {
     "name": "stdout",
     "output_type": "stream",
     "text": [
      "Exact match: 0.000 \n",
      " GLEU score: 0.908\n"
     ]
    }
   ],
   "source": [
    "print_metrics(test_sent.raw_sentence.values, test_sent.full_resolution.values)"
   ]
  },
  {
   "cell_type": "markdown",
   "id": "6b4df710-f09a-40e8-a77d-859fe80a67b6",
   "metadata": {},
   "source": [
    "## Rule-based resolver"
   ]
  },
  {
   "cell_type": "code",
   "execution_count": 59,
   "id": "c1b9abbc-9ac4-4cc0-9fca-ac24b6207b6f",
   "metadata": {},
   "outputs": [],
   "source": [
    "resolver = RulebasedCNFResolver(5)"
   ]
  },
  {
   "cell_type": "code",
   "execution_count": 63,
   "id": "f9133e69-94a1-4c72-8c29-6521e0a18d0f",
   "metadata": {},
   "outputs": [],
   "source": [
    "val_preds = resolver.predict_all(val_sent.raw_sentence)"
   ]
  },
  {
   "cell_type": "code",
   "execution_count": 79,
   "id": "238d60f4-95bc-44e3-9d10-4f899d915334",
   "metadata": {},
   "outputs": [
    {
     "name": "stdout",
     "output_type": "stream",
     "text": [
      "Exact match: 0.303 \n",
      " GLEU score: 0.924\n"
     ]
    }
   ],
   "source": [
    "print_metrics(val_preds, val_sent.full_resolution.values)"
   ]
  },
  {
   "cell_type": "code",
   "execution_count": 67,
   "id": "9c114bc4-66f7-4734-9bfc-8565d7baa70c",
   "metadata": {},
   "outputs": [],
   "source": [
    "test_preds = resolver.predict_all(test_sent.raw_sentence)"
   ]
  },
  {
   "cell_type": "code",
   "execution_count": 78,
   "id": "e012039b-d95d-467b-b0c2-b6d409c7324d",
   "metadata": {},
   "outputs": [
    {
     "name": "stdout",
     "output_type": "stream",
     "text": [
      "Exact match: 0.310 \n",
      " GLEU score: 0.937\n"
     ]
    }
   ],
   "source": [
    "print_metrics(test_preds, test_sent.full_resolution.values)"
   ]
  },
  {
   "cell_type": "code",
   "execution_count": 81,
   "id": "b8b56f85-b03b-4ac7-b1a7-a18e0953cf33",
   "metadata": {},
   "outputs": [],
   "source": [
    "from evaluation import error_analysis"
   ]
  },
  {
   "cell_type": "code",
   "execution_count": 139,
   "id": "9f4be371-2410-4005-8683-02cb37dd5d64",
   "metadata": {},
   "outputs": [],
   "source": [
    "ed = nltk.edit_distance\n",
    "def metric(p, g, o):\n",
    "    d = ed(p,g)\n",
    "    k = ed(p,o)\n",
    "    l = ed(o,g)\n",
    "    if d == 0:\n",
    "        return 1\n",
    "    return 1 - (d / (k + l))"
   ]
  },
  {
   "cell_type": "code",
   "execution_count": 145,
   "id": "7ceba631-a1be-49c2-8ffd-a29bc28d5c39",
   "metadata": {},
   "outputs": [],
   "source": [
    "my_score = errors.apply(lambda r: metric(r['pred'], r['gt'], r['original']), axis=1)"
   ]
  },
  {
   "cell_type": "code",
   "execution_count": 92,
   "id": "c4ac94cc-812a-424c-b694-90d889bd38f5",
   "metadata": {},
   "outputs": [
    {
     "data": {
      "text/plain": [
       "fn         193\n",
       "tp         140\n",
       "replace     52\n",
       "delete      37\n",
       "complex     32\n",
       "insert       8\n",
       "Name: error_type, dtype: int64"
      ]
     },
     "execution_count": 92,
     "metadata": {},
     "output_type": "execute_result"
    }
   ],
   "source": [
    "errors = error_analysis(val_preds, val_sent.full_resolution, val_sent.raw_sentence)\n",
    "errors.error_type.value_counts()"
   ]
  },
  {
   "cell_type": "code",
   "execution_count": 93,
   "id": "b90a341e-6565-4049-8517-b9df9155f59e",
   "metadata": {},
   "outputs": [
    {
     "data": {
      "text/plain": [
       "fn         0.417749\n",
       "tp         0.303030\n",
       "replace    0.112554\n",
       "delete     0.080087\n",
       "complex    0.069264\n",
       "insert     0.017316\n",
       "Name: error_type, dtype: float64"
      ]
     },
     "execution_count": 93,
     "metadata": {},
     "output_type": "execute_result"
    }
   ],
   "source": [
    "errors.error_type.value_counts() / len(errors)"
   ]
  },
  {
   "cell_type": "code",
   "execution_count": null,
   "id": "48737087-c221-4a0d-9aef-d70086c2843a",
   "metadata": {},
   "outputs": [],
   "source": [
    "my_score = errors.apply(lambda r: metric(r['pred'], r['gt'], r['original']), axis=1)"
   ]
  },
  {
   "cell_type": "code",
   "execution_count": 146,
   "id": "0385d63e-4a7b-4b9c-b53a-f7a3c94df8b0",
   "metadata": {},
   "outputs": [
    {
     "data": {
      "text/plain": [
       "0.4819255026619977"
      ]
     },
     "execution_count": 146,
     "metadata": {},
     "output_type": "execute_result"
    }
   ],
   "source": [
    "my_score.mean()"
   ]
  },
  {
   "cell_type": "code",
   "execution_count": 100,
   "id": "9582cb59-793b-4f30-b9a1-ff97abd00901",
   "metadata": {},
   "outputs": [
    {
     "data": {
      "text/plain": [
       "'Bei inkompletter Koloskopie (z. B. Adhäsionen) und fortbestehendem Wunsch des Patienten auf komplette Kolonbeurteilung sollte eine CTkolonographie oder MR-Kolonographie erfolgen.'"
      ]
     },
     "execution_count": 100,
     "metadata": {},
     "output_type": "execute_result"
    }
   ],
   "source": [
    "errors[errors.error_type == 'replace'].iloc[1].pred"
   ]
  },
  {
   "cell_type": "code",
   "execution_count": 101,
   "id": "7d25c869-56b1-4590-a5f4-ccd6fbd14f01",
   "metadata": {},
   "outputs": [
    {
     "data": {
      "text/plain": [
       "'Bei inkompletter Koloskopie (z. B. Adhäsionen) und fortbestehendem Wunsch des Patienten auf komplette Kolonbeurteilung sollte eine CT-Kolonographie oder MR-Kolonographie erfolgen.'"
      ]
     },
     "execution_count": 101,
     "metadata": {},
     "output_type": "execute_result"
    }
   ],
   "source": [
    "errors[errors.error_type == 'replace'].iloc[1]['gt']"
   ]
  },
  {
   "cell_type": "code",
   "execution_count": 107,
   "id": "513386d2-cdee-482c-9283-4feed6a70229",
   "metadata": {},
   "outputs": [
    {
     "name": "stdout",
     "output_type": "stream",
     "text": [
      "{'google_bleu': 0.5}\n"
     ]
    }
   ],
   "source": [
    "import evaluate\n",
    "sentence1 = \"Vitamin A und Vitamin B\"\n",
    "sentence2 = \"Vitamin A und Foobar B\"\n",
    "google_bleu = evaluate.load(\"google_bleu\")\n",
    "result = google_bleu.compute(predictions=[sentence1], references=[[sentence2]])\n",
    "print(result)"
   ]
  },
  {
   "cell_type": "code",
   "execution_count": 108,
   "id": "8f401685-4ecd-43a0-b582-ff2c96329b43",
   "metadata": {},
   "outputs": [],
   "source": [
    "import nltk"
   ]
  },
  {
   "cell_type": "code",
   "execution_count": 113,
   "id": "89325b03-8b8e-4485-9647-e775c0901ad3",
   "metadata": {},
   "outputs": [],
   "source": []
  },
  {
   "cell_type": "code",
   "execution_count": 131,
   "id": "e33b92f7-a7a5-48d2-88b8-72ee47d7ae60",
   "metadata": {},
   "outputs": [],
   "source": []
  },
  {
   "cell_type": "code",
   "execution_count": 136,
   "id": "bc8dc1f4-c933-45d7-973c-ad57739dfb7b",
   "metadata": {},
   "outputs": [
    {
     "data": {
      "text/plain": [
       "0.0"
      ]
     },
     "execution_count": 136,
     "metadata": {},
     "output_type": "execute_result"
    }
   ],
   "source": [
    "metric(\"Vitamin A und B\", \"Vitamin A und B\", \"Vitamin A und Vitamin B\")"
   ]
  },
  {
   "cell_type": "code",
   "execution_count": null,
   "id": "93e4f7b7-53d0-4b68-891c-40cb6839ffa3",
   "metadata": {},
   "outputs": [],
   "source": []
  }
 ],
 "metadata": {
  "kernelspec": {
   "display_name": "Python [conda env:ellipses]",
   "language": "python",
   "name": "conda-env-ellipses-py"
  },
  "language_info": {
   "codemirror_mode": {
    "name": "ipython",
    "version": 3
   },
   "file_extension": ".py",
   "mimetype": "text/x-python",
   "name": "python",
   "nbconvert_exporter": "python",
   "pygments_lexer": "ipython3",
   "version": "3.10.6"
  }
 },
 "nbformat": 4,
 "nbformat_minor": 5
}
