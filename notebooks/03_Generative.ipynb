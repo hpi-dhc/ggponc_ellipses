{
 "cells": [
  {
   "cell_type": "code",
   "execution_count": 4,
   "metadata": {},
   "outputs": [],
   "source": [
    "import sys\n",
    "sys.path.append('../scripts')"
   ]
  },
  {
   "cell_type": "code",
   "execution_count": 5,
   "metadata": {},
   "outputs": [],
   "source": [
    "import os\n",
    "# Disable weights and biases (if installed)\n",
    "os.environ[\"TOKENIZERS_PARALLELISM\"] = \"false\"\n",
    "os.environ[\"CUDA_DEVICE_ORDER\"] = \"PCI_BUS_ID\"\n",
    "os.environ[\"CUDA_VISIBLE_DEVICES\"] = \"5\"\n",
    "os.environ[\"WANDB_DISABLED\"] = \"true\""
   ]
  },
  {
   "cell_type": "code",
   "execution_count": 6,
   "metadata": {},
   "outputs": [],
   "source": [
    "from pathlib import Path\n",
    "\n",
    "from dataset import load_data, get_dataloader\n",
    "from generative.transformers_util import get_training_args, get_trainer, get_tokenizer"
   ]
  },
  {
   "cell_type": "markdown",
   "metadata": {},
   "source": [
    "# Load Data & Seq2Seq Model"
   ]
  },
  {
   "cell_type": "code",
   "execution_count": 7,
   "metadata": {},
   "outputs": [],
   "source": [
    "import hydra\n",
    "from hydra import compose, initialize\n",
    "\n",
    "hydra.core.global_hydra.GlobalHydra.instance().clear()\n",
    "initialize(config_path=Path('..'), job_name='foo', version_base='1.1')\n",
    "config = compose(config_name='experiment.yaml')"
   ]
  },
  {
   "cell_type": "code",
   "execution_count": 8,
   "metadata": {},
   "outputs": [],
   "source": [
    "MODEL_PATH = \"../data/ellipses/model/\""
   ]
  },
  {
   "cell_type": "code",
   "execution_count": 9,
   "metadata": {},
   "outputs": [
    {
     "name": "stderr",
     "output_type": "stream",
     "text": [
      "/home/Florian.Borchert/miniconda3/envs/ellipses/lib/python3.10/site-packages/transformers/convert_slow_tokenizer.py:446: UserWarning: The sentencepiece tokenizer that you are converting to a fast tokenizer uses the byte fallback option which is not implemented in the fast tokenizers. In practice this means that the fast version of the tokenizer can produce unknown tokens whereas the sentencepiece version would have converted these unknown tokens into a sequence of byte tokens matching the original piece of text.\n",
      "  warnings.warn(\n"
     ]
    }
   ],
   "source": [
    "tokenizer = get_tokenizer(config)"
   ]
  },
  {
   "cell_type": "code",
   "execution_count": 10,
   "metadata": {},
   "outputs": [],
   "source": [
    "base_path = Path('..')\n",
    "train_df, val_df, test_df = load_data(base_path / config.data.cnf_tsv_path, base_path / config.data.controls_tsv_path)"
   ]
  },
  {
   "cell_type": "markdown",
   "metadata": {},
   "source": [
    "# Error Analysis"
   ]
  },
  {
   "cell_type": "code",
   "execution_count": 11,
   "metadata": {},
   "outputs": [],
   "source": [
    "from evaluation import error_analysis, Metrics\n",
    "from transformers import Text2TextGenerationPipeline, AutoModelForSeq2SeqLM"
   ]
  },
  {
   "cell_type": "code",
   "execution_count": 12,
   "metadata": {},
   "outputs": [],
   "source": [
    "model = AutoModelForSeq2SeqLM.from_pretrained(MODEL_PATH)"
   ]
  },
  {
   "cell_type": "code",
   "execution_count": 13,
   "metadata": {},
   "outputs": [],
   "source": [
    "pipeline = Text2TextGenerationPipeline(model, tokenizer=tokenizer, max_length=config.generation_max_length, device=0)"
   ]
  },
  {
   "cell_type": "code",
   "execution_count": 14,
   "metadata": {},
   "outputs": [],
   "source": [
    "from evaluation import error_analysis, get_scores, encode_decode\n",
    "from notebook_util import show_errors"
   ]
  },
  {
   "cell_type": "code",
   "execution_count": 15,
   "metadata": {},
   "outputs": [],
   "source": [
    "import pandas as pd\n",
    "\n",
    "def calculate_errors(out, sample):\n",
    "    gen_text = [o['generated_text'] for o in out]\n",
    "    errors = error_analysis(gen_text, encode_decode(sample.full_resolution, tokenizer), encode_decode(sample.raw_sentence, tokenizer))\n",
    "    errors = pd.concat([errors, sample[['file', 'sentence_id']].reset_index()], axis=1)\n",
    "    return errors"
   ]
  },
  {
   "cell_type": "code",
   "execution_count": 16,
   "metadata": {},
   "outputs": [
    {
     "name": "stdout",
     "output_type": "stream",
     "text": [
      "CPU times: user 9min 25s, sys: 305 ms, total: 9min 25s\n",
      "Wall time: 9min 25s\n"
     ]
    }
   ],
   "source": [
    "%%time\n",
    "out_valid = pipeline(list(val_df.raw_sentence))"
   ]
  },
  {
   "cell_type": "code",
   "execution_count": 17,
   "metadata": {},
   "outputs": [
    {
     "data": {
      "text/plain": [
       "tn         0.495420\n",
       "tp         0.416320\n",
       "replace    0.016653\n",
       "delete     0.016653\n",
       "fn         0.016653\n",
       "insert     0.014988\n",
       "fp         0.013322\n",
       "complex    0.009992\n",
       "Name: error_type, dtype: float64"
      ]
     },
     "execution_count": 17,
     "metadata": {},
     "output_type": "execute_result"
    }
   ],
   "source": [
    "errors_valid = calculate_errors(out_valid, val_df)\n",
    "errors_valid.error_type.value_counts() / len(errors_valid)"
   ]
  },
  {
   "cell_type": "code",
   "execution_count": 23,
   "metadata": {},
   "outputs": [
    {
     "name": "stdout",
     "output_type": "stream",
     "text": [
      "CPU times: user 1min 21s, sys: 116 ms, total: 1min 22s\n",
      "Wall time: 1min 24s\n"
     ]
    },
    {
     "data": {
      "text/plain": [
       "{'eval/exact_match': 0.9117402164862615,\n",
       " 'eval/gleu': 0.9868297119100977,\n",
       " 'eval/edit_distance_rel': 0.9539251318409139}"
      ]
     },
     "execution_count": 23,
     "metadata": {},
     "output_type": "execute_result"
    }
   ],
   "source": [
    "%%time\n",
    "scores = get_scores(errors_valid, \"eval\")\n",
    "scores"
   ]
  },
  {
   "cell_type": "code",
   "execution_count": 24,
   "metadata": {},
   "outputs": [
    {
     "data": {
      "text/markdown": [
       "0;01_magenkarzinom_0092.tsv;3"
      ],
      "text/plain": [
       "<IPython.core.display.Markdown object>"
      ]
     },
     "metadata": {},
     "output_type": "display_data"
    },
    {
     "data": {
      "text/markdown": [
       "__Input:__"
      ],
      "text/plain": [
       "<IPython.core.display.Markdown object>"
      ]
     },
     "metadata": {},
     "output_type": "display_data"
    },
    {
     "data": {
      "text/markdown": [
       "Analysiert wurde das Ergebnis aller Patienten, bei denen zwischen 2010 und 2012 in Frankreich eine Ösophagus- oder Magenresektionen durchgeführt war (N=11.196)."
      ],
      "text/plain": [
       "<IPython.core.display.Markdown object>"
      ]
     },
     "metadata": {},
     "output_type": "display_data"
    },
    {
     "data": {
      "text/markdown": [
       "__Error type:__ insert"
      ],
      "text/plain": [
       "<IPython.core.display.Markdown object>"
      ]
     },
     "metadata": {},
     "output_type": "display_data"
    },
    {
     "data": {
      "text/html": [
       "\n",
       "<!DOCTYPE html PUBLIC \"-//W3C//DTD XHTML 1.0 Transitional//EN\"\n",
       "          \"http://www.w3.org/TR/xhtml1/DTD/xhtml1-transitional.dtd\">\n",
       "\n",
       "<html>\n",
       "<head>\n",
       "<meta content=\"text/html; charset=utf-8\" http-equiv=\"Content-Type\"/>\n",
       "<title></title>\n",
       "<style type=\"text/css\">\n",
       "        table.diff {font-family:Courier; border:medium;}\n",
       "        .diff_header {background-color:#e0e0e0}\n",
       "        td.diff_header {text-align:right}\n",
       "        .diff_next {background-color:#c0c0c0}\n",
       "        .diff_add {background-color:#aaffaa}\n",
       "        .diff_chg {background-color:#ffff77}\n",
       "        .diff_sub {background-color:#ffaaaa}\n",
       "    </style>\n",
       "</head>\n",
       "<body>\n",
       "<table cellpadding=\"0\" cellspacing=\"0\" class=\"diff\" id=\"difflib_chg_to18__top\" rules=\"groups\">\n",
       "<colgroup></colgroup> <colgroup></colgroup> <colgroup></colgroup>\n",
       "<colgroup></colgroup> <colgroup></colgroup> <colgroup></colgroup>\n",
       "<tbody>\n",
       "<tr><div nowrap=\"nowrap\">Analysiert wurde das Ergebnis aller Patienten, bei denen zwischen 2010 und 2012 in Frankreich eine Ösophagusresektion oder Magenresektionen durchgeführt war (N=11.196).</div><div nowrap=\"nowrap\">Analysiert wurde das Ergebnis aller Patienten, bei denen zwischen 2010 und 2012 in Frankreich eine Ösophagusresektion<span class=\"diff_add\">en</span> oder Magenresektionen durchgeführt war (N=11.196).</div></tr>\n",
       "</tbody>\n",
       "</table>\n",
       "\n",
       "</body>\n",
       "</html>"
      ],
      "text/plain": [
       "<IPython.core.display.HTML object>"
      ]
     },
     "metadata": {},
     "output_type": "display_data"
    },
    {
     "data": {
      "text/markdown": [
       "1;02_kolorektales-karzinom_0100.tsv;4"
      ],
      "text/plain": [
       "<IPython.core.display.Markdown object>"
      ]
     },
     "metadata": {},
     "output_type": "display_data"
    },
    {
     "data": {
      "text/markdown": [
       "__Input:__"
      ],
      "text/plain": [
       "<IPython.core.display.Markdown object>"
      ]
     },
     "metadata": {},
     "output_type": "display_data"
    },
    {
     "data": {
      "text/markdown": [
       "Eine weitere, 3- bis 4-fache Risikosteigerung besteht, wenn bei dem Indexpatienten das KRK vor dem 60. Lebensjahr aufgetreten ist und/oder mehr als ein Verwandter ersten Grades von einem KRK betroffen ist [REF], [REF], [REF], [REF], [REF], [REF], [REF], [REF], [REF], [REF], [REF], [REF], [REF]."
      ],
      "text/plain": [
       "<IPython.core.display.Markdown object>"
      ]
     },
     "metadata": {},
     "output_type": "display_data"
    },
    {
     "data": {
      "text/markdown": [
       "__Error type:__ insert"
      ],
      "text/plain": [
       "<IPython.core.display.Markdown object>"
      ]
     },
     "metadata": {},
     "output_type": "display_data"
    },
    {
     "data": {
      "text/html": [
       "\n",
       "<!DOCTYPE html PUBLIC \"-//W3C//DTD XHTML 1.0 Transitional//EN\"\n",
       "          \"http://www.w3.org/TR/xhtml1/DTD/xhtml1-transitional.dtd\">\n",
       "\n",
       "<html>\n",
       "<head>\n",
       "<meta content=\"text/html; charset=utf-8\" http-equiv=\"Content-Type\"/>\n",
       "<title></title>\n",
       "<style type=\"text/css\">\n",
       "        table.diff {font-family:Courier; border:medium;}\n",
       "        .diff_header {background-color:#e0e0e0}\n",
       "        td.diff_header {text-align:right}\n",
       "        .diff_next {background-color:#c0c0c0}\n",
       "        .diff_add {background-color:#aaffaa}\n",
       "        .diff_chg {background-color:#ffff77}\n",
       "        .diff_sub {background-color:#ffaaaa}\n",
       "    </style>\n",
       "</head>\n",
       "<body>\n",
       "<table cellpadding=\"0\" cellspacing=\"0\" class=\"diff\" id=\"difflib_chg_to19__top\" rules=\"groups\">\n",
       "<colgroup></colgroup> <colgroup></colgroup> <colgroup></colgroup>\n",
       "<colgroup></colgroup> <colgroup></colgroup> <colgroup></colgroup>\n",
       "<tbody>\n",
       "<tr><div nowrap=\"nowrap\">Eine weitere, 3-fache bis 4-fache Risikosteigerung besteht, wenn bei dem Indexpatienten das KRK vor dem 60. Lebensjahr aufgetreten ist und/oder mehr als ein Verwandter ersten Grades von einem KRK betroffen ist [REF], [REF], [REF], [REF], [REF], [REF], [REF], [REF], [REF], [REF], [REF], [REF], [REF].</div><div nowrap=\"nowrap\">Eine weitere, 3-fache bis 4-fache Risikosteigerung besteht, wenn bei dem Indexpatienten das KRK vor dem 60. Lebensjahr aufgetreten ist und/oder mehr als ein Verwandter ersten Grades von einem KRK betroffen ist [REF], [REF], [REF], [REF], [REF], [REF], [REF], [REF], [REF], [REF], [REF], [REF],<span class=\"diff_add\"> [REF], [REF], [REF],</span> [REF].</div></tr>\n",
       "</tbody>\n",
       "</table>\n",
       "\n",
       "</body>\n",
       "</html>"
      ],
      "text/plain": [
       "<IPython.core.display.HTML object>"
      ]
     },
     "metadata": {},
     "output_type": "display_data"
    },
    {
     "data": {
      "text/markdown": [
       "2;03_lungenkarzinom_0382.tsv;73"
      ],
      "text/plain": [
       "<IPython.core.display.Markdown object>"
      ]
     },
     "metadata": {},
     "output_type": "display_data"
    },
    {
     "data": {
      "text/markdown": [
       "__Input:__"
      ],
      "text/plain": [
       "<IPython.core.display.Markdown object>"
      ]
     },
     "metadata": {},
     "output_type": "display_data"
    },
    {
     "data": {
      "text/markdown": [
       "Mono- versus Kombinationschemotherapie"
      ],
      "text/plain": [
       "<IPython.core.display.Markdown object>"
      ]
     },
     "metadata": {},
     "output_type": "display_data"
    },
    {
     "data": {
      "text/markdown": [
       "__Error type:__ insert"
      ],
      "text/plain": [
       "<IPython.core.display.Markdown object>"
      ]
     },
     "metadata": {},
     "output_type": "display_data"
    },
    {
     "data": {
      "text/html": [
       "\n",
       "<!DOCTYPE html PUBLIC \"-//W3C//DTD XHTML 1.0 Transitional//EN\"\n",
       "          \"http://www.w3.org/TR/xhtml1/DTD/xhtml1-transitional.dtd\">\n",
       "\n",
       "<html>\n",
       "<head>\n",
       "<meta content=\"text/html; charset=utf-8\" http-equiv=\"Content-Type\"/>\n",
       "<title></title>\n",
       "<style type=\"text/css\">\n",
       "        table.diff {font-family:Courier; border:medium;}\n",
       "        .diff_header {background-color:#e0e0e0}\n",
       "        td.diff_header {text-align:right}\n",
       "        .diff_next {background-color:#c0c0c0}\n",
       "        .diff_add {background-color:#aaffaa}\n",
       "        .diff_chg {background-color:#ffff77}\n",
       "        .diff_sub {background-color:#ffaaaa}\n",
       "    </style>\n",
       "</head>\n",
       "<body>\n",
       "<table cellpadding=\"0\" cellspacing=\"0\" class=\"diff\" id=\"difflib_chg_to20__top\" rules=\"groups\">\n",
       "<colgroup></colgroup> <colgroup></colgroup> <colgroup></colgroup>\n",
       "<colgroup></colgroup> <colgroup></colgroup> <colgroup></colgroup>\n",
       "<tbody>\n",
       "<tr><div nowrap=\"nowrap\">Monochemotherapie versus Kombinationschemotherapie</div><div nowrap=\"nowrap\">Mono<span class=\"diff_add\">s</span>chemotherapie versus Kombinationschemotherapie</div></tr>\n",
       "</tbody>\n",
       "</table>\n",
       "\n",
       "</body>\n",
       "</html>"
      ],
      "text/plain": [
       "<IPython.core.display.HTML object>"
      ]
     },
     "metadata": {},
     "output_type": "display_data"
    },
    {
     "data": {
      "text/markdown": [
       "3;03_lungenkarzinom_0480.tsv;12"
      ],
      "text/plain": [
       "<IPython.core.display.Markdown object>"
      ]
     },
     "metadata": {},
     "output_type": "display_data"
    },
    {
     "data": {
      "text/markdown": [
       "__Input:__"
      ],
      "text/plain": [
       "<IPython.core.display.Markdown object>"
      ]
     },
     "metadata": {},
     "output_type": "display_data"
    },
    {
     "data": {
      "text/markdown": [
       "Auf den initialen Hemithorax begrenzter Tumor mit oder ohne ipsi- oder kontralaterale mediastinale oder ipsilaterale supraklavikuläre Lymphknotenmetastasen * und mit oder ohne ipsilateralen Pleuraerguss unabhängig vom zytologischen Ergebnis *."
      ],
      "text/plain": [
       "<IPython.core.display.Markdown object>"
      ]
     },
     "metadata": {},
     "output_type": "display_data"
    },
    {
     "data": {
      "text/markdown": [
       "__Error type:__ insert"
      ],
      "text/plain": [
       "<IPython.core.display.Markdown object>"
      ]
     },
     "metadata": {},
     "output_type": "display_data"
    },
    {
     "data": {
      "text/html": [
       "\n",
       "<!DOCTYPE html PUBLIC \"-//W3C//DTD XHTML 1.0 Transitional//EN\"\n",
       "          \"http://www.w3.org/TR/xhtml1/DTD/xhtml1-transitional.dtd\">\n",
       "\n",
       "<html>\n",
       "<head>\n",
       "<meta content=\"text/html; charset=utf-8\" http-equiv=\"Content-Type\"/>\n",
       "<title></title>\n",
       "<style type=\"text/css\">\n",
       "        table.diff {font-family:Courier; border:medium;}\n",
       "        .diff_header {background-color:#e0e0e0}\n",
       "        td.diff_header {text-align:right}\n",
       "        .diff_next {background-color:#c0c0c0}\n",
       "        .diff_add {background-color:#aaffaa}\n",
       "        .diff_chg {background-color:#ffff77}\n",
       "        .diff_sub {background-color:#ffaaaa}\n",
       "    </style>\n",
       "</head>\n",
       "<body>\n",
       "<table cellpadding=\"0\" cellspacing=\"0\" class=\"diff\" id=\"difflib_chg_to21__top\" rules=\"groups\">\n",
       "<colgroup></colgroup> <colgroup></colgroup> <colgroup></colgroup>\n",
       "<colgroup></colgroup> <colgroup></colgroup> <colgroup></colgroup>\n",
       "<tbody>\n",
       "<tr><div nowrap=\"nowrap\">Auf den initialen Hemithorax begrenzter Tumor mit oder ohne ipsilaterale oder kontralaterale mediastinale oder ipsilaterale supraklavikuläre Lymphknotenmetastasen * und mit oder ohne ipsilateralen Pleuraerguss unabhängig vom zytologischen Ergebnis *.</div><div nowrap=\"nowrap\">Auf den initialen Hemithorax begrenzter Tumor mit oder ohne ipsilaterale oder kontralaterale mediastinale oder ipsilaterale supraklavikuläre Lymphknotenmetastasen * und mit oder ohne ipsilateralen Pleuraerguss unabhängig vom zytologischen Ergebnis *<span class=\"diff_add\"> </span>.</div></tr>\n",
       "</tbody>\n",
       "</table>\n",
       "\n",
       "</body>\n",
       "</html>"
      ],
      "text/plain": [
       "<IPython.core.display.HTML object>"
      ]
     },
     "metadata": {},
     "output_type": "display_data"
    },
    {
     "data": {
      "text/markdown": [
       "4;03_lungenkarzinom_0506.tsv;1"
      ],
      "text/plain": [
       "<IPython.core.display.Markdown object>"
      ]
     },
     "metadata": {},
     "output_type": "display_data"
    },
    {
     "data": {
      "text/markdown": [
       "__Input:__"
      ],
      "text/plain": [
       "<IPython.core.display.Markdown object>"
      ]
     },
     "metadata": {},
     "output_type": "display_data"
    },
    {
     "data": {
      "text/markdown": [
       "In einer Phase-II-Studie der SWOG [REF], [REF] konnte bei 154 Patienten mit simultaner PE- und Strahlentherapieapplikation eine 3-Jahres-Überlebensrate von 34 % erreicht werden."
      ],
      "text/plain": [
       "<IPython.core.display.Markdown object>"
      ]
     },
     "metadata": {},
     "output_type": "display_data"
    },
    {
     "data": {
      "text/markdown": [
       "__Error type:__ insert"
      ],
      "text/plain": [
       "<IPython.core.display.Markdown object>"
      ]
     },
     "metadata": {},
     "output_type": "display_data"
    },
    {
     "data": {
      "text/html": [
       "\n",
       "<!DOCTYPE html PUBLIC \"-//W3C//DTD XHTML 1.0 Transitional//EN\"\n",
       "          \"http://www.w3.org/TR/xhtml1/DTD/xhtml1-transitional.dtd\">\n",
       "\n",
       "<html>\n",
       "<head>\n",
       "<meta content=\"text/html; charset=utf-8\" http-equiv=\"Content-Type\"/>\n",
       "<title></title>\n",
       "<style type=\"text/css\">\n",
       "        table.diff {font-family:Courier; border:medium;}\n",
       "        .diff_header {background-color:#e0e0e0}\n",
       "        td.diff_header {text-align:right}\n",
       "        .diff_next {background-color:#c0c0c0}\n",
       "        .diff_add {background-color:#aaffaa}\n",
       "        .diff_chg {background-color:#ffff77}\n",
       "        .diff_sub {background-color:#ffaaaa}\n",
       "    </style>\n",
       "</head>\n",
       "<body>\n",
       "<table cellpadding=\"0\" cellspacing=\"0\" class=\"diff\" id=\"difflib_chg_to22__top\" rules=\"groups\">\n",
       "<colgroup></colgroup> <colgroup></colgroup> <colgroup></colgroup>\n",
       "<colgroup></colgroup> <colgroup></colgroup> <colgroup></colgroup>\n",
       "<tbody>\n",
       "<tr><div nowrap=\"nowrap\">In einer Phase-II-Studie der SWOG [REF], [REF] konnte bei 154 Patienten mit simultaner PE-Applikation und Strahlentherapieapplikation eine 3-Jahres-Überlebensrate von 34 % erreicht werden.</div><div nowrap=\"nowrap\">In einer Phase-II-Studie der SWOG [REF], [REF] konnte bei 154 Patienten mit simultaner PE-Applikation<span class=\"diff_add\">tion</span> und Strahlentherapieapplikation eine 3-Jahres-Überlebensrate von 34 % erreicht werden.</div></tr>\n",
       "</tbody>\n",
       "</table>\n",
       "\n",
       "</body>\n",
       "</html>"
      ],
      "text/plain": [
       "<IPython.core.display.HTML object>"
      ]
     },
     "metadata": {},
     "output_type": "display_data"
    },
    {
     "data": {
      "text/markdown": [
       "5;05_zervixkarzinom_0004.tsv;3"
      ],
      "text/plain": [
       "<IPython.core.display.Markdown object>"
      ]
     },
     "metadata": {},
     "output_type": "display_data"
    },
    {
     "data": {
      "text/markdown": [
       "__Input:__"
      ],
      "text/plain": [
       "<IPython.core.display.Markdown object>"
      ]
     },
     "metadata": {},
     "output_type": "display_data"
    },
    {
     "data": {
      "text/markdown": [
       "In Tabelle Relative 5-und 10-Jahres-Überlebensraten sind die vom Krebsregister Bayern für den Zeitraum 1988 - 2011 errechneten relativen 5-und 10-Jahres-Überlebensraten in Abhängigkeit vom UICC-Stadium dargestellt (N=14.606)."
      ],
      "text/plain": [
       "<IPython.core.display.Markdown object>"
      ]
     },
     "metadata": {},
     "output_type": "display_data"
    },
    {
     "data": {
      "text/markdown": [
       "__Error type:__ insert"
      ],
      "text/plain": [
       "<IPython.core.display.Markdown object>"
      ]
     },
     "metadata": {},
     "output_type": "display_data"
    },
    {
     "data": {
      "text/html": [
       "\n",
       "<!DOCTYPE html PUBLIC \"-//W3C//DTD XHTML 1.0 Transitional//EN\"\n",
       "          \"http://www.w3.org/TR/xhtml1/DTD/xhtml1-transitional.dtd\">\n",
       "\n",
       "<html>\n",
       "<head>\n",
       "<meta content=\"text/html; charset=utf-8\" http-equiv=\"Content-Type\"/>\n",
       "<title></title>\n",
       "<style type=\"text/css\">\n",
       "        table.diff {font-family:Courier; border:medium;}\n",
       "        .diff_header {background-color:#e0e0e0}\n",
       "        td.diff_header {text-align:right}\n",
       "        .diff_next {background-color:#c0c0c0}\n",
       "        .diff_add {background-color:#aaffaa}\n",
       "        .diff_chg {background-color:#ffff77}\n",
       "        .diff_sub {background-color:#ffaaaa}\n",
       "    </style>\n",
       "</head>\n",
       "<body>\n",
       "<table cellpadding=\"0\" cellspacing=\"0\" class=\"diff\" id=\"difflib_chg_to23__top\" rules=\"groups\">\n",
       "<colgroup></colgroup> <colgroup></colgroup> <colgroup></colgroup>\n",
       "<colgroup></colgroup> <colgroup></colgroup> <colgroup></colgroup>\n",
       "<tbody>\n",
       "<tr><div nowrap=\"nowrap\"><span class=\"diff_sub\">In Tabelle Relative 5-Jahres-Überlebensratenund 10-Jahres-Überlebensraten sind die vom Krebsregister Bayern für den Zeitraum 1988 - 2011 errechneten relativen 5-Jahres-Überlebensratenund 10-Jahres-Überlebensraten in Abhängigkeit vom UICC-Stadium dargestellt (N=14.606).</span></div><div nowrap=\"nowrap\"><span class=\"diff_add\">In Tabelle Relative 5-Jahres-Überlebensraten und 10-Jahres-Überlebensraten sind die vom Krebsregister Bayern für den Zeitraum 1988 - 2011 errechneten relativen 5-Jahres-Überlebensraten und 10-Jahres-Überlebensraten in Abhängigkeit vom UICC-Stadium dargestellt (N=14.606).</span></div></tr>\n",
       "</tbody>\n",
       "</table>\n",
       "\n",
       "</body>\n",
       "</html>"
      ],
      "text/plain": [
       "<IPython.core.display.HTML object>"
      ]
     },
     "metadata": {},
     "output_type": "display_data"
    },
    {
     "data": {
      "text/markdown": [
       "6;06_hautkrebspraevention_0379.tsv;24"
      ],
      "text/plain": [
       "<IPython.core.display.Markdown object>"
      ]
     },
     "metadata": {},
     "output_type": "display_data"
    },
    {
     "data": {
      "text/markdown": [
       "__Input:__"
      ],
      "text/plain": [
       "<IPython.core.display.Markdown object>"
      ]
     },
     "metadata": {},
     "output_type": "display_data"
    },
    {
     "data": {
      "text/markdown": [
       "Um eine umfassende Entscheidungsunterstützung bezüglich der kurz- und langfristi-gen Konsequenzen durchführen zu können, ist die Entwicklung eines entscheidungsanalytischen Modells (z.B. Markov-Zustands-Übergangs-Modell) für den spezifischen Kontext erforderlich, in welchem die relevante und aktuell verfügbare Evidenz zu epidemiologischen und klinischen Parametern, patientenrelevantem Nutzen und Schaden sowie Ressourcenverbrauch und Kosten zusammengeführt werden [REF], [REF]; [REF]."
      ],
      "text/plain": [
       "<IPython.core.display.Markdown object>"
      ]
     },
     "metadata": {},
     "output_type": "display_data"
    },
    {
     "data": {
      "text/markdown": [
       "__Error type:__ insert"
      ],
      "text/plain": [
       "<IPython.core.display.Markdown object>"
      ]
     },
     "metadata": {},
     "output_type": "display_data"
    },
    {
     "data": {
      "text/html": [
       "\n",
       "<!DOCTYPE html PUBLIC \"-//W3C//DTD XHTML 1.0 Transitional//EN\"\n",
       "          \"http://www.w3.org/TR/xhtml1/DTD/xhtml1-transitional.dtd\">\n",
       "\n",
       "<html>\n",
       "<head>\n",
       "<meta content=\"text/html; charset=utf-8\" http-equiv=\"Content-Type\"/>\n",
       "<title></title>\n",
       "<style type=\"text/css\">\n",
       "        table.diff {font-family:Courier; border:medium;}\n",
       "        .diff_header {background-color:#e0e0e0}\n",
       "        td.diff_header {text-align:right}\n",
       "        .diff_next {background-color:#c0c0c0}\n",
       "        .diff_add {background-color:#aaffaa}\n",
       "        .diff_chg {background-color:#ffff77}\n",
       "        .diff_sub {background-color:#ffaaaa}\n",
       "    </style>\n",
       "</head>\n",
       "<body>\n",
       "<table cellpadding=\"0\" cellspacing=\"0\" class=\"diff\" id=\"difflib_chg_to24__top\" rules=\"groups\">\n",
       "<colgroup></colgroup> <colgroup></colgroup> <colgroup></colgroup>\n",
       "<colgroup></colgroup> <colgroup></colgroup> <colgroup></colgroup>\n",
       "<tbody>\n",
       "<tr><div nowrap=\"nowrap\">Um eine umfassende Entscheidungsunterstützung bezüglich der kurz<span class=\"diff_sub\">fristigen und lang</span>fristi-gen Konsequenzen durchführen zu können, ist die Entwicklung eines entscheidungsanalytischen Modells (z.B. Markov-Zustands-Übergangs-Modell) für den spezifischen Kontext erforderlich, in welchem die relevante und aktuell verfügbare Evidenz zu epidemiologischen und klinischen Parametern, patientenrelevantem Nutzen und Schaden sowie Ressourcenverbrauch und Kosten zusammengeführt werden [REF], [REF]; [REF].</div><div nowrap=\"nowrap\">Um eine umfassende Entscheidungsunterstützung bezüglich der kurzfristi-gen <span class=\"diff_add\">und langfristi-gen </span>Konsequenzen durchführen zu können, ist die Entwicklung eines entscheidungsanalytischen Modells (z.B. Markov-Zustands-Übergangs-Modell) für den spezifischen Kontext erforderlich, in welchem die relevante und aktuell verfügbare Evidenz zu epidemiologischen und klinischen Parametern, patientenrelevantem Nutzen und Schaden sowie Ressourcenverbrauch und Kosten zusammengeführt werden [REF], [REF]; [REF].</div></tr>\n",
       "</tbody>\n",
       "</table>\n",
       "\n",
       "</body>\n",
       "</html>"
      ],
      "text/plain": [
       "<IPython.core.display.HTML object>"
      ]
     },
     "metadata": {},
     "output_type": "display_data"
    },
    {
     "data": {
      "text/markdown": [
       "7;15_endometriumkarzinom_0226.tsv;2"
      ],
      "text/plain": [
       "<IPython.core.display.Markdown object>"
      ]
     },
     "metadata": {},
     "output_type": "display_data"
    },
    {
     "data": {
      "text/markdown": [
       "__Input:__"
      ],
      "text/plain": [
       "<IPython.core.display.Markdown object>"
      ]
     },
     "metadata": {},
     "output_type": "display_data"
    },
    {
     "data": {
      "text/markdown": [
       "Dadurch kann es zu erheblichen Funktionsstörungen kommen (vaginales Trockenheitsgefühl, Dyspareunie, postkoitale Blutungen, Drang- und Belastungsharninkontinenz) und damit zu einer Beeinträchtigung der Sexualität und der Lebensqualität."
      ],
      "text/plain": [
       "<IPython.core.display.Markdown object>"
      ]
     },
     "metadata": {},
     "output_type": "display_data"
    },
    {
     "data": {
      "text/markdown": [
       "__Error type:__ insert"
      ],
      "text/plain": [
       "<IPython.core.display.Markdown object>"
      ]
     },
     "metadata": {},
     "output_type": "display_data"
    },
    {
     "data": {
      "text/html": [
       "\n",
       "<!DOCTYPE html PUBLIC \"-//W3C//DTD XHTML 1.0 Transitional//EN\"\n",
       "          \"http://www.w3.org/TR/xhtml1/DTD/xhtml1-transitional.dtd\">\n",
       "\n",
       "<html>\n",
       "<head>\n",
       "<meta content=\"text/html; charset=utf-8\" http-equiv=\"Content-Type\"/>\n",
       "<title></title>\n",
       "<style type=\"text/css\">\n",
       "        table.diff {font-family:Courier; border:medium;}\n",
       "        .diff_header {background-color:#e0e0e0}\n",
       "        td.diff_header {text-align:right}\n",
       "        .diff_next {background-color:#c0c0c0}\n",
       "        .diff_add {background-color:#aaffaa}\n",
       "        .diff_chg {background-color:#ffff77}\n",
       "        .diff_sub {background-color:#ffaaaa}\n",
       "    </style>\n",
       "</head>\n",
       "<body>\n",
       "<table cellpadding=\"0\" cellspacing=\"0\" class=\"diff\" id=\"difflib_chg_to25__top\" rules=\"groups\">\n",
       "<colgroup></colgroup> <colgroup></colgroup> <colgroup></colgroup>\n",
       "<colgroup></colgroup> <colgroup></colgroup> <colgroup></colgroup>\n",
       "<tbody>\n",
       "<tr><div nowrap=\"nowrap\">Dadurch kann es zu erheblichen Funktionsstörungen kommen (vaginales Trockenheitsgefühl, Dyspareunie, postkoitale Blutungen, Drang<span class=\"diff_chg\">inkontinenz und</span> Belastungsharninkontinenz) und damit zu einer Beeinträchtigung der Sexualität und der Lebensqualität.</div><div nowrap=\"nowrap\">Dadurch kann es zu erheblichen Funktionsstörungen kommen (vaginales Trockenheitsgefühl, Dyspareunie, postkoitale Blutungen, Drang<span class=\"diff_chg\">harninkontinenz und</span> Belastungsharninkontinenz) und damit zu einer Beeinträchtigung der Sexualität und der Lebensqualität.</div></tr>\n",
       "</tbody>\n",
       "</table>\n",
       "\n",
       "</body>\n",
       "</html>"
      ],
      "text/plain": [
       "<IPython.core.display.HTML object>"
      ]
     },
     "metadata": {},
     "output_type": "display_data"
    },
    {
     "data": {
      "text/markdown": [
       "8;17_chronisch-lymphatische-leukaemie-cll_0054.tsv;2"
      ],
      "text/plain": [
       "<IPython.core.display.Markdown object>"
      ]
     },
     "metadata": {},
     "output_type": "display_data"
    },
    {
     "data": {
      "text/markdown": [
       "__Input:__"
      ],
      "text/plain": [
       "<IPython.core.display.Markdown object>"
      ]
     },
     "metadata": {},
     "output_type": "display_data"
    },
    {
     "data": {
      "text/markdown": [
       "Sie sollte bei erwarteter Therapiebedürftigkeit bzw. vor Therapiebeginn/-änderung durchgeführt werden."
      ],
      "text/plain": [
       "<IPython.core.display.Markdown object>"
      ]
     },
     "metadata": {},
     "output_type": "display_data"
    },
    {
     "data": {
      "text/markdown": [
       "__Error type:__ insert"
      ],
      "text/plain": [
       "<IPython.core.display.Markdown object>"
      ]
     },
     "metadata": {},
     "output_type": "display_data"
    },
    {
     "data": {
      "text/html": [
       "\n",
       "<!DOCTYPE html PUBLIC \"-//W3C//DTD XHTML 1.0 Transitional//EN\"\n",
       "          \"http://www.w3.org/TR/xhtml1/DTD/xhtml1-transitional.dtd\">\n",
       "\n",
       "<html>\n",
       "<head>\n",
       "<meta content=\"text/html; charset=utf-8\" http-equiv=\"Content-Type\"/>\n",
       "<title></title>\n",
       "<style type=\"text/css\">\n",
       "        table.diff {font-family:Courier; border:medium;}\n",
       "        .diff_header {background-color:#e0e0e0}\n",
       "        td.diff_header {text-align:right}\n",
       "        .diff_next {background-color:#c0c0c0}\n",
       "        .diff_add {background-color:#aaffaa}\n",
       "        .diff_chg {background-color:#ffff77}\n",
       "        .diff_sub {background-color:#ffaaaa}\n",
       "    </style>\n",
       "</head>\n",
       "<body>\n",
       "<table cellpadding=\"0\" cellspacing=\"0\" class=\"diff\" id=\"difflib_chg_to26__top\" rules=\"groups\">\n",
       "<colgroup></colgroup> <colgroup></colgroup> <colgroup></colgroup>\n",
       "<colgroup></colgroup> <colgroup></colgroup> <colgroup></colgroup>\n",
       "<tbody>\n",
       "<tr><div nowrap=\"nowrap\">Sie sollte bei erwarteter Therapiebedürftigkeit bzw. vor Therapiebeginn/Therapieänderung durchgeführt werden.</div><div nowrap=\"nowrap\">Sie sollte bei erwarteter Therapiebedürftigkeit bzw. vor Therapiebeginn/<span class=\"diff_add\">Vor </span>Therapieänderung durchgeführt werden.</div></tr>\n",
       "</tbody>\n",
       "</table>\n",
       "\n",
       "</body>\n",
       "</html>"
      ],
      "text/plain": [
       "<IPython.core.display.HTML object>"
      ]
     },
     "metadata": {},
     "output_type": "display_data"
    },
    {
     "data": {
      "text/markdown": [
       "9;19_follikulaeres-lymphom_0275.tsv;2"
      ],
      "text/plain": [
       "<IPython.core.display.Markdown object>"
      ]
     },
     "metadata": {},
     "output_type": "display_data"
    },
    {
     "data": {
      "text/markdown": [
       "__Input:__"
      ],
      "text/plain": [
       "<IPython.core.display.Markdown object>"
      ]
     },
     "metadata": {},
     "output_type": "display_data"
    },
    {
     "data": {
      "text/markdown": [
       "Eine Untersuchung von Oh et al. [REF] umfasste 257 Patienten mit follikulärem Lymphom im Stadium I-III, die unter einer Radio-, Chemo- oder Chemoradiotherapie eine komplette Remission erreichten."
      ],
      "text/plain": [
       "<IPython.core.display.Markdown object>"
      ]
     },
     "metadata": {},
     "output_type": "display_data"
    },
    {
     "data": {
      "text/markdown": [
       "__Error type:__ insert"
      ],
      "text/plain": [
       "<IPython.core.display.Markdown object>"
      ]
     },
     "metadata": {},
     "output_type": "display_data"
    },
    {
     "data": {
      "text/html": [
       "\n",
       "<!DOCTYPE html PUBLIC \"-//W3C//DTD XHTML 1.0 Transitional//EN\"\n",
       "          \"http://www.w3.org/TR/xhtml1/DTD/xhtml1-transitional.dtd\">\n",
       "\n",
       "<html>\n",
       "<head>\n",
       "<meta content=\"text/html; charset=utf-8\" http-equiv=\"Content-Type\"/>\n",
       "<title></title>\n",
       "<style type=\"text/css\">\n",
       "        table.diff {font-family:Courier; border:medium;}\n",
       "        .diff_header {background-color:#e0e0e0}\n",
       "        td.diff_header {text-align:right}\n",
       "        .diff_next {background-color:#c0c0c0}\n",
       "        .diff_add {background-color:#aaffaa}\n",
       "        .diff_chg {background-color:#ffff77}\n",
       "        .diff_sub {background-color:#ffaaaa}\n",
       "    </style>\n",
       "</head>\n",
       "<body>\n",
       "<table cellpadding=\"0\" cellspacing=\"0\" class=\"diff\" id=\"difflib_chg_to27__top\" rules=\"groups\">\n",
       "<colgroup></colgroup> <colgroup></colgroup> <colgroup></colgroup>\n",
       "<colgroup></colgroup> <colgroup></colgroup> <colgroup></colgroup>\n",
       "<tbody>\n",
       "<tr><div nowrap=\"nowrap\">Eine Untersuchung von Oh et al. [REF] umfasste 257 Patienten mit follikulärem Lymphom im Stadium I-III, die unter einer Radiotherapie, Chemo<span class=\"diff_chg\">therapie oder</span> Chemoradiotherapie eine komplette Remission erreichten.</div><div nowrap=\"nowrap\">Eine Untersuchung von Oh et al. [REF] umfasste 257 Patienten mit follikulärem Lymphom im Stadium I-III, die unter einer Radiotherapie, Chemo<span class=\"diff_chg\">radiotherapie oder</span> Chemoradiotherapie eine komplette Remission erreichten.</div></tr>\n",
       "</tbody>\n",
       "</table>\n",
       "\n",
       "</body>\n",
       "</html>"
      ],
      "text/plain": [
       "<IPython.core.display.HTML object>"
      ]
     },
     "metadata": {},
     "output_type": "display_data"
    },
    {
     "data": {
      "text/markdown": [
       "10;19_follikulaeres-lymphom_0286.tsv;22"
      ],
      "text/plain": [
       "<IPython.core.display.Markdown object>"
      ]
     },
     "metadata": {},
     "output_type": "display_data"
    },
    {
     "data": {
      "text/markdown": [
       "__Input:__"
      ],
      "text/plain": [
       "<IPython.core.display.Markdown object>"
      ]
     },
     "metadata": {},
     "output_type": "display_data"
    },
    {
     "data": {
      "text/markdown": [
       "Basierend auf ICF und bio-psycho-sozialem Model erfolgt hierzu eine Diagnostik der Folgestörungen der Lymphomerkrankung und -therapie."
      ],
      "text/plain": [
       "<IPython.core.display.Markdown object>"
      ]
     },
     "metadata": {},
     "output_type": "display_data"
    },
    {
     "data": {
      "text/markdown": [
       "__Error type:__ insert"
      ],
      "text/plain": [
       "<IPython.core.display.Markdown object>"
      ]
     },
     "metadata": {},
     "output_type": "display_data"
    },
    {
     "data": {
      "text/html": [
       "\n",
       "<!DOCTYPE html PUBLIC \"-//W3C//DTD XHTML 1.0 Transitional//EN\"\n",
       "          \"http://www.w3.org/TR/xhtml1/DTD/xhtml1-transitional.dtd\">\n",
       "\n",
       "<html>\n",
       "<head>\n",
       "<meta content=\"text/html; charset=utf-8\" http-equiv=\"Content-Type\"/>\n",
       "<title></title>\n",
       "<style type=\"text/css\">\n",
       "        table.diff {font-family:Courier; border:medium;}\n",
       "        .diff_header {background-color:#e0e0e0}\n",
       "        td.diff_header {text-align:right}\n",
       "        .diff_next {background-color:#c0c0c0}\n",
       "        .diff_add {background-color:#aaffaa}\n",
       "        .diff_chg {background-color:#ffff77}\n",
       "        .diff_sub {background-color:#ffaaaa}\n",
       "    </style>\n",
       "</head>\n",
       "<body>\n",
       "<table cellpadding=\"0\" cellspacing=\"0\" class=\"diff\" id=\"difflib_chg_to28__top\" rules=\"groups\">\n",
       "<colgroup></colgroup> <colgroup></colgroup> <colgroup></colgroup>\n",
       "<colgroup></colgroup> <colgroup></colgroup> <colgroup></colgroup>\n",
       "<tbody>\n",
       "<tr><div nowrap=\"nowrap\">Basierend auf ICF und bio-psycho-sozialem Model erfolgt hierzu eine Diagnostik der Folgestörungen der Lymphomerkrankung und Lymphomtherapie.</div><div nowrap=\"nowrap\">Basierend auf ICF und bio-psycho-sozialem Model erfolgt hierzu eine Diagnostik der Folgestörungen der Lymphomerkrankung und Lymphom<span class=\"diff_add\">e</span>therapie.</div></tr>\n",
       "</tbody>\n",
       "</table>\n",
       "\n",
       "</body>\n",
       "</html>"
      ],
      "text/plain": [
       "<IPython.core.display.HTML object>"
      ]
     },
     "metadata": {},
     "output_type": "display_data"
    },
    {
     "data": {
      "text/markdown": [
       "11;25_psychoonkologie_0029.tsv;20"
      ],
      "text/plain": [
       "<IPython.core.display.Markdown object>"
      ]
     },
     "metadata": {},
     "output_type": "display_data"
    },
    {
     "data": {
      "text/markdown": [
       "__Input:__"
      ],
      "text/plain": [
       "<IPython.core.display.Markdown object>"
      ]
     },
     "metadata": {},
     "output_type": "display_data"
    },
    {
     "data": {
      "text/markdown": [
       "Über alle Studien hinweg tritt die Tabakabhängigkeit/-missbrauch (F17) durchschnittlich bei 13.1 % (Punktprävalenz) der Krebspatienten auf (2-51 %)."
      ],
      "text/plain": [
       "<IPython.core.display.Markdown object>"
      ]
     },
     "metadata": {},
     "output_type": "display_data"
    },
    {
     "data": {
      "text/markdown": [
       "__Error type:__ insert"
      ],
      "text/plain": [
       "<IPython.core.display.Markdown object>"
      ]
     },
     "metadata": {},
     "output_type": "display_data"
    },
    {
     "data": {
      "text/html": [
       "\n",
       "<!DOCTYPE html PUBLIC \"-//W3C//DTD XHTML 1.0 Transitional//EN\"\n",
       "          \"http://www.w3.org/TR/xhtml1/DTD/xhtml1-transitional.dtd\">\n",
       "\n",
       "<html>\n",
       "<head>\n",
       "<meta content=\"text/html; charset=utf-8\" http-equiv=\"Content-Type\"/>\n",
       "<title></title>\n",
       "<style type=\"text/css\">\n",
       "        table.diff {font-family:Courier; border:medium;}\n",
       "        .diff_header {background-color:#e0e0e0}\n",
       "        td.diff_header {text-align:right}\n",
       "        .diff_next {background-color:#c0c0c0}\n",
       "        .diff_add {background-color:#aaffaa}\n",
       "        .diff_chg {background-color:#ffff77}\n",
       "        .diff_sub {background-color:#ffaaaa}\n",
       "    </style>\n",
       "</head>\n",
       "<body>\n",
       "<table cellpadding=\"0\" cellspacing=\"0\" class=\"diff\" id=\"difflib_chg_to29__top\" rules=\"groups\">\n",
       "<colgroup></colgroup> <colgroup></colgroup> <colgroup></colgroup>\n",
       "<colgroup></colgroup> <colgroup></colgroup> <colgroup></colgroup>\n",
       "<tbody>\n",
       "<tr><div nowrap=\"nowrap\">Über alle Studien hinweg tritt die Tabakabhängigkeit/Tabakmissbrauch (F17) durchschnittlich bei 13.1 % (Punktprävalenz) der Krebspatienten auf (2-51 %).</div><div nowrap=\"nowrap\">Über alle Studien hinweg tritt die Tabakabhängigkeit/<span class=\"diff_add\"> </span>Tabakmissbrauch (F17) durchschnittlich bei 13.1 % (Punktprävalenz) der Krebspatienten auf (2-51 %).</div></tr>\n",
       "</tbody>\n",
       "</table>\n",
       "\n",
       "</body>\n",
       "</html>"
      ],
      "text/plain": [
       "<IPython.core.display.HTML object>"
      ]
     },
     "metadata": {},
     "output_type": "display_data"
    },
    {
     "data": {
      "text/markdown": [
       "12;25_psychoonkologie_0029.tsv;21"
      ],
      "text/plain": [
       "<IPython.core.display.Markdown object>"
      ]
     },
     "metadata": {},
     "output_type": "display_data"
    },
    {
     "data": {
      "text/markdown": [
       "__Input:__"
      ],
      "text/plain": [
       "<IPython.core.display.Markdown object>"
      ]
     },
     "metadata": {},
     "output_type": "display_data"
    },
    {
     "data": {
      "text/markdown": [
       "In Deutschland liegt die durchschnittliche Punktprävalenz für Tabakabhängigkeit/-missbrauch bei Krebspatienten bei 6.5 %."
      ],
      "text/plain": [
       "<IPython.core.display.Markdown object>"
      ]
     },
     "metadata": {},
     "output_type": "display_data"
    },
    {
     "data": {
      "text/markdown": [
       "__Error type:__ insert"
      ],
      "text/plain": [
       "<IPython.core.display.Markdown object>"
      ]
     },
     "metadata": {},
     "output_type": "display_data"
    },
    {
     "data": {
      "text/html": [
       "\n",
       "<!DOCTYPE html PUBLIC \"-//W3C//DTD XHTML 1.0 Transitional//EN\"\n",
       "          \"http://www.w3.org/TR/xhtml1/DTD/xhtml1-transitional.dtd\">\n",
       "\n",
       "<html>\n",
       "<head>\n",
       "<meta content=\"text/html; charset=utf-8\" http-equiv=\"Content-Type\"/>\n",
       "<title></title>\n",
       "<style type=\"text/css\">\n",
       "        table.diff {font-family:Courier; border:medium;}\n",
       "        .diff_header {background-color:#e0e0e0}\n",
       "        td.diff_header {text-align:right}\n",
       "        .diff_next {background-color:#c0c0c0}\n",
       "        .diff_add {background-color:#aaffaa}\n",
       "        .diff_chg {background-color:#ffff77}\n",
       "        .diff_sub {background-color:#ffaaaa}\n",
       "    </style>\n",
       "</head>\n",
       "<body>\n",
       "<table cellpadding=\"0\" cellspacing=\"0\" class=\"diff\" id=\"difflib_chg_to30__top\" rules=\"groups\">\n",
       "<colgroup></colgroup> <colgroup></colgroup> <colgroup></colgroup>\n",
       "<colgroup></colgroup> <colgroup></colgroup> <colgroup></colgroup>\n",
       "<tbody>\n",
       "<tr><div nowrap=\"nowrap\">In Deutschland liegt die durchschnittliche Punktprävalenz für Tabakabhängigkeit/Tabakmissbrauch bei Krebspatienten bei 6.5 %.</div><div nowrap=\"nowrap\">In Deutschland liegt die durchschnittliche Punktprävalenz für Tabakabhängigkeit/<span class=\"diff_add\"> </span>Tabakmissbrauch bei Krebspatienten bei 6.5 %.</div></tr>\n",
       "</tbody>\n",
       "</table>\n",
       "\n",
       "</body>\n",
       "</html>"
      ],
      "text/plain": [
       "<IPython.core.display.HTML object>"
      ]
     },
     "metadata": {},
     "output_type": "display_data"
    },
    {
     "data": {
      "text/markdown": [
       "13;26_palliativmedizin_0190.tsv;1"
      ],
      "text/plain": [
       "<IPython.core.display.Markdown object>"
      ]
     },
     "metadata": {},
     "output_type": "display_data"
    },
    {
     "data": {
      "text/markdown": [
       "__Input:__"
      ],
      "text/plain": [
       "<IPython.core.display.Markdown object>"
      ]
     },
     "metadata": {},
     "output_type": "display_data"
    },
    {
     "data": {
      "text/markdown": [
       "Bei Patienten mit Tumorschmerzen können schnell und langsam freisetzende orale * Morphin-, Oxycodon- und Hydromorphon-Präparate zur Dosistitration verwendet werden."
      ],
      "text/plain": [
       "<IPython.core.display.Markdown object>"
      ]
     },
     "metadata": {},
     "output_type": "display_data"
    },
    {
     "data": {
      "text/markdown": [
       "__Error type:__ insert"
      ],
      "text/plain": [
       "<IPython.core.display.Markdown object>"
      ]
     },
     "metadata": {},
     "output_type": "display_data"
    },
    {
     "data": {
      "text/html": [
       "\n",
       "<!DOCTYPE html PUBLIC \"-//W3C//DTD XHTML 1.0 Transitional//EN\"\n",
       "          \"http://www.w3.org/TR/xhtml1/DTD/xhtml1-transitional.dtd\">\n",
       "\n",
       "<html>\n",
       "<head>\n",
       "<meta content=\"text/html; charset=utf-8\" http-equiv=\"Content-Type\"/>\n",
       "<title></title>\n",
       "<style type=\"text/css\">\n",
       "        table.diff {font-family:Courier; border:medium;}\n",
       "        .diff_header {background-color:#e0e0e0}\n",
       "        td.diff_header {text-align:right}\n",
       "        .diff_next {background-color:#c0c0c0}\n",
       "        .diff_add {background-color:#aaffaa}\n",
       "        .diff_chg {background-color:#ffff77}\n",
       "        .diff_sub {background-color:#ffaaaa}\n",
       "    </style>\n",
       "</head>\n",
       "<body>\n",
       "<table cellpadding=\"0\" cellspacing=\"0\" class=\"diff\" id=\"difflib_chg_to31__top\" rules=\"groups\">\n",
       "<colgroup></colgroup> <colgroup></colgroup> <colgroup></colgroup>\n",
       "<colgroup></colgroup> <colgroup></colgroup> <colgroup></colgroup>\n",
       "<tbody>\n",
       "<tr><div nowrap=\"nowrap\">Bei Patienten mit Tumorschmerzen können schnell und langsam freisetzende orale * Morphin-Präparate, Oxycodon-Präparate und Hydromorphon-Präparate zur Dosistitration verwendet werden.</div><div nowrap=\"nowrap\">Bei Patienten mit Tumorschmerzen können schnell und langsam freisetzende orale * Morphin<span class=\"diff_add\">g</span>-Präparate, Oxycodon-Präparate und Hydromorphon-Präparate zur Dosistitration verwendet werden.</div></tr>\n",
       "</tbody>\n",
       "</table>\n",
       "\n",
       "</body>\n",
       "</html>"
      ],
      "text/plain": [
       "<IPython.core.display.HTML object>"
      ]
     },
     "metadata": {},
     "output_type": "display_data"
    },
    {
     "data": {
      "text/markdown": [
       "14;26_palliativmedizin_0355.tsv;16"
      ],
      "text/plain": [
       "<IPython.core.display.Markdown object>"
      ]
     },
     "metadata": {},
     "output_type": "display_data"
    },
    {
     "data": {
      "text/markdown": [
       "__Input:__"
      ],
      "text/plain": [
       "<IPython.core.display.Markdown object>"
      ]
     },
     "metadata": {},
     "output_type": "display_data"
    },
    {
     "data": {
      "text/markdown": [
       "Fuß- oder Baucheinreibungen mit Pfefferminz-, Zitronen- oder Kümmelöl können zur Linderung von Übelkeit und Antiemese beitragen."
      ],
      "text/plain": [
       "<IPython.core.display.Markdown object>"
      ]
     },
     "metadata": {},
     "output_type": "display_data"
    },
    {
     "data": {
      "text/markdown": [
       "__Error type:__ insert"
      ],
      "text/plain": [
       "<IPython.core.display.Markdown object>"
      ]
     },
     "metadata": {},
     "output_type": "display_data"
    },
    {
     "data": {
      "text/html": [
       "\n",
       "<!DOCTYPE html PUBLIC \"-//W3C//DTD XHTML 1.0 Transitional//EN\"\n",
       "          \"http://www.w3.org/TR/xhtml1/DTD/xhtml1-transitional.dtd\">\n",
       "\n",
       "<html>\n",
       "<head>\n",
       "<meta content=\"text/html; charset=utf-8\" http-equiv=\"Content-Type\"/>\n",
       "<title></title>\n",
       "<style type=\"text/css\">\n",
       "        table.diff {font-family:Courier; border:medium;}\n",
       "        .diff_header {background-color:#e0e0e0}\n",
       "        td.diff_header {text-align:right}\n",
       "        .diff_next {background-color:#c0c0c0}\n",
       "        .diff_add {background-color:#aaffaa}\n",
       "        .diff_chg {background-color:#ffff77}\n",
       "        .diff_sub {background-color:#ffaaaa}\n",
       "    </style>\n",
       "</head>\n",
       "<body>\n",
       "<table cellpadding=\"0\" cellspacing=\"0\" class=\"diff\" id=\"difflib_chg_to32__top\" rules=\"groups\">\n",
       "<colgroup></colgroup> <colgroup></colgroup> <colgroup></colgroup>\n",
       "<colgroup></colgroup> <colgroup></colgroup> <colgroup></colgroup>\n",
       "<tbody>\n",
       "<tr><div nowrap=\"nowrap\">Fußeinreibungen oder Baucheinreibungen mit Pfefferminzöl, Zitronenöl oder Kümmelöl können zur Linderung von Übelkeit und Antiemese beitragen.</div><div nowrap=\"nowrap\">Fußeinreibungen oder Baucheinreibungen mit Pfefferminz<span class=\"diff_add\">el</span>öl, Zitronen<span class=\"diff_add\">el</span>öl oder Kümmelöl können zur Linderung von Übelkeit und Antiemese beitragen.</div></tr>\n",
       "</tbody>\n",
       "</table>\n",
       "\n",
       "</body>\n",
       "</html>"
      ],
      "text/plain": [
       "<IPython.core.display.HTML object>"
      ]
     },
     "metadata": {},
     "output_type": "display_data"
    },
    {
     "data": {
      "text/markdown": [
       "15;26_palliativmedizin_0373.tsv;23"
      ],
      "text/plain": [
       "<IPython.core.display.Markdown object>"
      ]
     },
     "metadata": {},
     "output_type": "display_data"
    },
    {
     "data": {
      "text/markdown": [
       "__Input:__"
      ],
      "text/plain": [
       "<IPython.core.display.Markdown object>"
      ]
     },
     "metadata": {},
     "output_type": "display_data"
    },
    {
     "data": {
      "text/markdown": [
       "Laboruntersuchungen (Blutbild, Schilddrüsenfunktion, Serum-Kalcium), radiologische, endoskopische oder Funktionsuntersuchungen werden aufgrund fehlender Evidenz nicht als Basisdiagnostik empfohlen [REF]."
      ],
      "text/plain": [
       "<IPython.core.display.Markdown object>"
      ]
     },
     "metadata": {},
     "output_type": "display_data"
    },
    {
     "data": {
      "text/markdown": [
       "__Error type:__ insert"
      ],
      "text/plain": [
       "<IPython.core.display.Markdown object>"
      ]
     },
     "metadata": {},
     "output_type": "display_data"
    },
    {
     "data": {
      "text/html": [
       "\n",
       "<!DOCTYPE html PUBLIC \"-//W3C//DTD XHTML 1.0 Transitional//EN\"\n",
       "          \"http://www.w3.org/TR/xhtml1/DTD/xhtml1-transitional.dtd\">\n",
       "\n",
       "<html>\n",
       "<head>\n",
       "<meta content=\"text/html; charset=utf-8\" http-equiv=\"Content-Type\"/>\n",
       "<title></title>\n",
       "<style type=\"text/css\">\n",
       "        table.diff {font-family:Courier; border:medium;}\n",
       "        .diff_header {background-color:#e0e0e0}\n",
       "        td.diff_header {text-align:right}\n",
       "        .diff_next {background-color:#c0c0c0}\n",
       "        .diff_add {background-color:#aaffaa}\n",
       "        .diff_chg {background-color:#ffff77}\n",
       "        .diff_sub {background-color:#ffaaaa}\n",
       "    </style>\n",
       "</head>\n",
       "<body>\n",
       "<table cellpadding=\"0\" cellspacing=\"0\" class=\"diff\" id=\"difflib_chg_to33__top\" rules=\"groups\">\n",
       "<colgroup></colgroup> <colgroup></colgroup> <colgroup></colgroup>\n",
       "<colgroup></colgroup> <colgroup></colgroup> <colgroup></colgroup>\n",
       "<tbody>\n",
       "<tr><div nowrap=\"nowrap\">Laboruntersuchungen (Blutbild, Schilddrüsenfunktion, Serum-Kalcium), radiologische Untersuchung<span class=\"diff_chg\">en,</span> endoskopische Untersuchung<span class=\"diff_chg\">en oder</span> Funktionsuntersuchungen werden aufgrund fehlender Evidenz nicht als Basisdiagnostik empfohlen [REF].</div><div nowrap=\"nowrap\">Laboruntersuchungen (Blutbild, Schilddrüsenfunktion, Serum-Kalcium), radiologische Untersuchung<span class=\"diff_chg\">ungen,</span> endoskopische Untersuchung<span class=\"diff_chg\">ungen oder</span> Funktionsuntersuchungen werden aufgrund fehlender Evidenz nicht als Basisdiagnostik empfohlen [REF].</div></tr>\n",
       "</tbody>\n",
       "</table>\n",
       "\n",
       "</body>\n",
       "</html>"
      ],
      "text/plain": [
       "<IPython.core.display.HTML object>"
      ]
     },
     "metadata": {},
     "output_type": "display_data"
    },
    {
     "data": {
      "text/markdown": [
       "16;28_komplementaermedizin_0209.tsv;13"
      ],
      "text/plain": [
       "<IPython.core.display.Markdown object>"
      ]
     },
     "metadata": {},
     "output_type": "display_data"
    },
    {
     "data": {
      "text/markdown": [
       "__Input:__"
      ],
      "text/plain": [
       "<IPython.core.display.Markdown object>"
      ]
     },
     "metadata": {},
     "output_type": "display_data"
    },
    {
     "data": {
      "text/markdown": [
       "Die Wirksamkeit von Vitamin D bezüglich Gesamt- oder progressionsfreien Überlebens wurde in drei zweiarmigen Studien mit Prostatakrebspatienten (Attia 2008, Beer 2007 und Scheer 2011) und in einer kleinen Studie mit Patienten mit Kopf-Hals-Tumoren untersucht."
      ],
      "text/plain": [
       "<IPython.core.display.Markdown object>"
      ]
     },
     "metadata": {},
     "output_type": "display_data"
    },
    {
     "data": {
      "text/markdown": [
       "__Error type:__ insert"
      ],
      "text/plain": [
       "<IPython.core.display.Markdown object>"
      ]
     },
     "metadata": {},
     "output_type": "display_data"
    },
    {
     "data": {
      "text/html": [
       "\n",
       "<!DOCTYPE html PUBLIC \"-//W3C//DTD XHTML 1.0 Transitional//EN\"\n",
       "          \"http://www.w3.org/TR/xhtml1/DTD/xhtml1-transitional.dtd\">\n",
       "\n",
       "<html>\n",
       "<head>\n",
       "<meta content=\"text/html; charset=utf-8\" http-equiv=\"Content-Type\"/>\n",
       "<title></title>\n",
       "<style type=\"text/css\">\n",
       "        table.diff {font-family:Courier; border:medium;}\n",
       "        .diff_header {background-color:#e0e0e0}\n",
       "        td.diff_header {text-align:right}\n",
       "        .diff_next {background-color:#c0c0c0}\n",
       "        .diff_add {background-color:#aaffaa}\n",
       "        .diff_chg {background-color:#ffff77}\n",
       "        .diff_sub {background-color:#ffaaaa}\n",
       "    </style>\n",
       "</head>\n",
       "<body>\n",
       "<table cellpadding=\"0\" cellspacing=\"0\" class=\"diff\" id=\"difflib_chg_to34__top\" rules=\"groups\">\n",
       "<colgroup></colgroup> <colgroup></colgroup> <colgroup></colgroup>\n",
       "<colgroup></colgroup> <colgroup></colgroup> <colgroup></colgroup>\n",
       "<tbody>\n",
       "<tr><div nowrap=\"nowrap\">Die Wirksamkeit von Vitamin D bezüglich Gesamtüberleben<span class=\"diff_chg\"> oder</span> progressionsfreien Überlebens wurde in drei zweiarmigen Studien mit Prostatakrebspatienten (Attia 2008, Beer 2007 und Scheer 2011) und in einer kleinen Studie mit Patienten mit Kopf-Hals-Tumoren untersucht.</div><div nowrap=\"nowrap\">Die Wirksamkeit von Vitamin D bezüglich Gesamtüberleben<span class=\"diff_chg\">s oder</span> progressionsfreien Überlebens wurde in drei zweiarmigen Studien mit Prostatakrebspatienten (Attia 2008, Beer 2007 und Scheer 2011) und in einer kleinen Studie mit Patienten mit Kopf-Hals-Tumoren untersucht.</div></tr>\n",
       "</tbody>\n",
       "</table>\n",
       "\n",
       "</body>\n",
       "</html>"
      ],
      "text/plain": [
       "<IPython.core.display.HTML object>"
      ]
     },
     "metadata": {},
     "output_type": "display_data"
    },
    {
     "data": {
      "text/markdown": [
       "17;29_adulte-weichgewebesarkome_0204.tsv;4"
      ],
      "text/plain": [
       "<IPython.core.display.Markdown object>"
      ]
     },
     "metadata": {},
     "output_type": "display_data"
    },
    {
     "data": {
      "text/markdown": [
       "__Input:__"
      ],
      "text/plain": [
       "<IPython.core.display.Markdown object>"
      ]
     },
     "metadata": {},
     "output_type": "display_data"
    },
    {
     "data": {
      "text/markdown": [
       "Der Stellenwert einer prä- oder postoperativen Strahlentherapie bei retroperitonealen Weichgewebesarkomen lässt sich aus den Ergebnissen einer randomiserten Studie sowie retrospektiven und prospektiven Fallsammlungen [REF], [REF], [REF], [REF] einschätzen."
      ],
      "text/plain": [
       "<IPython.core.display.Markdown object>"
      ]
     },
     "metadata": {},
     "output_type": "display_data"
    },
    {
     "data": {
      "text/markdown": [
       "__Error type:__ insert"
      ],
      "text/plain": [
       "<IPython.core.display.Markdown object>"
      ]
     },
     "metadata": {},
     "output_type": "display_data"
    },
    {
     "data": {
      "text/html": [
       "\n",
       "<!DOCTYPE html PUBLIC \"-//W3C//DTD XHTML 1.0 Transitional//EN\"\n",
       "          \"http://www.w3.org/TR/xhtml1/DTD/xhtml1-transitional.dtd\">\n",
       "\n",
       "<html>\n",
       "<head>\n",
       "<meta content=\"text/html; charset=utf-8\" http-equiv=\"Content-Type\"/>\n",
       "<title></title>\n",
       "<style type=\"text/css\">\n",
       "        table.diff {font-family:Courier; border:medium;}\n",
       "        .diff_header {background-color:#e0e0e0}\n",
       "        td.diff_header {text-align:right}\n",
       "        .diff_next {background-color:#c0c0c0}\n",
       "        .diff_add {background-color:#aaffaa}\n",
       "        .diff_chg {background-color:#ffff77}\n",
       "        .diff_sub {background-color:#ffaaaa}\n",
       "    </style>\n",
       "</head>\n",
       "<body>\n",
       "<table cellpadding=\"0\" cellspacing=\"0\" class=\"diff\" id=\"difflib_chg_to35__top\" rules=\"groups\">\n",
       "<colgroup></colgroup> <colgroup></colgroup> <colgroup></colgroup>\n",
       "<colgroup></colgroup> <colgroup></colgroup> <colgroup></colgroup>\n",
       "<tbody>\n",
       "<tr><div nowrap=\"nowrap\">Der Stellenwert einer präoperativen oder postoperativen Strahlentherapie bei retroperitonealen Weichgewebesarkomen lässt sich aus den Ergebnissen einer randomis<span class=\"diff_chg\">erten</span> Studie sowie retrospektiven und prospektiven Fallsammlungen [REF], [REF], [REF], [REF] einschätzen.</div><div nowrap=\"nowrap\">Der Stellenwert einer präoperativen oder postoperativen Strahlentherapie bei retroperitonealen Weichgewebesarkomen lässt sich aus den Ergebnissen einer randomis<span class=\"diff_chg\">ierten</span> Studie sowie retrospektiven und prospektiven Fallsammlungen [REF], [REF], [REF], [REF] einschätzen.</div></tr>\n",
       "</tbody>\n",
       "</table>\n",
       "\n",
       "</body>\n",
       "</html>"
      ],
      "text/plain": [
       "<IPython.core.display.HTML object>"
      ]
     },
     "metadata": {},
     "output_type": "display_data"
    }
   ],
   "source": [
    "s = errors_valid[errors_valid.error_type == \"insert\"]\n",
    "show_errors(s)"
   ]
  },
  {
   "cell_type": "code",
   "execution_count": 25,
   "metadata": {},
   "outputs": [
    {
     "name": "stdout",
     "output_type": "stream",
     "text": [
      "CPU times: user 9min 58s, sys: 412 ms, total: 9min 59s\n",
      "Wall time: 9min 59s\n"
     ]
    }
   ],
   "source": [
    "%%time\n",
    "out_test = pipeline(list(test_df.raw_sentence))"
   ]
  },
  {
   "cell_type": "code",
   "execution_count": 26,
   "metadata": {},
   "outputs": [
    {
     "data": {
      "text/plain": [
       "tn         601\n",
       "tp         448\n",
       "delete      25\n",
       "insert      25\n",
       "fn          18\n",
       "replace     16\n",
       "fp          15\n",
       "complex     11\n",
       "Name: error_type, dtype: int64"
      ]
     },
     "execution_count": 26,
     "metadata": {},
     "output_type": "execute_result"
    }
   ],
   "source": [
    "errors_test = calculate_errors(out_test, test_df)\n",
    "errors_test.error_type.value_counts()"
   ]
  },
  {
   "cell_type": "code",
   "execution_count": 27,
   "metadata": {},
   "outputs": [
    {
     "name": "stdout",
     "output_type": "stream",
     "text": [
      "CPU times: user 1min 21s, sys: 84 ms, total: 1min 21s\n",
      "Wall time: 1min 24s\n"
     ]
    },
    {
     "data": {
      "text/plain": [
       "{'test/exact_match': 0.905090595340811,\n",
       " 'test/gleu': 0.9778028196418292,\n",
       " 'test/edit_distance_rel': 0.950224476907634}"
      ]
     },
     "execution_count": 27,
     "metadata": {},
     "output_type": "execute_result"
    }
   ],
   "source": [
    "%%time\n",
    "scores = get_scores(errors_test, \"test\")\n",
    "scores"
   ]
  },
  {
   "cell_type": "markdown",
   "metadata": {},
   "source": [
    "# Some examples"
   ]
  },
  {
   "cell_type": "code",
   "execution_count": 39,
   "metadata": {},
   "outputs": [],
   "source": [
    "def run_pipeline(examples):\n",
    "    for e, p in zip(examples, pipeline(examples)):\n",
    "        print(e, '-->', p['generated_text'])"
   ]
  },
  {
   "cell_type": "code",
   "execution_count": 40,
   "metadata": {},
   "outputs": [
    {
     "name": "stdout",
     "output_type": "stream",
     "text": [
      "Krebs-Vorsorge / -Früherkennung --> Krebs-Vorsorge / Krebs-Früherkennung\n",
      "HPV31, 33, 45 und 51 --> HPV31, HPV33 und HPV51\n",
      "Vitamin C, E und A1 --> Vitamin C, Vitamin E und Vitamin A1\n"
     ]
    }
   ],
   "source": [
    "# Forward ellipses\n",
    "run_pipeline(['Krebs-Vorsorge / -Früherkennung', 'HPV31, 33, 45 und 51', 'Vitamin C, E und A1'])"
   ]
  },
  {
   "cell_type": "code",
   "execution_count": 41,
   "metadata": {},
   "outputs": [
    {
     "name": "stdout",
     "output_type": "stream",
     "text": [
      "Chemo- und Strahlentherapie --> Chemotherapie und Strahlentherapie\n",
      "BRAF- und MEK-Inhibitor --> BRAF-Inhibitor und MEK-Inhibitor\n",
      "zielgerichtete und Immuntherapien --> zielgerichtete Therapien und Immuntherapien\n"
     ]
    }
   ],
   "source": [
    "# Backward ellipses\n",
    "run_pipeline(['Chemo- und Strahlentherapie', 'BRAF- und MEK-Inhibitor', 'zielgerichtete und Immuntherapien'])"
   ]
  },
  {
   "cell_type": "code",
   "execution_count": 43,
   "metadata": {},
   "outputs": [
    {
     "name": "stdout",
     "output_type": "stream",
     "text": [
      "HPV-16- und/oder -18-Positivität --> HPV-16-Positivität und/oder HPV-18-Positivität\n",
      "BRCA1/2-Mutation --> BRCA1-Mutation/BRCA2-Mutation\n",
      "Zweitlinien- oder Drittliniensystem- bzw. -chemotherapie --> Zweitliniensystemtherapie oder Drittliniensystemtherapie bzw. Drittlinienchemotherapie\n"
     ]
    }
   ],
   "source": [
    "# Complex ellipses\n",
    "run_pipeline(['HPV-16- und/oder -18-Positivität', 'BRCA1/2-Mutation', 'Zweitlinien- oder Drittliniensystem- bzw. -chemotherapie'])"
   ]
  },
  {
   "cell_type": "markdown",
   "metadata": {},
   "source": [
    "## Clean up"
   ]
  },
  {
   "cell_type": "code",
   "execution_count": null,
   "metadata": {},
   "outputs": [],
   "source": [
    "%%time\n",
    "out_train = pipeline(list(train_df.raw_sentence))\n",
    "\n",
    "errors_train = calculate_errors(out_train, train_df)\n",
    "\n",
    "errors_train.error_type.value_counts()"
   ]
  },
  {
   "cell_type": "code",
   "execution_count": null,
   "metadata": {},
   "outputs": [],
   "source": [
    "errors_all = pd.concat([errors_train, errors_valid, errors_test])"
   ]
  },
  {
   "cell_type": "code",
   "execution_count": null,
   "metadata": {},
   "outputs": [],
   "source": [
    "errors_all.error_type.value_counts()"
   ]
  },
  {
   "cell_type": "code",
   "execution_count": null,
   "metadata": {},
   "outputs": [],
   "source": [
    "show_errors(errors_all[errors_all.error_type != \"tp\"].sort_values(['error_type', 'file', 'sentence_id']))"
   ]
  },
  {
   "cell_type": "code",
   "execution_count": null,
   "metadata": {},
   "outputs": [],
   "source": []
  }
 ],
 "metadata": {
  "kernelspec": {
   "display_name": "Python [conda env:ellipses]",
   "language": "python",
   "name": "conda-env-ellipses-py"
  },
  "language_info": {
   "codemirror_mode": {
    "name": "ipython",
    "version": 3
   },
   "file_extension": ".py",
   "mimetype": "text/x-python",
   "name": "python",
   "nbconvert_exporter": "python",
   "pygments_lexer": "ipython3",
   "version": "3.10.6"
  },
  "vscode": {
   "interpreter": {
    "hash": "8f7616dd95153615ba76d82383ee4b763d06514f4c395e85d9efff1c9a575639"
   }
  }
 },
 "nbformat": 4,
 "nbformat_minor": 4
}
