{
 "cells": [
  {
   "cell_type": "code",
   "execution_count": 1,
   "metadata": {},
   "outputs": [],
   "source": [
    "import sys\n",
    "sys.path.append('../scripts')"
   ]
  },
  {
   "cell_type": "code",
   "execution_count": 2,
   "metadata": {},
   "outputs": [],
   "source": [
    "import os\n",
    "# Disable weights and biases (if installed)\n",
    "os.environ[\"TOKENIZERS_PARALLELISM\"] = \"false\"\n",
    "os.environ[\"CUDA_DEVICE_ORDER\"] = \"PCI_BUS_ID\"\n",
    "os.environ[\"CUDA_VISIBLE_DEVICES\"] = \"5\"\n",
    "os.environ[\"WANDB_DISABLED\"] = \"true\""
   ]
  },
  {
   "cell_type": "code",
   "execution_count": 25,
   "metadata": {},
   "outputs": [],
   "source": [
    "from pathlib import Path\n",
    "\n",
    "from dataset import load_data, get_dataloader\n",
    "from evaluation import get_scores\n",
    "from transformers_util import get_training_args, get_trainer, get_tokenizer"
   ]
  },
  {
   "cell_type": "markdown",
   "metadata": {},
   "source": [
    "# Load Data & Seq2Seq Model"
   ]
  },
  {
   "cell_type": "code",
   "execution_count": 4,
   "metadata": {},
   "outputs": [],
   "source": [
    "import hydra\n",
    "from hydra import compose, initialize\n",
    "\n",
    "hydra.core.global_hydra.GlobalHydra.instance().clear()\n",
    "initialize(config_path=Path('..'), job_name='foo', version_base='1.1')\n",
    "config = compose(config_name='experiment.yaml')"
   ]
  },
  {
   "cell_type": "code",
   "execution_count": 5,
   "metadata": {},
   "outputs": [],
   "source": [
    "MODEL_PATH = \"../data/ellipses/model/\"\n",
    "BATCH_SIZE = 32"
   ]
  },
  {
   "cell_type": "code",
   "execution_count": 6,
   "metadata": {},
   "outputs": [
    {
     "name": "stderr",
     "output_type": "stream",
     "text": [
      "/home/Florian.Borchert/miniconda3/envs/ellipses/lib/python3.10/site-packages/transformers/convert_slow_tokenizer.py:446: UserWarning: The sentencepiece tokenizer that you are converting to a fast tokenizer uses the byte fallback option which is not implemented in the fast tokenizers. In practice this means that the fast version of the tokenizer can produce unknown tokens whereas the sentencepiece version would have converted these unknown tokens into a sequence of byte tokens matching the original piece of text.\n",
      "  warnings.warn(\n"
     ]
    }
   ],
   "source": [
    "tokenizer = get_tokenizer(config)"
   ]
  },
  {
   "cell_type": "code",
   "execution_count": 7,
   "metadata": {},
   "outputs": [],
   "source": [
    "base_path = Path('..')\n",
    "train_df, val_df, test_df = load_data(base_path / config.data.cnf_tsv_path, base_path / config.data.controls_tsv_path)"
   ]
  },
  {
   "cell_type": "markdown",
   "metadata": {},
   "source": [
    "# Error Analysis"
   ]
  },
  {
   "cell_type": "code",
   "execution_count": 8,
   "metadata": {},
   "outputs": [],
   "source": [
    "from transformers import Text2TextGenerationPipeline, AutoModelForSeq2SeqLM\n",
    "from notebook_util import calculate_errors"
   ]
  },
  {
   "cell_type": "code",
   "execution_count": 9,
   "metadata": {},
   "outputs": [],
   "source": [
    "model = AutoModelForSeq2SeqLM.from_pretrained(MODEL_PATH)"
   ]
  },
  {
   "cell_type": "code",
   "execution_count": 10,
   "metadata": {},
   "outputs": [],
   "source": [
    "pipeline = Text2TextGenerationPipeline(model, tokenizer=tokenizer, max_length=config.generation_max_length, device=0, batch_size=BATCH_SIZE)"
   ]
  },
  {
   "cell_type": "code",
   "execution_count": 11,
   "metadata": {},
   "outputs": [],
   "source": [
    "from notebook_util import show_errors"
   ]
  },
  {
   "cell_type": "code",
   "execution_count": 12,
   "metadata": {},
   "outputs": [
    {
     "name": "stdout",
     "output_type": "stream",
     "text": [
      "CPU times: user 54.8 s, sys: 469 ms, total: 55.2 s\n",
      "Wall time: 55.2 s\n"
     ]
    }
   ],
   "source": [
    "%%time\n",
    "out_valid = pipeline(list(val_df.raw_sentence))"
   ]
  },
  {
   "cell_type": "code",
   "execution_count": 13,
   "metadata": {},
   "outputs": [
    {
     "data": {
      "text/plain": [
       "tn         0.495420\n",
       "tp         0.416320\n",
       "replace    0.016653\n",
       "delete     0.016653\n",
       "fn         0.016653\n",
       "insert     0.014988\n",
       "fp         0.013322\n",
       "complex    0.009992\n",
       "Name: error_type, dtype: float64"
      ]
     },
     "execution_count": 13,
     "metadata": {},
     "output_type": "execute_result"
    }
   ],
   "source": [
    "errors_valid = calculate_errors(out_valid, val_df, tokenizer)\n",
    "errors_valid.error_type.value_counts() / len(errors_valid)"
   ]
  },
  {
   "cell_type": "code",
   "execution_count": 27,
   "metadata": {},
   "outputs": [
    {
     "name": "stdout",
     "output_type": "stream",
     "text": [
      "CPU times: user 1min 20s, sys: 72.1 ms, total: 1min 20s\n",
      "Wall time: 1min 21s\n"
     ]
    },
    {
     "data": {
      "text/plain": [
       "{'eval/exact_match': 0.9117402164862615,\n",
       " 'eval/gleu': 0.9868297119100977,\n",
       " 'eval/edit_distance_rel': 0.9539251318409139}"
      ]
     },
     "execution_count": 27,
     "metadata": {},
     "output_type": "execute_result"
    }
   ],
   "source": [
    "%%time\n",
    "scores = get_scores(errors_valid, \"eval\")\n",
    "scores"
   ]
  },
  {
   "cell_type": "code",
   "execution_count": 15,
   "metadata": {},
   "outputs": [
    {
     "name": "stdout",
     "output_type": "stream",
     "text": [
      "CPU times: user 53.3 s, sys: 349 ms, total: 53.7 s\n",
      "Wall time: 53.7 s\n"
     ]
    }
   ],
   "source": [
    "%%time\n",
    "out_test = pipeline(list(test_df.raw_sentence))"
   ]
  },
  {
   "cell_type": "code",
   "execution_count": 16,
   "metadata": {},
   "outputs": [
    {
     "data": {
      "text/plain": [
       "tn         601\n",
       "tp         448\n",
       "delete      25\n",
       "insert      25\n",
       "fn          18\n",
       "replace     16\n",
       "fp          15\n",
       "complex     11\n",
       "Name: error_type, dtype: int64"
      ]
     },
     "execution_count": 16,
     "metadata": {},
     "output_type": "execute_result"
    }
   ],
   "source": [
    "errors_test = calculate_errors(out_test, test_df, tokenizer)\n",
    "errors_test.error_type.value_counts()"
   ]
  },
  {
   "cell_type": "code",
   "execution_count": 17,
   "metadata": {},
   "outputs": [
    {
     "data": {
      "text/html": [
       "<div>\n",
       "<style scoped>\n",
       "    .dataframe tbody tr th:only-of-type {\n",
       "        vertical-align: middle;\n",
       "    }\n",
       "\n",
       "    .dataframe tbody tr th {\n",
       "        vertical-align: top;\n",
       "    }\n",
       "\n",
       "    .dataframe thead th {\n",
       "        text-align: right;\n",
       "    }\n",
       "</style>\n",
       "<table border=\"1\" class=\"dataframe\">\n",
       "  <thead>\n",
       "    <tr style=\"text-align: right;\">\n",
       "      <th></th>\n",
       "      <th>pred</th>\n",
       "      <th>ground_truth</th>\n",
       "      <th>original</th>\n",
       "      <th>error_type</th>\n",
       "      <th>index</th>\n",
       "      <th>file</th>\n",
       "      <th>sentence_id</th>\n",
       "    </tr>\n",
       "  </thead>\n",
       "  <tbody>\n",
       "    <tr>\n",
       "      <th>0</th>\n",
       "      <td>Hauptrisikofaktoren für das Auftreten eines Mu...</td>\n",
       "      <td>Hauptrisikofaktoren für das Auftreten eines Mu...</td>\n",
       "      <td>Hauptrisikofaktoren für das Auftreten eines Mu...</td>\n",
       "      <td>tp</td>\n",
       "      <td>0</td>\n",
       "      <td>00_mundhoehlenkarzinom_0002.tsv</td>\n",
       "      <td>1</td>\n",
       "    </tr>\n",
       "    <tr>\n",
       "      <th>1</th>\n",
       "      <td>Bei chronischem Tabakabusus oder Alkoholabusus...</td>\n",
       "      <td>Bei chronischem Tabakabusus oder Alkoholabusus...</td>\n",
       "      <td>Bei chronischem Tabak- oder Alkoholabusus ist ...</td>\n",
       "      <td>tp</td>\n",
       "      <td>1</td>\n",
       "      <td>00_mundhoehlenkarzinom_0002.tsv</td>\n",
       "      <td>2</td>\n",
       "    </tr>\n",
       "    <tr>\n",
       "      <th>2</th>\n",
       "      <td>Als kurativ intendierte therapeutische Optione...</td>\n",
       "      <td>Als kurativ intendierte therapeutische Optione...</td>\n",
       "      <td>Als kurativ intendierte therapeutische Optione...</td>\n",
       "      <td>tp</td>\n",
       "      <td>40</td>\n",
       "      <td>00_mundhoehlenkarzinom_0098.tsv</td>\n",
       "      <td>2</td>\n",
       "    </tr>\n",
       "    <tr>\n",
       "      <th>3</th>\n",
       "      <td>Patienten mit einem unheilbaren Tumorleiden, j...</td>\n",
       "      <td>Patienten mit einem unheilbaren Tumorleiden, j...</td>\n",
       "      <td>Patienten mit einem unheilbaren Tumorleiden, j...</td>\n",
       "      <td>tp</td>\n",
       "      <td>44</td>\n",
       "      <td>00_mundhoehlenkarzinom_0103.tsv</td>\n",
       "      <td>1</td>\n",
       "    </tr>\n",
       "    <tr>\n",
       "      <th>4</th>\n",
       "      <td>Patienten mit einem unheilbaren Tumorleiden, j...</td>\n",
       "      <td>Patienten mit einem unheilbaren Tumorleiden, j...</td>\n",
       "      <td>Patienten mit einem unheilbaren Tumorleiden, j...</td>\n",
       "      <td>tp</td>\n",
       "      <td>47</td>\n",
       "      <td>00_mundhoehlenkarzinom_0115.tsv</td>\n",
       "      <td>4</td>\n",
       "    </tr>\n",
       "    <tr>\n",
       "      <th>...</th>\n",
       "      <td>...</td>\n",
       "      <td>...</td>\n",
       "      <td>...</td>\n",
       "      <td>...</td>\n",
       "      <td>...</td>\n",
       "      <td>...</td>\n",
       "      <td>...</td>\n",
       "    </tr>\n",
       "    <tr>\n",
       "      <th>1154</th>\n",
       "      <td>Dabei war der Anteil älterer Patient * innen u...</td>\n",
       "      <td>Dabei war der Anteil älterer Patient * innen u...</td>\n",
       "      <td>Dabei war der Anteil älterer Patient * innen u...</td>\n",
       "      <td>tn</td>\n",
       "      <td>3835</td>\n",
       "      <td>24_analkarzinom_0178.tsv</td>\n",
       "      <td>44</td>\n",
       "    </tr>\n",
       "    <tr>\n",
       "      <th>1155</th>\n",
       "      <td>Ein neuer RCT (Update-Recherche 2017), dessen ...</td>\n",
       "      <td>Ein neuer RCT (Update-Recherche 2017), dessen ...</td>\n",
       "      <td>Ein neuer RCT (Update-Recherche 2017), dessen ...</td>\n",
       "      <td>tn</td>\n",
       "      <td>3840</td>\n",
       "      <td>22_prostatakarzinom_0199.tsv</td>\n",
       "      <td>46</td>\n",
       "    </tr>\n",
       "    <tr>\n",
       "      <th>1156</th>\n",
       "      <td>- Clindamycin führt, völlig unabhängig von ein...</td>\n",
       "      <td>- Clindamycin führt, völlig unabhängig von ein...</td>\n",
       "      <td>- Clindamycin führt, völlig unabhängig von ein...</td>\n",
       "      <td>tn</td>\n",
       "      <td>3843</td>\n",
       "      <td>23_peniskarzinom_0158.tsv</td>\n",
       "      <td>10</td>\n",
       "    </tr>\n",
       "    <tr>\n",
       "      <th>1157</th>\n",
       "      <td>Für HIV-positive Patienten hat sich gezeigt, d...</td>\n",
       "      <td>Für HIV-positive Patienten hat sich gezeigt, d...</td>\n",
       "      <td>Für HIV-positive Patienten hat sich gezeigt, d...</td>\n",
       "      <td>tn</td>\n",
       "      <td>3844</td>\n",
       "      <td>24_analkarzinom_0163.tsv</td>\n",
       "      <td>10</td>\n",
       "    </tr>\n",
       "    <tr>\n",
       "      <th>1158</th>\n",
       "      <td>Molekulargenetische Untersuchungen sollten hie...</td>\n",
       "      <td>Molekulargenetische Untersuchungen sollten hie...</td>\n",
       "      <td>Molekulargenetische Untersuchungen sollten hie...</td>\n",
       "      <td>tn</td>\n",
       "      <td>3847</td>\n",
       "      <td>19_follikulaeres-lymphom_0063.tsv</td>\n",
       "      <td>4</td>\n",
       "    </tr>\n",
       "  </tbody>\n",
       "</table>\n",
       "<p>1159 rows × 7 columns</p>\n",
       "</div>"
      ],
      "text/plain": [
       "                                                   pred  \\\n",
       "0     Hauptrisikofaktoren für das Auftreten eines Mu...   \n",
       "1     Bei chronischem Tabakabusus oder Alkoholabusus...   \n",
       "2     Als kurativ intendierte therapeutische Optione...   \n",
       "3     Patienten mit einem unheilbaren Tumorleiden, j...   \n",
       "4     Patienten mit einem unheilbaren Tumorleiden, j...   \n",
       "...                                                 ...   \n",
       "1154  Dabei war der Anteil älterer Patient * innen u...   \n",
       "1155  Ein neuer RCT (Update-Recherche 2017), dessen ...   \n",
       "1156  - Clindamycin führt, völlig unabhängig von ein...   \n",
       "1157  Für HIV-positive Patienten hat sich gezeigt, d...   \n",
       "1158  Molekulargenetische Untersuchungen sollten hie...   \n",
       "\n",
       "                                           ground_truth  \\\n",
       "0     Hauptrisikofaktoren für das Auftreten eines Mu...   \n",
       "1     Bei chronischem Tabakabusus oder Alkoholabusus...   \n",
       "2     Als kurativ intendierte therapeutische Optione...   \n",
       "3     Patienten mit einem unheilbaren Tumorleiden, j...   \n",
       "4     Patienten mit einem unheilbaren Tumorleiden, j...   \n",
       "...                                                 ...   \n",
       "1154  Dabei war der Anteil älterer Patient * innen u...   \n",
       "1155  Ein neuer RCT (Update-Recherche 2017), dessen ...   \n",
       "1156  - Clindamycin führt, völlig unabhängig von ein...   \n",
       "1157  Für HIV-positive Patienten hat sich gezeigt, d...   \n",
       "1158  Molekulargenetische Untersuchungen sollten hie...   \n",
       "\n",
       "                                               original error_type  index  \\\n",
       "0     Hauptrisikofaktoren für das Auftreten eines Mu...         tp      0   \n",
       "1     Bei chronischem Tabak- oder Alkoholabusus ist ...         tp      1   \n",
       "2     Als kurativ intendierte therapeutische Optione...         tp     40   \n",
       "3     Patienten mit einem unheilbaren Tumorleiden, j...         tp     44   \n",
       "4     Patienten mit einem unheilbaren Tumorleiden, j...         tp     47   \n",
       "...                                                 ...        ...    ...   \n",
       "1154  Dabei war der Anteil älterer Patient * innen u...         tn   3835   \n",
       "1155  Ein neuer RCT (Update-Recherche 2017), dessen ...         tn   3840   \n",
       "1156  - Clindamycin führt, völlig unabhängig von ein...         tn   3843   \n",
       "1157  Für HIV-positive Patienten hat sich gezeigt, d...         tn   3844   \n",
       "1158  Molekulargenetische Untersuchungen sollten hie...         tn   3847   \n",
       "\n",
       "                                   file  sentence_id  \n",
       "0       00_mundhoehlenkarzinom_0002.tsv            1  \n",
       "1       00_mundhoehlenkarzinom_0002.tsv            2  \n",
       "2       00_mundhoehlenkarzinom_0098.tsv            2  \n",
       "3       00_mundhoehlenkarzinom_0103.tsv            1  \n",
       "4       00_mundhoehlenkarzinom_0115.tsv            4  \n",
       "...                                 ...          ...  \n",
       "1154           24_analkarzinom_0178.tsv           44  \n",
       "1155       22_prostatakarzinom_0199.tsv           46  \n",
       "1156          23_peniskarzinom_0158.tsv           10  \n",
       "1157           24_analkarzinom_0163.tsv           10  \n",
       "1158  19_follikulaeres-lymphom_0063.tsv            4  \n",
       "\n",
       "[1159 rows x 7 columns]"
      ]
     },
     "execution_count": 17,
     "metadata": {},
     "output_type": "execute_result"
    }
   ],
   "source": [
    "errors_test"
   ]
  },
  {
   "cell_type": "code",
   "execution_count": 26,
   "metadata": {},
   "outputs": [
    {
     "name": "stdout",
     "output_type": "stream",
     "text": [
      "CPU times: user 1min 25s, sys: 32.1 ms, total: 1min 25s\n",
      "Wall time: 1min 26s\n"
     ]
    },
    {
     "data": {
      "text/plain": [
       "{'test/exact_match': 0.905090595340811,\n",
       " 'test/gleu': 0.9778028196418292,\n",
       " 'test/edit_distance_rel': 0.950224476907634}"
      ]
     },
     "execution_count": 26,
     "metadata": {},
     "output_type": "execute_result"
    }
   ],
   "source": [
    "%%time\n",
    "scores = get_scores(errors_test, \"test\")\n",
    "scores"
   ]
  },
  {
   "cell_type": "code",
   "execution_count": 19,
   "metadata": {},
   "outputs": [],
   "source": [
    "from notebook_util import show_errors"
   ]
  },
  {
   "cell_type": "code",
   "execution_count": 20,
   "metadata": {},
   "outputs": [
    {
     "data": {
      "text/markdown": [
       "0;02_kolorektales-karzinom_0330.tsv;17"
      ],
      "text/plain": [
       "<IPython.core.display.Markdown object>"
      ]
     },
     "metadata": {},
     "output_type": "display_data"
    },
    {
     "data": {
      "text/markdown": [
       "__Input:__"
      ],
      "text/plain": [
       "<IPython.core.display.Markdown object>"
      ]
     },
     "metadata": {},
     "output_type": "display_data"
    },
    {
     "data": {
      "text/markdown": [
       "In die NSABP-Studie C-07 wurden 2407 Patienten im Stadium II (28,6%) oder im Stadium III eingeschlossen und erhielten entweder das Roswell-Park-Schema mit wöchentlicher 5-FU/FS Bolusgabe (3 Zyklen à jeweils 8 Wochen) oder das gleiche 5-FU/FS-Schema mit Oxaliplatin 85 mg/m2 in Woche 1, 3 und 5 im achtwöchentlichen Rhythmus (FLOX-Schema)."
      ],
      "text/plain": [
       "<IPython.core.display.Markdown object>"
      ]
     },
     "metadata": {},
     "output_type": "display_data"
    },
    {
     "data": {
      "text/markdown": [
       "__Error type:__ insert"
      ],
      "text/plain": [
       "<IPython.core.display.Markdown object>"
      ]
     },
     "metadata": {},
     "output_type": "display_data"
    },
    {
     "data": {
      "text/html": [
       "\n",
       "<!DOCTYPE html PUBLIC \"-//W3C//DTD XHTML 1.0 Transitional//EN\"\n",
       "          \"http://www.w3.org/TR/xhtml1/DTD/xhtml1-transitional.dtd\">\n",
       "\n",
       "<html>\n",
       "<head>\n",
       "<meta content=\"text/html; charset=utf-8\" http-equiv=\"Content-Type\"/>\n",
       "<title></title>\n",
       "<style type=\"text/css\">\n",
       "        table.diff {font-family:Courier; border:medium;}\n",
       "        .diff_header {background-color:#e0e0e0}\n",
       "        td.diff_header {text-align:right}\n",
       "        .diff_next {background-color:#c0c0c0}\n",
       "        .diff_add {background-color:#aaffaa}\n",
       "        .diff_chg {background-color:#ffff77}\n",
       "        .diff_sub {background-color:#ffaaaa}\n",
       "    </style>\n",
       "</head>\n",
       "<body>\n",
       "<table cellpadding=\"0\" cellspacing=\"0\" class=\"diff\" id=\"difflib_chg_to0__top\" rules=\"groups\">\n",
       "<colgroup></colgroup> <colgroup></colgroup> <colgroup></colgroup>\n",
       "<colgroup></colgroup> <colgroup></colgroup> <colgroup></colgroup>\n",
       "<tbody>\n",
       "<tr><div nowrap=\"nowrap\">In die NSABP-Studie C-07 wurden 2407 Patienten im Stadium II (28,6%) oder im Stadium III eingeschlossen und erhielten entweder das Roswell-Park-Schema mit wöchentlicher 5-FU/FS Bolusgabe (3 Zyklen à jeweils 8 Wochen) oder das gleiche 5-FU-Schema/FS-Schema mit Oxaliplatin 85 mg/m2 in Woche 1, 3 und 5 im achtwöchentlichen Rhythmus (FLOX-Schema).</div><div nowrap=\"nowrap\">In die NSABP-Studie C-07 wurden 2407 Patienten im Stadium II (28,6%) oder im Stadium III eingeschlossen und erhielten entweder das Roswell-Park-Schema mit wöchentlicher 5-FU<span class=\"diff_add\"> Bolusgabe</span>/FS Bolusgabe (3 Zyklen à jeweils 8 Wochen) oder das gleiche 5-FU-Schema/FS-Schema mit Oxaliplatin 85 mg/m2 in Woche 1, <span class=\"diff_add\">Woche </span>3 und<span class=\"diff_add\"> Woche</span> 5 im achtwöchentlichen Rhythmus (FLOX-Schema).</div></tr>\n",
       "</tbody>\n",
       "</table>\n",
       "\n",
       "</body>\n",
       "</html>"
      ],
      "text/plain": [
       "<IPython.core.display.HTML object>"
      ]
     },
     "metadata": {},
     "output_type": "display_data"
    },
    {
     "data": {
      "text/markdown": [
       "1;03_lungenkarzinom_0420.tsv;46"
      ],
      "text/plain": [
       "<IPython.core.display.Markdown object>"
      ]
     },
     "metadata": {},
     "output_type": "display_data"
    },
    {
     "data": {
      "text/markdown": [
       "__Input:__"
      ],
      "text/plain": [
       "<IPython.core.display.Markdown object>"
      ]
     },
     "metadata": {},
     "output_type": "display_data"
    },
    {
     "data": {
      "text/markdown": [
       "In zwei japanischen Studien wurden Patienten aufgrund nachgewiesener aktivierender EGFR Exon 19 und 21 Mutationen (PNA-LNA PCR clamp Methode) eingeschlossen:"
      ],
      "text/plain": [
       "<IPython.core.display.Markdown object>"
      ]
     },
     "metadata": {},
     "output_type": "display_data"
    },
    {
     "data": {
      "text/markdown": [
       "__Error type:__ insert"
      ],
      "text/plain": [
       "<IPython.core.display.Markdown object>"
      ]
     },
     "metadata": {},
     "output_type": "display_data"
    },
    {
     "data": {
      "text/html": [
       "\n",
       "<!DOCTYPE html PUBLIC \"-//W3C//DTD XHTML 1.0 Transitional//EN\"\n",
       "          \"http://www.w3.org/TR/xhtml1/DTD/xhtml1-transitional.dtd\">\n",
       "\n",
       "<html>\n",
       "<head>\n",
       "<meta content=\"text/html; charset=utf-8\" http-equiv=\"Content-Type\"/>\n",
       "<title></title>\n",
       "<style type=\"text/css\">\n",
       "        table.diff {font-family:Courier; border:medium;}\n",
       "        .diff_header {background-color:#e0e0e0}\n",
       "        td.diff_header {text-align:right}\n",
       "        .diff_next {background-color:#c0c0c0}\n",
       "        .diff_add {background-color:#aaffaa}\n",
       "        .diff_chg {background-color:#ffff77}\n",
       "        .diff_sub {background-color:#ffaaaa}\n",
       "    </style>\n",
       "</head>\n",
       "<body>\n",
       "<table cellpadding=\"0\" cellspacing=\"0\" class=\"diff\" id=\"difflib_chg_to1__top\" rules=\"groups\">\n",
       "<colgroup></colgroup> <colgroup></colgroup> <colgroup></colgroup>\n",
       "<colgroup></colgroup> <colgroup></colgroup> <colgroup></colgroup>\n",
       "<tbody>\n",
       "<tr><div nowrap=\"nowrap\">In zwei japanischen Studien wurden Patienten aufgrund nachgewiesener aktivierender EGFR Exon 19 Mutationen und Exon 21 Mutationen (PNA-LNA PCR clamp Methode) eingeschlossen:</div><div nowrap=\"nowrap\">In zwei japanischen Studien wurden Patienten aufgrund nachgewiesener aktivierender EGFR Exon 19 Mutationen und<span class=\"diff_add\"> EGFR</span> Exon 21 Mutationen (PNA-LNA PCR clamp Methode) eingeschlossen:</div></tr>\n",
       "</tbody>\n",
       "</table>\n",
       "\n",
       "</body>\n",
       "</html>"
      ],
      "text/plain": [
       "<IPython.core.display.HTML object>"
      ]
     },
     "metadata": {},
     "output_type": "display_data"
    },
    {
     "data": {
      "text/markdown": [
       "2;03_lungenkarzinom_0420.tsv;168"
      ],
      "text/plain": [
       "<IPython.core.display.Markdown object>"
      ]
     },
     "metadata": {},
     "output_type": "display_data"
    },
    {
     "data": {
      "text/markdown": [
       "__Input:__"
      ],
      "text/plain": [
       "<IPython.core.display.Markdown object>"
      ]
     },
     "metadata": {},
     "output_type": "display_data"
    },
    {
     "data": {
      "text/markdown": [
       "Diese Gruppe wies unter Afatinib ORR (77,1%) -, PFS (10,7 Monate)- und OS (19,4 Monate)-Daten ähnlich wie bei „common mutations“ auf."
      ],
      "text/plain": [
       "<IPython.core.display.Markdown object>"
      ]
     },
     "metadata": {},
     "output_type": "display_data"
    },
    {
     "data": {
      "text/markdown": [
       "__Error type:__ insert"
      ],
      "text/plain": [
       "<IPython.core.display.Markdown object>"
      ]
     },
     "metadata": {},
     "output_type": "display_data"
    },
    {
     "data": {
      "text/html": [
       "\n",
       "<!DOCTYPE html PUBLIC \"-//W3C//DTD XHTML 1.0 Transitional//EN\"\n",
       "          \"http://www.w3.org/TR/xhtml1/DTD/xhtml1-transitional.dtd\">\n",
       "\n",
       "<html>\n",
       "<head>\n",
       "<meta content=\"text/html; charset=utf-8\" http-equiv=\"Content-Type\"/>\n",
       "<title></title>\n",
       "<style type=\"text/css\">\n",
       "        table.diff {font-family:Courier; border:medium;}\n",
       "        .diff_header {background-color:#e0e0e0}\n",
       "        td.diff_header {text-align:right}\n",
       "        .diff_next {background-color:#c0c0c0}\n",
       "        .diff_add {background-color:#aaffaa}\n",
       "        .diff_chg {background-color:#ffff77}\n",
       "        .diff_sub {background-color:#ffaaaa}\n",
       "    </style>\n",
       "</head>\n",
       "<body>\n",
       "<table cellpadding=\"0\" cellspacing=\"0\" class=\"diff\" id=\"difflib_chg_to2__top\" rules=\"groups\">\n",
       "<colgroup></colgroup> <colgroup></colgroup> <colgroup></colgroup>\n",
       "<colgroup></colgroup> <colgroup></colgroup> <colgroup></colgroup>\n",
       "<tbody>\n",
       "<tr><div nowrap=\"nowrap\">Diese Gruppe wies unter Afatinib ORR (77,1%)-Daten, PFS (10,7 Monate)-Daten und OS (19,4 Monate)-Daten ähnlich wie bei „common mutations“ auf.</div><div nowrap=\"nowrap\">Diese Gruppe wies unter Afatinib ORR (77,1%)<span class=\"diff_add\"> </span>-Daten, PFS (10,7 Monate)-Daten und OS (19,4 Monate)-Daten ähnlich wie bei „common mutations“ auf.</div></tr>\n",
       "</tbody>\n",
       "</table>\n",
       "\n",
       "</body>\n",
       "</html>"
      ],
      "text/plain": [
       "<IPython.core.display.HTML object>"
      ]
     },
     "metadata": {},
     "output_type": "display_data"
    },
    {
     "data": {
      "text/markdown": [
       "3;05_zervixkarzinom_0370.tsv;9"
      ],
      "text/plain": [
       "<IPython.core.display.Markdown object>"
      ]
     },
     "metadata": {},
     "output_type": "display_data"
    },
    {
     "data": {
      "text/markdown": [
       "__Input:__"
      ],
      "text/plain": [
       "<IPython.core.display.Markdown object>"
      ]
     },
     "metadata": {},
     "output_type": "display_data"
    },
    {
     "data": {
      "text/markdown": [
       "Im späteren Verlauf kann es zu Belastungen durch Stomaprolaps, Stomaretraktion, -stenose und parastomale Hernien kommen."
      ],
      "text/plain": [
       "<IPython.core.display.Markdown object>"
      ]
     },
     "metadata": {},
     "output_type": "display_data"
    },
    {
     "data": {
      "text/markdown": [
       "__Error type:__ insert"
      ],
      "text/plain": [
       "<IPython.core.display.Markdown object>"
      ]
     },
     "metadata": {},
     "output_type": "display_data"
    },
    {
     "data": {
      "text/html": [
       "\n",
       "<!DOCTYPE html PUBLIC \"-//W3C//DTD XHTML 1.0 Transitional//EN\"\n",
       "          \"http://www.w3.org/TR/xhtml1/DTD/xhtml1-transitional.dtd\">\n",
       "\n",
       "<html>\n",
       "<head>\n",
       "<meta content=\"text/html; charset=utf-8\" http-equiv=\"Content-Type\"/>\n",
       "<title></title>\n",
       "<style type=\"text/css\">\n",
       "        table.diff {font-family:Courier; border:medium;}\n",
       "        .diff_header {background-color:#e0e0e0}\n",
       "        td.diff_header {text-align:right}\n",
       "        .diff_next {background-color:#c0c0c0}\n",
       "        .diff_add {background-color:#aaffaa}\n",
       "        .diff_chg {background-color:#ffff77}\n",
       "        .diff_sub {background-color:#ffaaaa}\n",
       "    </style>\n",
       "</head>\n",
       "<body>\n",
       "<table cellpadding=\"0\" cellspacing=\"0\" class=\"diff\" id=\"difflib_chg_to3__top\" rules=\"groups\">\n",
       "<colgroup></colgroup> <colgroup></colgroup> <colgroup></colgroup>\n",
       "<colgroup></colgroup> <colgroup></colgroup> <colgroup></colgroup>\n",
       "<tbody>\n",
       "<tr><div nowrap=\"nowrap\">Im späteren Verlauf kann es zu Belastungen durch Stomaprolaps, Stomaretraktion, Stomastenose und parastomale Hernien kommen.</div><div nowrap=\"nowrap\">Im späteren Verlauf kann es zu Belastungen durch Stomaprolaps, Stomaretraktion, Stoma<span class=\"diff_add\">re</span>stenose und parastomale Hernien kommen.</div></tr>\n",
       "</tbody>\n",
       "</table>\n",
       "\n",
       "</body>\n",
       "</html>"
      ],
      "text/plain": [
       "<IPython.core.display.HTML object>"
      ]
     },
     "metadata": {},
     "output_type": "display_data"
    },
    {
     "data": {
      "text/markdown": [
       "4;07_malignes-melanom_0185.tsv;12"
      ],
      "text/plain": [
       "<IPython.core.display.Markdown object>"
      ]
     },
     "metadata": {},
     "output_type": "display_data"
    },
    {
     "data": {
      "text/markdown": [
       "__Input:__"
      ],
      "text/plain": [
       "<IPython.core.display.Markdown object>"
      ]
     },
     "metadata": {},
     "output_type": "display_data"
    },
    {
     "data": {
      "text/markdown": [
       "Neuere Studien zeigen eine Überlegenheit hinsichtlich des Ansprechens, des progressionsfreien und Gesamtüberlebens von BRAF- und MEK-Inhibitoren gegenüber einer Therapie mit DTIC bei Patienten mit BRAFV600E/K Mutation [REF], [REF], [REF]."
      ],
      "text/plain": [
       "<IPython.core.display.Markdown object>"
      ]
     },
     "metadata": {},
     "output_type": "display_data"
    },
    {
     "data": {
      "text/markdown": [
       "__Error type:__ insert"
      ],
      "text/plain": [
       "<IPython.core.display.Markdown object>"
      ]
     },
     "metadata": {},
     "output_type": "display_data"
    },
    {
     "data": {
      "text/html": [
       "\n",
       "<!DOCTYPE html PUBLIC \"-//W3C//DTD XHTML 1.0 Transitional//EN\"\n",
       "          \"http://www.w3.org/TR/xhtml1/DTD/xhtml1-transitional.dtd\">\n",
       "\n",
       "<html>\n",
       "<head>\n",
       "<meta content=\"text/html; charset=utf-8\" http-equiv=\"Content-Type\"/>\n",
       "<title></title>\n",
       "<style type=\"text/css\">\n",
       "        table.diff {font-family:Courier; border:medium;}\n",
       "        .diff_header {background-color:#e0e0e0}\n",
       "        td.diff_header {text-align:right}\n",
       "        .diff_next {background-color:#c0c0c0}\n",
       "        .diff_add {background-color:#aaffaa}\n",
       "        .diff_chg {background-color:#ffff77}\n",
       "        .diff_sub {background-color:#ffaaaa}\n",
       "    </style>\n",
       "</head>\n",
       "<body>\n",
       "<table cellpadding=\"0\" cellspacing=\"0\" class=\"diff\" id=\"difflib_chg_to4__top\" rules=\"groups\">\n",
       "<colgroup></colgroup> <colgroup></colgroup> <colgroup></colgroup>\n",
       "<colgroup></colgroup> <colgroup></colgroup> <colgroup></colgroup>\n",
       "<tbody>\n",
       "<tr><div nowrap=\"nowrap\">Neuere Studien zeigen eine Überlegenheit hinsichtlich des Ansprechens, des progressionsfreien Überlebens und Gesamtüberlebens von BRAF-Inhibitoren und MEK-Inhibitoren gegenüber einer Therapie mit DTIC bei Patienten mit BRAFV600E/K Mutation [REF], [REF], [REF].</div><div nowrap=\"nowrap\">Neuere Studien zeigen eine Überlegenheit hinsichtlich des Ansprechens, des progressionsfreien Überlebens und Gesamtüberlebens von BRAF-Inhibitoren und MEK-Inhibitoren gegenüber einer Therapie mit DTIC bei Patienten mit BRAFV600E<span class=\"diff_add\"> Mutation</span>/<span class=\"diff_add\">BRAFV600</span>K Mutation [REF], [REF], [REF].</div></tr>\n",
       "</tbody>\n",
       "</table>\n",
       "\n",
       "</body>\n",
       "</html>"
      ],
      "text/plain": [
       "<IPython.core.display.HTML object>"
      ]
     },
     "metadata": {},
     "output_type": "display_data"
    },
    {
     "data": {
      "text/markdown": [
       "5;07_malignes-melanom_0185.tsv;13"
      ],
      "text/plain": [
       "<IPython.core.display.Markdown object>"
      ]
     },
     "metadata": {},
     "output_type": "display_data"
    },
    {
     "data": {
      "text/markdown": [
       "__Input:__"
      ],
      "text/plain": [
       "<IPython.core.display.Markdown object>"
      ]
     },
     "metadata": {},
     "output_type": "display_data"
    },
    {
     "data": {
      "text/markdown": [
       "Zudem konnten neuere Studiendaten belegen, dass PD1-Antikörper bei Patienten mit BRAF-Wildtype ebenfalls zu einer Verbesserung des progressionsfreien und Gesamtüberlebens führen [REF]."
      ],
      "text/plain": [
       "<IPython.core.display.Markdown object>"
      ]
     },
     "metadata": {},
     "output_type": "display_data"
    },
    {
     "data": {
      "text/markdown": [
       "__Error type:__ insert"
      ],
      "text/plain": [
       "<IPython.core.display.Markdown object>"
      ]
     },
     "metadata": {},
     "output_type": "display_data"
    },
    {
     "data": {
      "text/html": [
       "\n",
       "<!DOCTYPE html PUBLIC \"-//W3C//DTD XHTML 1.0 Transitional//EN\"\n",
       "          \"http://www.w3.org/TR/xhtml1/DTD/xhtml1-transitional.dtd\">\n",
       "\n",
       "<html>\n",
       "<head>\n",
       "<meta content=\"text/html; charset=utf-8\" http-equiv=\"Content-Type\"/>\n",
       "<title></title>\n",
       "<style type=\"text/css\">\n",
       "        table.diff {font-family:Courier; border:medium;}\n",
       "        .diff_header {background-color:#e0e0e0}\n",
       "        td.diff_header {text-align:right}\n",
       "        .diff_next {background-color:#c0c0c0}\n",
       "        .diff_add {background-color:#aaffaa}\n",
       "        .diff_chg {background-color:#ffff77}\n",
       "        .diff_sub {background-color:#ffaaaa}\n",
       "    </style>\n",
       "</head>\n",
       "<body>\n",
       "<table cellpadding=\"0\" cellspacing=\"0\" class=\"diff\" id=\"difflib_chg_to5__top\" rules=\"groups\">\n",
       "<colgroup></colgroup> <colgroup></colgroup> <colgroup></colgroup>\n",
       "<colgroup></colgroup> <colgroup></colgroup> <colgroup></colgroup>\n",
       "<tbody>\n",
       "<tr><div nowrap=\"nowrap\">Zudem konnten neuere Studiendaten belegen, dass PD1-Antikörper bei Patienten mit BRAF-Wildtype ebenfalls zu einer Verbesserung des progressionsfreien Überleben und Gesamtüberlebens führen [REF].</div><div nowrap=\"nowrap\">Zudem konnten neuere Studiendaten belegen, dass PD1-Antikörper bei Patienten mit BRAF-Wildtype ebenfalls zu einer Verbesserung des progressionsfreien Überleben<span class=\"diff_add\">s</span> und Gesamtüberlebens führen [REF].</div></tr>\n",
       "</tbody>\n",
       "</table>\n",
       "\n",
       "</body>\n",
       "</html>"
      ],
      "text/plain": [
       "<IPython.core.display.HTML object>"
      ]
     },
     "metadata": {},
     "output_type": "display_data"
    },
    {
     "data": {
      "text/markdown": [
       "6;08_aktinische-keratose-und-plattenepithelkarzinom-der-haut_0016.tsv;7"
      ],
      "text/plain": [
       "<IPython.core.display.Markdown object>"
      ]
     },
     "metadata": {},
     "output_type": "display_data"
    },
    {
     "data": {
      "text/markdown": [
       "__Input:__"
      ],
      "text/plain": [
       "<IPython.core.display.Markdown object>"
      ]
     },
     "metadata": {},
     "output_type": "display_data"
    },
    {
     "data": {
      "text/markdown": [
       "Im Grunde genommen handelt es sich um eine zwar gängige, aber im Kern unpräzise Begriffsbezeichnung, da Veränderungen, die mit dieser Diagnose bezeichnet werden, weder obligat eine aktinische (solare, durch Sonnenlicht induzierte) Genese haben müssen (z.B. Arsen- oder PUVA-Keratosen) noch obligat mit einer klinisch oder histologisch manifesten Keratose (klinisch keratotische Schuppe, histomorphologisch Ortho- und / oder Hyperparakeratose) einhergehen muss."
      ],
      "text/plain": [
       "<IPython.core.display.Markdown object>"
      ]
     },
     "metadata": {},
     "output_type": "display_data"
    },
    {
     "data": {
      "text/markdown": [
       "__Error type:__ insert"
      ],
      "text/plain": [
       "<IPython.core.display.Markdown object>"
      ]
     },
     "metadata": {},
     "output_type": "display_data"
    },
    {
     "data": {
      "text/html": [
       "\n",
       "<!DOCTYPE html PUBLIC \"-//W3C//DTD XHTML 1.0 Transitional//EN\"\n",
       "          \"http://www.w3.org/TR/xhtml1/DTD/xhtml1-transitional.dtd\">\n",
       "\n",
       "<html>\n",
       "<head>\n",
       "<meta content=\"text/html; charset=utf-8\" http-equiv=\"Content-Type\"/>\n",
       "<title></title>\n",
       "<style type=\"text/css\">\n",
       "        table.diff {font-family:Courier; border:medium;}\n",
       "        .diff_header {background-color:#e0e0e0}\n",
       "        td.diff_header {text-align:right}\n",
       "        .diff_next {background-color:#c0c0c0}\n",
       "        .diff_add {background-color:#aaffaa}\n",
       "        .diff_chg {background-color:#ffff77}\n",
       "        .diff_sub {background-color:#ffaaaa}\n",
       "    </style>\n",
       "</head>\n",
       "<body>\n",
       "<table cellpadding=\"0\" cellspacing=\"0\" class=\"diff\" id=\"difflib_chg_to6__top\" rules=\"groups\">\n",
       "<colgroup></colgroup> <colgroup></colgroup> <colgroup></colgroup>\n",
       "<colgroup></colgroup> <colgroup></colgroup> <colgroup></colgroup>\n",
       "<tbody>\n",
       "<tr><div nowrap=\"nowrap\">Im Grunde genommen handelt es sich um eine zwar gängige, aber im Kern unpräzise Begriffsbezeichnung, da Veränderungen, die mit dieser Diagnose bezeichnet werden, weder obligat eine aktinische (solare, durch Sonnenlicht induzierte) Genese haben müssen (z.B. Arsen-Keratosen oder PUVA-Keratosen) noch obligat mit einer klinisch oder histologisch manifesten Keratose (klinisch keratotische Schuppe, histomorphologisch Ortho<span class=\"diff_chg\">keratose und</span> / oder Hyperparakeratose) einhergehen muss.</div><div nowrap=\"nowrap\">Im Grunde genommen handelt es sich um eine zwar gängige, aber im Kern unpräzise Begriffsbezeichnung, da Veränderungen, die mit dieser Diagnose bezeichnet werden, weder obligat eine aktinische (solare, durch Sonnenlicht induzierte) Genese haben müssen (z.B. Arsen-Keratosen oder PUVA-Keratosen) noch obligat mit einer klinisch oder histologisch manifesten Keratose (klinisch keratotische Schuppe, histomorphologisch Ortho<span class=\"diff_chg\">parakeratose und</span> / oder Hyperparakeratose) einhergehen muss.</div></tr>\n",
       "</tbody>\n",
       "</table>\n",
       "\n",
       "</body>\n",
       "</html>"
      ],
      "text/plain": [
       "<IPython.core.display.HTML object>"
      ]
     },
     "metadata": {},
     "output_type": "display_data"
    },
    {
     "data": {
      "text/markdown": [
       "7;09_mammakarzinom_0048.tsv;5"
      ],
      "text/plain": [
       "<IPython.core.display.Markdown object>"
      ]
     },
     "metadata": {},
     "output_type": "display_data"
    },
    {
     "data": {
      "text/markdown": [
       "__Input:__"
      ],
      "text/plain": [
       "<IPython.core.display.Markdown object>"
      ]
     },
     "metadata": {},
     "output_type": "display_data"
    },
    {
     "data": {
      "text/markdown": [
       "Obwohl sich seit etwa 20 Jahren weltweit verschiedene Arbeitsgruppen mit der Frage beschäftigen, wie Informationen zu Gesundheits- und Krankheitsthemen so präsentiert werden können, dass sie als Grundlage für informierte Entscheidungen dienen können [REF], gelingt die Umsetzung in die Praxis und in die konkreten Gesundheitsinformationen derzeit kaum [REF]."
      ],
      "text/plain": [
       "<IPython.core.display.Markdown object>"
      ]
     },
     "metadata": {},
     "output_type": "display_data"
    },
    {
     "data": {
      "text/markdown": [
       "__Error type:__ insert"
      ],
      "text/plain": [
       "<IPython.core.display.Markdown object>"
      ]
     },
     "metadata": {},
     "output_type": "display_data"
    },
    {
     "data": {
      "text/html": [
       "\n",
       "<!DOCTYPE html PUBLIC \"-//W3C//DTD XHTML 1.0 Transitional//EN\"\n",
       "          \"http://www.w3.org/TR/xhtml1/DTD/xhtml1-transitional.dtd\">\n",
       "\n",
       "<html>\n",
       "<head>\n",
       "<meta content=\"text/html; charset=utf-8\" http-equiv=\"Content-Type\"/>\n",
       "<title></title>\n",
       "<style type=\"text/css\">\n",
       "        table.diff {font-family:Courier; border:medium;}\n",
       "        .diff_header {background-color:#e0e0e0}\n",
       "        td.diff_header {text-align:right}\n",
       "        .diff_next {background-color:#c0c0c0}\n",
       "        .diff_add {background-color:#aaffaa}\n",
       "        .diff_chg {background-color:#ffff77}\n",
       "        .diff_sub {background-color:#ffaaaa}\n",
       "    </style>\n",
       "</head>\n",
       "<body>\n",
       "<table cellpadding=\"0\" cellspacing=\"0\" class=\"diff\" id=\"difflib_chg_to7__top\" rules=\"groups\">\n",
       "<colgroup></colgroup> <colgroup></colgroup> <colgroup></colgroup>\n",
       "<colgroup></colgroup> <colgroup></colgroup> <colgroup></colgroup>\n",
       "<tbody>\n",
       "<tr><div nowrap=\"nowrap\">Obwohl sich seit etwa 20 Jahren weltweit verschiedene Arbeitsgruppen mit der Frage beschäftigen, wie Informationen zu Gesundheits<span class=\"diff_chg\">themen und</span> Krankheitsthemen so präsentiert werden können, dass sie als Grundlage für informierte Entscheidungen dienen können [REF], gelingt die Umsetzung in die Praxis und in die konkreten Gesundheitsinformationen derzeit kaum [REF].</div><div nowrap=\"nowrap\">Obwohl sich seit etwa 20 Jahren weltweit verschiedene Arbeitsgruppen mit der Frage beschäftigen, wie Informationen zu Gesundheits<span class=\"diff_chg\">sthemen und</span> Krankheitsthemen so präsentiert werden können, dass sie als Grundlage für informierte Entscheidungen dienen können [REF], gelingt die Umsetzung in die Praxis und in die konkreten Gesundheitsinformationen derzeit kaum [REF].</div></tr>\n",
       "</tbody>\n",
       "</table>\n",
       "\n",
       "</body>\n",
       "</html>"
      ],
      "text/plain": [
       "<IPython.core.display.HTML object>"
      ]
     },
     "metadata": {},
     "output_type": "display_data"
    },
    {
     "data": {
      "text/markdown": [
       "8;12_nierenzellkarzinom_0181.tsv;10"
      ],
      "text/plain": [
       "<IPython.core.display.Markdown object>"
      ]
     },
     "metadata": {},
     "output_type": "display_data"
    },
    {
     "data": {
      "text/markdown": [
       "__Input:__"
      ],
      "text/plain": [
       "<IPython.core.display.Markdown object>"
      ]
     },
     "metadata": {},
     "output_type": "display_data"
    },
    {
     "data": {
      "text/markdown": [
       "Dies war auf die höhere Rate von Lebertoxizität (Erhöhung der Transaminasenspiegel Grad 3 oder 4; 6 vs. 1%) zurückzuführen."
      ],
      "text/plain": [
       "<IPython.core.display.Markdown object>"
      ]
     },
     "metadata": {},
     "output_type": "display_data"
    },
    {
     "data": {
      "text/markdown": [
       "__Error type:__ insert"
      ],
      "text/plain": [
       "<IPython.core.display.Markdown object>"
      ]
     },
     "metadata": {},
     "output_type": "display_data"
    },
    {
     "data": {
      "text/html": [
       "\n",
       "<!DOCTYPE html PUBLIC \"-//W3C//DTD XHTML 1.0 Transitional//EN\"\n",
       "          \"http://www.w3.org/TR/xhtml1/DTD/xhtml1-transitional.dtd\">\n",
       "\n",
       "<html>\n",
       "<head>\n",
       "<meta content=\"text/html; charset=utf-8\" http-equiv=\"Content-Type\"/>\n",
       "<title></title>\n",
       "<style type=\"text/css\">\n",
       "        table.diff {font-family:Courier; border:medium;}\n",
       "        .diff_header {background-color:#e0e0e0}\n",
       "        td.diff_header {text-align:right}\n",
       "        .diff_next {background-color:#c0c0c0}\n",
       "        .diff_add {background-color:#aaffaa}\n",
       "        .diff_chg {background-color:#ffff77}\n",
       "        .diff_sub {background-color:#ffaaaa}\n",
       "    </style>\n",
       "</head>\n",
       "<body>\n",
       "<table cellpadding=\"0\" cellspacing=\"0\" class=\"diff\" id=\"difflib_chg_to8__top\" rules=\"groups\">\n",
       "<colgroup></colgroup> <colgroup></colgroup> <colgroup></colgroup>\n",
       "<colgroup></colgroup> <colgroup></colgroup> <colgroup></colgroup>\n",
       "<tbody>\n",
       "<tr><div nowrap=\"nowrap\">Dies war auf die höhere Rate von Lebertoxizität (Erhöhung der Transaminasenspiegel Grad 3 oder Grad 4; 6 vs. 1%) zurückzuführen.</div><div nowrap=\"nowrap\">Dies war auf die höhere Rate von Lebertoxizität (Erhöhung der Transaminasenspiegel Grad 3 oder Grad 4; <span class=\"diff_add\">Grad </span>6 vs. 1%) zurückzuführen.</div></tr>\n",
       "</tbody>\n",
       "</table>\n",
       "\n",
       "</body>\n",
       "</html>"
      ],
      "text/plain": [
       "<IPython.core.display.HTML object>"
      ]
     },
     "metadata": {},
     "output_type": "display_data"
    },
    {
     "data": {
      "text/markdown": [
       "9;12_nierenzellkarzinom_0220.tsv;15"
      ],
      "text/plain": [
       "<IPython.core.display.Markdown object>"
      ]
     },
     "metadata": {},
     "output_type": "display_data"
    },
    {
     "data": {
      "text/markdown": [
       "__Input:__"
      ],
      "text/plain": [
       "<IPython.core.display.Markdown object>"
      ]
     },
     "metadata": {},
     "output_type": "display_data"
    },
    {
     "data": {
      "text/markdown": [
       "Während R0-resezierte Patienten ein 5-Jahres-OS von 41-45 % aufweisen, ist bei R1-oder R2-resezierten Patienten das 5-Jahres-OS 0-22 %."
      ],
      "text/plain": [
       "<IPython.core.display.Markdown object>"
      ]
     },
     "metadata": {},
     "output_type": "display_data"
    },
    {
     "data": {
      "text/markdown": [
       "__Error type:__ insert"
      ],
      "text/plain": [
       "<IPython.core.display.Markdown object>"
      ]
     },
     "metadata": {},
     "output_type": "display_data"
    },
    {
     "data": {
      "text/html": [
       "\n",
       "<!DOCTYPE html PUBLIC \"-//W3C//DTD XHTML 1.0 Transitional//EN\"\n",
       "          \"http://www.w3.org/TR/xhtml1/DTD/xhtml1-transitional.dtd\">\n",
       "\n",
       "<html>\n",
       "<head>\n",
       "<meta content=\"text/html; charset=utf-8\" http-equiv=\"Content-Type\"/>\n",
       "<title></title>\n",
       "<style type=\"text/css\">\n",
       "        table.diff {font-family:Courier; border:medium;}\n",
       "        .diff_header {background-color:#e0e0e0}\n",
       "        td.diff_header {text-align:right}\n",
       "        .diff_next {background-color:#c0c0c0}\n",
       "        .diff_add {background-color:#aaffaa}\n",
       "        .diff_chg {background-color:#ffff77}\n",
       "        .diff_sub {background-color:#ffaaaa}\n",
       "    </style>\n",
       "</head>\n",
       "<body>\n",
       "<table cellpadding=\"0\" cellspacing=\"0\" class=\"diff\" id=\"difflib_chg_to9__top\" rules=\"groups\">\n",
       "<colgroup></colgroup> <colgroup></colgroup> <colgroup></colgroup>\n",
       "<colgroup></colgroup> <colgroup></colgroup> <colgroup></colgroup>\n",
       "<tbody>\n",
       "<tr><div nowrap=\"nowrap\">Während R0-resezierte Patienten ein 5-Jahres-OS von 41-45 % aufweisen, ist bei R1-reseziertenoder R2-resezierten Patienten das 5-Jahres-OS 0-22 %.</div><div nowrap=\"nowrap\">Während R0-resezierte Patienten ein 5-Jahres-OS von 41-45 % aufweisen, ist bei R1-resezierten<span class=\"diff_add\"> </span>oder R2-resezierten Patienten das 5-Jahres-OS 0-22 %.</div></tr>\n",
       "</tbody>\n",
       "</table>\n",
       "\n",
       "</body>\n",
       "</html>"
      ],
      "text/plain": [
       "<IPython.core.display.HTML object>"
      ]
     },
     "metadata": {},
     "output_type": "display_data"
    },
    {
     "data": {
      "text/markdown": [
       "10;15_endometriumkarzinom_0234.tsv;2"
      ],
      "text/plain": [
       "<IPython.core.display.Markdown object>"
      ]
     },
     "metadata": {},
     "output_type": "display_data"
    },
    {
     "data": {
      "text/markdown": [
       "__Input:__"
      ],
      "text/plain": [
       "<IPython.core.display.Markdown object>"
      ]
     },
     "metadata": {},
     "output_type": "display_data"
    },
    {
     "data": {
      "text/markdown": [
       "Anlageträger dieser ETS haben auch ein erhöhtes Risiko für andere syndromspezifische intestinale und extraintestinale, gut- und bösartige Tumoren."
      ],
      "text/plain": [
       "<IPython.core.display.Markdown object>"
      ]
     },
     "metadata": {},
     "output_type": "display_data"
    },
    {
     "data": {
      "text/markdown": [
       "__Error type:__ insert"
      ],
      "text/plain": [
       "<IPython.core.display.Markdown object>"
      ]
     },
     "metadata": {},
     "output_type": "display_data"
    },
    {
     "data": {
      "text/html": [
       "\n",
       "<!DOCTYPE html PUBLIC \"-//W3C//DTD XHTML 1.0 Transitional//EN\"\n",
       "          \"http://www.w3.org/TR/xhtml1/DTD/xhtml1-transitional.dtd\">\n",
       "\n",
       "<html>\n",
       "<head>\n",
       "<meta content=\"text/html; charset=utf-8\" http-equiv=\"Content-Type\"/>\n",
       "<title></title>\n",
       "<style type=\"text/css\">\n",
       "        table.diff {font-family:Courier; border:medium;}\n",
       "        .diff_header {background-color:#e0e0e0}\n",
       "        td.diff_header {text-align:right}\n",
       "        .diff_next {background-color:#c0c0c0}\n",
       "        .diff_add {background-color:#aaffaa}\n",
       "        .diff_chg {background-color:#ffff77}\n",
       "        .diff_sub {background-color:#ffaaaa}\n",
       "    </style>\n",
       "</head>\n",
       "<body>\n",
       "<table cellpadding=\"0\" cellspacing=\"0\" class=\"diff\" id=\"difflib_chg_to10__top\" rules=\"groups\">\n",
       "<colgroup></colgroup> <colgroup></colgroup> <colgroup></colgroup>\n",
       "<colgroup></colgroup> <colgroup></colgroup> <colgroup></colgroup>\n",
       "<tbody>\n",
       "<tr><div nowrap=\"nowrap\">Anlageträger dieser ETS haben auch ein erhöhtes Risiko für andere syndromspezifische intestinale und extraintestinale, gutartige und bösartige Tumoren.</div><div nowrap=\"nowrap\">Anlageträger dieser ETS haben auch ein erhöhtes Risiko für andere syndromspezifische intestinale und extraintestinale<span class=\"diff_add\"> Tumoren</span>, gutartige und bösartige Tumoren.</div></tr>\n",
       "</tbody>\n",
       "</table>\n",
       "\n",
       "</body>\n",
       "</html>"
      ],
      "text/plain": [
       "<IPython.core.display.HTML object>"
      ]
     },
     "metadata": {},
     "output_type": "display_data"
    },
    {
     "data": {
      "text/markdown": [
       "11;16_maligne-ovarialtumoren_0031.tsv;5"
      ],
      "text/plain": [
       "<IPython.core.display.Markdown object>"
      ]
     },
     "metadata": {},
     "output_type": "display_data"
    },
    {
     "data": {
      "text/markdown": [
       "__Input:__"
      ],
      "text/plain": [
       "<IPython.core.display.Markdown object>"
      ]
     },
     "metadata": {},
     "output_type": "display_data"
    },
    {
     "data": {
      "text/markdown": [
       "Der Einfluss modifizierender Gene auf die Penetranz bei BRCA-Mutationsträgerinnen wurde durch mehrere Publikationen des internationalen CIMBA-Konsortiums (Consortium of Investigators on Modifiers of BRCA1/2) mittlerweile bestätigt [REF],, [REF]."
      ],
      "text/plain": [
       "<IPython.core.display.Markdown object>"
      ]
     },
     "metadata": {},
     "output_type": "display_data"
    },
    {
     "data": {
      "text/markdown": [
       "__Error type:__ insert"
      ],
      "text/plain": [
       "<IPython.core.display.Markdown object>"
      ]
     },
     "metadata": {},
     "output_type": "display_data"
    },
    {
     "data": {
      "text/html": [
       "\n",
       "<!DOCTYPE html PUBLIC \"-//W3C//DTD XHTML 1.0 Transitional//EN\"\n",
       "          \"http://www.w3.org/TR/xhtml1/DTD/xhtml1-transitional.dtd\">\n",
       "\n",
       "<html>\n",
       "<head>\n",
       "<meta content=\"text/html; charset=utf-8\" http-equiv=\"Content-Type\"/>\n",
       "<title></title>\n",
       "<style type=\"text/css\">\n",
       "        table.diff {font-family:Courier; border:medium;}\n",
       "        .diff_header {background-color:#e0e0e0}\n",
       "        td.diff_header {text-align:right}\n",
       "        .diff_next {background-color:#c0c0c0}\n",
       "        .diff_add {background-color:#aaffaa}\n",
       "        .diff_chg {background-color:#ffff77}\n",
       "        .diff_sub {background-color:#ffaaaa}\n",
       "    </style>\n",
       "</head>\n",
       "<body>\n",
       "<table cellpadding=\"0\" cellspacing=\"0\" class=\"diff\" id=\"difflib_chg_to11__top\" rules=\"groups\">\n",
       "<colgroup></colgroup> <colgroup></colgroup> <colgroup></colgroup>\n",
       "<colgroup></colgroup> <colgroup></colgroup> <colgroup></colgroup>\n",
       "<tbody>\n",
       "<tr><div nowrap=\"nowrap\">Der Einfluss modifizierender Gene auf die Penetranz bei BRCA-Mutationsträgerinnen wurde durch mehrere Publikationen des internationalen CIMBA-Konsortiums (Consortium of Investigators on Modifiers of BRCA1/BRCA2) mittlerweile bestätigt [REF],, [REF].</div><div nowrap=\"nowrap\">Der Einfluss modifizierender Gene auf die Penetranz bei BRCA-Mutationsträgerinnen wurde durch mehrere Publikationen des internationalen CIMBA-Konsortiums (Consortium of Investigators on Modifiers of BRCA1/BRCA2) mittlerweile bestätigt [REF],<span class=\"diff_add\"> </span>, [REF].</div></tr>\n",
       "</tbody>\n",
       "</table>\n",
       "\n",
       "</body>\n",
       "</html>"
      ],
      "text/plain": [
       "<IPython.core.display.HTML object>"
      ]
     },
     "metadata": {},
     "output_type": "display_data"
    },
    {
     "data": {
      "text/markdown": [
       "12;17_chronisch-lymphatische-leukaemie-cll_0047.tsv;14"
      ],
      "text/plain": [
       "<IPython.core.display.Markdown object>"
      ]
     },
     "metadata": {},
     "output_type": "display_data"
    },
    {
     "data": {
      "text/markdown": [
       "__Input:__"
      ],
      "text/plain": [
       "<IPython.core.display.Markdown object>"
      ]
     },
     "metadata": {},
     "output_type": "display_data"
    },
    {
     "data": {
      "text/markdown": [
       "Bei HIV-/HCV-Positivität sollte das weitere diagnostische und therapeutische Management an einem spezialisierten Zentrum in interdisziplinärer Zusammenarbeit mit Infektio- und/oder Gastroenterologen erfolgen."
      ],
      "text/plain": [
       "<IPython.core.display.Markdown object>"
      ]
     },
     "metadata": {},
     "output_type": "display_data"
    },
    {
     "data": {
      "text/markdown": [
       "__Error type:__ insert"
      ],
      "text/plain": [
       "<IPython.core.display.Markdown object>"
      ]
     },
     "metadata": {},
     "output_type": "display_data"
    },
    {
     "data": {
      "text/html": [
       "\n",
       "<!DOCTYPE html PUBLIC \"-//W3C//DTD XHTML 1.0 Transitional//EN\"\n",
       "          \"http://www.w3.org/TR/xhtml1/DTD/xhtml1-transitional.dtd\">\n",
       "\n",
       "<html>\n",
       "<head>\n",
       "<meta content=\"text/html; charset=utf-8\" http-equiv=\"Content-Type\"/>\n",
       "<title></title>\n",
       "<style type=\"text/css\">\n",
       "        table.diff {font-family:Courier; border:medium;}\n",
       "        .diff_header {background-color:#e0e0e0}\n",
       "        td.diff_header {text-align:right}\n",
       "        .diff_next {background-color:#c0c0c0}\n",
       "        .diff_add {background-color:#aaffaa}\n",
       "        .diff_chg {background-color:#ffff77}\n",
       "        .diff_sub {background-color:#ffaaaa}\n",
       "    </style>\n",
       "</head>\n",
       "<body>\n",
       "<table cellpadding=\"0\" cellspacing=\"0\" class=\"diff\" id=\"difflib_chg_to12__top\" rules=\"groups\">\n",
       "<colgroup></colgroup> <colgroup></colgroup> <colgroup></colgroup>\n",
       "<colgroup></colgroup> <colgroup></colgroup> <colgroup></colgroup>\n",
       "<tbody>\n",
       "<tr><div nowrap=\"nowrap\">Bei HIV-Positivität/HCV-Positivität sollte das weitere diagnostische und therapeutische Management an einem spezialisierten Zentrum in interdisziplinärer Zusammenarbeit mit Infektio<span class=\"diff_chg\">logen</span> und/oder Gastroenterologen erfolgen.</div><div nowrap=\"nowrap\">Bei HIV-Positivität/HCV-Positivität sollte das weitere diagnostische und therapeutische Management an einem spezialisierten Zentrum in interdisziplinärer Zusammenarbeit mit Infektio<span class=\"diff_chg\">ologen</span> und/oder Gastroenterologen erfolgen.</div></tr>\n",
       "</tbody>\n",
       "</table>\n",
       "\n",
       "</body>\n",
       "</html>"
      ],
      "text/plain": [
       "<IPython.core.display.HTML object>"
      ]
     },
     "metadata": {},
     "output_type": "display_data"
    },
    {
     "data": {
      "text/markdown": [
       "13;17_chronisch-lymphatische-leukaemie-cll_0055.tsv;1"
      ],
      "text/plain": [
       "<IPython.core.display.Markdown object>"
      ]
     },
     "metadata": {},
     "output_type": "display_data"
    },
    {
     "data": {
      "text/markdown": [
       "__Input:__"
      ],
      "text/plain": [
       "<IPython.core.display.Markdown object>"
      ]
     },
     "metadata": {},
     "output_type": "display_data"
    },
    {
     "data": {
      "text/markdown": [
       "Insbesondere bei Verdacht auf klinisch relevante CLL-Manifestationen, die aufgrund ihrer Lokalisation oder der Konstitution des Patienten der klinischen Untersuchung nicht zugänglich sind (z. B. eine mediastinale oder abdominelle Lymphadenopathie), kann eine ergänzende bildgebende Diagnostik mittels Röntgen-Thorax oder einer computer- oder magnetresonanztomographischen Bildgebung erfolgen."
      ],
      "text/plain": [
       "<IPython.core.display.Markdown object>"
      ]
     },
     "metadata": {},
     "output_type": "display_data"
    },
    {
     "data": {
      "text/markdown": [
       "__Error type:__ insert"
      ],
      "text/plain": [
       "<IPython.core.display.Markdown object>"
      ]
     },
     "metadata": {},
     "output_type": "display_data"
    },
    {
     "data": {
      "text/html": [
       "\n",
       "<!DOCTYPE html PUBLIC \"-//W3C//DTD XHTML 1.0 Transitional//EN\"\n",
       "          \"http://www.w3.org/TR/xhtml1/DTD/xhtml1-transitional.dtd\">\n",
       "\n",
       "<html>\n",
       "<head>\n",
       "<meta content=\"text/html; charset=utf-8\" http-equiv=\"Content-Type\"/>\n",
       "<title></title>\n",
       "<style type=\"text/css\">\n",
       "        table.diff {font-family:Courier; border:medium;}\n",
       "        .diff_header {background-color:#e0e0e0}\n",
       "        td.diff_header {text-align:right}\n",
       "        .diff_next {background-color:#c0c0c0}\n",
       "        .diff_add {background-color:#aaffaa}\n",
       "        .diff_chg {background-color:#ffff77}\n",
       "        .diff_sub {background-color:#ffaaaa}\n",
       "    </style>\n",
       "</head>\n",
       "<body>\n",
       "<table cellpadding=\"0\" cellspacing=\"0\" class=\"diff\" id=\"difflib_chg_to13__top\" rules=\"groups\">\n",
       "<colgroup></colgroup> <colgroup></colgroup> <colgroup></colgroup>\n",
       "<colgroup></colgroup> <colgroup></colgroup> <colgroup></colgroup>\n",
       "<tbody>\n",
       "<tr><div nowrap=\"nowrap\">Insbesondere bei Verdacht auf klinisch relevante CLL-Manifestationen, die aufgrund ihrer Lokalisation oder der Konstitution des Patienten der klinischen Untersuchung nicht zugänglich sind (z. B. eine mediastinale oder abdominelle Lymphadenopathie), kann eine ergänzende bildgebende Diagnostik mittels Röntgen-Thorax oder einer computertomographischen oder magnetresonanztomographischen Bildgebung erfolgen.</div><div nowrap=\"nowrap\">Insbesondere bei Verdacht auf klinisch relevante CLL-Manifestationen, die aufgrund ihrer Lokalisation oder der Konstitution des Patienten der klinischen Untersuchung nicht zugänglich sind (z. B. eine mediastinale oder abdominelle Lymphadenopathie), kann eine ergänzende bildgebende Diagnostik mittels Röntgen-Thorax oder einer computer<span class=\"diff_add\">resonanz</span>tomographischen oder magnetresonanztomographischen Bildgebung erfolgen.</div></tr>\n",
       "</tbody>\n",
       "</table>\n",
       "\n",
       "</body>\n",
       "</html>"
      ],
      "text/plain": [
       "<IPython.core.display.HTML object>"
      ]
     },
     "metadata": {},
     "output_type": "display_data"
    },
    {
     "data": {
      "text/markdown": [
       "14;17_chronisch-lymphatische-leukaemie-cll_0159.tsv;12"
      ],
      "text/plain": [
       "<IPython.core.display.Markdown object>"
      ]
     },
     "metadata": {},
     "output_type": "display_data"
    },
    {
     "data": {
      "text/markdown": [
       "__Input:__"
      ],
      "text/plain": [
       "<IPython.core.display.Markdown object>"
      ]
     },
     "metadata": {},
     "output_type": "display_data"
    },
    {
     "data": {
      "text/markdown": [
       "d) Sowohl bei soliden als auch hämatologischen Malignomen liefert das GA prognostische bzw. prädiktive Information zu verschiedenen klinischen Endpunkten mit potentieller Relevanz für Therapieentscheidungen; insbesondere wird die Bezifferung des Mortalitäts- und Toxizitätsrisikos sowie des Risikos von vorzeitigen Therapieabbrüchen erleichtert [REF], [REF], [REF], [REF], [REF], [REF], [REF]."
      ],
      "text/plain": [
       "<IPython.core.display.Markdown object>"
      ]
     },
     "metadata": {},
     "output_type": "display_data"
    },
    {
     "data": {
      "text/markdown": [
       "__Error type:__ insert"
      ],
      "text/plain": [
       "<IPython.core.display.Markdown object>"
      ]
     },
     "metadata": {},
     "output_type": "display_data"
    },
    {
     "data": {
      "text/html": [
       "\n",
       "<!DOCTYPE html PUBLIC \"-//W3C//DTD XHTML 1.0 Transitional//EN\"\n",
       "          \"http://www.w3.org/TR/xhtml1/DTD/xhtml1-transitional.dtd\">\n",
       "\n",
       "<html>\n",
       "<head>\n",
       "<meta content=\"text/html; charset=utf-8\" http-equiv=\"Content-Type\"/>\n",
       "<title></title>\n",
       "<style type=\"text/css\">\n",
       "        table.diff {font-family:Courier; border:medium;}\n",
       "        .diff_header {background-color:#e0e0e0}\n",
       "        td.diff_header {text-align:right}\n",
       "        .diff_next {background-color:#c0c0c0}\n",
       "        .diff_add {background-color:#aaffaa}\n",
       "        .diff_chg {background-color:#ffff77}\n",
       "        .diff_sub {background-color:#ffaaaa}\n",
       "    </style>\n",
       "</head>\n",
       "<body>\n",
       "<table cellpadding=\"0\" cellspacing=\"0\" class=\"diff\" id=\"difflib_chg_to14__top\" rules=\"groups\">\n",
       "<colgroup></colgroup> <colgroup></colgroup> <colgroup></colgroup>\n",
       "<colgroup></colgroup> <colgroup></colgroup> <colgroup></colgroup>\n",
       "<tbody>\n",
       "<tr><div nowrap=\"nowrap\">d) Sowohl bei soliden als auch hämatologischen Malignomen liefert das GA prognostische bzw. prädiktive Information zu verschiedenen klinischen Endpunkten mit potentieller Relevanz für Therapieentscheidungen; insbesondere wird die Bezifferung des Mortalitätsrisiko<span class=\"diff_chg\"> und</span> Toxizitätsrisikos sowie des Risikos von vorzeitigen Therapieabbrüchen erleichtert [REF], [REF], [REF], [REF], [REF], [REF], [REF].</div><div nowrap=\"nowrap\">d) Sowohl bei soliden als auch hämatologischen Malignomen liefert das GA prognostische bzw. prädiktive Information zu verschiedenen klinischen Endpunkten mit potentieller Relevanz für Therapieentscheidungen; insbesondere wird die Bezifferung des Mortalitätsrisiko<span class=\"diff_chg\">s und</span> Toxizitätsrisikos sowie des Risikos von vorzeitigen Therapieabbrüchen erleichtert [REF], [REF], [REF], [REF], [REF], [REF], [REF].</div></tr>\n",
       "</tbody>\n",
       "</table>\n",
       "\n",
       "</body>\n",
       "</html>"
      ],
      "text/plain": [
       "<IPython.core.display.HTML object>"
      ]
     },
     "metadata": {},
     "output_type": "display_data"
    },
    {
     "data": {
      "text/markdown": [
       "15;18_hodgkin-lymphom_0148.tsv;50"
      ],
      "text/plain": [
       "<IPython.core.display.Markdown object>"
      ]
     },
     "metadata": {},
     "output_type": "display_data"
    },
    {
     "data": {
      "text/markdown": [
       "__Input:__"
      ],
      "text/plain": [
       "<IPython.core.display.Markdown object>"
      ]
     },
     "metadata": {},
     "output_type": "display_data"
    },
    {
     "data": {
      "text/markdown": [
       "Brentuximab Vedotin ist seit August 2011 (FDA) und seit Oktober 2012 in Europa für Patienten mit rezidiviertem oder refraktärem HL nach einer autologen Stammzelltransplantation zugelassen, ebenso für HL Patienten die sich nicht für eine Poly- oder Hochdosischemotherapie qualifizieren und mindestens zwei vorherige Therapie erhalten haben."
      ],
      "text/plain": [
       "<IPython.core.display.Markdown object>"
      ]
     },
     "metadata": {},
     "output_type": "display_data"
    },
    {
     "data": {
      "text/markdown": [
       "__Error type:__ insert"
      ],
      "text/plain": [
       "<IPython.core.display.Markdown object>"
      ]
     },
     "metadata": {},
     "output_type": "display_data"
    },
    {
     "data": {
      "text/html": [
       "\n",
       "<!DOCTYPE html PUBLIC \"-//W3C//DTD XHTML 1.0 Transitional//EN\"\n",
       "          \"http://www.w3.org/TR/xhtml1/DTD/xhtml1-transitional.dtd\">\n",
       "\n",
       "<html>\n",
       "<head>\n",
       "<meta content=\"text/html; charset=utf-8\" http-equiv=\"Content-Type\"/>\n",
       "<title></title>\n",
       "<style type=\"text/css\">\n",
       "        table.diff {font-family:Courier; border:medium;}\n",
       "        .diff_header {background-color:#e0e0e0}\n",
       "        td.diff_header {text-align:right}\n",
       "        .diff_next {background-color:#c0c0c0}\n",
       "        .diff_add {background-color:#aaffaa}\n",
       "        .diff_chg {background-color:#ffff77}\n",
       "        .diff_sub {background-color:#ffaaaa}\n",
       "    </style>\n",
       "</head>\n",
       "<body>\n",
       "<table cellpadding=\"0\" cellspacing=\"0\" class=\"diff\" id=\"difflib_chg_to15__top\" rules=\"groups\">\n",
       "<colgroup></colgroup> <colgroup></colgroup> <colgroup></colgroup>\n",
       "<colgroup></colgroup> <colgroup></colgroup> <colgroup></colgroup>\n",
       "<tbody>\n",
       "<tr><div nowrap=\"nowrap\">Brentuximab Vedotin ist seit August 2011 (FDA) und seit Oktober 2012 in Europa für Patienten mit rezidiviertem oder refraktärem HL nach einer autologen Stammzelltransplantation zugelassen, ebenso für HL Patienten die sich nicht für eine Poly<span class=\"diff_chg\">chemotherapie oder</span> Hochdosischemotherapie qualifizieren und mindestens zwei vorherige Therapie erhalten haben.</div><div nowrap=\"nowrap\">Brentuximab Vedotin ist seit August 2011 (FDA) und seit Oktober 2012 in Europa für Patienten mit rezidiviertem oder refraktärem HL nach einer autologen Stammzelltransplantation zugelassen, ebenso für HL Patienten die sich nicht für eine Poly<span class=\"diff_chg\">dosischemotherapie oder</span> Hochdosischemotherapie qualifizieren und mindestens zwei vorherige Therapie erhalten haben.</div></tr>\n",
       "</tbody>\n",
       "</table>\n",
       "\n",
       "</body>\n",
       "</html>"
      ],
      "text/plain": [
       "<IPython.core.display.HTML object>"
      ]
     },
     "metadata": {},
     "output_type": "display_data"
    },
    {
     "data": {
      "text/markdown": [
       "16;19_follikulaeres-lymphom_0288.tsv;3"
      ],
      "text/plain": [
       "<IPython.core.display.Markdown object>"
      ]
     },
     "metadata": {},
     "output_type": "display_data"
    },
    {
     "data": {
      "text/markdown": [
       "__Input:__"
      ],
      "text/plain": [
       "<IPython.core.display.Markdown object>"
      ]
     },
     "metadata": {},
     "output_type": "display_data"
    },
    {
     "data": {
      "text/markdown": [
       "Geriatrische Syndrome (z.B. Delir, Demenz, Depression, Inappetenz, Sarkopenie, Frailty, Stürze, Immobilität) können dabei unabhängig von der Lymphomerkrankung bestehen oder durch die Lymphomerkrankung und -therapie induziert bzw. aggraviert werden."
      ],
      "text/plain": [
       "<IPython.core.display.Markdown object>"
      ]
     },
     "metadata": {},
     "output_type": "display_data"
    },
    {
     "data": {
      "text/markdown": [
       "__Error type:__ insert"
      ],
      "text/plain": [
       "<IPython.core.display.Markdown object>"
      ]
     },
     "metadata": {},
     "output_type": "display_data"
    },
    {
     "data": {
      "text/html": [
       "\n",
       "<!DOCTYPE html PUBLIC \"-//W3C//DTD XHTML 1.0 Transitional//EN\"\n",
       "          \"http://www.w3.org/TR/xhtml1/DTD/xhtml1-transitional.dtd\">\n",
       "\n",
       "<html>\n",
       "<head>\n",
       "<meta content=\"text/html; charset=utf-8\" http-equiv=\"Content-Type\"/>\n",
       "<title></title>\n",
       "<style type=\"text/css\">\n",
       "        table.diff {font-family:Courier; border:medium;}\n",
       "        .diff_header {background-color:#e0e0e0}\n",
       "        td.diff_header {text-align:right}\n",
       "        .diff_next {background-color:#c0c0c0}\n",
       "        .diff_add {background-color:#aaffaa}\n",
       "        .diff_chg {background-color:#ffff77}\n",
       "        .diff_sub {background-color:#ffaaaa}\n",
       "    </style>\n",
       "</head>\n",
       "<body>\n",
       "<table cellpadding=\"0\" cellspacing=\"0\" class=\"diff\" id=\"difflib_chg_to16__top\" rules=\"groups\">\n",
       "<colgroup></colgroup> <colgroup></colgroup> <colgroup></colgroup>\n",
       "<colgroup></colgroup> <colgroup></colgroup> <colgroup></colgroup>\n",
       "<tbody>\n",
       "<tr><div nowrap=\"nowrap\">Geriatrische Syndrome (z.B. Delir, Demenz, Depression, Inappetenz, Sarkopenie, Frailty, Stürze, Immobilität) können dabei unabhängig von der Lymphomerkrankung bestehen oder durch die Lymphomerkrankung und Lymphom<span class=\"diff_chg\">therapie induziert</span> bzw. aggraviert werden.</div><div nowrap=\"nowrap\">Geriatrische Syndrome (z.B. Delir, Demenz, Depression, Inappetenz, Sarkopenie, Frailty, Stürze, Immobilität) können dabei unabhängig von der Lymphomerkrankung bestehen oder durch die Lymphomerkrankung und Lymphom<span class=\"diff_chg\">etherapie induziert</span> bzw. aggraviert werden.</div></tr>\n",
       "</tbody>\n",
       "</table>\n",
       "\n",
       "</body>\n",
       "</html>"
      ],
      "text/plain": [
       "<IPython.core.display.HTML object>"
      ]
     },
     "metadata": {},
     "output_type": "display_data"
    },
    {
     "data": {
      "text/markdown": [
       "17;20_harnblasenkarzinom_0086.tsv;43"
      ],
      "text/plain": [
       "<IPython.core.display.Markdown object>"
      ]
     },
     "metadata": {},
     "output_type": "display_data"
    },
    {
     "data": {
      "text/markdown": [
       "__Input:__"
      ],
      "text/plain": [
       "<IPython.core.display.Markdown object>"
      ]
     },
     "metadata": {},
     "output_type": "display_data"
    },
    {
     "data": {
      "text/markdown": [
       "Die Evidenz besteht überwiegend aus LoE 3 und 4 Berichten."
      ],
      "text/plain": [
       "<IPython.core.display.Markdown object>"
      ]
     },
     "metadata": {},
     "output_type": "display_data"
    },
    {
     "data": {
      "text/markdown": [
       "__Error type:__ insert"
      ],
      "text/plain": [
       "<IPython.core.display.Markdown object>"
      ]
     },
     "metadata": {},
     "output_type": "display_data"
    },
    {
     "data": {
      "text/html": [
       "\n",
       "<!DOCTYPE html PUBLIC \"-//W3C//DTD XHTML 1.0 Transitional//EN\"\n",
       "          \"http://www.w3.org/TR/xhtml1/DTD/xhtml1-transitional.dtd\">\n",
       "\n",
       "<html>\n",
       "<head>\n",
       "<meta content=\"text/html; charset=utf-8\" http-equiv=\"Content-Type\"/>\n",
       "<title></title>\n",
       "<style type=\"text/css\">\n",
       "        table.diff {font-family:Courier; border:medium;}\n",
       "        .diff_header {background-color:#e0e0e0}\n",
       "        td.diff_header {text-align:right}\n",
       "        .diff_next {background-color:#c0c0c0}\n",
       "        .diff_add {background-color:#aaffaa}\n",
       "        .diff_chg {background-color:#ffff77}\n",
       "        .diff_sub {background-color:#ffaaaa}\n",
       "    </style>\n",
       "</head>\n",
       "<body>\n",
       "<table cellpadding=\"0\" cellspacing=\"0\" class=\"diff\" id=\"difflib_chg_to17__top\" rules=\"groups\">\n",
       "<colgroup></colgroup> <colgroup></colgroup> <colgroup></colgroup>\n",
       "<colgroup></colgroup> <colgroup></colgroup> <colgroup></colgroup>\n",
       "<tbody>\n",
       "<tr><div nowrap=\"nowrap\">Die Evidenz besteht überwiegend aus LoE 3 und LoE 4 Berichten.</div><div nowrap=\"nowrap\">Die Evidenz besteht überwiegend aus LoE 3<span class=\"diff_add\"> Berichten</span> und LoE 4 Berichten.</div></tr>\n",
       "</tbody>\n",
       "</table>\n",
       "\n",
       "</body>\n",
       "</html>"
      ],
      "text/plain": [
       "<IPython.core.display.HTML object>"
      ]
     },
     "metadata": {},
     "output_type": "display_data"
    },
    {
     "data": {
      "text/markdown": [
       "18;21_hodentumoren_0113.tsv;6"
      ],
      "text/plain": [
       "<IPython.core.display.Markdown object>"
      ]
     },
     "metadata": {},
     "output_type": "display_data"
    },
    {
     "data": {
      "text/markdown": [
       "__Input:__"
      ],
      "text/plain": [
       "<IPython.core.display.Markdown object>"
      ]
     },
     "metadata": {},
     "output_type": "display_data"
    },
    {
     "data": {
      "text/markdown": [
       "Patienten mit nichtseminomatösem KZT und einem histologisch und/oder über eine Serumtumormarkererhöhung gesicherten Stadium IIA/B fallen vorwiegend in die gute Prognosegruppe und werden mit drei Zyklen PEB behandelt [REF] [REF] [REF]."
      ],
      "text/plain": [
       "<IPython.core.display.Markdown object>"
      ]
     },
     "metadata": {},
     "output_type": "display_data"
    },
    {
     "data": {
      "text/markdown": [
       "__Error type:__ insert"
      ],
      "text/plain": [
       "<IPython.core.display.Markdown object>"
      ]
     },
     "metadata": {},
     "output_type": "display_data"
    },
    {
     "data": {
      "text/html": [
       "\n",
       "<!DOCTYPE html PUBLIC \"-//W3C//DTD XHTML 1.0 Transitional//EN\"\n",
       "          \"http://www.w3.org/TR/xhtml1/DTD/xhtml1-transitional.dtd\">\n",
       "\n",
       "<html>\n",
       "<head>\n",
       "<meta content=\"text/html; charset=utf-8\" http-equiv=\"Content-Type\"/>\n",
       "<title></title>\n",
       "<style type=\"text/css\">\n",
       "        table.diff {font-family:Courier; border:medium;}\n",
       "        .diff_header {background-color:#e0e0e0}\n",
       "        td.diff_header {text-align:right}\n",
       "        .diff_next {background-color:#c0c0c0}\n",
       "        .diff_add {background-color:#aaffaa}\n",
       "        .diff_chg {background-color:#ffff77}\n",
       "        .diff_sub {background-color:#ffaaaa}\n",
       "    </style>\n",
       "</head>\n",
       "<body>\n",
       "<table cellpadding=\"0\" cellspacing=\"0\" class=\"diff\" id=\"difflib_chg_to18__top\" rules=\"groups\">\n",
       "<colgroup></colgroup> <colgroup></colgroup> <colgroup></colgroup>\n",
       "<colgroup></colgroup> <colgroup></colgroup> <colgroup></colgroup>\n",
       "<tbody>\n",
       "<tr><div nowrap=\"nowrap\">Patienten mit nichtseminomatösem KZT und einem histologisch und/oder über eine Serumtumormarkererhöhung gesicherten Stadium IIA/Stadium B fallen vorwiegend in die gute Prognosegruppe und werden mit drei Zyklen PEB behandelt [REF] [REF] [REF].</div><div nowrap=\"nowrap\">Patienten mit nichtseminomatösem KZT und einem histologisch und/oder über eine Serumtumormarkererhöhung gesicherten Stadium IIA/Stadium <span class=\"diff_add\">II</span>B fallen vorwiegend in die gute Prognosegruppe und werden mit drei Zyklen PEB behandelt [REF] [REF] [REF].</div></tr>\n",
       "</tbody>\n",
       "</table>\n",
       "\n",
       "</body>\n",
       "</html>"
      ],
      "text/plain": [
       "<IPython.core.display.HTML object>"
      ]
     },
     "metadata": {},
     "output_type": "display_data"
    },
    {
     "data": {
      "text/markdown": [
       "19;21_hodentumoren_0268.tsv;1"
      ],
      "text/plain": [
       "<IPython.core.display.Markdown object>"
      ]
     },
     "metadata": {},
     "output_type": "display_data"
    },
    {
     "data": {
      "text/markdown": [
       "__Input:__"
      ],
      "text/plain": [
       "<IPython.core.display.Markdown object>"
      ]
     },
     "metadata": {},
     "output_type": "display_data"
    },
    {
     "data": {
      "text/markdown": [
       "Die MRT Abdomen/Becken sollte die CT Abdomen/Becken im Rahmen der Nachsorge von Patienten mit KZT ersetzen, wenn diese an Zentren mit ausgewiesener Erfahrung durchgeführt wird."
      ],
      "text/plain": [
       "<IPython.core.display.Markdown object>"
      ]
     },
     "metadata": {},
     "output_type": "display_data"
    },
    {
     "data": {
      "text/markdown": [
       "__Error type:__ insert"
      ],
      "text/plain": [
       "<IPython.core.display.Markdown object>"
      ]
     },
     "metadata": {},
     "output_type": "display_data"
    },
    {
     "data": {
      "text/html": [
       "\n",
       "<!DOCTYPE html PUBLIC \"-//W3C//DTD XHTML 1.0 Transitional//EN\"\n",
       "          \"http://www.w3.org/TR/xhtml1/DTD/xhtml1-transitional.dtd\">\n",
       "\n",
       "<html>\n",
       "<head>\n",
       "<meta content=\"text/html; charset=utf-8\" http-equiv=\"Content-Type\"/>\n",
       "<title></title>\n",
       "<style type=\"text/css\">\n",
       "        table.diff {font-family:Courier; border:medium;}\n",
       "        .diff_header {background-color:#e0e0e0}\n",
       "        td.diff_header {text-align:right}\n",
       "        .diff_next {background-color:#c0c0c0}\n",
       "        .diff_add {background-color:#aaffaa}\n",
       "        .diff_chg {background-color:#ffff77}\n",
       "        .diff_sub {background-color:#ffaaaa}\n",
       "    </style>\n",
       "</head>\n",
       "<body>\n",
       "<table cellpadding=\"0\" cellspacing=\"0\" class=\"diff\" id=\"difflib_chg_to19__top\" rules=\"groups\">\n",
       "<colgroup></colgroup> <colgroup></colgroup> <colgroup></colgroup>\n",
       "<colgroup></colgroup> <colgroup></colgroup> <colgroup></colgroup>\n",
       "<tbody>\n",
       "<tr><div nowrap=\"nowrap\">Die MRT Abdomen/MRT Becken sollte die CT Abdomen/CT Becken im Rahmen der Nachsorge von Patienten mit KZT ersetzen, wenn diese an Zentren mit ausgewiesener Erfahrung durchgeführt wird.</div><div nowrap=\"nowrap\">Die MRT Abdomen/MRT Becke<span class=\"diff_add\">cke</span>n sollte die CT Abdomen/CT Becken im Rahmen der Nachsorge von Patienten mit KZT ersetzen, wenn diese an Zentren mit ausgewiesener Erfahrung durchgeführt wird.</div></tr>\n",
       "</tbody>\n",
       "</table>\n",
       "\n",
       "</body>\n",
       "</html>"
      ],
      "text/plain": [
       "<IPython.core.display.HTML object>"
      ]
     },
     "metadata": {},
     "output_type": "display_data"
    },
    {
     "data": {
      "text/markdown": [
       "20;23_peniskarzinom_0101.tsv;1"
      ],
      "text/plain": [
       "<IPython.core.display.Markdown object>"
      ]
     },
     "metadata": {},
     "output_type": "display_data"
    },
    {
     "data": {
      "text/markdown": [
       "__Input:__"
      ],
      "text/plain": [
       "<IPython.core.display.Markdown object>"
      ]
     },
     "metadata": {},
     "output_type": "display_data"
    },
    {
     "data": {
      "text/markdown": [
       "Weder bildgebende Verfahren wie Sonografie, Computer- oder Magnetresonanztomografie noch die Positronenemissionstomografie oder deren Kombination können bislang zuverlässig klinisch okkulte Metastasen in Peniskarzinom- Patienten mit klinisch unauffälligen/nicht palpablen Leistenlymphknoten ausschließen [REF]; [REF]; [REF]."
      ],
      "text/plain": [
       "<IPython.core.display.Markdown object>"
      ]
     },
     "metadata": {},
     "output_type": "display_data"
    },
    {
     "data": {
      "text/markdown": [
       "__Error type:__ insert"
      ],
      "text/plain": [
       "<IPython.core.display.Markdown object>"
      ]
     },
     "metadata": {},
     "output_type": "display_data"
    },
    {
     "data": {
      "text/html": [
       "\n",
       "<!DOCTYPE html PUBLIC \"-//W3C//DTD XHTML 1.0 Transitional//EN\"\n",
       "          \"http://www.w3.org/TR/xhtml1/DTD/xhtml1-transitional.dtd\">\n",
       "\n",
       "<html>\n",
       "<head>\n",
       "<meta content=\"text/html; charset=utf-8\" http-equiv=\"Content-Type\"/>\n",
       "<title></title>\n",
       "<style type=\"text/css\">\n",
       "        table.diff {font-family:Courier; border:medium;}\n",
       "        .diff_header {background-color:#e0e0e0}\n",
       "        td.diff_header {text-align:right}\n",
       "        .diff_next {background-color:#c0c0c0}\n",
       "        .diff_add {background-color:#aaffaa}\n",
       "        .diff_chg {background-color:#ffff77}\n",
       "        .diff_sub {background-color:#ffaaaa}\n",
       "    </style>\n",
       "</head>\n",
       "<body>\n",
       "<table cellpadding=\"0\" cellspacing=\"0\" class=\"diff\" id=\"difflib_chg_to20__top\" rules=\"groups\">\n",
       "<colgroup></colgroup> <colgroup></colgroup> <colgroup></colgroup>\n",
       "<colgroup></colgroup> <colgroup></colgroup> <colgroup></colgroup>\n",
       "<tbody>\n",
       "<tr><div nowrap=\"nowrap\">Weder bildgebende Verfahren wie Sonografie, Computer<span class=\"diff_chg\">tomografie oder</span> Magnetresonanztomografie noch die Positronenemissionstomografie oder deren Kombination können bislang zuverlässig klinisch okkulte Metastasen in Peniskarzinom- Patienten mit klinisch unauffälligen/nicht palpablen Leistenlymphknoten ausschließen [REF]; [REF]; [REF].</div><div nowrap=\"nowrap\">Weder bildgebende Verfahren wie Sonografie, Computer<span class=\"diff_chg\">resonanztomografie oder</span> Magnetresonanztomografie noch die Positronenemissionstomografie oder deren Kombination können bislang zuverlässig klinisch okkulte Metastasen in Peniskarzinom- Patienten mit klinisch unauffälligen/nicht palpablen Leistenlymphknoten ausschließen [REF]; [REF]; [REF].</div></tr>\n",
       "</tbody>\n",
       "</table>\n",
       "\n",
       "</body>\n",
       "</html>"
      ],
      "text/plain": [
       "<IPython.core.display.HTML object>"
      ]
     },
     "metadata": {},
     "output_type": "display_data"
    },
    {
     "data": {
      "text/markdown": [
       "21;26_palliativmedizin_0097.tsv;38"
      ],
      "text/plain": [
       "<IPython.core.display.Markdown object>"
      ]
     },
     "metadata": {},
     "output_type": "display_data"
    },
    {
     "data": {
      "text/markdown": [
       "__Input:__"
      ],
      "text/plain": [
       "<IPython.core.display.Markdown object>"
      ]
     },
     "metadata": {},
     "output_type": "display_data"
    },
    {
     "data": {
      "text/markdown": [
       "Dennoch führte die Intervention zu einer geringeren Anzahl an Hausarzt- und Notfall-Konsultationen (p =.03 bzw. p =.04)."
      ],
      "text/plain": [
       "<IPython.core.display.Markdown object>"
      ]
     },
     "metadata": {},
     "output_type": "display_data"
    },
    {
     "data": {
      "text/markdown": [
       "__Error type:__ insert"
      ],
      "text/plain": [
       "<IPython.core.display.Markdown object>"
      ]
     },
     "metadata": {},
     "output_type": "display_data"
    },
    {
     "data": {
      "text/html": [
       "\n",
       "<!DOCTYPE html PUBLIC \"-//W3C//DTD XHTML 1.0 Transitional//EN\"\n",
       "          \"http://www.w3.org/TR/xhtml1/DTD/xhtml1-transitional.dtd\">\n",
       "\n",
       "<html>\n",
       "<head>\n",
       "<meta content=\"text/html; charset=utf-8\" http-equiv=\"Content-Type\"/>\n",
       "<title></title>\n",
       "<style type=\"text/css\">\n",
       "        table.diff {font-family:Courier; border:medium;}\n",
       "        .diff_header {background-color:#e0e0e0}\n",
       "        td.diff_header {text-align:right}\n",
       "        .diff_next {background-color:#c0c0c0}\n",
       "        .diff_add {background-color:#aaffaa}\n",
       "        .diff_chg {background-color:#ffff77}\n",
       "        .diff_sub {background-color:#ffaaaa}\n",
       "    </style>\n",
       "</head>\n",
       "<body>\n",
       "<table cellpadding=\"0\" cellspacing=\"0\" class=\"diff\" id=\"difflib_chg_to21__top\" rules=\"groups\">\n",
       "<colgroup></colgroup> <colgroup></colgroup> <colgroup></colgroup>\n",
       "<colgroup></colgroup> <colgroup></colgroup> <colgroup></colgroup>\n",
       "<tbody>\n",
       "<tr><div nowrap=\"nowrap\">Dennoch führte die Intervention zu einer geringeren Anzahl an Hausarzt-Konsultationen und Notfall-Konsultationen (p =.03 bzw. p =.04).</div><div nowrap=\"nowrap\">Dennoch führte die Intervention zu einer geringeren Anzahl an Hausarzt-Konsultationen und Notfall-Konsultationen (p =<span class=\"diff_add\"> </span>.03 bzw. p =<span class=\"diff_add\"> </span>.04).</div></tr>\n",
       "</tbody>\n",
       "</table>\n",
       "\n",
       "</body>\n",
       "</html>"
      ],
      "text/plain": [
       "<IPython.core.display.HTML object>"
      ]
     },
     "metadata": {},
     "output_type": "display_data"
    },
    {
     "data": {
      "text/markdown": [
       "22;26_palliativmedizin_0607.tsv;5"
      ],
      "text/plain": [
       "<IPython.core.display.Markdown object>"
      ]
     },
     "metadata": {},
     "output_type": "display_data"
    },
    {
     "data": {
      "text/markdown": [
       "__Input:__"
      ],
      "text/plain": [
       "<IPython.core.display.Markdown object>"
      ]
     },
     "metadata": {},
     "output_type": "display_data"
    },
    {
     "data": {
      "text/markdown": [
       "Im Verlauf seiner Erkrankung kann der Patient den Todeswunsch mit unterschiedlicher Intensität oder Ausprägung erleben – je nach Handlungsdruck als flüchtige oder sich aufdrängende Gedanken, Suizidabsicht, -planung bis hin zur Durchführung einer suizidalen Handlung."
      ],
      "text/plain": [
       "<IPython.core.display.Markdown object>"
      ]
     },
     "metadata": {},
     "output_type": "display_data"
    },
    {
     "data": {
      "text/markdown": [
       "__Error type:__ insert"
      ],
      "text/plain": [
       "<IPython.core.display.Markdown object>"
      ]
     },
     "metadata": {},
     "output_type": "display_data"
    },
    {
     "data": {
      "text/html": [
       "\n",
       "<!DOCTYPE html PUBLIC \"-//W3C//DTD XHTML 1.0 Transitional//EN\"\n",
       "          \"http://www.w3.org/TR/xhtml1/DTD/xhtml1-transitional.dtd\">\n",
       "\n",
       "<html>\n",
       "<head>\n",
       "<meta content=\"text/html; charset=utf-8\" http-equiv=\"Content-Type\"/>\n",
       "<title></title>\n",
       "<style type=\"text/css\">\n",
       "        table.diff {font-family:Courier; border:medium;}\n",
       "        .diff_header {background-color:#e0e0e0}\n",
       "        td.diff_header {text-align:right}\n",
       "        .diff_next {background-color:#c0c0c0}\n",
       "        .diff_add {background-color:#aaffaa}\n",
       "        .diff_chg {background-color:#ffff77}\n",
       "        .diff_sub {background-color:#ffaaaa}\n",
       "    </style>\n",
       "</head>\n",
       "<body>\n",
       "<table cellpadding=\"0\" cellspacing=\"0\" class=\"diff\" id=\"difflib_chg_to22__top\" rules=\"groups\">\n",
       "<colgroup></colgroup> <colgroup></colgroup> <colgroup></colgroup>\n",
       "<colgroup></colgroup> <colgroup></colgroup> <colgroup></colgroup>\n",
       "<tbody>\n",
       "<tr><div nowrap=\"nowrap\">Im Verlauf seiner Erkrankung kann der Patient den Todeswunsch mit unterschiedlicher Intensität oder Ausprägung erleben – je nach Handlungsdruck als flüchtige oder sich aufdrängende Gedanken, Suizidabsicht, Suizidplanung bis hin zur Durchführung einer suizidalen Handlung.</div><div nowrap=\"nowrap\">Im Verlauf seiner Erkrankung kann der Patient den Todeswunsch mit unterschiedlicher Intensität oder Ausprägung erleben – je nach Handlungsdruck als flüchtige oder sich aufdrängende Gedanken, Suizidabsicht, Suizid<span class=\"diff_add\">a</span>planung bis hin zur Durchführung einer suizidalen Handlung.</div></tr>\n",
       "</tbody>\n",
       "</table>\n",
       "\n",
       "</body>\n",
       "</html>"
      ],
      "text/plain": [
       "<IPython.core.display.HTML object>"
      ]
     },
     "metadata": {},
     "output_type": "display_data"
    },
    {
     "data": {
      "text/markdown": [
       "23;26_palliativmedizin_0664.tsv;33"
      ],
      "text/plain": [
       "<IPython.core.display.Markdown object>"
      ]
     },
     "metadata": {},
     "output_type": "display_data"
    },
    {
     "data": {
      "text/markdown": [
       "__Input:__"
      ],
      "text/plain": [
       "<IPython.core.display.Markdown object>"
      ]
     },
     "metadata": {},
     "output_type": "display_data"
    },
    {
     "data": {
      "text/markdown": [
       "Als nicht-pharmakologische Maßnahmen werden mit unklarer Evidenz Seiten- oder Oberkörperhochlagerung empfohlen."
      ],
      "text/plain": [
       "<IPython.core.display.Markdown object>"
      ]
     },
     "metadata": {},
     "output_type": "display_data"
    },
    {
     "data": {
      "text/markdown": [
       "__Error type:__ insert"
      ],
      "text/plain": [
       "<IPython.core.display.Markdown object>"
      ]
     },
     "metadata": {},
     "output_type": "display_data"
    },
    {
     "data": {
      "text/html": [
       "\n",
       "<!DOCTYPE html PUBLIC \"-//W3C//DTD XHTML 1.0 Transitional//EN\"\n",
       "          \"http://www.w3.org/TR/xhtml1/DTD/xhtml1-transitional.dtd\">\n",
       "\n",
       "<html>\n",
       "<head>\n",
       "<meta content=\"text/html; charset=utf-8\" http-equiv=\"Content-Type\"/>\n",
       "<title></title>\n",
       "<style type=\"text/css\">\n",
       "        table.diff {font-family:Courier; border:medium;}\n",
       "        .diff_header {background-color:#e0e0e0}\n",
       "        td.diff_header {text-align:right}\n",
       "        .diff_next {background-color:#c0c0c0}\n",
       "        .diff_add {background-color:#aaffaa}\n",
       "        .diff_chg {background-color:#ffff77}\n",
       "        .diff_sub {background-color:#ffaaaa}\n",
       "    </style>\n",
       "</head>\n",
       "<body>\n",
       "<table cellpadding=\"0\" cellspacing=\"0\" class=\"diff\" id=\"difflib_chg_to23__top\" rules=\"groups\">\n",
       "<colgroup></colgroup> <colgroup></colgroup> <colgroup></colgroup>\n",
       "<colgroup></colgroup> <colgroup></colgroup> <colgroup></colgroup>\n",
       "<tbody>\n",
       "<tr><div nowrap=\"nowrap\">Als nicht-pharmakologische Maßnahmen werden mit unklarer Evidenz Seitenlagerung oder Oberkörperhochlagerung empfohlen.</div><div nowrap=\"nowrap\">Als nicht-pharmakologische Maßnahmen werden mit unklarer Evidenz Seiten<span class=\"diff_add\">hoch</span>lagerung oder Oberkörperhochlagerung empfohlen.</div></tr>\n",
       "</tbody>\n",
       "</table>\n",
       "\n",
       "</body>\n",
       "</html>"
      ],
      "text/plain": [
       "<IPython.core.display.HTML object>"
      ]
     },
     "metadata": {},
     "output_type": "display_data"
    },
    {
     "data": {
      "text/markdown": [
       "24;28_komplementaermedizin_0287.tsv;1"
      ],
      "text/plain": [
       "<IPython.core.display.Markdown object>"
      ]
     },
     "metadata": {},
     "output_type": "display_data"
    },
    {
     "data": {
      "text/markdown": [
       "__Input:__"
      ],
      "text/plain": [
       "<IPython.core.display.Markdown object>"
      ]
     },
     "metadata": {},
     "output_type": "display_data"
    },
    {
     "data": {
      "text/markdown": [
       "Tumoransprechen, - progression und -rezidive"
      ],
      "text/plain": [
       "<IPython.core.display.Markdown object>"
      ]
     },
     "metadata": {},
     "output_type": "display_data"
    },
    {
     "data": {
      "text/markdown": [
       "__Error type:__ insert"
      ],
      "text/plain": [
       "<IPython.core.display.Markdown object>"
      ]
     },
     "metadata": {},
     "output_type": "display_data"
    },
    {
     "data": {
      "text/html": [
       "\n",
       "<!DOCTYPE html PUBLIC \"-//W3C//DTD XHTML 1.0 Transitional//EN\"\n",
       "          \"http://www.w3.org/TR/xhtml1/DTD/xhtml1-transitional.dtd\">\n",
       "\n",
       "<html>\n",
       "<head>\n",
       "<meta content=\"text/html; charset=utf-8\" http-equiv=\"Content-Type\"/>\n",
       "<title></title>\n",
       "<style type=\"text/css\">\n",
       "        table.diff {font-family:Courier; border:medium;}\n",
       "        .diff_header {background-color:#e0e0e0}\n",
       "        td.diff_header {text-align:right}\n",
       "        .diff_next {background-color:#c0c0c0}\n",
       "        .diff_add {background-color:#aaffaa}\n",
       "        .diff_chg {background-color:#ffff77}\n",
       "        .diff_sub {background-color:#ffaaaa}\n",
       "    </style>\n",
       "</head>\n",
       "<body>\n",
       "<table cellpadding=\"0\" cellspacing=\"0\" class=\"diff\" id=\"difflib_chg_to24__top\" rules=\"groups\">\n",
       "<colgroup></colgroup> <colgroup></colgroup> <colgroup></colgroup>\n",
       "<colgroup></colgroup> <colgroup></colgroup> <colgroup></colgroup>\n",
       "<tbody>\n",
       "<tr><div nowrap=\"nowrap\">Tumoransprechen, Tumorprogression und Tumorrezidive</div><div nowrap=\"nowrap\">Tumoransprechen, Tumor<span class=\"diff_add\">an </span>progression und Tumor<span class=\"diff_add\">an</span>rezidive</div></tr>\n",
       "</tbody>\n",
       "</table>\n",
       "\n",
       "</body>\n",
       "</html>"
      ],
      "text/plain": [
       "<IPython.core.display.HTML object>"
      ]
     },
     "metadata": {},
     "output_type": "display_data"
    }
   ],
   "source": [
    "show_errors(errors_test[errors_test.error_type == 'insert'])"
   ]
  },
  {
   "cell_type": "markdown",
   "metadata": {},
   "source": [
    "# Some examples"
   ]
  },
  {
   "cell_type": "code",
   "execution_count": 21,
   "metadata": {},
   "outputs": [],
   "source": [
    "def run_pipeline(examples):\n",
    "    for e, p in zip(examples, pipeline(examples)):\n",
    "        print(e, '-->', p['generated_text'])"
   ]
  },
  {
   "cell_type": "code",
   "execution_count": 22,
   "metadata": {},
   "outputs": [
    {
     "name": "stdout",
     "output_type": "stream",
     "text": [
      "Krebs-Vorsorge / -Früherkennung --> Krebs-Vorsorge / Krebs-Früherkennung\n",
      "HPV31, 33, 45 und 51 --> HPV31, HPV33 und HPV51\n",
      "Vitamin C, E und A1 --> Vitamin C, Vitamin E und Vitamin A1\n"
     ]
    }
   ],
   "source": [
    "# Forward ellipses\n",
    "run_pipeline(['Krebs-Vorsorge / -Früherkennung', 'HPV31, 33, 45 und 51', 'Vitamin C, E und A1'])"
   ]
  },
  {
   "cell_type": "code",
   "execution_count": 23,
   "metadata": {},
   "outputs": [
    {
     "name": "stdout",
     "output_type": "stream",
     "text": [
      "Chemo- und Strahlentherapie --> Chemotherapie und Strahlentherapie\n",
      "BRAF- und MEK-Inhibitor --> BRAF-Inhibitor und MEK-Inhibitor\n",
      "zielgerichtete und Immuntherapien --> zielgerichtete Therapien und Immuntherapien\n"
     ]
    }
   ],
   "source": [
    "# Backward ellipses\n",
    "run_pipeline(['Chemo- und Strahlentherapie', 'BRAF- und MEK-Inhibitor', 'zielgerichtete und Immuntherapien'])"
   ]
  },
  {
   "cell_type": "code",
   "execution_count": 24,
   "metadata": {},
   "outputs": [
    {
     "name": "stdout",
     "output_type": "stream",
     "text": [
      "HPV-16- und/oder -18-Positivität --> HPV-16-Positivität und/oder HPV-18-Positivität\n",
      "BRCA1/2-Mutation --> BRCA1-Mutation/BRCA2-Mutation\n",
      "Zweitlinien- oder Drittliniensystem- bzw. -chemotherapie --> Zweitliniensystemtherapie oder Drittliniensystemtherapie bzw. Drittlinienchemotherapie\n"
     ]
    }
   ],
   "source": [
    "# Complex ellipses\n",
    "run_pipeline(['HPV-16- und/oder -18-Positivität', 'BRCA1/2-Mutation', 'Zweitlinien- oder Drittliniensystem- bzw. -chemotherapie'])"
   ]
  },
  {
   "cell_type": "code",
   "execution_count": null,
   "metadata": {},
   "outputs": [],
   "source": []
  }
 ],
 "metadata": {
  "kernelspec": {
   "display_name": "Python [conda env:ellipses]",
   "language": "python",
   "name": "conda-env-ellipses-py"
  },
  "language_info": {
   "codemirror_mode": {
    "name": "ipython",
    "version": 3
   },
   "file_extension": ".py",
   "mimetype": "text/x-python",
   "name": "python",
   "nbconvert_exporter": "python",
   "pygments_lexer": "ipython3",
   "version": "3.10.6"
  },
  "vscode": {
   "interpreter": {
    "hash": "8f7616dd95153615ba76d82383ee4b763d06514f4c395e85d9efff1c9a575639"
   }
  }
 },
 "nbformat": 4,
 "nbformat_minor": 4
}
