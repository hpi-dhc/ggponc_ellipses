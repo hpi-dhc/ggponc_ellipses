{
 "cells": [
  {
   "cell_type": "code",
   "execution_count": null,
   "id": "823609c6-6f0b-4642-91c7-2cda1f9d555c",
   "metadata": {},
   "outputs": [],
   "source": [
    "# 1. Read all GGPONC sentences\n",
    "# 2. Run through compound splitter to produce Gertwol-like list\n",
    "# 3. Create word frequencies from GGPONC sentences\n",
    "# 4. Apply spaCy POS Tagger to all raw sentences and write to XML\n",
    "# 5. Run tool: https://www.cl.uzh.ch/en/texttechnologies/publications/downloads.html"
   ]
  }
 ],
 "metadata": {
  "kernelspec": {
   "display_name": "Python [conda env:ellipses]",
   "language": "python",
   "name": "conda-env-ellipses-py"
  },
  "language_info": {
   "codemirror_mode": {
    "name": "ipython",
    "version": 3
   },
   "file_extension": ".py",
   "mimetype": "text/x-python",
   "name": "python",
   "nbconvert_exporter": "python",
   "pygments_lexer": "ipython3",
   "version": "3.10.6"
  }
 },
 "nbformat": 4,
 "nbformat_minor": 5
}
