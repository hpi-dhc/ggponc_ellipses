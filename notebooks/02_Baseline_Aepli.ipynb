{
 "cells": [
  {
   "cell_type": "code",
   "execution_count": 4,
   "id": "823609c6-6f0b-4642-91c7-2cda1f9d555c",
   "metadata": {},
   "outputs": [],
   "source": [
    "# 1. Read all GGPONC sentences\n",
    "# 2. Run through compound splitter to produce Gertwol-like list\n",
    "# 3. Create word frequencies from GGPONC sentences\n",
    "# 4. Apply spaCy POS Tagger to all raw sentences and write to XML\n"
   ]
  },
  {
   "cell_type": "code",
   "execution_count": 2,
   "id": "95051174-cb41-4d35-ba67-7ef72c263221",
   "metadata": {},
   "outputs": [],
   "source": [
    "# 5. Run tool: https://www.cl.uzh.ch/en/texttechnologies/publications/downloads.html\n"
   ]
  },
  {
   "cell_type": "code",
   "execution_count": 3,
   "id": "1a54603d-d6b3-45ed-bffb-5f92dd165acb",
   "metadata": {},
   "outputs": [],
   "source": [
    "# 6. Read XML and turn into string\n",
    "# 7. Run evaluation and error analysis"
   ]
  },
  {
   "cell_type": "code",
   "execution_count": null,
   "id": "5d4c0959-bbb1-4f75-8f2a-80242ba1e637",
   "metadata": {},
   "outputs": [],
   "source": []
  }
 ],
 "metadata": {
  "kernelspec": {
   "display_name": "Python [conda env:ellipses]",
   "language": "python",
   "name": "conda-env-ellipses-py"
  },
  "language_info": {
   "codemirror_mode": {
    "name": "ipython",
    "version": 3
   },
   "file_extension": ".py",
   "mimetype": "text/x-python",
   "name": "python",
   "nbconvert_exporter": "python",
   "pygments_lexer": "ipython3",
   "version": "3.10.6"
  }
 },
 "nbformat": 4,
 "nbformat_minor": 5
}
