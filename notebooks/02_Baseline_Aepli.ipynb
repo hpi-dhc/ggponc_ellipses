{
 "cells": [
  {
   "cell_type": "code",
   "execution_count": 1,
   "metadata": {},
   "outputs": [],
   "source": [
    "import sys\n",
    "sys.path.append('../scripts')"
   ]
  },
  {
   "cell_type": "code",
   "execution_count": 2,
   "metadata": {
    "collapsed": false,
    "jupyter": {
     "outputs_hidden": false
    },
    "pycharm": {
     "name": "#%%\n"
    }
   },
   "outputs": [],
   "source": [
    "import pandas as pd\n",
    "import spacy\n",
    "import os\n",
    "from pathlib import Path\n",
    "from xml.dom import minidom\n",
    "from charsplit import Splitter\n",
    "from rules.ellipticCompounds import exchangeLemmas\n",
    "from evaluation import error_analysis, get_scores\n",
    "\n",
    "nlp = spacy.load(\"de_core_news_lg\")"
   ]
  },
  {
   "cell_type": "code",
   "execution_count": 3,
   "metadata": {},
   "outputs": [],
   "source": [
    "import hydra\n",
    "from hydra import compose, initialize\n",
    "\n",
    "hydra.core.global_hydra.GlobalHydra.instance().clear()\n",
    "initialize(config_path=Path('..'), job_name='foo', version_base='1.1')\n",
    "config = compose(config_name='experiment.yaml')"
   ]
  },
  {
   "cell_type": "code",
   "execution_count": 4,
   "metadata": {
    "collapsed": false,
    "jupyter": {
     "outputs_hidden": false
    },
    "pycharm": {
     "name": "#%%\n"
    }
   },
   "outputs": [],
   "source": [
    "tmp_path = Path('../tmp/baseline_files')\n",
    "tmp_path.mkdir(exist_ok=True, parents=True)"
   ]
  },
  {
   "cell_type": "code",
   "execution_count": 5,
   "metadata": {},
   "outputs": [],
   "source": [
    "path_xml_file = tmp_path / 'Original.xml'\n",
    "path_output_file = tmp_path / 'Output.xml'\n",
    "path_gertwol_file = tmp_path / 'gertwol.txt'\n",
    "path_word_freqs = tmp_path / 'wordFreqs.txt'\n",
    "tagged_path = '../compoundListTagged.txt'\n",
    "\n",
    "path_tokens = Path('..') / config.data.ggponc_plain_text"
   ]
  },
  {
   "cell_type": "markdown",
   "metadata": {},
   "source": [
    "# Load the Data"
   ]
  },
  {
   "cell_type": "code",
   "execution_count": 6,
   "metadata": {},
   "outputs": [],
   "source": [
    "ellipses = pd.read_csv(Path('..') / config.data.cnf_tsv_path, sep='\\t')\n",
    "not_ellipses = pd.read_csv(Path('..') / config.data.controls_tsv_path, sep='\\t')\n",
    "\n",
    "not_ellipses['full_resolution'] = not_ellipses.raw_sentence\n",
    "#ellipses = ellipses[ellipses.split == 'test']\n",
    "#not_ellipses = not_ellipses[not_ellipses.split == 'test']\n",
    "\n",
    "# Train and Test split?\n",
    "\n",
    "data = pd.concat([ellipses[['file', 'sentence_id', 'raw_sentence', 'full_resolution']], not_ellipses[['file', 'sentence_id', 'raw_sentence', 'full_resolution']]]).sort_values(by='file').reset_index(drop=True)"
   ]
  },
  {
   "cell_type": "code",
   "execution_count": 9,
   "metadata": {},
   "outputs": [
    {
     "data": {
      "text/plain": [
       "(6536, 4)"
      ]
     },
     "execution_count": 9,
     "metadata": {},
     "output_type": "execute_result"
    }
   ],
   "source": [
    "data.shape"
   ]
  },
  {
   "cell_type": "code",
   "execution_count": 10,
   "metadata": {},
   "outputs": [
    {
     "data": {
      "text/html": [
       "<div>\n",
       "<style scoped>\n",
       "    .dataframe tbody tr th:only-of-type {\n",
       "        vertical-align: middle;\n",
       "    }\n",
       "\n",
       "    .dataframe tbody tr th {\n",
       "        vertical-align: top;\n",
       "    }\n",
       "\n",
       "    .dataframe thead th {\n",
       "        text-align: right;\n",
       "    }\n",
       "</style>\n",
       "<table border=\"1\" class=\"dataframe\">\n",
       "  <thead>\n",
       "    <tr style=\"text-align: right;\">\n",
       "      <th></th>\n",
       "      <th>file</th>\n",
       "      <th>sentence_id</th>\n",
       "      <th>raw_sentence</th>\n",
       "      <th>full_resolution</th>\n",
       "    </tr>\n",
       "  </thead>\n",
       "  <tbody>\n",
       "    <tr>\n",
       "      <th>0</th>\n",
       "      <td>00_mundhoehlenkarzinom_0002.tsv</td>\n",
       "      <td>1</td>\n",
       "      <td>Hauptrisikofaktoren für das Auftreten eines Mu...</td>\n",
       "      <td>Hauptrisikofaktoren für das Auftreten eines Mu...</td>\n",
       "    </tr>\n",
       "    <tr>\n",
       "      <th>1</th>\n",
       "      <td>00_mundhoehlenkarzinom_0002.tsv</td>\n",
       "      <td>2</td>\n",
       "      <td>Bei chronischem Tabak- oder Alkoholabusus ist ...</td>\n",
       "      <td>Bei chronischem Tabakabusus oder Alkoholabusus...</td>\n",
       "    </tr>\n",
       "    <tr>\n",
       "      <th>2</th>\n",
       "      <td>00_mundhoehlenkarzinom_0005.tsv</td>\n",
       "      <td>12</td>\n",
       "      <td>Die hohe Diskrepanz zwischen p16 Immunhistoche...</td>\n",
       "      <td>Die hohe Diskrepanz zwischen p16 Immunhistoche...</td>\n",
       "    </tr>\n",
       "    <tr>\n",
       "      <th>3</th>\n",
       "      <td>00_mundhoehlenkarzinom_0005.tsv</td>\n",
       "      <td>18</td>\n",
       "      <td>Die Prävalenz von HPV16 E6 oder E7 Antikörpern...</td>\n",
       "      <td>Die Prävalenz von HPV16 E6 Antikörpern oder HP...</td>\n",
       "    </tr>\n",
       "    <tr>\n",
       "      <th>4</th>\n",
       "      <td>00_mundhoehlenkarzinom_0005.tsv</td>\n",
       "      <td>1</td>\n",
       "      <td>Findet man eine vornehmlich weiße Läsion der M...</td>\n",
       "      <td>Findet man eine vornehmlich weiße Läsion der M...</td>\n",
       "    </tr>\n",
       "  </tbody>\n",
       "</table>\n",
       "</div>"
      ],
      "text/plain": [
       "                              file  sentence_id  \\\n",
       "0  00_mundhoehlenkarzinom_0002.tsv            1   \n",
       "1  00_mundhoehlenkarzinom_0002.tsv            2   \n",
       "2  00_mundhoehlenkarzinom_0005.tsv           12   \n",
       "3  00_mundhoehlenkarzinom_0005.tsv           18   \n",
       "4  00_mundhoehlenkarzinom_0005.tsv            1   \n",
       "\n",
       "                                        raw_sentence  \\\n",
       "0  Hauptrisikofaktoren für das Auftreten eines Mu...   \n",
       "1  Bei chronischem Tabak- oder Alkoholabusus ist ...   \n",
       "2  Die hohe Diskrepanz zwischen p16 Immunhistoche...   \n",
       "3  Die Prävalenz von HPV16 E6 oder E7 Antikörpern...   \n",
       "4  Findet man eine vornehmlich weiße Läsion der M...   \n",
       "\n",
       "                                     full_resolution  \n",
       "0  Hauptrisikofaktoren für das Auftreten eines Mu...  \n",
       "1  Bei chronischem Tabakabusus oder Alkoholabusus...  \n",
       "2  Die hohe Diskrepanz zwischen p16 Immunhistoche...  \n",
       "3  Die Prävalenz von HPV16 E6 Antikörpern oder HP...  \n",
       "4  Findet man eine vornehmlich weiße Läsion der M...  "
      ]
     },
     "execution_count": 10,
     "metadata": {},
     "output_type": "execute_result"
    }
   ],
   "source": [
    "data.head()"
   ]
  },
  {
   "cell_type": "markdown",
   "metadata": {},
   "source": [
    "# Create XML Document"
   ]
  },
  {
   "cell_type": "code",
   "execution_count": 11,
   "metadata": {
    "collapsed": false,
    "jupyter": {
     "outputs_hidden": false
    },
    "pycharm": {
     "name": "#%%\n"
    }
   },
   "outputs": [],
   "source": [
    "root = minidom.Document()\n",
    "\n",
    "xml = root.createElement('corpus')\n",
    "xml.setAttribute('id', 'corpus')\n",
    "root.appendChild(xml)\n",
    "\n",
    "for i, f in enumerate(data[['file', 'raw_sentence']].groupby('file').first().index.to_list()):\n",
    "    file = root.createElement('file')\n",
    "    file.setAttribute('n', str(i))\n",
    "    xml.appendChild(file)\n",
    "\n",
    "    div = root.createElement('div')\n",
    "    file.appendChild(div)\n",
    "\n",
    "    for j, s in enumerate(data[data['file']==f]['raw_sentence']):\n",
    "        sentence = root.createElement('s')\n",
    "        sentence.setAttribute('lang', 'de')\n",
    "        sentence.setAttribute('n', f'{i}-{j}')\n",
    "        div.appendChild(sentence)\n",
    "\n",
    "        doc = nlp(s)\n",
    "        for k, token in enumerate(doc):\n",
    "            word = root.createElement('w')\n",
    "            word.setAttribute('lemma', token.lemma_)\n",
    "            word.setAttribute('n', f'{i}-{j}-{k}')\n",
    "            word.setAttribute('pos', token.tag_)\n",
    "            word.setAttribute('whitespace', token.whitespace_)\n",
    "            sentence.appendChild(word)\n",
    "            word.appendChild(root.createTextNode(token.text))\n",
    "\n",
    "with open(path_xml_file, \"wb\") as f:\n",
    "    f.write(root.toprettyxml(indent =\"\\t\", encoding=\"utf-8\"))"
   ]
  },
  {
   "cell_type": "markdown",
   "metadata": {},
   "source": [
    "# Produce Gertwol-like List and Gather Word Frequencies"
   ]
  },
  {
   "cell_type": "code",
   "execution_count": 12,
   "metadata": {
    "collapsed": false,
    "jupyter": {
     "outputs_hidden": false
    },
    "pycharm": {
     "name": "#%%\n"
    }
   },
   "outputs": [],
   "source": [
    "freq = {}\n",
    "dict = {}\n",
    "splitter = Splitter()\n",
    "special_characters = \"!@#$%^&*()-+?_=,<>/.[] \"\n",
    "\n",
    "for filename in os.listdir(path_tokens):\n",
    "    with open(path_tokens / filename , encoding='utf8') as f:\n",
    "        for word in f.readlines():\n",
    "            word = word[:-1]\n",
    "\n",
    "            # Gertwol Split\n",
    "            split = splitter.split_compound(word)[0]\n",
    "            if split[0] != 0:\n",
    "                dict[word] = '#'.join([split[1]] + [subword.lower() for subword in split[2:]])\n",
    "\n",
    "            # Word Freq\n",
    "            if word in special_characters:\n",
    "                continue\n",
    "            if word in freq:\n",
    "                freq[word] += 1\n",
    "            else:\n",
    "                freq[word] = 1\n",
    "\n",
    "with open(path_gertwol_file, 'w', encoding='utf-8') as f:\n",
    "    for key, value in dict.items():\n",
    "        f.write(f'{key}\\t{value}\\n')\n",
    "\n",
    "with open(path_word_freqs, 'w', encoding='utf-8') as f:\n",
    "    for key, value in freq.items():\n",
    "        f.write(f'{key}\\t{value}\\n')"
   ]
  },
  {
   "cell_type": "markdown",
   "metadata": {},
   "source": [
    "# Run Aepli Baseline"
   ]
  },
  {
   "cell_type": "code",
   "execution_count": 13,
   "metadata": {
    "collapsed": false,
    "jupyter": {
     "outputs_hidden": false
    },
    "pycharm": {
     "name": "#%%\n"
    }
   },
   "outputs": [
    {
     "name": "stdout",
     "output_type": "stream",
     "text": [
      "Alkohol#abusus\n",
      "Alkohol#abusus\n",
      "Hals#tumoren\n",
      "Funktions#erhalt\n",
      "Nährstoff#aufnahme\n",
      "Schluck#funktion\n",
      "Nikotin#assoziierte\n",
      "Kar#zinome\n",
      "Nikotin#assoziierte\n",
      "Kar#zinome\n",
      "Innenspangenre#sektion\n",
      "Schluck#funktion\n",
      "Schluck#funktion\n",
      "Knochen#transplantation\n",
      "Knochen#transplantation\n",
      "Mund#bodenkarzinom\n",
      "Chemotherapie#bedingte\n",
      "Chemotherapie#bedingte\n",
      "Radio#chemotherapie\n",
      "Mund#bodenkarzinoms\n",
      "Nerv#infiltration\n",
      "Radio#chemotherapie\n",
      "Radio#chemotherapie\n",
      "Mund#pflege\n",
      "ggf.\n",
      "Geschmacks#störungen\n",
      "Geschmacks#störungen\n",
      "Radio#chemotherapie\n",
      "Radio#chemotherapie\n",
      "Radio#chemotherapie\n",
      "Radio#chemotherapie\n",
      "Leistungs#zustand\n",
      "Immun#zellen\n",
      "Immun#zellen\n",
      "Gesamt#überleben\n",
      "Leistungs#zustand\n",
      "Leistungs#zustand\n",
      "Konvention#ell\n",
      "Radio#chemotherapie\n",
      "Schluck#störungen\n",
      "Schluck#störungen\n",
      "Schluck#rehabilitation\n",
      "Schluck#störung\n",
      "Schluck#störung\n",
      "Behandlungs#bedingten\n",
      "Beeinträchtig#ungen\n",
      "Sprech#vermögen\n",
      "Ref#lux\n",
      "Umwelt#faktoren\n",
      "Nicht#kardiakarzinom\n",
      "Tonsillen#karzinome\n",
      "Peutz-Jeghers#syndrom\n",
      "Eier#stockkrebs\n",
      "Familien#anamnese\n",
      "Missense#mutationen\n",
      "Familien#anamnese\n",
      "Pankreassaftref#lux\n",
      "Kohorten#studien\n",
      "Nar#row\n",
      "Nar#row\n",
      "Blutgefäß#invasion\n",
      "Blutgefäß#invasion\n",
      "Gesamt#überleben\n",
      "Gesamt#überleben\n",
      "auch\n",
      "Magenre#sektionen\n",
      "Pankreas#fisteln\n",
      "Chemo#therapie\n",
      "Mortalitäts#raten\n",
      "Post#operativen\n",
      "Mort#alität\n",
      "N#downstaging\n",
      "Magen#karzinom\n",
      "Therapie#rbaren\n",
      "Tox#izität\n",
      "Ver#gleich\n",
      "Progressions#freien\n",
      "Über#leben\n",
      "Meta#chron\n",
      "Bila#terale\n",
      "Krukenberg#tumoren\n",
      "Bila#terale\n",
      "Nebennieren#metastasen\n",
      "Absorptions#störungen\n",
      "Schluck#störungen\n",
      "Geschmack#störungen\n",
      "Muskel#erhalt\n",
      "Muskel#masse\n",
      "Erkrankungs#inzidenz\n",
      "Strahlen#therapie\n",
      "Radio#therapie\n",
      "Post#operative\n",
      "Gabe\n",
      "Post#operative\n",
      "Post#operative\n",
      "Appli#kation\n",
      "Nieren#erkrankungen\n",
      "Nieren#störung\n",
      "Protein#aufnahme\n",
      "Ernährungs#therapie\n",
      "Muskelaufbau#training\n",
      "Spezi#elles\n",
      "Behandlungs#verlauf\n",
      "Behandlungs#verlauf\n",
      "Ösophagus#karzinom\n",
      "Familien#interventionen\n",
      "Körper#orientierte\n",
      "Verf#ahren\n",
      "Strahlen#therapieinduzierten\n",
      "Tumor#bedingte\n",
      "Schm#erzen\n",
      "Strahlen#therapie\n",
      "Aroma#massage\n",
      "Strahlen#therapie\n",
      "Strahlen#therapie\n",
      "Strahlen#therapie\n",
      "Magen#karzinom\n",
      "Umwelt#faktoren\n",
      "Umwelt#faktoren\n",
      "Strahlen#therapie\n",
      "Magen#karzinom\n",
      "Gemüse#konsum\n",
      "Gemüse#konsums\n",
      "Gemüse#verzehr\n",
      "Gemüse#verzehr\n",
      "Mr#kolonographie\n",
      "Mr#kolonographie\n",
      "Mr#kolonographie\n",
      "Tumor#grading\n",
      "Angel#punkt\n",
      "High-Risk#gruppe\n",
      "Ver#gleich\n",
      "Dünndarm#karzinome\n",
      "Dünndarm#karzinome\n",
      "Amsterdam-I#\n",
      "Amsterdam#kriterien\n",
      "Talgdrüsen#adenome\n",
      "Urothel#karzinome\n",
      "Dritt#karzinome\n",
      "Papillen#adenome\n",
      "Ovarial#karzinome\n",
      "Hnpcc#syndrom\n",
      "Ovarial#karzinome\n",
      "Blutungs#risiko\n",
      "Erkrankungs#risiko\n",
      "Haut#karzinome\n",
      "Haut#karzinome\n",
      "Rektum#karzinome\n",
      "Mr#kolonografie\n",
      "Mr#kolonografie\n",
      "Rektum#karzinomen\n",
      "Radio#chemotherapie\n",
      "Tubul#ärer\n",
      "Res#ektion\n",
      "auch\n",
      "Rektum#operationen\n",
      "Anpassungs#störungen\n",
      "auch\n",
      "Ekel#gefühle\n",
      "Geruchs#ängste\n",
      "Nach#teile\n",
      "Blutgefäß#invasion\n",
      "Fernmetastasen#raten\n",
      "Pcr#raten\n",
      "Fernmetastasen#raten\n",
      "Patientenbezo#gener\n",
      "Krit#erien\n",
      "Therapie#bezogenen\n",
      "Lebens#qualität\n",
      "Braf#mutationen\n",
      "Braf#mutationsstatus\n",
      "Braf#mutationsstatus\n",
      "Braf#mutationsstatus\n",
      "Braf#mutationen\n",
      "Braf#mutationsstatus\n",
      "Patienten#charakteristika\n",
      "Braf#mutationsstatus\n",
      "Bolus\n",
      "Toxizitäts#daten\n",
      "Mik#rowellenablation\n",
      "Tumor#lokalisation\n",
      "Nachversorgungsverl#aufs\n",
      "Nachsorge#verlaufs\n",
      "Wechsel#wirkungen\n",
      "Karzinom#rezidiven\n",
      "Geschlechts#spezifische\n",
      "Mortalitäts#rate\n",
      "Geschlechts#spezifische\n",
      "Mortalitäts#rate\n",
      "Kohlenmonoxid#gehalt\n",
      "Kohlenmonoxid#gehalt\n",
      "Thorium#nuklide\n",
      "Druckfarben#industrie\n",
      "Löse#mitteln\n",
      "Löse#mitteln\n",
      "Stahl#erzeugung\n",
      "Pechhal#tiger\n",
      "Materia#lien\n",
      "Tonstein#industrie\n",
      "Wolfram#carbidhaltige\n",
      "Strahlenschutz#verordnung\n",
      "Sekundär#prävention\n",
      "Molekular#biologische\n",
      "Nieren#parameter\n",
      "Geräte#adaptierten\n",
      "Peri#kardkarzinose\n",
      "Nebennieren#metastasen\n",
      "Gefäßresektionsrän#der\n",
      "Gefäßresektionsrän#der\n",
      "Ros1#translokationen\n",
      "Leicht#rauchern\n",
      "Duplex#sonographie\n",
      "Duplex#sonographie\n",
      "Fehlverständ#nissen\n",
      "Strahlen#therapie\n",
      "Palliativ#beratung\n",
      "Palliativ#beratung\n",
      "Palliativ#beratung\n",
      "Palliativ#beratung\n",
      "Post#therapeutischen\n",
      "Gewebe#entnahmen\n",
      "Überlebens#zeit\n",
      "Rezidiv#freien\n",
      "R2#resektionen\n",
      "Letalitäts#raten\n",
      "5-Jahres#überlebens\n",
      "Strahlen#chemotherapie\n",
      "Letalitäts#muster\n",
      "Mamma#karzinom\n",
      "Ernährungs#beratung\n",
      "Dreifach#therapie\n",
      "Gesamt#überlebens\n",
      "Herz#funktion\n",
      "Car#boplatinhaltige\n",
      "Chemo\n",
      "III\n",
      "Pfs#vorteil\n",
      "Dritt#linie\n",
      "Zweit-Generations#tki\n",
      "OS\n",
      "Zweitgenerations#tki\n",
      "auch\n",
      "z.B.\n",
      "Ros1#fusionen\n",
      "Pall#iativen\n",
      "Pall#iativen\n",
      "Induktions#chemotherapie\n",
      "Kontra#laterale\n",
      "Mediastialbe#strahlung\n",
      "Strahlen#therapie\n",
      "Fünf#jahresüberleben\n",
      "Strahlentherapie#applikation\n",
      "Etoposid#dosierung\n",
      "Stammzell#transplantation\n",
      "Car#boplatinhaltige\n",
      "Organ#metastasen\n",
      "Voll#remission\n",
      "Voll#remission\n",
      "Carbo#platin\n",
      "Fünf#jahresüberlebensraten\n",
      "Zwei-Jahres#überlebensraten\n",
      "Irin#otecanhaltige\n",
      "Iv#hämorrhagien\n",
      "Iv#toxizitäten\n",
      "Polyvenylalkohol#partikel\n",
      "Laser#therapie\n",
      "Selbstexpandier#ende\n",
      "Metalls#tents\n",
      "Bewegungs#therapie\n",
      "Therapie#bedingte\n",
      "Defiz#ite\n",
      "Therapie#bedingte\n",
      "Beschw#erden\n",
      "Achtsamkeits#verfahren\n",
      "Strahlen#therapie\n",
      "Panik#reaktion\n",
      "Drittlinien#therapie\n",
      "Panik#komponente\n",
      "Hand#ventilatoren\n",
      "Aroma#therapie\n",
      "Gefühls#erlebnis\n",
      "Buprenorphin#trägersysteme\n",
      "Funktions#störungen\n",
      "Entspannungs#training\n",
      "Kranken#pflege\n",
      "Intraobserver#variabilität\n",
      "Screening#registern\n",
      "Zytologie#basierter\n",
      "Sekundär#prävention\n",
      "Screening#intervall\n",
      "Fünfjähri#ges\n",
      "Ausschluss#parameter\n",
      "Hochrisiko#situation\n",
      "Zwei#stufige\n",
      "Abklärungs#strategien\n",
      "Rna#testverfahren\n",
      "--\n",
      "Kolposkopie#registern\n",
      "30#jährigen\n",
      "65#jährigen\n",
      "29#jährigen\n",
      "Behandlungs#daten\n",
      "Behandlungs#daten\n",
      "Register#gesetz\n",
      "Zervixkarzinom#inzidenz\n",
      "Krebs#/histologieregister\n",
      "Krebs#/histologieregister\n",
      "Wiedervorstellung#algorithmen\n",
      "Wiedervorstellung#algorithmen\n",
      "auch\n",
      "Ablations#verfahren\n",
      "Post#operativer\n",
      "Blut#ung\n",
      "Ablations#verfahren\n",
      "Kurzzeit#komplikation\n",
      "Vaginal#karzinomen\n",
      "Spät#komplikationen\n",
      "Melanin#pigmenten\n",
      "Nieren#schwäche\n",
      "Vitamin#mangel\n",
      "Hand#diagnostik\n",
      "Hand#diagnostik\n",
      "Hand#diagnostik\n",
      "Sucht#mitteln\n",
      "auch\n",
      "Therapie#optionen\n",
      "Stuhl#kontrolle\n",
      "Versorgungs#kette\n",
      "Versorgungs#kette\n",
      "Abklärungs#algorithmen\n",
      "Schadens#aspekte\n",
      "Flüssigzytologie#verfahren\n",
      "Flüssigzytologie#verfahren\n",
      "Immunzyto#chemische\n",
      "Färb#ungen\n",
      "Mortalitäts#raten\n",
      "Früh#stadien\n",
      "Ster#berate\n",
      "Adenos#quamöse\n",
      "Karzi#nom\n",
      "Klein#zellige\n",
      "Gestagen#komponente\n",
      "Therapie#optionen\n",
      "Stuhl#kontrolle\n",
      "auch\n",
      "Meta#stasierten\n",
      "Sit#uation\n",
      "Versorgungs#kette\n",
      "Versorgungs#kette\n",
      "Makro#invasive\n",
      "Kar#zinome\n",
      "Prognose#definition\n",
      "Prognose#definition\n",
      "Therapie#wahl\n",
      "Fern#metastasen\n",
      "Spekulum#untersuchung\n",
      "Isoecho#gene\n",
      "Raum#forderung\n",
      "Klein#zellige\n",
      "Tnm#klassifikation\n",
      "Mehr#zahl\n",
      "für\n",
      "Perineuralscheiden#invasion\n",
      "Perineuralscheiden#invasion\n",
      "Perineuralscheiden#invasion\n",
      "Perineuralscheiden#invasion\n",
      "Diathermie#methoden\n",
      "Perineuralscheiden#invasion\n",
      "Perineuralscheiden#invasion\n",
      "Vaginal#karzinom\n",
      "Adeno#karzinom\n",
      "Plattenepithel#karzinom\n",
      "Makro#metastasen\n",
      "Makro#metastasen\n",
      "Adeno#karzinomen\n",
      "Langzeit#folgen\n",
      "Unter#therapien\n",
      "Langzeit#folgen\n",
      "Unter#therapien\n",
      "Prognose#faktoren\n",
      "Prognose#faktoren\n",
      "Prognose#faktoren\n",
      "Prognose#faktoren\n",
      "Post#operativen\n",
      "Komplikations#rate\n",
      "Endometrium#karzinom\n",
      "Therapie#prinzipien\n",
      "Ureter#verletzungen\n",
      "Becken#entzündungen\n",
      "Brachy#therapie\n",
      "Erkrankungs#freien\n",
      "Über#lebens\n",
      "Post#menopause\n",
      "Knap#per\n",
      "R0#resektion\n",
      "Adeno#karzinom\n",
      "Gesamt#überlebens\n",
      "Krankheits#freie\n",
      "Über#leben\n",
      "Über#leben\n",
      "Krankheits#freie\n",
      "Zervix#karzinom\n",
      "Endometrium#karzinom\n",
      "Endometrium#karzinom\n",
      "Tuben#karzinom\n",
      "Tuben#karzinom\n",
      "Tuben#karzinom\n",
      "Behandlungs#folgestörungen\n",
      "Risiko#faktoren\n",
      "Krebs#selbsthilfegruppen\n",
      "Sport#therapie\n",
      "Sport#therapie\n",
      "Risiko#faktoren\n",
      "Behandlungs#folgestörungen\n",
      "Mischinkonti#nenz\n",
      "Mischinkonti#nenz\n",
      "Chemo#therapie\n",
      "Becken#bodentraining\n",
      "Mischinkonti#nenz\n",
      "Therapie#folgen\n",
      "Therapie#angebote\n",
      "Metastasen#diagnose\n",
      "Rektos#kopie\n",
      "Organ#metastasen\n",
      "Leber#metastasen\n",
      "Radio#therapie\n",
      "Ovarial#karzinom\n",
      "Kombinations#therapie\n",
      "Stuhl#ableitung\n",
      "Chemo#therapie\n",
      "Lymphknoten#metastasen\n",
      "Lebendgeburten#raten\n",
      "Adeno#karzinom\n",
      "Tumor#stadium\n",
      "Hämato#genen\n",
      "Fern#metastasen\n",
      "Plattenepithel#karzinom\n",
      "Darmkrebs#zentren\n",
      "Therapie#algorithmus\n",
      "Dysplasie#sprechstunde\n",
      "Uicc#stadien\n",
      "Schutz#faktoren\n",
      "Verhältnis#prävention\n",
      "Verhältnis#prävention\n",
      "Uva#induzierter\n",
      "Dna#schäden\n",
      "Leber#transplantation\n",
      "Plattenepithel#karzinome\n",
      "Krankheits#bedingter\n",
      "Erh#öhung\n",
      "Prostata#krebs\n",
      "Brust#krebs\n",
      "Brust#krebs\n",
      "Gesundheits#bezogene\n",
      "Mot#ive\n",
      "Expositions#verhaltens\n",
      "Alkohol#konsum\n",
      "Interventions#programme\n",
      "Interventions#projekte\n",
      "Interventions#maßnahme\n",
      "Kommunikations#angebote\n",
      "Interventions#maßnahmen\n",
      "Interventions#maßnahmen\n",
      "Verhaltens#bezogenen\n",
      "Outcome#variablen\n",
      "Verhaltens#relevanten\n",
      "Interventions#maßnahme\n",
      "Interventions#maßnahme\n",
      "Verhaltens#ebene\n",
      "Brom#haltige\n",
      "Che#mikalien\n",
      "Hitze#bedingter\n",
      "Erkrank#ungen\n",
      "Nord#deutschlands\n",
      "Herzkreislauf#erkrankungen\n",
      "Angebots#vorsorge\n",
      "Mortalitäts#risiko\n",
      "#registergesetz\n",
      "Krebsfrüherkennungs#\n",
      "Bösarti#gen\n",
      "Läs#ionen\n",
      "Bestätigungs#diagnostik\n",
      "Mortalitäts#reduktion\n",
      "Geschlechts#krankheiten\n",
      "Screening#maßnahmen\n",
      "Zweit#untersuchung\n",
      "Tumor#dicke\n",
      "Geschlechts#krankheiten\n",
      "Geschlechts#krankheiten\n",
      "Lungen#krebs\n",
      "Interventions#programmen\n",
      "Vermittlungs#parameter\n",
      "Bösar#tiger\n",
      "Läs#ionen\n",
      "Interventions#programme\n",
      "Interventions#projekte\n",
      "Interventions#maßnahme\n",
      "Interventions#maßnahmen\n",
      "Interventions#maßnahmen\n",
      "Lang#fristige\n",
      "Effe#kte\n",
      "Schulungs#material\n",
      "Schulungs#angebote\n",
      "Interventions#maßnahme\n",
      "Verhaltens#ebene\n",
      "Familien#anamnese\n",
      "Nagel#veränderungen\n",
      "Bösarti#gen\n",
      "Haut#tumoren\n",
      "Exzisions#biopsien\n",
      "56\n",
      "Plattenepithelkarzinom#fällen\n",
      "Tertiärpräventions#maßnahmen\n",
      "Per#sönlichen\n",
      "Ana#mnese\n",
      "Gesic#herten\n",
      "Dia#gnosen\n",
      "Nagel#veränderungen\n",
      "Lang#fristiges\n",
      "Screen#ing\n",
      "Gelenk#befall\n",
      "R2#resektion\n",
      "R2#situation\n",
      "R2#situation\n",
      "R2#residualtumoren\n",
      "R2#residualtumoren\n",
      "R2#resezierten\n",
      "R2#situation\n",
      "R2#situation\n",
      "2-Jahres#überlebensraten\n",
      "Fernmetastasen#rezidive\n",
      "Melanom#zellen\n",
      "Behandlungs#verlauf\n",
      "Hinweis#zeichen\n",
      "Unterstützungs#bedürfnisse\n",
      "Drittlinien#therapien\n",
      "Hirn#metastasen\n",
      "Hirn#metastasen\n",
      "Mamma#karzinom\n",
      "Mamma#karzinom\n",
      "-Iv#patienten\n",
      "Iii#\n",
      "Hirn#metastasen\n",
      "Hirn#metastasen\n",
      "Lymph#invasion\n",
      "Makro#metastasierung\n",
      "Kopf#haut\n",
      "Hüft#bereich\n",
      "Hals#bereich\n",
      "Schulter#bereich\n",
      "In-Transit#metastasen\n",
      "In-Transit#metastasen\n",
      "In-Transit#metastasen\n",
      "In-Transit#metastasen\n",
      "Subkuta#nen\n",
      "Met#astasen\n",
      "Fern#metastasen\n",
      "Fern#metastasen\n",
      "Subkutan#metastasen\n",
      "Vis#zeralen\n",
      "Met#astasen\n",
      "Tumor#entwicklung\n",
      "Referenz#therapeutikum\n",
      "Grad-3#\n",
      "Ziel#gerichtete\n",
      "The#rapien\n",
      "Mykoplasma#infektionen\n",
      "Mykoplasma#infektionen\n",
      "Hyperthyreose#symptome\n",
      "Behandlungs#prozesses\n",
      "Mono#therapie\n",
      "Lymphknoten#metastasen\n",
      "Lymphknoten#metastasen\n",
      "Lymphknoten#metastasen\n",
      "Lymphknoten#metastasen\n",
      "Lymphknoten#metastasen\n",
      "Knochen#metastasen\n",
      "Knochen#metastasen\n",
      "Knochen#metastasen\n",
      "auch\n",
      "Lymphknoten#metastasen\n",
      "Beratungs#bedarf\n",
      "Dritt#rezidive\n",
      "Ziel#gerichteten\n",
      "The#rapien\n",
      "Teilhabe#störungen\n",
      "Staging#systeme\n",
      "Staging#system\n",
      "R2#resezierten\n",
      "Poly#chemotherapie\n",
      "Wechsel#wirkungen\n",
      "Strahlen#therapie\n",
      "Gemüse#reiche\n",
      "Ern#ährung\n",
      "Selbst#verantwortung\n",
      "Kog#nitive\n",
      "Fakt#oren\n",
      "Überwachungs#strategien\n",
      "Lebens#partner\n",
      "Chemo#therapie\n",
      "Puva#keratosen\n",
      "Hals#tumoren\n",
      "Haut#tumoren\n",
      "Haut#tumoren\n",
      "Haut#tumoren\n",
      "Shave#biopsie\n",
      "Shave#biopsie\n",
      "Patienten#wunsch\n",
      "Co2#laser\n",
      "8\n",
      "PDT\n",
      "Konvention#elle\n",
      "Sekundär#prophylaxe\n",
      "Placebo#creme\n",
      "42,9\n",
      "%\n",
      "9\n",
      "R2#resektion\n",
      "R2#resektion\n",
      "R2#situation\n",
      "R2#lokalisation\n",
      "Makro#metastase\n",
      "Berichts#wesen\n",
      "Pechhauterkrankung\n",
      "Angebots#vorsorge\n",
      "Kon#sensbasierte\n",
      "Maß#nahmen\n",
      "Therapie#optionen\n",
      "Spät#folgen\n",
      "Aufklärungs#bedürfnisse\n",
      "Sterbe#risiko\n",
      "Patientinnen#information\n",
      "Vakuum#biopsien\n",
      "Aufklärungs#gespräch\n",
      "Biopsie#rate\n",
      "Eier#stockkrebs\n",
      "Eier#stockkrebs\n",
      "Eier#stockkrebs\n",
      "Brca2#mutation\n",
      "Behandlungs#optionen\n",
      "Krankheits#themen\n",
      "Her2#negativität\n",
      "Her2#negativität\n",
      "Inzidenz#raten\n",
      "Eier#stockkrebs\n",
      "Brca2#genmutation\n",
      "Brca2#genmutation\n",
      "Brca2#genmutation\n",
      "Brca2#genmutation\n",
      "Vergrößerungs#aufnahmen\n",
      "Vakuum#biopsie\n",
      "Vakuum#biopsie\n",
      "Vakuum#biopsie\n",
      "Vakuum#biopsie\n",
      "Vakuum#biopsie\n",
      "Vakuum#biopsie\n",
      "Kontra#lateral\n",
      "Vakuum#biopsien\n",
      "System#therapie\n",
      "Vakuum#biopsien\n",
      "Vakuum#biopsien\n",
      "Progesteronrezeptor#status\n",
      "Her2#status\n",
      "Quetsch#artefakte\n",
      "Quetsch#artefakte\n",
      "Pgr#negativ\n",
      "Fal#sch\n",
      "Pgr#negativ\n",
      "Pgr#status\n",
      "Her2#status\n",
      "6\n",
      "Vakuum#biopsien\n",
      "Vakuum#biospien\n",
      "63\n",
      "Vakuum#biopsien\n",
      "Vakuum#biopsien\n",
      "Vakuum#biopsien\n",
      "Post#operative\n",
      "Bestrahlungs#behandlung\n",
      "R2#\n",
      "Infra#klavikulären\n",
      "Lymph#knoten\n",
      "Infra#klavikulären\n",
      "Lymph#knoten\n",
      "Infra#klavikulären\n",
      "Lymph#knoten\n",
      "Hormon#therapie\n",
      "Brustwand#infiltrationen\n",
      "Pgr#negativ\n",
      "Kontralatera#len\n",
      "Rezidiv#häufigkeiten\n",
      "Pgr#negativ\n",
      "Pgr#negativ\n",
      "Sterbe#risiken\n",
      "Häm#angiosis\n",
      "Krebs#therapiebasierten\n",
      "Knochendichte#unabhängigen\n",
      "Ver#ringerung\n",
      "auch\n",
      "Hormon#therapie\n",
      "Physik#alische\n",
      "The#rapie\n",
      "auch\n",
      "Ausdauer#training\n",
      "Sensomotoris#chem\n",
      "Sensomotoris#chem\n",
      "Train#ing\n",
      "Steht#raining\n",
      "Sensomotoris#chem\n",
      "Sensomotoris#chem\n",
      "Train#ing\n",
      "Zucker#reiche\n",
      "Fernmetastasierungs#rate\n",
      "Er#positiv\n",
      "Chemo#therapien\n",
      "Kyphoplas#tie\n",
      "Weichteil#metastasen\n",
      "Lebens#zielen\n",
      "Therapie#möglichkeiten\n",
      "Therapie#möglichkeiten\n",
      "Behandlungs#folgen\n",
      "Gruppen#intervention\n",
      "Tanz#therapie\n",
      "Tanz#therapie\n",
      "Behandlungs#phasen\n",
      "Krebs#erkrankung\n",
      "Tumor#typ\n",
      "Chemo#therapie\n",
      "Steht#raining\n",
      "Sensomotoris#chem\n",
      "Sensomotoris#chem\n",
      "Train#ing\n",
      "Spät#folgen\n",
      "Langzeit#nebenwirkungen\n",
      "Spät#toxizität\n",
      "Gelenk#schmerzen\n",
      "Müdigkeits#syndrom\n",
      "Radio#therapie\n",
      "auch\n",
      "Kraft#training\n",
      "Strahlen#therapie\n",
      "Ausdauer#training\n",
      "Hand#schuhförmigen\n",
      "Dysästhe#sien\n",
      "Bewegungs#therapie\n",
      "Tumor#assoziierte\n",
      "Bewegungs#therapie\n",
      "Gedächtnis#trainings\n",
      "Tertiär#prävention\n",
      "Alternativ#medizinische\n",
      "Strahlen#therapie\n",
      "Strahlen#therapie\n",
      "Taxol#therapie\n",
      "Gemüse#reiche\n",
      "Ern#ährung\n",
      "Strahlen#therapie\n",
      "Pr#negativem\n",
      "Mamma#karzinom\n",
      "Sequenz#regime\n",
      "Axilla#befunden\n",
      "Langzeit#nebenwirkungen\n",
      "Vakuum#biopsie\n",
      "Vakuum#biopsie\n",
      "B4#kategorie\n",
      "Vakuum#biopsien\n",
      "Vakuum#biopsie\n",
      "Vakuum#biopsie\n",
      "Her2#überexpression\n",
      "Her2#überexpression\n",
      "Her2#überexpression\n",
      "Vakuum#biopsien\n",
      "Progesteronrezeptor#status\n",
      "Metastasen#diagnostik\n",
      "Gemüse#aufnahme\n",
      "Gemüse#verzehr\n",
      "Gemüse#konsums\n",
      "Gemüse#konsum\n",
      "Leber#erkrankungen\n",
      "Zigarren#rauchen\n",
      "Rücken#schmerzen\n",
      "Rücken#schmerzen\n",
      "Verdachts#leveladaptiertes\n",
      "Vor#gehen\n",
      "Gallengangs#karzinome\n",
      "Rücken#schmerzen\n",
      "Kernspintomographie#untersuchungen\n",
      "Lymphgefäß#invasion\n",
      "Chemotherapie#dosis\n",
      "Zerebr#ale\n",
      "Met#astasen\n",
      "Sekundär#prävention\n",
      "Radiotherapie#expertenpanels\n",
      "Extra#hepatische\n",
      "Met#astasen\n",
      "Nebenbild#merkmalen\n",
      "Mrt#merkmale\n",
      "5-Jahres#überleben\n",
      "5-Jahres#überleben\n",
      "Tumor#größe\n",
      "Anz#ahl\n",
      "Mortalitäts#rate\n",
      "Mortalitäts#raten\n",
      "Subsegment#grenzen\n",
      "5-Jahres#überleben\n",
      "Langzeit#ergebnisse\n",
      "5-Jahres#überlebensrate\n",
      "5-Jahres#überlebensraten\n",
      "5-Jahres#überleben\n",
      "Segment#grenzen\n",
      "Kryo#ablation\n",
      "Mäßig#gradiger\n",
      "Por#taler\n",
      "Mrt#merkmale\n",
      "Drittlinien#therapie\n",
      "Sep#aration\n",
      "Muskelaufbau#training\n",
      "Spezi#elles\n",
      "Extrahepati#schen\n",
      "Cholangio#karzinomen\n",
      "auch\n",
      "Pankreas#karzinom\n",
      "T1A#tumoren\n",
      "T3#läsionen\n",
      "4-Jahres#überlebensrate\n",
      "Risiko#gruppen\n",
      "Gallen#blasenkarzinom\n",
      "Gemüse#konsum\n",
      "Haar#veränderungen\n",
      "Cava#beteiligung\n",
      "Perfusions#untersuchungen\n",
      "Aspirationsbiop#sie\n",
      "Therapie#verlaufs\n",
      "5-Jahres#rezidivfreiheit\n",
      "5-Jahres#rezidivfreiheit\n",
      "5-Jahres#rezidivfreiheit\n",
      "5-Jahres#rezidivfreiheit\n",
      "Tumorspezi#fisches\n",
      "Über#leben\n",
      "And#ere\n",
      "Met#astasen\n",
      "Progress#ionsraten\n",
      "Volumen#zunahme\n",
      "Kryoablat#ion\n",
      "Mrt#gestützten\n",
      "Nach#sorge\n",
      "Tumorspezi#fischen\n",
      "Über#leben\n",
      "Langzeit#ergebnisse\n",
      "Mrt#diagnostik\n",
      "Über#lebens\n",
      "Krebsspezi#fischen\n",
      "Doxorubi#cin\n",
      "Weichteil#metastasen\n",
      "Leber#filiae\n",
      "Chemo#therapie\n",
      "Chemo#therapie\n",
      "Mtor#inhibitoren\n",
      "Peri#operative\n",
      "Ris#iko\n",
      "Mtor#basierte\n",
      "The#rapie\n",
      "Bevacizumab#behandlung\n",
      "Bevacizumab#behandlung\n",
      "5-Jahres#überleben\n",
      "Radio#therapie\n",
      "5#jahresüberlebensraten\n",
      "Leber­#metastasen\n",
      "Post#operativen\n",
      "Kompli#kationen\n",
      "Post#operativen\n",
      "Kompli#kationen\n",
      "Gpa#index\n",
      "5-Jahres#überleben\n",
      "5-Jahres#überleben\n",
      "75\n",
      "Neuro#logischen\n",
      "Zust#and\n",
      "Kraft#training\n",
      "Palliativ#angebote\n",
      "Sterbe#phase\n",
      "Physio#therapie\n",
      "Behandlungs#bedingt\n",
      "Therapie#bedingten\n",
      "Problema#tik\n",
      "Therapie#bedingte\n",
      "Defiz#ite\n",
      "Paar#gespräche\n",
      "Behandlungs­#verlauf\n",
      "Angst#störungen\n",
      "Depres#sive\n",
      "Stör#ungen\n",
      "Behandlung#sassoziierten\n",
      "Eins#chränkungen\n",
      "Physio#therapie\n",
      "Alkohol#konsum\n",
      "23,9-fache\n",
      "Laugen#verätzungen\n",
      "Laugen#ingestion\n",
      "Stoff\n",
      "Bronchialkarzinom#inzidenz\n",
      "Magen#karzinoms\n",
      "Eus#staging\n",
      "Fern#metastasen\n",
      "Speise#wege\n",
      "Adeno#karzinom\n",
      "Tnm#klassifikation\n",
      "auch\n",
      "auch\n",
      "Adeno#karzinom\n",
      "Übergangs#karzinom\n",
      "auch\n",
      "Mortalitäts#konferenzen\n",
      "Nieren#insuffizienz\n",
      "Radio#therapie\n",
      "Post#operative\n",
      "Radio#chemotherapie\n",
      "Peri#operativen\n",
      "Chemo#therapie\n",
      "Peri#operativen\n",
      "The#rapie\n",
      "Post#operativ\n",
      "Plattenepithel#karzinomen\n",
      "Radio#chemotherapie\n",
      "Adeno#karzinome\n",
      "Therapie#bedingter\n",
      "Fol#gen\n",
      "Muskelaufbau#training\n",
      "Spezi#elles\n",
      "Dreifach#kombination\n",
      "Fluoro#pyrimidinbasierten\n",
      "Fluoro#pyrimidinhaltige\n",
      "Dreifach#kombination\n",
      "27\n",
      "Pati#enten\n",
      "Behandlung#sassoziierten\n",
      "Eins#chränkungen\n",
      "Angst#störungen\n",
      "Ster#berate\n",
      "Rachen#karzinom\n",
      "Teer#produkten\n",
      "Alkohol#abusus\n",
      "Alkohol#abusus\n",
      "Emissions#belasteter\n",
      "Umge#bung\n",
      "Perineuralscheiden#invasion\n",
      "Perineuralscheiden#invasion\n",
      "Farb#markierung\n",
      "Tumor#lokalisation\n",
      "Früh#stadien\n",
      "Erhöh#ten\n",
      "Alkohol#konsum\n",
      "Atem#störungen\n",
      "Total#entfernung\n",
      "Nach#teile\n",
      "Chemo#therapie\n",
      "Radio#chemotherapie\n",
      "Radio#chemotherapie\n",
      "Radio#chemotherapie\n",
      "Radio#chemotherapie\n",
      "Radio#chemotherapie\n",
      "auch\n",
      "Radio#chemotherapie\n",
      "Radio#chemotherapie\n",
      "Nephro#toxizität\n",
      "Beidsei#tige\n",
      "Neck\n",
      "Radio#chemotherapie\n",
      "Radio#chemotherapie\n",
      "Radio#chemotherapie\n",
      "Schluck#funktion\n",
      "Strahlen#therapie\n",
      "Platin#basierte\n",
      "Chemo#therapie\n",
      "Salvage#laryngektomie\n",
      "auch\n",
      "Modalitäts#intensivierung\n",
      "Funktions#erhalts\n",
      "Beidsei#tige\n",
      "Radio#chemotherapie\n",
      "Radio#chemotherapie\n",
      "Radio#chemotherapie\n",
      "Radio#chemotherapie\n",
      "Hypopharynxteilre#sektion\n",
      "Radio#chemotherapie\n",
      "Radio#chemotherapie\n",
      "Rezidiv#tumoren\n",
      "Rezidiv#situation\n",
      "Schluck#funktion\n",
      "Chemo#therapie\n",
      "Unterstützungs#möglichkeiten\n",
      "Stimm#training\n",
      "Unterstützungs#möglichkeiten\n",
      "Ernährungs#therapie\n",
      "Ernährungs#therapie\n",
      "Therapie#bedingten\n",
      "Therapie#bedingten\n",
      "Rehabilitations#fähigkeit\n",
      "Schmerz#therapie\n",
      "Allgemein#zustand\n",
      "Schluck#funktion\n",
      "Supraglotti#schen\n",
      "Aus#dehnung\n",
      "N#kategorie\n",
      "Blut#proben\n",
      "Genistein#anteil\n",
      "Tee#konsum\n",
      "Parametrien#infiltration\n",
      "Blutgefäß#einbrüchen\n",
      "Blutgefäß#einbrüchen\n",
      "Hinter#wand\n",
      "Makro#metastasen\n",
      "Makro#metastasen\n",
      "Zervix#karzinom\n",
      "Rezidiv#freien\n",
      "Über#leben\n",
      "Ovarial#karzinom\n",
      "Häm#angiosis\n",
      "High-Risk#patientinnen\n",
      "Rezidiv#risiko\n",
      "High-Risk#tumoren\n",
      "Chemo#therapie\n",
      "Chemo#therapie\n",
      "Progressions#freien\n",
      "Über#leben\n",
      "Krankheitsspezi#fischen\n",
      "Über#lebens\n",
      "Darm#symptomen\n",
      "Figo#stadieneinteilungen\n",
      "4-Felder#technik\n",
      "Lebensqualitäts#profil\n",
      "Makro#hämaturien\n",
      "Schleim#abgänge\n",
      "Tumor#typ\n",
      "Überlebens#raten\n",
      "Scheiden#stumpfrezidiv\n",
      "Scheiden#stumpfrezidiv\n",
      "Scheiden#stumpfrezidivs\n",
      "Hormon#therapie\n",
      "Tele#therapie\n",
      "Östrogen#rezeptor\n",
      "Östrogen#rezeptor\n",
      "Neutropenie#rate\n",
      "Belastungs#harninkontinenz\n",
      "Beckenwand#rezidiv\n",
      "Bösar#tige\n",
      "Tum#oren\n",
      "Familien#anamnese\n",
      "Familien#anamnese\n",
      "Familien#anamnese\n",
      "Cowden-Syndrom#patientinnen\n",
      "Cs#patientinnen\n",
      "Cs#patientinnen\n",
      "Cowden-Syndrom#anlageträgerinnen\n",
      "Nach#teilen\n",
      "Eier#stockkrebs\n",
      "Eier#stockkrebs\n",
      "Endometrium#karzinom\n",
      "Krisenbewältigungs#erfahrung\n",
      "Krisenbewältigungs#erfahrung\n",
      "Stuhl#inkontinenz\n",
      "Interaktions#fähigkeit\n",
      "Behandlungs#angebote\n",
      "Behandlungs#angebote\n",
      "Behandlung#sassoziierten\n",
      "Eins#chränkungen\n",
      "Progredienz#angst\n",
      "Harninkonti#nenz\n",
      "Therapie#optionen\n",
      "Aufklärungsfehlern\n",
      "Stuhl#kontrolle\n",
      "Infiltrations#symptomatik\n",
      "Therapie#folgestörungen\n",
      "Adhäsionsbesch#werden\n",
      "Darm#störungen\n",
      "Anpassungs#störungen\n",
      "Behandlungs#folgestörungen\n",
      "Risiko#faktoren\n",
      "Mischinkonti#nenz\n",
      "Mischinkonti#nenz\n",
      "Chemo#therapie\n",
      "Mischinkonti#nenz\n",
      "Becken#bodentraining\n",
      "Darmkrebs#zentren\n",
      "Therapie#algorithmus\n",
      "Mortalitäts#risiko\n",
      "Brca2#mutationsträgerinnen\n",
      "Tast#untersuchung\n",
      "Therapie#optionen\n",
      "Lebens#planung\n",
      "Therapie#optionen\n",
      "Lebens#planung\n",
      "Versorgungs#kette\n",
      "Versorgungs#kette\n",
      "Eierstockkrebs#syndrom\n",
      "Lynch#syndrom\n",
      "Mamma#karzinom\n",
      "Tuben#karzinom\n",
      "Mamma#karzinom\n",
      "Menopausen#alter\n",
      "Mäßig#gradigen\n",
      "Zella#typien\n",
      "Drüsen#strukturen\n",
      "Mäßig#gradiger\n",
      "Zella#typie\n",
      "auch\n",
      "Keimstrang#tumoren\n",
      "Interaortocaval#region\n",
      "Interaortocaval#region\n",
      "Erhaltungs#therapie\n",
      "Konsolidierungs#therapie\n",
      "Konsolidierungs#therapie\n",
      "Progressions#diagnose\n",
      "--\n",
      "Lebens#zielen\n",
      "Strahlen#therapie\n",
      "Androgenproduzier#ende\n",
      "Keimstrangstroma#tumoren\n",
      "Endokri#nen\n",
      "Endokri#nen\n",
      "The#rapie\n",
      "Milzgrößenab#schätzung\n",
      "Leber#größe\n",
      "Ins#besondere\n",
      "Leber#untersuchung\n",
      "Milzgrößenab#schätzung\n",
      "Milzgrößenab#schätzung\n",
      "Milzgrößenab#schätzung\n",
      "Therapie#einleitung\n",
      "Milzgrößenab#schätzung\n",
      "Ins#besondere\n",
      "Leber#untersuchung\n",
      "Cmv#infektion\n",
      "Rezidiv#diagnostik\n",
      "Rezidiv#diagnostik\n",
      "Magnetresonanztomo#graphischen\n",
      "Bild#gebung\n",
      "Virus#serologie\n",
      "Nieren#funktion\n",
      "Nieren#funktion\n",
      "Wechsel#wirkungen\n",
      "Milzgrößenab#schätzung\n",
      "Milzgrößenab#schätzung\n",
      "Cmv#serologie\n",
      "Virus#serologie\n",
      "Infiltrations#bedingten\n",
      "Zyt#openien\n",
      "Bedürfnis#lagen\n",
      "Krankheits#bedingte\n",
      "Schutz#faktoren\n",
      "Krebs#erkrankung\n",
      "Verlaufs#diagnostik\n",
      "Konsolidierungs#therapie\n",
      "Konsolidierungs#therapie\n",
      "Erhaltungs#therapie\n",
      "Chemoimmun#therapien\n",
      "Verlaufs#diagnostik\n",
      "Alem#tuzumabrefraktären\n",
      "Pati#enten\n",
      "Alem#tuzumabrefraktärer\n",
      "CLL\n",
      "Chemo#immuntherapie\n",
      "Chemo#immuntherapie\n",
      "Multi#morbidität\n",
      "Toxizitäts#risikos\n",
      "His#tologie\n",
      "Behandlungs#verlaufs\n",
      "Seh#störungen\n",
      "Behandlungs#verlauf\n",
      "Alltagskompetenz#defizite\n",
      "Transplantations#spezifischen\n",
      "Krankheits#freie\n",
      "Über#leben\n",
      "Salvage#therapie\n",
      "Transplantations#risikos\n",
      "Platin#haltige\n",
      "Proto#kolle\n",
      "Rezidiv#therapiee\n",
      "Knochen#markaspiration\n",
      "Makro#zytärer\n",
      "Anä#mie\n",
      "Knochen#markaspiration\n",
      "Citrat#blut\n",
      "Citrat#blut\n",
      "Thrombozyten#konzentrate\n",
      "Autoimmun#anämie\n",
      "Hepati#tis\n",
      "Strahlen#therapie\n",
      "Kohlenhydrat#haltige\n",
      "Pul#ver\n",
      "Strahlen#therapie\n",
      "Krankheits#assoziierte\n",
      "Symp#tome\n",
      "Krankheits#assoziierte\n",
      "Symp#tome\n",
      "Spät#komplikationen\n",
      "Leber#werte\n",
      "Ros#mutationen\n",
      "Splenomega#lie\n",
      "Lungen#funktionsuntersuchungen\n",
      "PFS\n",
      "Chemotherapie#auswahl\n",
      "Risiko#einteilung\n",
      "RT\n",
      "Therapie#fernen\n",
      "Todes#ursachen\n",
      "RT\n",
      "Langzeit#nebenwirkungen\n",
      "Langzeit#nebenwirkungen\n",
      "Vincristin#assoziierten\n",
      "Vincristin#assoziierten\n",
      "Neben#wirkungen\n",
      "Strahlen#therapie\n",
      "Risiko#adaptierten\n",
      "The#rapie\n",
      "Strahlen#therapie\n",
      "Feta#ler\n",
      "Doppler#kontrolle\n",
      "Feta#ler\n",
      "Doppler#kontrolle\n",
      "Os#raten\n",
      "Persistenz#verdacht\n",
      "Persistenz#verdacht\n",
      "Gallium#scan\n",
      "Non#hodgkin\n",
      "Hochdosis#therapie\n",
      "Hochdosis#chemotherapie\n",
      "Doppel#transplantation\n",
      "57\n",
      "%\n",
      "Rezidiv#therapie\n",
      "Ges#tagenhaltige\n",
      "Verhütungs#mittel\n",
      "Rezidiv#ängste\n",
      "Therapie#bedingte\n",
      "Eins#chränkungen\n",
      "Therapie#bedingte\n",
      "Funktions#störungen\n",
      "Mamma#karzinoms\n",
      "Eier#stockkrebs\n",
      "Eier#stockkrebs\n",
      "Eier#stockkrebs\n",
      "Totalno#daler\n",
      "Best#rahlung\n",
      "Chemo#therapie\n",
      "auch\n",
      "Chemo#therapie\n",
      "Apo#ptose\n",
      "Gen\n",
      "Fl#risiko\n",
      "Lebensstil#faktoren\n",
      "Nieren#werte\n",
      "Nieren#werte\n",
      "Hcv#infektionsstatus\n",
      "Hcv#infektionsstatus\n",
      "Rezidiv#diagnose\n",
      "Therapie#kontext\n",
      "Multi#morbidität\n",
      "Erhaltungs#therapie\n",
      "vor\n",
      "Diffu#sem\n",
      "Radioimmunchemotherapie#protokollen\n",
      "Radioimmunchemotherapie#protokollen\n",
      "38\n",
      "Pati#enten\n",
      "Obinotuzumab#gaben\n",
      "Darm#befall\n",
      "Bedürfnis#lage\n",
      "Bedürfnis#lagen\n",
      "Lang#zeitigen\n",
      "Jugend#alter\n",
      "Dritt#therapie\n",
      "Multi#fokal\n",
      "auf\n",
      "Erhaltungs#therapie\n",
      "in\n",
      "Nieren#werte\n",
      "Lungen#vorerkrankungen\n",
      "Erhaltungs#therapie\n",
      "Morbiditäts#risiko\n",
      "Fremdspender#transplantation\n",
      "Nachsorge#ct\n",
      "Chemoradio#therapie\n",
      "Chemoradio#therapie\n",
      "Geschlechts#adaptierten\n",
      "Vergleichs#gruppe\n",
      "Bedürfnis#orientiert\n",
      "Hodgkin#lymphom\n",
      "Geschlechts#adaptierten\n",
      "Vergleichs#gruppe\n",
      "Therapie#folgestörungen\n",
      "Rezidiv#therapie\n",
      "Lymphom#erkrankung\n",
      "Strahlentherapie#spezifische\n",
      "Folge#störungen\n",
      "Rehabilitations#ziele\n",
      "Physio#therapeutisches\n",
      "Trainings#programm\n",
      "Lymphom#erkrankung\n",
      "Therapie#durchführbarkeit\n",
      "Therapie#durchführbarkeit\n",
      "Lymphom#erkrankung\n",
      "Ordnungs#therapie\n",
      "Ordnungs#therapie\n",
      "Ordnungs#therapie\n",
      "Therapie#bedingte\n",
      "Defiz#ite\n",
      "Achtsamkeits#verfahren\n",
      "Therapie#bedingte\n",
      "Beschw#erden\n",
      "Versorgungs#möglichkeiten\n",
      "--\n",
      "Jugend#alter\n",
      "Rezidiv#risiko\n",
      "Harn#traktes\n",
      "Urin#tests\n",
      "High#grade\n",
      "Progressions#risiko\n",
      "Uicc#klassifikation\n",
      "Tumor#gewebe\n",
      "Gewebe#spiegel\n",
      "Makro#hämaturie\n",
      "Mikro#hämaturie\n",
      "Weißlicht#zystoskopie\n",
      "Risiko#adaptierten\n",
      "Behand#lung\n",
      "Risiko#adaptierten\n",
      "Behand#lung\n",
      "Progressions#risikos\n",
      "Post#operativen\n",
      "Hämoglobin#wertes\n",
      "Post#operative\n",
      "Hämoglobin#differenz\n",
      "High#risk\n",
      "Kar#zinome\n",
      "Low#risk\n",
      "Progress#ionsraten\n",
      "Rezidiv#raten\n",
      "Progress#ionsraten\n",
      "Progress#raten\n",
      "Primär#tumor\n",
      "Tumorspezi#fisches\n",
      "Tumorspezi#fisches\n",
      "Mortalitäts#risiko\n",
      "Rezidiv#risiko\n",
      "High#risk\n",
      "Progressions#risiko\n",
      "Erhaltungs#therapie\n",
      "Metastasierungs#risiko\n",
      "Progressions#senkung\n",
      "Erhaltungs#therapie\n",
      "Erhaltungs#therapie\n",
      "Progress#ionsrate\n",
      "Progress#ionsrate\n",
      "Erhaltungs#schema\n",
      "Fish#urinzytologie\n",
      "Erhaltungs#schema\n",
      "High#risk\n",
      "NMIBC\n",
      "High#risk\n",
      "NMIBC\n",
      "Patienten#charakteristika\n",
      "Patienten#charakteristika\n",
      "Elektro#motiv\n",
      "Rezidiv#tumor\n",
      "Komplikations#risiko\n",
      "Gesamt#überleben\n",
      "Gesamt#überleben\n",
      "Mortalitäts#rate\n",
      "auch\n",
      "Über#leben\n",
      "Krankheits#spezifische\n",
      "Nacht#kontinenzraten\n",
      "Major#komplikationen\n",
      "Adjuv#ante\n",
      "Chemo#therapien\n",
      "Post#operativen\n",
      "Maß#nahmen\n",
      "auch\n",
      "Post#operativer\n",
      "Kompli#kationen\n",
      "Post#operative\n",
      "Morbidi#tät\n",
      "30-Tage#morbidität\n",
      "15#jahres\n",
      "Überlebens#rate\n",
      "Rezidiv#tumor\n",
      "Progressions#freies\n",
      "Über#leben\n",
      "Rezidiv#tumoren\n",
      "R2#status\n",
      "Konsolidierungs#therapie\n",
      "Allgemein#chirurgie\n",
      "Kolon#conduit\n",
      "Selbst#katheterismus\n",
      "Kolon#conduit\n",
      "Haut#komplikationen\n",
      "Ureteranasto#mose\n",
      "Rezidiv#risiko\n",
      "Zervix#karzinom\n",
      "Adeno#karzinom\n",
      "Radio#chemotherapie\n",
      "Immun#therapie\n",
      "Zweit#linie\n",
      "Tumor#infiltrierenden\n",
      "Immun#zellen\n",
      "Zweitlinien#chemotherapie\n",
      "Carboplatin#haltigen\n",
      "Chemo#therapien\n",
      "Mono#therapien\n",
      "Mono#therapien\n",
      "And#ere\n",
      "And#ere\n",
      "System#therapie\n",
      "Immun#zellen\n",
      "Immun#zellen\n",
      "Immun#zellen\n",
      "Immun#zellen\n",
      "Ema#zulassung\n",
      "Kombinations#chemotherapie\n",
      "Kombinations#chemotherapie\n",
      "Mono#chemotherapie\n",
      "Über#leben\n",
      "Progressions#freie\n",
      "Kombinations#chemotherapie\n",
      "Chemo#therapie\n",
      "Chemo#therapie\n",
      "Krankheitsspezi#fisches\n",
      "Über#leben\n",
      "Mamma#karzinom\n",
      "Nachbeobachtungs#dauer\n",
      "Interventions#strategien\n",
      "Fraktion#ierten\n",
      "Radio#therapie\n",
      "Best#rahlung\n",
      "Fraktion#ierten\n",
      "Urin#untersuchung\n",
      "Chemotherapie#bedingte\n",
      "#fähigkeit\n",
      "Gedächtnis#trainings\n",
      "Tumor#assoziierte\n",
      "Hand#schuhförmigen\n",
      "Dysästhe#sien\n",
      "Behandlungs#phase\n",
      "Ausdauer#training\n",
      "Behandlungs#verlauf\n",
      "Zeit#nahe\n",
      "Unter#stützung\n",
      "Therapie#angebote\n",
      "Orgasmus#störungen\n",
      "Orgasmus#störungen\n",
      "Darm#inkontinenz\n",
      "Neuro#toxizität\n",
      "Progressions#risiko\n",
      "Progressions#risiko\n",
      "Progressions#risiko\n",
      "High#risk\n",
      "High#risk\n",
      "NMIBC\n",
      "Risiko#adaptierten\n",
      "Behand#lung\n",
      "Progressions#risiko\n",
      "Progress#ionsrate\n",
      "Inkonti#nenz\n",
      "Kontinenz#funktion\n",
      "Tumor#markern\n",
      "Gesamt#überleben\n",
      "Spät#toxizitäten\n",
      "Chemo#therapie\n",
      "Strahlen#therapie\n",
      "Lungen#metastase\n",
      "Strahlen#therapie\n",
      "Hoch#risikogruppe\n",
      "Lymph#gefäße\n",
      "Chemo#therapie\n",
      "Über#leben\n",
      "Krankheits#spezifische\n",
      "Marker#konstellation\n",
      "Nephro#toxizität\n",
      "Serumtumormarkerkont#rollen\n",
      "Gefäß#invasion\n",
      "mit\n",
      "Pei#schema\n",
      "Pei#schema\n",
      "Knochen#metastasen\n",
      "Salvage#therapie\n",
      "Gesamt#überleben\n",
      "Sertolizell#tumoren\n",
      "Ct#gesteuerte\n",
      "Feinnadelbiop#sie\n",
      "Jugend#alter\n",
      "Estradiol#spiegeln\n",
      "Pei#schema\n",
      "Sertolizell#tumore\n",
      "Operati#ver\n",
      "The#rapie\n",
      "Mrt#plan\n",
      "Nachsorge#gruppen\n",
      "Nachsorge#gruppen\n",
      "-Iib#seminom\n",
      "Iia#\n",
      "Chemo#therapie\n",
      "Langzeit#toxizität\n",
      "Langzeit#toxizität\n",
      "Libido#störungen\n",
      "Alkohol#konsum\n",
      "Chemo#therapie\n",
      "Bauchspeicheldrüsen#krebs\n",
      "Etoposid#gefäßtoxizität\n",
      "Strumpf#parästhesie\n",
      "Kniestrumpf-Parästhesie\n",
      "Behandlungs#phase\n",
      "Therapie#bedingte\n",
      "Konditions#minderung\n",
      "Kunst#therapie\n",
      "Bewegungs#angebote\n",
      "Life-Style#beratung\n",
      "Depres#sive\n",
      "Stör#ungen\n",
      "Behandlung#sassoziierten\n",
      "Eins#chränkungen\n",
      "Schwellen#tests\n",
      "Hyperecho#gene\n",
      "Ber#eiche\n",
      "auch\n",
      "Sekundär#biopsien\n",
      "Ct#befund\n",
      "Multi#fokales\n",
      "Auf#treten\n",
      "Symptom#vorbeugung\n",
      "Enddarm#beschwerden\n",
      "Therapie#verfahren\n",
      "Nach#teile\n",
      "Komorbiditäts#struktur\n",
      "Potenz#raten\n",
      "Kontinenz#ergebnisse\n",
      "Potenz#raten\n",
      "Bei#dseitig\n",
      "Potenz#raten\n",
      "Spät#toxizität\n",
      "Toxizität#daten\n",
      "Gi#toxizitäten\n",
      "Langzeit#androgendeprivationstherapie\n",
      "Allgemein#anästhesie\n",
      "Spät#toxizitäten\n",
      "Spät#nebenwirkungen\n",
      "Hormonablati#ver\n",
      "The#rapie\n",
      "Post#operative\n",
      "Kompli#kationen\n",
      "Ganzdrüsen#behandlung\n",
      "Salvage#therapie\n",
      "Perineal#schmerzen\n",
      "Krebs#spezifischen\n",
      "Überlebens#raten\n",
      "Krankheitsspezi#fischen\n",
      "Helium#gas\n",
      "Nach#teile\n",
      "Zehn-Jahre#überlebens\n",
      "Spät#folgen\n",
      "Makro#metastasen\n",
      "Metastasen#freien\n",
      "Über#lebens\n",
      "Hdr#brachytherapie\n",
      "Psa#adjustiert\n",
      "Brachy#therapie\n",
      "Strahlen#therapie\n",
      "Brachy#therapie\n",
      "Krebs#spezifischen\n",
      "Überlebens#raten\n",
      "Low#volume\n",
      "Low#risk\n",
      "Enzalutamid#therapie\n",
      "Überlege#nheit\n",
      "Krebs#spezifischem\n",
      "Über#leben\n",
      "Abirateron#arm\n",
      "Radionuklid#therapie\n",
      "Radionuklid#therapie\n",
      "Cyp3A4#inhibitoren\n",
      "Brca2#mutationen\n",
      "Pankreas#karzinom\n",
      "Placebo#gruppen\n",
      "Nachbeobachtungs#dauer\n",
      "Behandlungs#bedarf\n",
      "Einzel#übungen\n",
      "Sechsmona#tiger\n",
      "Kontroll#untersuchungen\n",
      "Leukozy#ten\n",
      "Palliativ#therapie\n",
      "Stuhl#kontrolle\n",
      "Langzeit#toxizität\n",
      "Stuhl#inkontinenz\n",
      "Mrt#techniken\n",
      "Therapie#optionen\n",
      "Behandlungs#verlauf\n",
      "Prostata#karzinom\n",
      "Nicht-Hpv#assoziierte\n",
      "Bila#terale\n",
      "Beidsei#tige\n",
      "vier\n",
      "Spät#komplikationen\n",
      "25\n",
      "Knochen#herde\n",
      "Knochen#herde\n",
      "T3#kategorien\n",
      "Funktionserhalt#ende\n",
      "Dioden#laser\n",
      "Dioden#laser\n",
      "Nd\n",
      "Tumor#größe\n",
      "Magnet#resonanztomografie\n",
      "Genitalö#dem\n",
      "Genitalö#dem\n",
      "Langzeit#komplikationen\n",
      "Taxan#haltige\n",
      "Blutgefäß#kompression\n",
      "Tumor#bedingten\n",
      "Neben#wirkungen\n",
      "Zwei#zeitige\n",
      "Bestrah#lungen\n",
      "Konditions#minderung\n",
      "Therapie#bedingte\n",
      "Therapie#folgen\n",
      "Behandlungs#phase\n",
      "Analrand#karzinome\n",
      "Analrand#karzinomen\n",
      "Analrand#karzinomen\n",
      "Nachsorge#empfehlungen\n",
      "Exzisions#biopsie\n",
      "Zytopatho#logische\n",
      "Sicher#ung\n",
      "Ct#befundes\n",
      "C#serologie\n",
      "Nieren#funktionsparameter\n",
      "Analrand#karzinomen\n",
      "Stoma#freien\n",
      "Nach#teile\n",
      "Hoch-Dosis#boost\n",
      "Hochdosis#boost\n",
      "Mitomycin#basierten\n",
      "Chemotherapie#studienarmen\n",
      "Über#lebens\n",
      "Krankheitsspezi#fischen\n",
      "Rezidiv#tumor\n",
      "Analrand#karzinom\n",
      "Rezidiv#tumor\n",
      "Rezidiv#tumor\n",
      "Rezidiv#tumor\n",
      "Rezidiv#tumor\n",
      "Rezidiv#tumor\n",
      "Radiochemotherapie#regime\n",
      "System#therapie\n",
      "Zweitlinien#therapie\n",
      "#chemotherapie\n",
      "Drittliniensystem#\n",
      "Kohorten#studien\n",
      "Radio#therapeutische\n",
      "Ans#ätze\n",
      "Analrand#karzinom\n",
      "Erhebungs#kriterien\n",
      "Problem#belastung\n",
      "Exsudat#bildung\n",
      "Physio#therapeutisches\n",
      "Trainings#programm\n",
      "Analrand#karzinomen\n",
      "Behandlungs#angebote\n",
      "Folge#probleme\n",
      "Bewegungs#therapie\n",
      "Liaison#diensten\n",
      "Fähigkeits#störungen\n",
      "Behandlungs#angeboten\n",
      "Fach#ärzte\n",
      "Familien#beratung\n",
      "Imagi#native\n",
      "Verf#ahren\n",
      "Narben#schmerzen\n",
      "Durch#schlafstörungen\n",
      "Hof#fnungslosigkeit\n",
      "Kontrollattribut#ionen\n",
      "Geschmacks#empfinden\n",
      "Darm#inkontinenz\n",
      "Gedächtnis#probleme\n",
      "Gedächtnis#probleme\n",
      "Therapie#bedingten\n",
      "Symp#tomen\n",
      "Behandlungs#möglichkeiten\n",
      "Fremd#gefährdung\n",
      "Unterstützungs#möglichkeiten\n",
      "Fremd#beurteilung\n",
      "Behandlungs#bedingter\n",
      "Fakt#oren\n",
      "Gruppen#interventionen\n",
      "Familien#beratung\n",
      "Hospiz#versorgung\n",
      "Hospiz#versorgung\n",
      "Muskel#abbau\n",
      "Uros#tomas\n",
      "Uros#tomas\n",
      "auch\n",
      "Ekel#gefühle\n",
      "Geruchs#ängste\n",
      "Geschmacks#sinns\n",
      "Erschöpfungs#bedingte\n",
      "Strahlen#therapie\n",
      "Kraft#training\n",
      "Bewegungs#therapie\n",
      "Krebs#therapie\n",
      "Entscheidungs#fähigkeit\n",
      "Belastungs#zustand\n",
      "Krebs#erkrankung\n",
      "Ehren#amtliche\n",
      "Hospiz#versorgung\n",
      "Hospiz#versorgung\n",
      "Belastungs#zustand\n",
      "Versorgungs#situtation\n",
      "Religions#gebundenen\n",
      "Wert#vorstellungen\n",
      "Schluck#störungen\n",
      "Schluck#störungen\n",
      "Schluck#störungen\n",
      "Sprech#hilfen\n",
      "Sprech#hilfen\n",
      "Weiter#bildung\n",
      "Weiter#bildung\n",
      "Lebens#zeit\n",
      "Hospiz#versorgung\n",
      "Angehörigen#bedürfnissen\n",
      "Hospiz#angeboten\n",
      "gar\n",
      "Vier#teilung\n",
      "Therapie#zielfindung\n",
      "Angehörigen#bedürfnisse\n",
      "Erhebungs#kriterien\n",
      "Behandlungs#plan\n",
      "Angehörigen#situation\n",
      "Versorgungs#praxis\n",
      "Fehl#versorgung\n",
      "Fehl#versorgung\n",
      "Problem#belastung\n",
      "Therapie#angeboten\n",
      "Problem#belastung\n",
      "Problem#belastung\n",
      "Therapie#planung\n",
      "Therapie#angeboten\n",
      "Therapie#angeboten\n",
      "Versorgungs#formen\n",
      "Bedürfnis#komplexität\n",
      "Voll#versorgung\n",
      "Notfall#konsultationen\n",
      "Therapie#möglichkeiten\n",
      "Behandlungs#pflege\n",
      "Versorgungs#planung\n",
      "Versorgungs#aufgaben\n",
      "Versorgungs#planung\n",
      "Trauer#begleitung\n",
      "Trauer#begleitung\n",
      "Trauer#begleitung\n",
      "Trauer#begleitung\n",
      "Behandlungs#situation\n",
      "Therapie#begrenzung\n",
      "Jugendlichen#palliativmedizin\n",
      "Therapie#begleitende\n",
      "Symp#tome\n",
      "Strahlen#therapie\n",
      "Energie#mangel\n",
      "Therapie#bedingter\n",
      "Fati#gue\n",
      "Kraft#training\n",
      "Gefühls#erlebnis\n",
      "Nervenkompressions#schmerz\n",
      "Drei#stufige\n",
      "Vorgehens#weise\n",
      "Toleranz#profil\n",
      "Kokain#gruppe\n",
      "Hydromorphon#präparate\n",
      "Hydromorphon#präparate\n",
      "Buprenorphin#trägersysteme\n",
      "Herz#insuffizienz\n",
      "Herz#insuffizienz\n",
      "Weichteil#schmerzen\n",
      "Strahlen#therapie\n",
      "Multi#dimensionalen\n",
      "Instru#menten\n",
      "Mehr#dimensionalen\n",
      "Ska#len\n",
      "Tisch#ventilator\n",
      "Panik#reaktion\n",
      "Drittlinien#therapie\n",
      "Panik#komponente\n",
      "Herz#erkrankung\n",
      "Herz#erkrankung\n",
      "Erregungs#zustände\n",
      "Hand#ventilatoren\n",
      "Hand#ventilatoren\n",
      "Nicht#hypoxämischer\n",
      "Durch#schlafstörungen\n",
      "Schlaf#dauer\n",
      "Einschlaf#episoden\n",
      "Leistungs#vermögen\n",
      "Schlaf#gewohnheiten\n",
      "Bewegungs#störungen\n",
      "Durch#schlafstörungen\n",
      "Aktivitäts#phase\n",
      "Ruhe#phasen\n",
      "Schlaf#qualität\n",
      "Alternativ#medizin\n",
      "Kontroll#gruppen\n",
      "Internet#basierte\n",
      "Rem#schlafanteil\n",
      "Schlaf#quantität\n",
      "Kontroll#gruppe\n",
      "Baseline#schlafprobleme\n",
      "Sucht#potential\n",
      "Schleimhaut#veränderungen\n",
      "Liquor#diagnostik\n",
      "Liquor#diagnostik\n",
      "Digitoxin#spiegel\n",
      "Nahrungs#aufnahme\n",
      "Bauch#einreibungen\n",
      "Kümme#löl\n",
      "Kümme#löl\n",
      "Nahrungs#aufnahme\n",
      "Salz#sekretion\n",
      "Stuhl#menge\n",
      "Mrt#untersuchungen\n",
      "Kombinations#therapie\n",
      "Nieren#insuffizienz\n",
      "Elektrolyt#haushalts\n",
      "Obstipations#prophylaxe\n",
      "Präfinal#phase\n",
      "Blasen#karzinomen\n",
      "Blasen#karzinomen\n",
      "Blasen#karzinomen\n",
      "Gewichts#verlust\n",
      "Leber#werte\n",
      "Rektum#wand\n",
      "Mortalitäts#rate\n",
      "Luft#ableitung\n",
      "Fremd#einschätzung\n",
      "Wund#anamnese\n",
      "Wund#bedingte\n",
      "Kri#sen\n",
      "Exsudatmenge,-farbe\n",
      "Atem#therapie\n",
      "Kampfer#haltige\n",
      "Prä#parate\n",
      "Schmerz#reduktion\n",
      "Honig#haltige\n",
      "Ver#bände\n",
      "Anästhesie#verfahren\n",
      "Stoma#beuteln\n",
      "Stoma#beutel\n",
      "Wundrand#schutz\n",
      "Drainage#beutel\n",
      "Wund#rand\n",
      "Fremd#stoffe\n",
      "Hydrofaserver#bände\n",
      "Spontan#blutung\n",
      "Kontakt#blutungen\n",
      "Entlastungs#möglichkeiten\n",
      "Unterstützungs#möglichkeiten\n",
      "Angst#inhalte\n",
      "Krankheits#verlauf\n",
      "Vertreibungs#erlebnissen\n",
      "Hyper#glykämie\n",
      "Fremd#gefährdung\n",
      "Abwehr#mechanismen\n",
      "Psy#chiatrisch\n",
      "Atem#fähigkeit\n",
      "Panik#zuständen\n",
      "Panik#störung\n",
      "Entwicklungsadä#quate\n",
      "Unter#stützung\n",
      "Beratungs#möglichkeiten\n",
      "Beratungs#möglichkeiten\n",
      "Jugendhospiz#dienste\n",
      "Schwer#gradig\n",
      "Gedächtnis#defizite\n",
      "Selbsttötungs#gedanken\n",
      "Vers#ündigung\n",
      "Krankheits#wahn\n",
      "Fremd#gefährdung\n",
      "Gruppen#therapie\n",
      "Todeswunsch#häufigkeit\n",
      "Lebens#wunsch\n",
      "Abn#ahme\n",
      "Gesprächs#angebot\n",
      "Kontroll#gruppe\n",
      "Lang#fristigen\n",
      "Steiger#ung\n",
      "Behandlungs#optionen\n",
      "Behandlungs#strategien\n",
      "Würde#zentrierte\n",
      "The#rapie\n",
      "Todes#wünsche\n",
      "Mord#wünsche\n",
      "Mord#wünschen\n",
      "Sekret#mobilisation\n",
      "Flüssigkeits#zufuhr\n",
      "Oberkörper#hochlagerung\n",
      "Magen#sonde\n",
      "Nahrungs#zufuhr\n",
      "Tumor#typ\n",
      "Chemo#therapie\n",
      "Oper#ativen\n",
      "Transfusions#therapie\n",
      "auch\n",
      "Unter#therapie\n",
      "Qtc#zeit\n",
      "Astro#viren\n",
      "Astro#viren\n",
      "Astro#viren\n",
      "Klebs#iella\n",
      "And#ere\n",
      "Virus#infektionen\n",
      "Kolos#kopie\n",
      "Bitter#stoffen\n",
      "Kontroll#gruppe\n",
      "Placebo#gruppe\n",
      "Trink#nahrung\n",
      "Elektrolyt#transportes\n",
      "Flüssigkeits#ausgleich\n",
      "Flüssigkeits#aufnahme\n",
      "Wirk#proteinen\n",
      "Multi#chemotherapien\n",
      "Fremdbeobachtungs#skalen\n",
      "Nagelbett#veränderungen\n",
      "Wimpern#veränderungen\n",
      "Basis#maßnahmen\n",
      "Basis#maßnahmen\n",
      "Basis#maßnahmen\n",
      "Haut#trockenheit\n",
      "Basis#maßnahmen\n",
      "Urin-Calcium#konzentrationen\n",
      "Therapie#optionen\n",
      "Basis#maßnahmen\n",
      "3\n",
      "Therapie#studien\n",
      "Placebo#gruppe\n",
      "Placebo#gruppe\n",
      "Nagel#toxizitäten\n",
      "Therapie#bedingte\n",
      "Hepato#toxizität\n",
      "Basis#maßnahmen\n",
      "Basis#maßnahmen\n",
      "Vierzellen#bäder\n",
      "Magnesium#infusionen\n",
      "Steht#raining\n",
      "Sensomotoris#chem\n",
      "Sensomotoris#chem\n",
      "Train#ing\n",
      "auch\n",
      "Ausdauer#training\n",
      "Physik#alische\n",
      "The#rapie\n",
      "Sensomotoris#chem\n",
      "Sensomotoris#chem\n",
      "Train#ing\n",
      "Therapie#studie\n",
      "Schilddrüsen#karzinom\n",
      "Schilddrüsen#karzinom\n",
      "Schilddrüsen#karzinom\n",
      "Schluck#störung\n",
      "Schilddrüsen#karzinomen\n",
      "Schilddrüsen#karzinomen\n",
      "Immun#therapie\n",
      "Immun#therapie\n",
      "Immun#therapie\n",
      "Tenden#ziell\n",
      "Strahlen#therapie\n",
      "Mammakarzinom#metastase\n",
      "Kyphoplas#tie\n",
      "0,3\n",
      "%\n",
      "Mamma#karzinom\n",
      "Mamma#karzinom\n",
      "Fraktionierungs#schemata\n",
      "3,0\n",
      "%\n",
      "Mamma#karzinom\n",
      "Mamma#karzinom\n",
      "Rücken#marktoxizität\n",
      "Mamma#karzinom\n",
      "Andro#gensuppressiven\n",
      "The#rapie\n",
      "Osteoporose#fördernde\n",
      "Med#ikamente\n",
      "Fraktur#prophylaxe\n",
      "Fraktur#prophylaxe\n",
      "Andro#gensuppressiven\n",
      "The#rapie\n",
      "hin\n",
      "Katheter#assoziierte\n",
      "Risiko#faktoren\n",
      "Mitomy#cin\n",
      "Mitomy#cin\n",
      "Mitomy#cin\n",
      "Sauerstoff#gabe\n",
      "Haut#reaktion\n",
      "Radio#chemotherapie\n",
      "Elektrolyt#transportes\n",
      "Dünndarm#sonde\n",
      "Placebo#gruppe\n",
      "Rektumkarzinom#patienten\n",
      "Spät#reaktion\n",
      "Natrium#alginat\n",
      "Spät#reaktion\n",
      "Zucker#haltige\n",
      "Lös#ungen\n",
      "Radio#chemotherapie\n",
      "Radio#chemotherapie\n",
      "Kom#binierte\n",
      "Ger#ingfügigen\n",
      "Beta-Adrenozeptoren#aktivität\n",
      "Immuno#therapie\n",
      "Radio#chemotherapie\n",
      "Paraesthe#sien\n",
      "Begleit#erkrankungen\n",
      "Parästhe#sien\n",
      "Ödem#prophylaxe\n",
      "Behandlungs#theorie\n",
      "Körper#akupunktur\n",
      "Körper#akupunktur\n",
      "Ohra#kupunktur\n",
      "Ohra#kupunktur\n",
      "Ohra#kupunktur\n",
      "Gas#trointestinalen\n",
      "Sham#akupunktur\n",
      "Durch#schlafstörungen\n",
      "Elektroakupunk#tur\n",
      "Ohra#kupunktur\n",
      "Sham#akupunktur\n",
      "Sham#akupunktur\n",
      "Durch#schlafstörungen\n",
      "Sprach#therapie\n",
      "Durch#schlafstörung\n",
      "Sprach#therapie\n",
      "Wechsel#wirkungen\n",
      "Anthroposophische#arzneimittel\n",
      "Cox#arthrose\n",
      "Radio#therapie\n",
      "Radio#therapie\n",
      "Balneo#therapie\n",
      "Balneo#therapie\n",
      "Moor#bäder\n",
      "Bewegungs#therapie\n",
      "Bewegungs#therapie\n",
      "Erwartungs#effekte\n",
      "Erwartungs#effekte\n",
      "Erwartungs#effekte\n",
      "Erwartungs#effekte\n",
      "Erwartungs#effekte\n",
      "Erwartungs#effekte\n",
      "Vergleichs#gruppe\n",
      "Erwartungs#effekte\n",
      "Kontroll#therapie\n",
      "Vergleichs#therapie\n",
      "Vergleichs#therapie\n",
      "Erwartungs#effekte\n",
      "Ganzkörper#hyperthermie\n",
      "Ganzkörper#hyperthermie\n",
      "Chemo#therapie\n",
      "Urin#kreatinin\n",
      "Bronchialkrebs#patienten\n",
      "Durch#schlafstörungen\n",
      "Durch#schlafstörungen\n",
      "Durch#schlafstörungen\n",
      "Schmerz#symptomatik\n",
      "Schmerz#symptomatik\n",
      "Schmerz#symptomatik\n",
      "Schmerz#symptomatik\n",
      "Kontroll#gruppe\n",
      "Akt#iven\n",
      "Depressivitäts#werte\n",
      "Vibrationstherapie#gruppe\n",
      "Stimmungs#daten\n",
      "Langzeit#effekte\n",
      "Berührungs#effekte\n",
      "Depressivitäts#werte\n",
      "Ein#fache\n",
      "Mas#sage\n",
      "Ver#gleich\n",
      "Wechsel#wirkungen\n",
      "Ovarial#karzinom\n",
      "Ovarial#karzinom\n",
      "Lungen#erkrankungen\n",
      "Stressveränderung\n",
      "Gebärmutterschleim#hautkrebs\n",
      "Widerstands#training\n",
      "Konzentrations#übungen\n",
      "Konzentrations#übungen\n",
      "Durch#schlafstörungen\n",
      "Durch#schlafstörungen\n",
      "Sitz#meditation\n",
      "Durch#schlafstörungen\n",
      "Durch#schlafstörungen\n",
      "-0.57\n",
      "Mind-Body#medizin\n",
      "Durch#schlafstörungen\n",
      "Durch#schlafstörungen\n",
      "Meditations#techniken\n",
      "Meditations#techniken\n",
      "Prostata#karzinom\n",
      "Durch#schlafstörungen\n",
      "Vini#yoga\n",
      "Spurenelement#produkte\n",
      "Kolokter#alem\n",
      "Karzi#nom\n",
      "Endometrium#karzinom\n",
      "Endometrium#karzinom\n",
      "Endometrium#karzinom\n",
      "Leber#problemen\n",
      "Endometrium#karzinom\n",
      "Körperfett#verlust\n",
      "Stör#faktoren\n",
      "Brachy#therapie\n",
      "Gebärmutter#halskrebs\n",
      "Alkohol#konsum\n",
      "Gebärmutter#halskrebs\n",
      "Verblindungs#prozess\n",
      "Radio#therapie\n",
      "2x\n",
      "1x\n",
      "2x\n",
      "Hoch#gradig\n",
      "Radio#therapie\n",
      "Gebärmutter#halskrebs\n",
      "Radio#therapie\n",
      "Gebärmutter#halskrebs\n",
      "Nieren#funktion\n",
      "Nacken#schmerzen\n",
      "Wechsel#wirkungen\n",
      "Wechsel#wirkungen\n",
      "Progressions#freie\n",
      "Über#leben\n",
      "Progressions#freies\n",
      "Progressions#freie\n",
      "Progressions#freien\n",
      "Über#leben\n",
      "Progressions#freie\n",
      "Über#leben\n",
      "Brustkrebs#patienten\n",
      "Brustkrebs#patienten\n",
      "Krankheits#freie\n",
      "Inter#vall\n",
      "Progressions#freies\n",
      "Rei#nen\n",
      "Chemotherapie#arm\n",
      "Progressions#freie\n",
      "Über#leben\n",
      "Progressions#freie\n",
      "Über#leben\n",
      "Shbg#entwicklung\n",
      "Progressions#freien\n",
      "Über#lebens\n",
      "Progressions#freie\n",
      "Über#leben\n",
      "Progress#ionsfreiem\n",
      "Über#leben\n",
      "Progressions#freies\n",
      "Progressions#freies\n",
      "Radio#therapie\n",
      "Magenkrebs#patienten\n",
      "Mesotheliom#patienten\n",
      "Mesotheliom#patienten\n",
      "Sport#therapie\n",
      "Kontroll#gruppe\n",
      "Azulen#lösung\n",
      "Geschmacks#wahrnehmung\n",
      "Chemo#therapie\n",
      "Chemo#therapie\n",
      "Placebo#arm\n",
      "Wechsel#wirkungen\n",
      "And#ere\n",
      "And#ere\n",
      "And#ere\n",
      "And#ere\n",
      "And#ere\n",
      "And#ere\n",
      "Analgetikaverbr#auch\n",
      "Radio#therapie\n",
      "And#ere\n",
      "And#ere\n",
      "And#ere\n",
      "And#ere\n",
      "And#ere\n",
      "And#ere\n",
      "Hals#tumoren\n",
      "Chemotherapie#induzierte\n",
      "Stom#atitis\n",
      "Chemo#therapie\n",
      "Wechsel#wirkungen\n",
      "Lebens#qualität\n",
      "Wechsel#wirkungen\n",
      "Placebo#behandlung\n",
      "Post#menopause\n",
      "Cr#einnahme\n",
      "Ema#vorgaben\n",
      "Verum#gruppe\n",
      "Wechsel#wirkungen\n",
      "Flüssig#extrakt\n",
      "Nieren#werte\n",
      "Wechsel#wirkungen\n",
      "Ausschluss#kriterien\n",
      "Maus#modellen\n",
      "Wechsel#wirkungen\n",
      "Brokkol#extrakt\n",
      "Brokkol#extrakt\n",
      "Brokkol#extrakt\n",
      "Zervix#karzinom\n",
      "Zervix#karzinom\n",
      "Zervix#karzinom\n",
      "Eier#stockkrebs\n",
      "Eier#stockkrebs\n",
      "Placebo#gruppen\n",
      "Darm#geschwüren\n",
      "Triterpen#saponine\n",
      "Bernstein#säure\n",
      "Strahlen#therapie\n",
      "Strahlen#therapie\n",
      "Kli#nische\n",
      "Stu#dien\n",
      "Chemo#therapie\n",
      "Chemo#therapie\n",
      "Wechsel#wirkungen\n",
      "Endometrium#krebs\n",
      "Endometrium#krebs\n",
      "35\n",
      "%\n",
      "Wechsel#wirkungen\n",
      "Progress#ion\n",
      "Ana#phylaktische\n",
      "Rea#ktion\n",
      "Kälte#empfindlichkeit\n",
      "Nieren#transplantation\n",
      "Nieren#transplantation\n",
      "Nieren#transplantationen\n",
      "Schluck#beschwerden\n",
      "Wechsel#wirkungen\n",
      "Hepatoprotekt#iven\n",
      "Eff#ekt\n",
      "Wechsel#wirkungen\n",
      "Kolorektal#karzinom\n",
      "Nieren#werte\n",
      "Chemo#therapie\n",
      "Fett#verlust\n",
      "Tumor#freiheit\n",
      "Hypo#kalzämie\n",
      "Leber#enzyme\n",
      "Schwarz#tee\n",
      "Trauben#saft\n",
      "Zusatz#stoffen\n",
      "Tabak#genuss\n",
      "Rna#ebene\n",
      "Rezidiv#fall\n",
      "Gefäß#resektion\n",
      "Gefäß#resektion\n",
      "Gefäß#resektion\n",
      "Resek#table\n",
      "Fern#metastasen\n",
      "Gesichts#bereich\n",
      "Peri#operative\n",
      "Chemo#therapie\n",
      "Chemo#therapie\n",
      "R2#resektion\n",
      "Weichgewebe#rekonstruktion\n",
      "Weichgewebe#rekonstruktion\n",
      "Gefäß#interponate\n",
      "Post#operative\n",
      "Strahlen#therapie\n",
      "R2#resektion\n",
      "Post#operativen\n",
      "Strahlen#therapie\n",
      "Post#operative\n",
      "Strahlen#therapie\n",
      "Post#operativen\n",
      "Strahlen#therapie\n",
      "Post#operative\n",
      "Strahlen#therapie\n",
      "Extremitäten#tumoren\n",
      "Enge#gefühl\n",
      "Sonografie#gesteuert\n",
      "Sarkom#patienten\n",
      "Retro#peritonealen\n",
      "Gesamt#überleben\n",
      "Lebens#planung\n",
      "Kommunikations#möglichkeiten\n",
      "Post#operative\n",
      "Strahlen#therapie\n",
      "Post#operative\n",
      "Strahlen#therapie\n",
      "Post#operative\n",
      "Strahlen#therapie\n",
      "Kombinations#therapie\n",
      "Kombinations#therapie\n",
      "Liposar#kom\n",
      "Kombinations#therapie\n",
      "Hirn#metastasen\n",
      "Ost#eosarkomen\n",
      "Osteosar#kome\n",
      "Tumor#größe\n",
      "Weichgewebe#metastasen\n",
      "Therapie#bedingter\n",
      "Folge#störungen\n",
      "Therapie#bedingte\n",
      "Sport#therapie\n",
      "Hilfs#angebote\n",
      "auch\n",
      "Angehörigen#bedürfnisse\n",
      "Pdgfra#mutationen\n",
      "Pdgfra#mutationen\n",
      "Drittlinien#therapie\n",
      "Spät#ere\n",
      "Behand#lung\n",
      "Dritt#linie\n",
      "Dritt#linie\n",
      "Mik#rowellenablation\n",
      "Sunitinib#versagen\n",
      "Mrt#abdomen\n",
      "FLT4\n",
      "Leber#metastasen\n",
      "Ganzkörper#ct\n",
      "Mik#rowellen­ablation\n",
      "Folge#therapie\n",
      "Radio#therapie\n",
      "1940 lemmas have been changed in ../tmp/baseline_files/Original.xml.\n",
      "Function name & frequency of undecidable cases which have not been changed:\n",
      "findPattern_6        246\n",
      "splitCompound_B      76\n",
      "findPattern_8        15\n",
      "rvsdSplitCompound_B  6\n",
      "findPattern_4        3\n",
      "splitCompound_A      2\n"
     ]
    }
   ],
   "source": [
    "exchangeLemmas(path_xml_file, path_output_file, path_gertwol_file, path_word_freqs, tagged_path)"
   ]
  },
  {
   "cell_type": "markdown",
   "metadata": {},
   "source": [
    "# Reconstruct Complete Sentences"
   ]
  },
  {
   "cell_type": "code",
   "execution_count": 14,
   "metadata": {
    "collapsed": false,
    "jupyter": {
     "outputs_hidden": false
    },
    "pycharm": {
     "name": "#%%\n"
    }
   },
   "outputs": [],
   "source": [
    "dom = minidom.parse(open(path_output_file))\n",
    "predictions = []\n",
    "\n",
    "sentences = dom.getElementsByTagName('s')\n",
    "for sentence in sentences:\n",
    "    tokens = sentence.getElementsByTagName('w')\n",
    "    sentence_tokens = []\n",
    "    for token in tokens:\n",
    "        word = token.childNodes[0].nodeValue\n",
    "        lemma = token.getAttribute('lemma')\n",
    "        if '+' in lemma:\n",
    "            word_parts = lemma.partition('+')\n",
    "            if token.getAttribute('pos') == 'TRUNC':\n",
    "                word = word.replace('-', word_parts[2])\n",
    "            else:\n",
    "                word = word.replace('-', word_parts[0])\n",
    "        whitespace = token.getAttribute('whitespace')\n",
    "        sentence_tokens.append(word + whitespace)\n",
    "\n",
    "    predictions.append(''.join(token for token in sentence_tokens))"
   ]
  },
  {
   "cell_type": "markdown",
   "metadata": {},
   "source": [
    "# Evaluate Baseline"
   ]
  },
  {
   "cell_type": "code",
   "execution_count": 15,
   "metadata": {
    "collapsed": false,
    "jupyter": {
     "outputs_hidden": false
    },
    "pycharm": {
     "name": "#%%\n"
    }
   },
   "outputs": [
    {
     "data": {
      "text/plain": [
       "{'eval/tp': 0.653610771113831,\n",
       " 'eval/tp_abs': 4272,\n",
       " 'eval/fn': 0.23271113831089352,\n",
       " 'eval/fn_abs': 1521,\n",
       " 'eval/fp': 0.008567931456548347,\n",
       " 'eval/fp_abs': 56,\n",
       " 'eval/replace': 0.0377906976744186,\n",
       " 'eval/replace_abs': 247,\n",
       " 'eval/insert': 0.0151468788249694,\n",
       " 'eval/insert_abs': 99,\n",
       " 'eval/delete': 0.030599755201958383,\n",
       " 'eval/delete_abs': 200,\n",
       " 'eval/complex': 0.02157282741738066,\n",
       " 'eval/complex_abs': 141,\n",
       " 'eval/edit_distance_rel': 0.7271554699792715,\n",
       " 'eval/exact_match': 0.653610771113831,\n",
       " 'eval/gleu': 0.9587613619221429,\n",
       " 'eval/edit_distance_abs': 3.2481640146878825}"
      ]
     },
     "execution_count": 15,
     "metadata": {},
     "output_type": "execute_result"
    }
   ],
   "source": [
    "ea = error_analysis(predictions, data.full_resolution, data.raw_sentence)\n",
    "get_scores(ea, \"eval\")"
   ]
  },
  {
   "cell_type": "code",
   "execution_count": 16,
   "metadata": {},
   "outputs": [],
   "source": [
    "from notebook_util import show_errors"
   ]
  },
  {
   "cell_type": "code",
   "execution_count": 17,
   "metadata": {},
   "outputs": [],
   "source": [
    "errors = pd.concat([ea, data[['file', 'sentence_id']].reset_index()], axis=1)"
   ]
  },
  {
   "cell_type": "code",
   "execution_count": 24,
   "metadata": {},
   "outputs": [],
   "source": [
    "errors[errors.error_type == 'fp'][['file', 'sentence_id', 'pred']].to_excel('../potential_missing.xlsx')"
   ]
  },
  {
   "cell_type": "code",
   "execution_count": 21,
   "metadata": {
    "collapsed": false,
    "jupyter": {
     "outputs_hidden": false
    },
    "pycharm": {
     "name": "#%%\n"
    }
   },
   "outputs": [
    {
     "data": {
      "text/markdown": [
       "0;01_magenkarzinom_0245.tsv;89"
      ],
      "text/plain": [
       "<IPython.core.display.Markdown object>"
      ]
     },
     "metadata": {},
     "output_type": "display_data"
    },
    {
     "data": {
      "text/markdown": [
       "__Input:__"
      ],
      "text/plain": [
       "<IPython.core.display.Markdown object>"
      ]
     },
     "metadata": {},
     "output_type": "display_data"
    },
    {
     "data": {
      "text/markdown": [
       "Der Einsatz neuer endoskopischer Verfahren (NBI, Chromoendoskopie, konfokale Lasermikroskopie) über eine Videoendoskopie hinaus in der Primärdiagnostik von Ösophagus- und Magenkarzinom ist routinemäßig nicht notwendig."
      ],
      "text/plain": [
       "<IPython.core.display.Markdown object>"
      ]
     },
     "metadata": {},
     "output_type": "display_data"
    },
    {
     "data": {
      "text/markdown": [
       "__Error type:__ fp"
      ],
      "text/plain": [
       "<IPython.core.display.Markdown object>"
      ]
     },
     "metadata": {},
     "output_type": "display_data"
    },
    {
     "data": {
      "text/html": [
       "\n",
       "<!DOCTYPE html PUBLIC \"-//W3C//DTD XHTML 1.0 Transitional//EN\"\n",
       "          \"http://www.w3.org/TR/xhtml1/DTD/xhtml1-transitional.dtd\">\n",
       "\n",
       "<html>\n",
       "<head>\n",
       "<meta content=\"text/html; charset=utf-8\" http-equiv=\"Content-Type\"/>\n",
       "<title></title>\n",
       "<style type=\"text/css\">\n",
       "        table.diff {font-family:Courier; border:medium;}\n",
       "        .diff_header {background-color:#e0e0e0}\n",
       "        td.diff_header {text-align:right}\n",
       "        .diff_next {background-color:#c0c0c0}\n",
       "        .diff_add {background-color:#aaffaa}\n",
       "        .diff_chg {background-color:#ffff77}\n",
       "        .diff_sub {background-color:#ffaaaa}\n",
       "    </style>\n",
       "</head>\n",
       "<body>\n",
       "<table cellpadding=\"0\" cellspacing=\"0\" class=\"diff\" id=\"difflib_chg_to155__top\" rules=\"groups\">\n",
       "<colgroup></colgroup> <colgroup></colgroup> <colgroup></colgroup>\n",
       "<colgroup></colgroup> <colgroup></colgroup> <colgroup></colgroup>\n",
       "<tbody>\n",
       "<tr><div nowrap=\"nowrap\">Der Einsatz neuer endoskopischer Verfahren (NBI, Chromoendoskopie, konfokale Lasermikroskopie) über eine Videoendoskopie hinaus in der Primärdiagnostik von Ösophagus<span class=\"diff_chg\">- und</span> Magenkarzinom ist routinemäßig nicht notwendig.</div><div nowrap=\"nowrap\">Der Einsatz neuer endoskopischer Verfahren (NBI, Chromoendoskopie, konfokale Lasermikroskopie) über eine Videoendoskopie hinaus in der Primärdiagnostik von Ösophagus<span class=\"diff_chg\">karzinom und</span> Magenkarzinom ist routinemäßig nicht notwendig.</div></tr>\n",
       "</tbody>\n",
       "</table>\n",
       "\n",
       "</body>\n",
       "</html>"
      ],
      "text/plain": [
       "<IPython.core.display.HTML object>"
      ]
     },
     "metadata": {},
     "output_type": "display_data"
    },
    {
     "data": {
      "text/markdown": [
       "1;03_lungenkarzinom_0209.tsv;23"
      ],
      "text/plain": [
       "<IPython.core.display.Markdown object>"
      ]
     },
     "metadata": {},
     "output_type": "display_data"
    },
    {
     "data": {
      "text/markdown": [
       "__Input:__"
      ],
      "text/plain": [
       "<IPython.core.display.Markdown object>"
      ]
     },
     "metadata": {},
     "output_type": "display_data"
    },
    {
     "data": {
      "text/markdown": [
       "„Knappe, klare Aussagen ohne Beschönigung, angepasst an den Sprachgebrauch des Patienten, beugen Miss- und Fehlverständnissen vor [REF], [REF]."
      ],
      "text/plain": [
       "<IPython.core.display.Markdown object>"
      ]
     },
     "metadata": {},
     "output_type": "display_data"
    },
    {
     "data": {
      "text/markdown": [
       "__Error type:__ fp"
      ],
      "text/plain": [
       "<IPython.core.display.Markdown object>"
      ]
     },
     "metadata": {},
     "output_type": "display_data"
    },
    {
     "data": {
      "text/html": [
       "\n",
       "<!DOCTYPE html PUBLIC \"-//W3C//DTD XHTML 1.0 Transitional//EN\"\n",
       "          \"http://www.w3.org/TR/xhtml1/DTD/xhtml1-transitional.dtd\">\n",
       "\n",
       "<html>\n",
       "<head>\n",
       "<meta content=\"text/html; charset=utf-8\" http-equiv=\"Content-Type\"/>\n",
       "<title></title>\n",
       "<style type=\"text/css\">\n",
       "        table.diff {font-family:Courier; border:medium;}\n",
       "        .diff_header {background-color:#e0e0e0}\n",
       "        td.diff_header {text-align:right}\n",
       "        .diff_next {background-color:#c0c0c0}\n",
       "        .diff_add {background-color:#aaffaa}\n",
       "        .diff_chg {background-color:#ffff77}\n",
       "        .diff_sub {background-color:#ffaaaa}\n",
       "    </style>\n",
       "</head>\n",
       "<body>\n",
       "<table cellpadding=\"0\" cellspacing=\"0\" class=\"diff\" id=\"difflib_chg_to156__top\" rules=\"groups\">\n",
       "<colgroup></colgroup> <colgroup></colgroup> <colgroup></colgroup>\n",
       "<colgroup></colgroup> <colgroup></colgroup> <colgroup></colgroup>\n",
       "<tbody>\n",
       "<tr><div nowrap=\"nowrap\">„Knappe, klare Aussagen ohne Beschönigung, angepasst an den Sprachgebrauch des Patienten, beugen Miss<span class=\"diff_chg\">-</span> und Fehlverständnissen vor [REF], [REF].</div><div nowrap=\"nowrap\">„Knappe, klare Aussagen ohne Beschönigung, angepasst an den Sprachgebrauch des Patienten, beugen Miss<span class=\"diff_chg\">nissen</span> und Fehlverständnissen vor [REF], [REF].</div></tr>\n",
       "</tbody>\n",
       "</table>\n",
       "\n",
       "</body>\n",
       "</html>"
      ],
      "text/plain": [
       "<IPython.core.display.HTML object>"
      ]
     },
     "metadata": {},
     "output_type": "display_data"
    },
    {
     "data": {
      "text/markdown": [
       "2;04_praevention-zervixkarzinom_0259.tsv;31"
      ],
      "text/plain": [
       "<IPython.core.display.Markdown object>"
      ]
     },
     "metadata": {},
     "output_type": "display_data"
    },
    {
     "data": {
      "text/markdown": [
       "__Input:__"
      ],
      "text/plain": [
       "<IPython.core.display.Markdown object>"
      ]
     },
     "metadata": {},
     "output_type": "display_data"
    },
    {
     "data": {
      "text/markdown": [
       "Für die Krebsdiagnose sollen Teer- oder Melaninpigmenten sowie Substanzzeichen wichtig sein."
      ],
      "text/plain": [
       "<IPython.core.display.Markdown object>"
      ]
     },
     "metadata": {},
     "output_type": "display_data"
    },
    {
     "data": {
      "text/markdown": [
       "__Error type:__ fp"
      ],
      "text/plain": [
       "<IPython.core.display.Markdown object>"
      ]
     },
     "metadata": {},
     "output_type": "display_data"
    },
    {
     "data": {
      "text/html": [
       "\n",
       "<!DOCTYPE html PUBLIC \"-//W3C//DTD XHTML 1.0 Transitional//EN\"\n",
       "          \"http://www.w3.org/TR/xhtml1/DTD/xhtml1-transitional.dtd\">\n",
       "\n",
       "<html>\n",
       "<head>\n",
       "<meta content=\"text/html; charset=utf-8\" http-equiv=\"Content-Type\"/>\n",
       "<title></title>\n",
       "<style type=\"text/css\">\n",
       "        table.diff {font-family:Courier; border:medium;}\n",
       "        .diff_header {background-color:#e0e0e0}\n",
       "        td.diff_header {text-align:right}\n",
       "        .diff_next {background-color:#c0c0c0}\n",
       "        .diff_add {background-color:#aaffaa}\n",
       "        .diff_chg {background-color:#ffff77}\n",
       "        .diff_sub {background-color:#ffaaaa}\n",
       "    </style>\n",
       "</head>\n",
       "<body>\n",
       "<table cellpadding=\"0\" cellspacing=\"0\" class=\"diff\" id=\"difflib_chg_to157__top\" rules=\"groups\">\n",
       "<colgroup></colgroup> <colgroup></colgroup> <colgroup></colgroup>\n",
       "<colgroup></colgroup> <colgroup></colgroup> <colgroup></colgroup>\n",
       "<tbody>\n",
       "<tr><div nowrap=\"nowrap\">Für die Krebsdiagnose sollen Teer<span class=\"diff_chg\">-</span> oder Melaninpigmenten sowie Substanzzeichen wichtig sein.</div><div nowrap=\"nowrap\">Für die Krebsdiagnose sollen Teer<span class=\"diff_chg\">pigmenten</span> oder Melaninpigmenten sowie Substanzzeichen wichtig sein.</div></tr>\n",
       "</tbody>\n",
       "</table>\n",
       "\n",
       "</body>\n",
       "</html>"
      ],
      "text/plain": [
       "<IPython.core.display.HTML object>"
      ]
     },
     "metadata": {},
     "output_type": "display_data"
    },
    {
     "data": {
      "text/markdown": [
       "3;05_zervixkarzinom_0407.tsv;13"
      ],
      "text/plain": [
       "<IPython.core.display.Markdown object>"
      ]
     },
     "metadata": {},
     "output_type": "display_data"
    },
    {
     "data": {
      "text/markdown": [
       "__Input:__"
      ],
      "text/plain": [
       "<IPython.core.display.Markdown object>"
      ]
     },
     "metadata": {},
     "output_type": "display_data"
    },
    {
     "data": {
      "text/markdown": [
       "Im Primärscreening durch die niedergelassenen Frauenärztinnen und Frauenärzte, die Abklärung und weiterführende Diagnostik in der zertifizierten Dysplasie-Sprechstunde oder -Einheit, Therapie in dem zertifizierten gynäkologischen Krebszentrum und Nachsorge bei der niedergelassenen Frauenärztin, beziehungsweise Frauenarzt soll der Patientin dann in einem geschlossenen System die bestmöglichste Versorgung zukommen lassen [REF]."
      ],
      "text/plain": [
       "<IPython.core.display.Markdown object>"
      ]
     },
     "metadata": {},
     "output_type": "display_data"
    },
    {
     "data": {
      "text/markdown": [
       "__Error type:__ fp"
      ],
      "text/plain": [
       "<IPython.core.display.Markdown object>"
      ]
     },
     "metadata": {},
     "output_type": "display_data"
    },
    {
     "data": {
      "text/html": [
       "\n",
       "<!DOCTYPE html PUBLIC \"-//W3C//DTD XHTML 1.0 Transitional//EN\"\n",
       "          \"http://www.w3.org/TR/xhtml1/DTD/xhtml1-transitional.dtd\">\n",
       "\n",
       "<html>\n",
       "<head>\n",
       "<meta content=\"text/html; charset=utf-8\" http-equiv=\"Content-Type\"/>\n",
       "<title></title>\n",
       "<style type=\"text/css\">\n",
       "        table.diff {font-family:Courier; border:medium;}\n",
       "        .diff_header {background-color:#e0e0e0}\n",
       "        td.diff_header {text-align:right}\n",
       "        .diff_next {background-color:#c0c0c0}\n",
       "        .diff_add {background-color:#aaffaa}\n",
       "        .diff_chg {background-color:#ffff77}\n",
       "        .diff_sub {background-color:#ffaaaa}\n",
       "    </style>\n",
       "</head>\n",
       "<body>\n",
       "<table cellpadding=\"0\" cellspacing=\"0\" class=\"diff\" id=\"difflib_chg_to158__top\" rules=\"groups\">\n",
       "<colgroup></colgroup> <colgroup></colgroup> <colgroup></colgroup>\n",
       "<colgroup></colgroup> <colgroup></colgroup> <colgroup></colgroup>\n",
       "<tbody>\n",
       "<tr><div nowrap=\"nowrap\">Im Primärscreening durch die niedergelassenen Frauenärztinnen und Frauenärzte, die Abklärung und weiterführende Diagnostik in der zertifizierten Dysplasie-Sprechstunde oder <span class=\"diff_chg\">-</span>Einheit, Therapie in dem zertifizierten gynäkologischen Krebszentrum und Nachsorge bei der niedergelassenen Frauenärztin, beziehungsweise Frauenarzt soll der Patientin dann in einem geschlossenen System die bestmöglichste Versorgung zukommen lassen [REF].</div><div nowrap=\"nowrap\">Im Primärscreening durch die niedergelassenen Frauenärztinnen und Frauenärzte, die Abklärung und weiterführende Diagnostik in der zertifizierten Dysplasie-Sprechstunde oder <span class=\"diff_chg\">Dysplasie</span>Einheit, Therapie in dem zertifizierten gynäkologischen Krebszentrum und Nachsorge bei der niedergelassenen Frauenärztin, beziehungsweise Frauenarzt soll der Patientin dann in einem geschlossenen System die bestmöglichste Versorgung zukommen lassen [REF].</div></tr>\n",
       "</tbody>\n",
       "</table>\n",
       "\n",
       "</body>\n",
       "</html>"
      ],
      "text/plain": [
       "<IPython.core.display.HTML object>"
      ]
     },
     "metadata": {},
     "output_type": "display_data"
    },
    {
     "data": {
      "text/markdown": [
       "4;06_hautkrebspraevention_0091.tsv;24"
      ],
      "text/plain": [
       "<IPython.core.display.Markdown object>"
      ]
     },
     "metadata": {},
     "output_type": "display_data"
    },
    {
     "data": {
      "text/markdown": [
       "__Input:__"
      ],
      "text/plain": [
       "<IPython.core.display.Markdown object>"
      ]
     },
     "metadata": {},
     "output_type": "display_data"
    },
    {
     "data": {
      "text/markdown": [
       "Zudem existieren emotions- und gesundheitsbezogene Motive für die Sonnenexposition."
      ],
      "text/plain": [
       "<IPython.core.display.Markdown object>"
      ]
     },
     "metadata": {},
     "output_type": "display_data"
    },
    {
     "data": {
      "text/markdown": [
       "__Error type:__ fp"
      ],
      "text/plain": [
       "<IPython.core.display.Markdown object>"
      ]
     },
     "metadata": {},
     "output_type": "display_data"
    },
    {
     "data": {
      "text/html": [
       "\n",
       "<!DOCTYPE html PUBLIC \"-//W3C//DTD XHTML 1.0 Transitional//EN\"\n",
       "          \"http://www.w3.org/TR/xhtml1/DTD/xhtml1-transitional.dtd\">\n",
       "\n",
       "<html>\n",
       "<head>\n",
       "<meta content=\"text/html; charset=utf-8\" http-equiv=\"Content-Type\"/>\n",
       "<title></title>\n",
       "<style type=\"text/css\">\n",
       "        table.diff {font-family:Courier; border:medium;}\n",
       "        .diff_header {background-color:#e0e0e0}\n",
       "        td.diff_header {text-align:right}\n",
       "        .diff_next {background-color:#c0c0c0}\n",
       "        .diff_add {background-color:#aaffaa}\n",
       "        .diff_chg {background-color:#ffff77}\n",
       "        .diff_sub {background-color:#ffaaaa}\n",
       "    </style>\n",
       "</head>\n",
       "<body>\n",
       "<table cellpadding=\"0\" cellspacing=\"0\" class=\"diff\" id=\"difflib_chg_to159__top\" rules=\"groups\">\n",
       "<colgroup></colgroup> <colgroup></colgroup> <colgroup></colgroup>\n",
       "<colgroup></colgroup> <colgroup></colgroup> <colgroup></colgroup>\n",
       "<tbody>\n",
       "<tr><div nowrap=\"nowrap\">Zudem existieren emotions<span class=\"diff_chg\">-</span> und gesundheitsbezogene Motive für die Sonnenexposition.</div><div nowrap=\"nowrap\">Zudem existieren emotions<span class=\"diff_chg\">bezogene</span> und gesundheitsbezogene Motive für die Sonnenexposition.</div></tr>\n",
       "</tbody>\n",
       "</table>\n",
       "\n",
       "</body>\n",
       "</html>"
      ],
      "text/plain": [
       "<IPython.core.display.HTML object>"
      ]
     },
     "metadata": {},
     "output_type": "display_data"
    },
    {
     "data": {
      "text/markdown": [
       "5;06_hautkrebspraevention_0091.tsv;1"
      ],
      "text/plain": [
       "<IPython.core.display.Markdown object>"
      ]
     },
     "metadata": {},
     "output_type": "display_data"
    },
    {
     "data": {
      "text/markdown": [
       "__Input:__"
      ],
      "text/plain": [
       "<IPython.core.display.Markdown object>"
      ]
     },
     "metadata": {},
     "output_type": "display_data"
    },
    {
     "data": {
      "text/markdown": [
       "Die Prädiktoren des Sonnenschutz- und Expositionsverhaltens sind vielfältig."
      ],
      "text/plain": [
       "<IPython.core.display.Markdown object>"
      ]
     },
     "metadata": {},
     "output_type": "display_data"
    },
    {
     "data": {
      "text/markdown": [
       "__Error type:__ fp"
      ],
      "text/plain": [
       "<IPython.core.display.Markdown object>"
      ]
     },
     "metadata": {},
     "output_type": "display_data"
    },
    {
     "data": {
      "text/html": [
       "\n",
       "<!DOCTYPE html PUBLIC \"-//W3C//DTD XHTML 1.0 Transitional//EN\"\n",
       "          \"http://www.w3.org/TR/xhtml1/DTD/xhtml1-transitional.dtd\">\n",
       "\n",
       "<html>\n",
       "<head>\n",
       "<meta content=\"text/html; charset=utf-8\" http-equiv=\"Content-Type\"/>\n",
       "<title></title>\n",
       "<style type=\"text/css\">\n",
       "        table.diff {font-family:Courier; border:medium;}\n",
       "        .diff_header {background-color:#e0e0e0}\n",
       "        td.diff_header {text-align:right}\n",
       "        .diff_next {background-color:#c0c0c0}\n",
       "        .diff_add {background-color:#aaffaa}\n",
       "        .diff_chg {background-color:#ffff77}\n",
       "        .diff_sub {background-color:#ffaaaa}\n",
       "    </style>\n",
       "</head>\n",
       "<body>\n",
       "<table cellpadding=\"0\" cellspacing=\"0\" class=\"diff\" id=\"difflib_chg_to160__top\" rules=\"groups\">\n",
       "<colgroup></colgroup> <colgroup></colgroup> <colgroup></colgroup>\n",
       "<colgroup></colgroup> <colgroup></colgroup> <colgroup></colgroup>\n",
       "<tbody>\n",
       "<tr><div nowrap=\"nowrap\">Die Prädiktoren des Sonnenschutz<span class=\"diff_chg\">-</span> und Expositionsverhaltens sind vielfältig.</div><div nowrap=\"nowrap\">Die Prädiktoren des Sonnenschutz<span class=\"diff_chg\">verhaltens</span> und Expositionsverhaltens sind vielfältig.</div></tr>\n",
       "</tbody>\n",
       "</table>\n",
       "\n",
       "</body>\n",
       "</html>"
      ],
      "text/plain": [
       "<IPython.core.display.HTML object>"
      ]
     },
     "metadata": {},
     "output_type": "display_data"
    },
    {
     "data": {
      "text/markdown": [
       "6;06_hautkrebspraevention_0162.tsv;14"
      ],
      "text/plain": [
       "<IPython.core.display.Markdown object>"
      ]
     },
     "metadata": {},
     "output_type": "display_data"
    },
    {
     "data": {
      "text/markdown": [
       "__Input:__"
      ],
      "text/plain": [
       "<IPython.core.display.Markdown object>"
      ]
     },
     "metadata": {},
     "output_type": "display_data"
    },
    {
     "data": {
      "text/markdown": [
       "Auf welcher Stufe der Verhaltensänderung sich die Zielperson bzw. der Proband jeweils befindet bzw. welche Konstellationen individueller Prädispositionen bei den Mitgliedern einer Zielgruppe vorliegen, beeinflusst auch ihre Empfänglichkeit für unterschiedliche Informations- und Kommunikationsangebote, die Teil einer Intervention sind, sowie deren Bewertung und die hieraus resultierenden Vermittlungspotenziale."
      ],
      "text/plain": [
       "<IPython.core.display.Markdown object>"
      ]
     },
     "metadata": {},
     "output_type": "display_data"
    },
    {
     "data": {
      "text/markdown": [
       "__Error type:__ fp"
      ],
      "text/plain": [
       "<IPython.core.display.Markdown object>"
      ]
     },
     "metadata": {},
     "output_type": "display_data"
    },
    {
     "data": {
      "text/html": [
       "\n",
       "<!DOCTYPE html PUBLIC \"-//W3C//DTD XHTML 1.0 Transitional//EN\"\n",
       "          \"http://www.w3.org/TR/xhtml1/DTD/xhtml1-transitional.dtd\">\n",
       "\n",
       "<html>\n",
       "<head>\n",
       "<meta content=\"text/html; charset=utf-8\" http-equiv=\"Content-Type\"/>\n",
       "<title></title>\n",
       "<style type=\"text/css\">\n",
       "        table.diff {font-family:Courier; border:medium;}\n",
       "        .diff_header {background-color:#e0e0e0}\n",
       "        td.diff_header {text-align:right}\n",
       "        .diff_next {background-color:#c0c0c0}\n",
       "        .diff_add {background-color:#aaffaa}\n",
       "        .diff_chg {background-color:#ffff77}\n",
       "        .diff_sub {background-color:#ffaaaa}\n",
       "    </style>\n",
       "</head>\n",
       "<body>\n",
       "<table cellpadding=\"0\" cellspacing=\"0\" class=\"diff\" id=\"difflib_chg_to161__top\" rules=\"groups\">\n",
       "<colgroup></colgroup> <colgroup></colgroup> <colgroup></colgroup>\n",
       "<colgroup></colgroup> <colgroup></colgroup> <colgroup></colgroup>\n",
       "<tbody>\n",
       "<tr><div nowrap=\"nowrap\">Auf welcher Stufe der Verhaltensänderung sich die Zielperson bzw. der Proband jeweils befindet bzw. welche Konstellationen individueller Prädispositionen bei den Mitgliedern einer Zielgruppe vorliegen, beeinflusst auch ihre Empfänglichkeit für unterschiedliche Informations<span class=\"diff_chg\">- und</span> Kommunikationsangebote, die Teil einer Intervention sind, sowie deren Bewertung und die hieraus resultierenden Vermittlungspotenziale.</div><div nowrap=\"nowrap\">Auf welcher Stufe der Verhaltensänderung sich die Zielperson bzw. der Proband jeweils befindet bzw. welche Konstellationen individueller Prädispositionen bei den Mitgliedern einer Zielgruppe vorliegen, beeinflusst auch ihre Empfänglichkeit für unterschiedliche Informations<span class=\"diff_chg\">angebote und</span> Kommunikationsangebote, die Teil einer Intervention sind, sowie deren Bewertung und die hieraus resultierenden Vermittlungspotenziale.</div></tr>\n",
       "</tbody>\n",
       "</table>\n",
       "\n",
       "</body>\n",
       "</html>"
      ],
      "text/plain": [
       "<IPython.core.display.HTML object>"
      ]
     },
     "metadata": {},
     "output_type": "display_data"
    },
    {
     "data": {
      "text/markdown": [
       "7;06_hautkrebspraevention_0171.tsv;17"
      ],
      "text/plain": [
       "<IPython.core.display.Markdown object>"
      ]
     },
     "metadata": {},
     "output_type": "display_data"
    },
    {
     "data": {
      "text/markdown": [
       "__Input:__"
      ],
      "text/plain": [
       "<IPython.core.display.Markdown object>"
      ]
     },
     "metadata": {},
     "output_type": "display_data"
    },
    {
     "data": {
      "text/markdown": [
       "Davon betroffen war nicht nur der süddeutsche Raum, sondern auch Teile West- und Norddeutschlands, wo im Rahmen von Hitzewellen erhöhte Mortalitätsraten verzeichnet wurden [REF]."
      ],
      "text/plain": [
       "<IPython.core.display.Markdown object>"
      ]
     },
     "metadata": {},
     "output_type": "display_data"
    },
    {
     "data": {
      "text/markdown": [
       "__Error type:__ fp"
      ],
      "text/plain": [
       "<IPython.core.display.Markdown object>"
      ]
     },
     "metadata": {},
     "output_type": "display_data"
    },
    {
     "data": {
      "text/html": [
       "\n",
       "<!DOCTYPE html PUBLIC \"-//W3C//DTD XHTML 1.0 Transitional//EN\"\n",
       "          \"http://www.w3.org/TR/xhtml1/DTD/xhtml1-transitional.dtd\">\n",
       "\n",
       "<html>\n",
       "<head>\n",
       "<meta content=\"text/html; charset=utf-8\" http-equiv=\"Content-Type\"/>\n",
       "<title></title>\n",
       "<style type=\"text/css\">\n",
       "        table.diff {font-family:Courier; border:medium;}\n",
       "        .diff_header {background-color:#e0e0e0}\n",
       "        td.diff_header {text-align:right}\n",
       "        .diff_next {background-color:#c0c0c0}\n",
       "        .diff_add {background-color:#aaffaa}\n",
       "        .diff_chg {background-color:#ffff77}\n",
       "        .diff_sub {background-color:#ffaaaa}\n",
       "    </style>\n",
       "</head>\n",
       "<body>\n",
       "<table cellpadding=\"0\" cellspacing=\"0\" class=\"diff\" id=\"difflib_chg_to162__top\" rules=\"groups\">\n",
       "<colgroup></colgroup> <colgroup></colgroup> <colgroup></colgroup>\n",
       "<colgroup></colgroup> <colgroup></colgroup> <colgroup></colgroup>\n",
       "<tbody>\n",
       "<tr><div nowrap=\"nowrap\">Davon betroffen war nicht nur der süddeutsche Raum, sondern auch Teile West<span class=\"diff_chg\">-</span> und Norddeutschlands, wo im Rahmen von Hitzewellen erhöhte Mortalitätsraten verzeichnet wurden [REF].</div><div nowrap=\"nowrap\">Davon betroffen war nicht nur der süddeutsche Raum, sondern auch Teile West<span class=\"diff_chg\">deutschlands</span> und Norddeutschlands, wo im Rahmen von Hitzewellen erhöhte Mortalitätsraten verzeichnet wurden [REF].</div></tr>\n",
       "</tbody>\n",
       "</table>\n",
       "\n",
       "</body>\n",
       "</html>"
      ],
      "text/plain": [
       "<IPython.core.display.HTML object>"
      ]
     },
     "metadata": {},
     "output_type": "display_data"
    },
    {
     "data": {
      "text/markdown": [
       "8;06_hautkrebspraevention_0305.tsv;19"
      ],
      "text/plain": [
       "<IPython.core.display.Markdown object>"
      ]
     },
     "metadata": {},
     "output_type": "display_data"
    },
    {
     "data": {
      "text/markdown": [
       "__Input:__"
      ],
      "text/plain": [
       "<IPython.core.display.Markdown object>"
      ]
     },
     "metadata": {},
     "output_type": "display_data"
    },
    {
     "data": {
      "text/markdown": [
       "Dabei sind Rückschlüsse auf Vermittlungspotenziale einzelner Darbietungsformen oder Programmprofile nur möglich, wenn die Darstellungs- und Vermittlungsparameter systematisch variieren, sonstige Parameter (z. B. Zielgruppe, Kommunikationsinhalte) konstant gehalten und Störgrößen kontrolliert bzw. ausgeschaltet werden."
      ],
      "text/plain": [
       "<IPython.core.display.Markdown object>"
      ]
     },
     "metadata": {},
     "output_type": "display_data"
    },
    {
     "data": {
      "text/markdown": [
       "__Error type:__ fp"
      ],
      "text/plain": [
       "<IPython.core.display.Markdown object>"
      ]
     },
     "metadata": {},
     "output_type": "display_data"
    },
    {
     "data": {
      "text/html": [
       "\n",
       "<!DOCTYPE html PUBLIC \"-//W3C//DTD XHTML 1.0 Transitional//EN\"\n",
       "          \"http://www.w3.org/TR/xhtml1/DTD/xhtml1-transitional.dtd\">\n",
       "\n",
       "<html>\n",
       "<head>\n",
       "<meta content=\"text/html; charset=utf-8\" http-equiv=\"Content-Type\"/>\n",
       "<title></title>\n",
       "<style type=\"text/css\">\n",
       "        table.diff {font-family:Courier; border:medium;}\n",
       "        .diff_header {background-color:#e0e0e0}\n",
       "        td.diff_header {text-align:right}\n",
       "        .diff_next {background-color:#c0c0c0}\n",
       "        .diff_add {background-color:#aaffaa}\n",
       "        .diff_chg {background-color:#ffff77}\n",
       "        .diff_sub {background-color:#ffaaaa}\n",
       "    </style>\n",
       "</head>\n",
       "<body>\n",
       "<table cellpadding=\"0\" cellspacing=\"0\" class=\"diff\" id=\"difflib_chg_to163__top\" rules=\"groups\">\n",
       "<colgroup></colgroup> <colgroup></colgroup> <colgroup></colgroup>\n",
       "<colgroup></colgroup> <colgroup></colgroup> <colgroup></colgroup>\n",
       "<tbody>\n",
       "<tr><div nowrap=\"nowrap\">Dabei sind Rückschlüsse auf Vermittlungspotenziale einzelner Darbietungsformen oder Programmprofile nur möglich, wenn die Darstellungs<span class=\"diff_chg\">- und</span> Vermittlungsparameter systematisch variieren, sonstige Parameter (z. B. Zielgruppe, Kommunikationsinhalte) konstant gehalten und Störgrößen kontrolliert bzw. ausgeschaltet werden.</div><div nowrap=\"nowrap\">Dabei sind Rückschlüsse auf Vermittlungspotenziale einzelner Darbietungsformen oder Programmprofile nur möglich, wenn die Darstellungs<span class=\"diff_chg\">parameter und</span> Vermittlungsparameter systematisch variieren, sonstige Parameter (z. B. Zielgruppe, Kommunikationsinhalte) konstant gehalten und Störgrößen kontrolliert bzw. ausgeschaltet werden.</div></tr>\n",
       "</tbody>\n",
       "</table>\n",
       "\n",
       "</body>\n",
       "</html>"
      ],
      "text/plain": [
       "<IPython.core.display.HTML object>"
      ]
     },
     "metadata": {},
     "output_type": "display_data"
    },
    {
     "data": {
      "text/markdown": [
       "9;06_hautkrebspraevention_0314.tsv;1"
      ],
      "text/plain": [
       "<IPython.core.display.Markdown object>"
      ]
     },
     "metadata": {},
     "output_type": "display_data"
    },
    {
     "data": {
      "text/markdown": [
       "__Input:__"
      ],
      "text/plain": [
       "<IPython.core.display.Markdown object>"
      ]
     },
     "metadata": {},
     "output_type": "display_data"
    },
    {
     "data": {
      "text/markdown": [
       "Die Evaluation sollte zu mehreren Messzeitpunkten erfolgen und kurz- sowie langfristige Effekte messen."
      ],
      "text/plain": [
       "<IPython.core.display.Markdown object>"
      ]
     },
     "metadata": {},
     "output_type": "display_data"
    },
    {
     "data": {
      "text/markdown": [
       "__Error type:__ fp"
      ],
      "text/plain": [
       "<IPython.core.display.Markdown object>"
      ]
     },
     "metadata": {},
     "output_type": "display_data"
    },
    {
     "data": {
      "text/html": [
       "\n",
       "<!DOCTYPE html PUBLIC \"-//W3C//DTD XHTML 1.0 Transitional//EN\"\n",
       "          \"http://www.w3.org/TR/xhtml1/DTD/xhtml1-transitional.dtd\">\n",
       "\n",
       "<html>\n",
       "<head>\n",
       "<meta content=\"text/html; charset=utf-8\" http-equiv=\"Content-Type\"/>\n",
       "<title></title>\n",
       "<style type=\"text/css\">\n",
       "        table.diff {font-family:Courier; border:medium;}\n",
       "        .diff_header {background-color:#e0e0e0}\n",
       "        td.diff_header {text-align:right}\n",
       "        .diff_next {background-color:#c0c0c0}\n",
       "        .diff_add {background-color:#aaffaa}\n",
       "        .diff_chg {background-color:#ffff77}\n",
       "        .diff_sub {background-color:#ffaaaa}\n",
       "    </style>\n",
       "</head>\n",
       "<body>\n",
       "<table cellpadding=\"0\" cellspacing=\"0\" class=\"diff\" id=\"difflib_chg_to164__top\" rules=\"groups\">\n",
       "<colgroup></colgroup> <colgroup></colgroup> <colgroup></colgroup>\n",
       "<colgroup></colgroup> <colgroup></colgroup> <colgroup></colgroup>\n",
       "<tbody>\n",
       "<tr><div nowrap=\"nowrap\">Die Evaluation sollte zu mehreren Messzeitpunkten erfolgen und kurz<span class=\"diff_chg\">-</span> sowie langfristige Effekte messen.</div><div nowrap=\"nowrap\">Die Evaluation sollte zu mehreren Messzeitpunkten erfolgen und kurz<span class=\"diff_chg\">fristige</span> sowie langfristige Effekte messen.</div></tr>\n",
       "</tbody>\n",
       "</table>\n",
       "\n",
       "</body>\n",
       "</html>"
      ],
      "text/plain": [
       "<IPython.core.display.HTML object>"
      ]
     },
     "metadata": {},
     "output_type": "display_data"
    },
    {
     "data": {
      "text/markdown": [
       "10;06_hautkrebspraevention_0316.tsv;4"
      ],
      "text/plain": [
       "<IPython.core.display.Markdown object>"
      ]
     },
     "metadata": {},
     "output_type": "display_data"
    },
    {
     "data": {
      "text/markdown": [
       "__Input:__"
      ],
      "text/plain": [
       "<IPython.core.display.Markdown object>"
      ]
     },
     "metadata": {},
     "output_type": "display_data"
    },
    {
     "data": {
      "text/markdown": [
       "Auch liefert erst ein rezipientenseitiges Feedback zum eigentlichen Informations- oder Schulungsmaterial konkrete Hinweise darauf, wie Informations- und Schulungsangebote insgesamt bzw. wie einzelne Elemente sowie die inhaltliche und gestalterische Aufbereitung der Informationen in multimedialen Interventionen von verschiedenen Zielgruppen angenommen werden und welche Optimierungspotenziale hieraus resultieren."
      ],
      "text/plain": [
       "<IPython.core.display.Markdown object>"
      ]
     },
     "metadata": {},
     "output_type": "display_data"
    },
    {
     "data": {
      "text/markdown": [
       "__Error type:__ fp"
      ],
      "text/plain": [
       "<IPython.core.display.Markdown object>"
      ]
     },
     "metadata": {},
     "output_type": "display_data"
    },
    {
     "data": {
      "text/html": [
       "\n",
       "<!DOCTYPE html PUBLIC \"-//W3C//DTD XHTML 1.0 Transitional//EN\"\n",
       "          \"http://www.w3.org/TR/xhtml1/DTD/xhtml1-transitional.dtd\">\n",
       "\n",
       "<html>\n",
       "<head>\n",
       "<meta content=\"text/html; charset=utf-8\" http-equiv=\"Content-Type\"/>\n",
       "<title></title>\n",
       "<style type=\"text/css\">\n",
       "        table.diff {font-family:Courier; border:medium;}\n",
       "        .diff_header {background-color:#e0e0e0}\n",
       "        td.diff_header {text-align:right}\n",
       "        .diff_next {background-color:#c0c0c0}\n",
       "        .diff_add {background-color:#aaffaa}\n",
       "        .diff_chg {background-color:#ffff77}\n",
       "        .diff_sub {background-color:#ffaaaa}\n",
       "    </style>\n",
       "</head>\n",
       "<body>\n",
       "<table cellpadding=\"0\" cellspacing=\"0\" class=\"diff\" id=\"difflib_chg_to165__top\" rules=\"groups\">\n",
       "<colgroup></colgroup> <colgroup></colgroup> <colgroup></colgroup>\n",
       "<colgroup></colgroup> <colgroup></colgroup> <colgroup></colgroup>\n",
       "<tbody>\n",
       "<tr><div nowrap=\"nowrap\">Auch liefert erst ein rezipientenseitiges Feedback zum eigentlichen Informations<span class=\"diff_chg\">- oder</span> Schulungsmaterial konkrete Hinweise darauf, wie Informations<span class=\"diff_chg\">- und</span> Schulungsangebote insgesamt bzw. wie einzelne Elemente sowie die inhaltliche und gestalterische Aufbereitung der Informationen in multimedialen Interventionen von verschiedenen Zielgruppen angenommen werden und welche Optimierungspotenziale hieraus resultieren.</div><div nowrap=\"nowrap\">Auch liefert erst ein rezipientenseitiges Feedback zum eigentlichen Informations<span class=\"diff_chg\">material oder</span> Schulungsmaterial konkrete Hinweise darauf, wie Informations<span class=\"diff_chg\">angebote und</span> Schulungsangebote insgesamt bzw. wie einzelne Elemente sowie die inhaltliche und gestalterische Aufbereitung der Informationen in multimedialen Interventionen von verschiedenen Zielgruppen angenommen werden und welche Optimierungspotenziale hieraus resultieren.</div></tr>\n",
       "</tbody>\n",
       "</table>\n",
       "\n",
       "</body>\n",
       "</html>"
      ],
      "text/plain": [
       "<IPython.core.display.HTML object>"
      ]
     },
     "metadata": {},
     "output_type": "display_data"
    },
    {
     "data": {
      "text/markdown": [
       "11;07_malignes-melanom_0112.tsv;55"
      ],
      "text/plain": [
       "<IPython.core.display.Markdown object>"
      ]
     },
     "metadata": {},
     "output_type": "display_data"
    },
    {
     "data": {
      "text/markdown": [
       "__Input:__"
      ],
      "text/plain": [
       "<IPython.core.display.Markdown object>"
      ]
     },
     "metadata": {},
     "output_type": "display_data"
    },
    {
     "data": {
      "text/markdown": [
       "- Bein- und Hüftbereich"
      ],
      "text/plain": [
       "<IPython.core.display.Markdown object>"
      ]
     },
     "metadata": {},
     "output_type": "display_data"
    },
    {
     "data": {
      "text/markdown": [
       "__Error type:__ fp"
      ],
      "text/plain": [
       "<IPython.core.display.Markdown object>"
      ]
     },
     "metadata": {},
     "output_type": "display_data"
    },
    {
     "data": {
      "text/html": [
       "\n",
       "<!DOCTYPE html PUBLIC \"-//W3C//DTD XHTML 1.0 Transitional//EN\"\n",
       "          \"http://www.w3.org/TR/xhtml1/DTD/xhtml1-transitional.dtd\">\n",
       "\n",
       "<html>\n",
       "<head>\n",
       "<meta content=\"text/html; charset=utf-8\" http-equiv=\"Content-Type\"/>\n",
       "<title></title>\n",
       "<style type=\"text/css\">\n",
       "        table.diff {font-family:Courier; border:medium;}\n",
       "        .diff_header {background-color:#e0e0e0}\n",
       "        td.diff_header {text-align:right}\n",
       "        .diff_next {background-color:#c0c0c0}\n",
       "        .diff_add {background-color:#aaffaa}\n",
       "        .diff_chg {background-color:#ffff77}\n",
       "        .diff_sub {background-color:#ffaaaa}\n",
       "    </style>\n",
       "</head>\n",
       "<body>\n",
       "<table cellpadding=\"0\" cellspacing=\"0\" class=\"diff\" id=\"difflib_chg_to166__top\" rules=\"groups\">\n",
       "<colgroup></colgroup> <colgroup></colgroup> <colgroup></colgroup>\n",
       "<colgroup></colgroup> <colgroup></colgroup> <colgroup></colgroup>\n",
       "<tbody>\n",
       "<tr><div nowrap=\"nowrap\">- Bein<span class=\"diff_chg\">-</span> und Hüftbereich</div><div nowrap=\"nowrap\">- Bein<span class=\"diff_chg\">bereich</span> und Hüftbereich</div></tr>\n",
       "</tbody>\n",
       "</table>\n",
       "\n",
       "</body>\n",
       "</html>"
      ],
      "text/plain": [
       "<IPython.core.display.HTML object>"
      ]
     },
     "metadata": {},
     "output_type": "display_data"
    },
    {
     "data": {
      "text/markdown": [
       "12;08_aktinische-keratose-und-plattenepithelkarzinom-der-haut_0194.tsv;38"
      ],
      "text/plain": [
       "<IPython.core.display.Markdown object>"
      ]
     },
     "metadata": {},
     "output_type": "display_data"
    },
    {
     "data": {
      "text/markdown": [
       "__Input:__"
      ],
      "text/plain": [
       "<IPython.core.display.Markdown object>"
      ]
     },
     "metadata": {},
     "output_type": "display_data"
    },
    {
     "data": {
      "text/markdown": [
       "Des Weiteren verweisen wir auf das Melde- und Berichtswesen bei Berufskrankheiten sowie das DGUV- Nachsorgekonzept."
      ],
      "text/plain": [
       "<IPython.core.display.Markdown object>"
      ]
     },
     "metadata": {},
     "output_type": "display_data"
    },
    {
     "data": {
      "text/markdown": [
       "__Error type:__ fp"
      ],
      "text/plain": [
       "<IPython.core.display.Markdown object>"
      ]
     },
     "metadata": {},
     "output_type": "display_data"
    },
    {
     "data": {
      "text/html": [
       "\n",
       "<!DOCTYPE html PUBLIC \"-//W3C//DTD XHTML 1.0 Transitional//EN\"\n",
       "          \"http://www.w3.org/TR/xhtml1/DTD/xhtml1-transitional.dtd\">\n",
       "\n",
       "<html>\n",
       "<head>\n",
       "<meta content=\"text/html; charset=utf-8\" http-equiv=\"Content-Type\"/>\n",
       "<title></title>\n",
       "<style type=\"text/css\">\n",
       "        table.diff {font-family:Courier; border:medium;}\n",
       "        .diff_header {background-color:#e0e0e0}\n",
       "        td.diff_header {text-align:right}\n",
       "        .diff_next {background-color:#c0c0c0}\n",
       "        .diff_add {background-color:#aaffaa}\n",
       "        .diff_chg {background-color:#ffff77}\n",
       "        .diff_sub {background-color:#ffaaaa}\n",
       "    </style>\n",
       "</head>\n",
       "<body>\n",
       "<table cellpadding=\"0\" cellspacing=\"0\" class=\"diff\" id=\"difflib_chg_to167__top\" rules=\"groups\">\n",
       "<colgroup></colgroup> <colgroup></colgroup> <colgroup></colgroup>\n",
       "<colgroup></colgroup> <colgroup></colgroup> <colgroup></colgroup>\n",
       "<tbody>\n",
       "<tr><div nowrap=\"nowrap\">Des Weiteren verweisen wir auf das Melde<span class=\"diff_chg\">-</span> und Berichtswesen bei Berufskrankheiten sowie das DGUV- Nachsorgekonzept.</div><div nowrap=\"nowrap\">Des Weiteren verweisen wir auf das Melde<span class=\"diff_chg\">wesen</span> und Berichtswesen bei Berufskrankheiten sowie das DGUV- Nachsorgekonzept.</div></tr>\n",
       "</tbody>\n",
       "</table>\n",
       "\n",
       "</body>\n",
       "</html>"
      ],
      "text/plain": [
       "<IPython.core.display.HTML object>"
      ]
     },
     "metadata": {},
     "output_type": "display_data"
    },
    {
     "data": {
      "text/markdown": [
       "13;09_mammakarzinom_0053.tsv;10"
      ],
      "text/plain": [
       "<IPython.core.display.Markdown object>"
      ]
     },
     "metadata": {},
     "output_type": "display_data"
    },
    {
     "data": {
      "text/markdown": [
       "__Input:__"
      ],
      "text/plain": [
       "<IPython.core.display.Markdown object>"
      ]
     },
     "metadata": {},
     "output_type": "display_data"
    },
    {
     "data": {
      "text/markdown": [
       "Sie erlauben Eindrücke z. B. zu Detektions- bzw. Inzidenzraten."
      ],
      "text/plain": [
       "<IPython.core.display.Markdown object>"
      ]
     },
     "metadata": {},
     "output_type": "display_data"
    },
    {
     "data": {
      "text/markdown": [
       "__Error type:__ fp"
      ],
      "text/plain": [
       "<IPython.core.display.Markdown object>"
      ]
     },
     "metadata": {},
     "output_type": "display_data"
    },
    {
     "data": {
      "text/html": [
       "\n",
       "<!DOCTYPE html PUBLIC \"-//W3C//DTD XHTML 1.0 Transitional//EN\"\n",
       "          \"http://www.w3.org/TR/xhtml1/DTD/xhtml1-transitional.dtd\">\n",
       "\n",
       "<html>\n",
       "<head>\n",
       "<meta content=\"text/html; charset=utf-8\" http-equiv=\"Content-Type\"/>\n",
       "<title></title>\n",
       "<style type=\"text/css\">\n",
       "        table.diff {font-family:Courier; border:medium;}\n",
       "        .diff_header {background-color:#e0e0e0}\n",
       "        td.diff_header {text-align:right}\n",
       "        .diff_next {background-color:#c0c0c0}\n",
       "        .diff_add {background-color:#aaffaa}\n",
       "        .diff_chg {background-color:#ffff77}\n",
       "        .diff_sub {background-color:#ffaaaa}\n",
       "    </style>\n",
       "</head>\n",
       "<body>\n",
       "<table cellpadding=\"0\" cellspacing=\"0\" class=\"diff\" id=\"difflib_chg_to168__top\" rules=\"groups\">\n",
       "<colgroup></colgroup> <colgroup></colgroup> <colgroup></colgroup>\n",
       "<colgroup></colgroup> <colgroup></colgroup> <colgroup></colgroup>\n",
       "<tbody>\n",
       "<tr><div nowrap=\"nowrap\">Sie erlauben Eindrücke z. B. zu Detektions<span class=\"diff_chg\">-</span> bzw. Inzidenzraten.</div><div nowrap=\"nowrap\">Sie erlauben Eindrücke z. B. zu Detektions<span class=\"diff_chg\">raten</span> bzw. Inzidenzraten.</div></tr>\n",
       "</tbody>\n",
       "</table>\n",
       "\n",
       "</body>\n",
       "</html>"
      ],
      "text/plain": [
       "<IPython.core.display.HTML object>"
      ]
     },
     "metadata": {},
     "output_type": "display_data"
    },
    {
     "data": {
      "text/markdown": [
       "14;09_mammakarzinom_0178.tsv;8"
      ],
      "text/plain": [
       "<IPython.core.display.Markdown object>"
      ]
     },
     "metadata": {},
     "output_type": "display_data"
    },
    {
     "data": {
      "text/markdown": [
       "__Input:__"
      ],
      "text/plain": [
       "<IPython.core.display.Markdown object>"
      ]
     },
     "metadata": {},
     "output_type": "display_data"
    },
    {
     "data": {
      "text/markdown": [
       "Außerdem muss sichergestellt sein, dass artifiziell verändertes Gewebe (Rand-, Retraktion- oder Quetsch-Artefakte) von der Beurteilung ausgeschlossen ist."
      ],
      "text/plain": [
       "<IPython.core.display.Markdown object>"
      ]
     },
     "metadata": {},
     "output_type": "display_data"
    },
    {
     "data": {
      "text/markdown": [
       "__Error type:__ fp"
      ],
      "text/plain": [
       "<IPython.core.display.Markdown object>"
      ]
     },
     "metadata": {},
     "output_type": "display_data"
    },
    {
     "data": {
      "text/html": [
       "\n",
       "<!DOCTYPE html PUBLIC \"-//W3C//DTD XHTML 1.0 Transitional//EN\"\n",
       "          \"http://www.w3.org/TR/xhtml1/DTD/xhtml1-transitional.dtd\">\n",
       "\n",
       "<html>\n",
       "<head>\n",
       "<meta content=\"text/html; charset=utf-8\" http-equiv=\"Content-Type\"/>\n",
       "<title></title>\n",
       "<style type=\"text/css\">\n",
       "        table.diff {font-family:Courier; border:medium;}\n",
       "        .diff_header {background-color:#e0e0e0}\n",
       "        td.diff_header {text-align:right}\n",
       "        .diff_next {background-color:#c0c0c0}\n",
       "        .diff_add {background-color:#aaffaa}\n",
       "        .diff_chg {background-color:#ffff77}\n",
       "        .diff_sub {background-color:#ffaaaa}\n",
       "    </style>\n",
       "</head>\n",
       "<body>\n",
       "<table cellpadding=\"0\" cellspacing=\"0\" class=\"diff\" id=\"difflib_chg_to169__top\" rules=\"groups\">\n",
       "<colgroup></colgroup> <colgroup></colgroup> <colgroup></colgroup>\n",
       "<colgroup></colgroup> <colgroup></colgroup> <colgroup></colgroup>\n",
       "<tbody>\n",
       "<tr><div nowrap=\"nowrap\">Außerdem muss sichergestellt sein, dass artifiziell verändertes Gewebe (Rand<span class=\"diff_chg\">-</span>, Retraktion<span class=\"diff_chg\">-</span> oder Quetsch-Artefakte) von der Beurteilung ausgeschlossen ist.</div><div nowrap=\"nowrap\">Außerdem muss sichergestellt sein, dass artifiziell verändertes Gewebe (Rand<span class=\"diff_chg\">artefakte</span>, Retraktion<span class=\"diff_chg\">artefakte</span> oder Quetsch-Artefakte) von der Beurteilung ausgeschlossen ist.</div></tr>\n",
       "</tbody>\n",
       "</table>\n",
       "\n",
       "</body>\n",
       "</html>"
      ],
      "text/plain": [
       "<IPython.core.display.HTML object>"
      ]
     },
     "metadata": {},
     "output_type": "display_data"
    },
    {
     "data": {
      "text/markdown": [
       "15;09_mammakarzinom_0249.tsv;30"
      ],
      "text/plain": [
       "<IPython.core.display.Markdown object>"
      ]
     },
     "metadata": {},
     "output_type": "display_data"
    },
    {
     "data": {
      "text/markdown": [
       "__Input:__"
      ],
      "text/plain": [
       "<IPython.core.display.Markdown object>"
      ]
     },
     "metadata": {},
     "output_type": "display_data"
    },
    {
     "data": {
      "text/markdown": [
       "Nur bei einem kleineren Teil der Patientinnen, insbesondere bei kardialen Vorerkrankungen und bei zusätzlicher adjuvanter Therapie mit Trastuzumab, wird eine isolierte Bestrahlung der supra- und infraklavikulären Lymphknoten empfohlen."
      ],
      "text/plain": [
       "<IPython.core.display.Markdown object>"
      ]
     },
     "metadata": {},
     "output_type": "display_data"
    },
    {
     "data": {
      "text/markdown": [
       "__Error type:__ fp"
      ],
      "text/plain": [
       "<IPython.core.display.Markdown object>"
      ]
     },
     "metadata": {},
     "output_type": "display_data"
    },
    {
     "data": {
      "text/html": [
       "\n",
       "<!DOCTYPE html PUBLIC \"-//W3C//DTD XHTML 1.0 Transitional//EN\"\n",
       "          \"http://www.w3.org/TR/xhtml1/DTD/xhtml1-transitional.dtd\">\n",
       "\n",
       "<html>\n",
       "<head>\n",
       "<meta content=\"text/html; charset=utf-8\" http-equiv=\"Content-Type\"/>\n",
       "<title></title>\n",
       "<style type=\"text/css\">\n",
       "        table.diff {font-family:Courier; border:medium;}\n",
       "        .diff_header {background-color:#e0e0e0}\n",
       "        td.diff_header {text-align:right}\n",
       "        .diff_next {background-color:#c0c0c0}\n",
       "        .diff_add {background-color:#aaffaa}\n",
       "        .diff_chg {background-color:#ffff77}\n",
       "        .diff_sub {background-color:#ffaaaa}\n",
       "    </style>\n",
       "</head>\n",
       "<body>\n",
       "<table cellpadding=\"0\" cellspacing=\"0\" class=\"diff\" id=\"difflib_chg_to170__top\" rules=\"groups\">\n",
       "<colgroup></colgroup> <colgroup></colgroup> <colgroup></colgroup>\n",
       "<colgroup></colgroup> <colgroup></colgroup> <colgroup></colgroup>\n",
       "<tbody>\n",
       "<tr><div nowrap=\"nowrap\">Nur bei einem kleineren Teil der Patientinnen, insbesondere bei kardialen Vorerkrankungen und bei zusätzlicher adjuvanter Therapie mit Trastuzumab, wird eine isolierte Bestrahlung der supra<span class=\"diff_chg\">- und</span> infraklavikulären Lymphknoten empfohlen.</div><div nowrap=\"nowrap\">Nur bei einem kleineren Teil der Patientinnen, insbesondere bei kardialen Vorerkrankungen und bei zusätzlicher adjuvanter Therapie mit Trastuzumab, wird eine isolierte Bestrahlung der supra<span class=\"diff_chg\">klavikulären und</span> infraklavikulären Lymphknoten empfohlen.</div></tr>\n",
       "</tbody>\n",
       "</table>\n",
       "\n",
       "</body>\n",
       "</html>"
      ],
      "text/plain": [
       "<IPython.core.display.HTML object>"
      ]
     },
     "metadata": {},
     "output_type": "display_data"
    },
    {
     "data": {
      "text/markdown": [
       "16;09_mammakarzinom_0576.tsv;50"
      ],
      "text/plain": [
       "<IPython.core.display.Markdown object>"
      ]
     },
     "metadata": {},
     "output_type": "display_data"
    },
    {
     "data": {
      "text/markdown": [
       "__Input:__"
      ],
      "text/plain": [
       "<IPython.core.display.Markdown object>"
      ]
     },
     "metadata": {},
     "output_type": "display_data"
    },
    {
     "data": {
      "text/markdown": [
       "Das können z. B. Hilfen zur beruflichen Förderung, unterhaltssichernde Maßnahmen (Erwerbsminderungsrenten) oder auch Maßnahmen der Sekundär- und Tertiärprävention sein."
      ],
      "text/plain": [
       "<IPython.core.display.Markdown object>"
      ]
     },
     "metadata": {},
     "output_type": "display_data"
    },
    {
     "data": {
      "text/markdown": [
       "__Error type:__ fp"
      ],
      "text/plain": [
       "<IPython.core.display.Markdown object>"
      ]
     },
     "metadata": {},
     "output_type": "display_data"
    },
    {
     "data": {
      "text/html": [
       "\n",
       "<!DOCTYPE html PUBLIC \"-//W3C//DTD XHTML 1.0 Transitional//EN\"\n",
       "          \"http://www.w3.org/TR/xhtml1/DTD/xhtml1-transitional.dtd\">\n",
       "\n",
       "<html>\n",
       "<head>\n",
       "<meta content=\"text/html; charset=utf-8\" http-equiv=\"Content-Type\"/>\n",
       "<title></title>\n",
       "<style type=\"text/css\">\n",
       "        table.diff {font-family:Courier; border:medium;}\n",
       "        .diff_header {background-color:#e0e0e0}\n",
       "        td.diff_header {text-align:right}\n",
       "        .diff_next {background-color:#c0c0c0}\n",
       "        .diff_add {background-color:#aaffaa}\n",
       "        .diff_chg {background-color:#ffff77}\n",
       "        .diff_sub {background-color:#ffaaaa}\n",
       "    </style>\n",
       "</head>\n",
       "<body>\n",
       "<table cellpadding=\"0\" cellspacing=\"0\" class=\"diff\" id=\"difflib_chg_to171__top\" rules=\"groups\">\n",
       "<colgroup></colgroup> <colgroup></colgroup> <colgroup></colgroup>\n",
       "<colgroup></colgroup> <colgroup></colgroup> <colgroup></colgroup>\n",
       "<tbody>\n",
       "<tr><div nowrap=\"nowrap\">Das können z. B. Hilfen zur beruflichen Förderung, unterhaltssichernde Maßnahmen (Erwerbsminderungsrenten) oder auch Maßnahmen der Sekundär<span class=\"diff_chg\">-</span> und Tertiärprävention sein.</div><div nowrap=\"nowrap\">Das können z. B. Hilfen zur beruflichen Förderung, unterhaltssichernde Maßnahmen (Erwerbsminderungsrenten) oder auch Maßnahmen der Sekundär<span class=\"diff_chg\">prävention</span> und Tertiärprävention sein.</div></tr>\n",
       "</tbody>\n",
       "</table>\n",
       "\n",
       "</body>\n",
       "</html>"
      ],
      "text/plain": [
       "<IPython.core.display.HTML object>"
      ]
     },
     "metadata": {},
     "output_type": "display_data"
    },
    {
     "data": {
      "text/markdown": [
       "17;13_oesophaguskarzinom_0006.tsv;3"
      ],
      "text/plain": [
       "<IPython.core.display.Markdown object>"
      ]
     },
     "metadata": {},
     "output_type": "display_data"
    },
    {
     "data": {
      "text/markdown": [
       "__Input:__"
      ],
      "text/plain": [
       "<IPython.core.display.Markdown object>"
      ]
     },
     "metadata": {},
     "output_type": "display_data"
    },
    {
     "data": {
      "text/markdown": [
       "Der gleichzeitige Genuss von Zigaretten und Alkohol wirkte synergistisch und erhöhte das Risiko auf das 10- bis 23,9-fache im Vergleich zu abstinenten Nichtrauchern."
      ],
      "text/plain": [
       "<IPython.core.display.Markdown object>"
      ]
     },
     "metadata": {},
     "output_type": "display_data"
    },
    {
     "data": {
      "text/markdown": [
       "__Error type:__ fp"
      ],
      "text/plain": [
       "<IPython.core.display.Markdown object>"
      ]
     },
     "metadata": {},
     "output_type": "display_data"
    },
    {
     "data": {
      "text/html": [
       "\n",
       "<!DOCTYPE html PUBLIC \"-//W3C//DTD XHTML 1.0 Transitional//EN\"\n",
       "          \"http://www.w3.org/TR/xhtml1/DTD/xhtml1-transitional.dtd\">\n",
       "\n",
       "<html>\n",
       "<head>\n",
       "<meta content=\"text/html; charset=utf-8\" http-equiv=\"Content-Type\"/>\n",
       "<title></title>\n",
       "<style type=\"text/css\">\n",
       "        table.diff {font-family:Courier; border:medium;}\n",
       "        .diff_header {background-color:#e0e0e0}\n",
       "        td.diff_header {text-align:right}\n",
       "        .diff_next {background-color:#c0c0c0}\n",
       "        .diff_add {background-color:#aaffaa}\n",
       "        .diff_chg {background-color:#ffff77}\n",
       "        .diff_sub {background-color:#ffaaaa}\n",
       "    </style>\n",
       "</head>\n",
       "<body>\n",
       "<table cellpadding=\"0\" cellspacing=\"0\" class=\"diff\" id=\"difflib_chg_to172__top\" rules=\"groups\">\n",
       "<colgroup></colgroup> <colgroup></colgroup> <colgroup></colgroup>\n",
       "<colgroup></colgroup> <colgroup></colgroup> <colgroup></colgroup>\n",
       "<tbody>\n",
       "<tr><div nowrap=\"nowrap\">Der gleichzeitige Genuss von Zigaretten und Alkohol wirkte synergistisch und erhöhte das Risiko auf das 10<span class=\"diff_chg\">-</span> bis 23,9-fache im Vergleich zu abstinenten Nichtrauchern.</div><div nowrap=\"nowrap\">Der gleichzeitige Genuss von Zigaretten und Alkohol wirkte synergistisch und erhöhte das Risiko auf das 10<span class=\"diff_chg\">fache</span> bis 23,9-fache im Vergleich zu abstinenten Nichtrauchern.</div></tr>\n",
       "</tbody>\n",
       "</table>\n",
       "\n",
       "</body>\n",
       "</html>"
      ],
      "text/plain": [
       "<IPython.core.display.HTML object>"
      ]
     },
     "metadata": {},
     "output_type": "display_data"
    },
    {
     "data": {
      "text/markdown": [
       "18;13_oesophaguskarzinom_0050.tsv;12"
      ],
      "text/plain": [
       "<IPython.core.display.Markdown object>"
      ]
     },
     "metadata": {},
     "output_type": "display_data"
    },
    {
     "data": {
      "text/markdown": [
       "__Input:__"
      ],
      "text/plain": [
       "<IPython.core.display.Markdown object>"
      ]
     },
     "metadata": {},
     "output_type": "display_data"
    },
    {
     "data": {
      "text/markdown": [
       "PET verbesserte gegenüber dem CT die Beurteilung distanter Lymphknoten- und Fernmetastasen."
      ],
      "text/plain": [
       "<IPython.core.display.Markdown object>"
      ]
     },
     "metadata": {},
     "output_type": "display_data"
    },
    {
     "data": {
      "text/markdown": [
       "__Error type:__ fp"
      ],
      "text/plain": [
       "<IPython.core.display.Markdown object>"
      ]
     },
     "metadata": {},
     "output_type": "display_data"
    },
    {
     "data": {
      "text/html": [
       "\n",
       "<!DOCTYPE html PUBLIC \"-//W3C//DTD XHTML 1.0 Transitional//EN\"\n",
       "          \"http://www.w3.org/TR/xhtml1/DTD/xhtml1-transitional.dtd\">\n",
       "\n",
       "<html>\n",
       "<head>\n",
       "<meta content=\"text/html; charset=utf-8\" http-equiv=\"Content-Type\"/>\n",
       "<title></title>\n",
       "<style type=\"text/css\">\n",
       "        table.diff {font-family:Courier; border:medium;}\n",
       "        .diff_header {background-color:#e0e0e0}\n",
       "        td.diff_header {text-align:right}\n",
       "        .diff_next {background-color:#c0c0c0}\n",
       "        .diff_add {background-color:#aaffaa}\n",
       "        .diff_chg {background-color:#ffff77}\n",
       "        .diff_sub {background-color:#ffaaaa}\n",
       "    </style>\n",
       "</head>\n",
       "<body>\n",
       "<table cellpadding=\"0\" cellspacing=\"0\" class=\"diff\" id=\"difflib_chg_to173__top\" rules=\"groups\">\n",
       "<colgroup></colgroup> <colgroup></colgroup> <colgroup></colgroup>\n",
       "<colgroup></colgroup> <colgroup></colgroup> <colgroup></colgroup>\n",
       "<tbody>\n",
       "<tr><div nowrap=\"nowrap\">PET verbesserte gegenüber dem CT die Beurteilung distanter Lymphknoten<span class=\"diff_chg\">-</span> und Fernmetastasen.</div><div nowrap=\"nowrap\">PET verbesserte gegenüber dem CT die Beurteilung distanter Lymphknoten<span class=\"diff_chg\">metastasen</span> und Fernmetastasen.</div></tr>\n",
       "</tbody>\n",
       "</table>\n",
       "\n",
       "</body>\n",
       "</html>"
      ],
      "text/plain": [
       "<IPython.core.display.HTML object>"
      ]
     },
     "metadata": {},
     "output_type": "display_data"
    },
    {
     "data": {
      "text/markdown": [
       "19;13_oesophaguskarzinom_0060.tsv;8"
      ],
      "text/plain": [
       "<IPython.core.display.Markdown object>"
      ]
     },
     "metadata": {},
     "output_type": "display_data"
    },
    {
     "data": {
      "text/markdown": [
       "__Input:__"
      ],
      "text/plain": [
       "<IPython.core.display.Markdown object>"
      ]
     },
     "metadata": {},
     "output_type": "display_data"
    },
    {
     "data": {
      "text/markdown": [
       "Aufgrund des unterschiedlichen biologischen Verhaltens ist insbesondere die Unterscheidung zwischen Plattenepithel- und Adenokarzinom klinisch relevant."
      ],
      "text/plain": [
       "<IPython.core.display.Markdown object>"
      ]
     },
     "metadata": {},
     "output_type": "display_data"
    },
    {
     "data": {
      "text/markdown": [
       "__Error type:__ fp"
      ],
      "text/plain": [
       "<IPython.core.display.Markdown object>"
      ]
     },
     "metadata": {},
     "output_type": "display_data"
    },
    {
     "data": {
      "text/html": [
       "\n",
       "<!DOCTYPE html PUBLIC \"-//W3C//DTD XHTML 1.0 Transitional//EN\"\n",
       "          \"http://www.w3.org/TR/xhtml1/DTD/xhtml1-transitional.dtd\">\n",
       "\n",
       "<html>\n",
       "<head>\n",
       "<meta content=\"text/html; charset=utf-8\" http-equiv=\"Content-Type\"/>\n",
       "<title></title>\n",
       "<style type=\"text/css\">\n",
       "        table.diff {font-family:Courier; border:medium;}\n",
       "        .diff_header {background-color:#e0e0e0}\n",
       "        td.diff_header {text-align:right}\n",
       "        .diff_next {background-color:#c0c0c0}\n",
       "        .diff_add {background-color:#aaffaa}\n",
       "        .diff_chg {background-color:#ffff77}\n",
       "        .diff_sub {background-color:#ffaaaa}\n",
       "    </style>\n",
       "</head>\n",
       "<body>\n",
       "<table cellpadding=\"0\" cellspacing=\"0\" class=\"diff\" id=\"difflib_chg_to174__top\" rules=\"groups\">\n",
       "<colgroup></colgroup> <colgroup></colgroup> <colgroup></colgroup>\n",
       "<colgroup></colgroup> <colgroup></colgroup> <colgroup></colgroup>\n",
       "<tbody>\n",
       "<tr><div nowrap=\"nowrap\">Aufgrund des unterschiedlichen biologischen Verhaltens ist insbesondere die Unterscheidung zwischen Plattenepithel<span class=\"diff_chg\">-</span> und Adenokarzinom klinisch relevant.</div><div nowrap=\"nowrap\">Aufgrund des unterschiedlichen biologischen Verhaltens ist insbesondere die Unterscheidung zwischen Plattenepithel<span class=\"diff_chg\">karzinom</span> und Adenokarzinom klinisch relevant.</div></tr>\n",
       "</tbody>\n",
       "</table>\n",
       "\n",
       "</body>\n",
       "</html>"
      ],
      "text/plain": [
       "<IPython.core.display.HTML object>"
      ]
     },
     "metadata": {},
     "output_type": "display_data"
    },
    {
     "data": {
      "text/markdown": [
       "20;13_oesophaguskarzinom_0120.tsv;37"
      ],
      "text/plain": [
       "<IPython.core.display.Markdown object>"
      ]
     },
     "metadata": {},
     "output_type": "display_data"
    },
    {
     "data": {
      "text/markdown": [
       "__Input:__"
      ],
      "text/plain": [
       "<IPython.core.display.Markdown object>"
      ]
     },
     "metadata": {},
     "output_type": "display_data"
    },
    {
     "data": {
      "text/markdown": [
       "Ebenso gibt es keinen Unterschied in der therapiebedingten Letalität (prä- und postoperativ) wenn eine Chemotherapie der Operation vorausgegangen ist [REF] (HR 1,20, 95 %KI 0,71-2,03)."
      ],
      "text/plain": [
       "<IPython.core.display.Markdown object>"
      ]
     },
     "metadata": {},
     "output_type": "display_data"
    },
    {
     "data": {
      "text/markdown": [
       "__Error type:__ fp"
      ],
      "text/plain": [
       "<IPython.core.display.Markdown object>"
      ]
     },
     "metadata": {},
     "output_type": "display_data"
    },
    {
     "data": {
      "text/html": [
       "\n",
       "<!DOCTYPE html PUBLIC \"-//W3C//DTD XHTML 1.0 Transitional//EN\"\n",
       "          \"http://www.w3.org/TR/xhtml1/DTD/xhtml1-transitional.dtd\">\n",
       "\n",
       "<html>\n",
       "<head>\n",
       "<meta content=\"text/html; charset=utf-8\" http-equiv=\"Content-Type\"/>\n",
       "<title></title>\n",
       "<style type=\"text/css\">\n",
       "        table.diff {font-family:Courier; border:medium;}\n",
       "        .diff_header {background-color:#e0e0e0}\n",
       "        td.diff_header {text-align:right}\n",
       "        .diff_next {background-color:#c0c0c0}\n",
       "        .diff_add {background-color:#aaffaa}\n",
       "        .diff_chg {background-color:#ffff77}\n",
       "        .diff_sub {background-color:#ffaaaa}\n",
       "    </style>\n",
       "</head>\n",
       "<body>\n",
       "<table cellpadding=\"0\" cellspacing=\"0\" class=\"diff\" id=\"difflib_chg_to175__top\" rules=\"groups\">\n",
       "<colgroup></colgroup> <colgroup></colgroup> <colgroup></colgroup>\n",
       "<colgroup></colgroup> <colgroup></colgroup> <colgroup></colgroup>\n",
       "<tbody>\n",
       "<tr><div nowrap=\"nowrap\">Ebenso gibt es keinen Unterschied in der therapiebedingten Letalität (prä<span class=\"diff_chg\">-</span> und postoperativ) wenn eine Chemotherapie der Operation vorausgegangen ist [REF] (HR 1,20, 95 %KI 0,71-2,03).</div><div nowrap=\"nowrap\">Ebenso gibt es keinen Unterschied in der therapiebedingten Letalität (prä<span class=\"diff_chg\">operativ</span> und postoperativ) wenn eine Chemotherapie der Operation vorausgegangen ist [REF] (HR 1,20, 95 %KI 0,71-2,03).</div></tr>\n",
       "</tbody>\n",
       "</table>\n",
       "\n",
       "</body>\n",
       "</html>"
      ],
      "text/plain": [
       "<IPython.core.display.HTML object>"
      ]
     },
     "metadata": {},
     "output_type": "display_data"
    },
    {
     "data": {
      "text/markdown": [
       "21;14_larynxkarzinom_0020.tsv;16"
      ],
      "text/plain": [
       "<IPython.core.display.Markdown object>"
      ]
     },
     "metadata": {},
     "output_type": "display_data"
    },
    {
     "data": {
      "text/markdown": [
       "__Input:__"
      ],
      "text/plain": [
       "<IPython.core.display.Markdown object>"
      ]
     },
     "metadata": {},
     "output_type": "display_data"
    },
    {
     "data": {
      "text/markdown": [
       "Im Fall von Resektaten soll das Tumorpräparat vom Operateur mit klarer Bezeichnung der anatomischen Topographie (Faden- oder Farbmarkierung, Nadelmarkierung, Uhrzifferblattschema) an den Pathologen übersandt werden [REF]."
      ],
      "text/plain": [
       "<IPython.core.display.Markdown object>"
      ]
     },
     "metadata": {},
     "output_type": "display_data"
    },
    {
     "data": {
      "text/markdown": [
       "__Error type:__ fp"
      ],
      "text/plain": [
       "<IPython.core.display.Markdown object>"
      ]
     },
     "metadata": {},
     "output_type": "display_data"
    },
    {
     "data": {
      "text/html": [
       "\n",
       "<!DOCTYPE html PUBLIC \"-//W3C//DTD XHTML 1.0 Transitional//EN\"\n",
       "          \"http://www.w3.org/TR/xhtml1/DTD/xhtml1-transitional.dtd\">\n",
       "\n",
       "<html>\n",
       "<head>\n",
       "<meta content=\"text/html; charset=utf-8\" http-equiv=\"Content-Type\"/>\n",
       "<title></title>\n",
       "<style type=\"text/css\">\n",
       "        table.diff {font-family:Courier; border:medium;}\n",
       "        .diff_header {background-color:#e0e0e0}\n",
       "        td.diff_header {text-align:right}\n",
       "        .diff_next {background-color:#c0c0c0}\n",
       "        .diff_add {background-color:#aaffaa}\n",
       "        .diff_chg {background-color:#ffff77}\n",
       "        .diff_sub {background-color:#ffaaaa}\n",
       "    </style>\n",
       "</head>\n",
       "<body>\n",
       "<table cellpadding=\"0\" cellspacing=\"0\" class=\"diff\" id=\"difflib_chg_to176__top\" rules=\"groups\">\n",
       "<colgroup></colgroup> <colgroup></colgroup> <colgroup></colgroup>\n",
       "<colgroup></colgroup> <colgroup></colgroup> <colgroup></colgroup>\n",
       "<tbody>\n",
       "<tr><div nowrap=\"nowrap\">Im Fall von Resektaten soll das Tumorpräparat vom Operateur mit klarer Bezeichnung der anatomischen Topographie (Faden<span class=\"diff_chg\">- oder</span> Farbmarkierung, Nadelmarkierung, Uhrzifferblattschema) an den Pathologen übersandt werden [REF].</div><div nowrap=\"nowrap\">Im Fall von Resektaten soll das Tumorpräparat vom Operateur mit klarer Bezeichnung der anatomischen Topographie (Faden<span class=\"diff_chg\">markierung oder</span> Farbmarkierung, Nadelmarkierung, Uhrzifferblattschema) an den Pathologen übersandt werden [REF].</div></tr>\n",
       "</tbody>\n",
       "</table>\n",
       "\n",
       "</body>\n",
       "</html>"
      ],
      "text/plain": [
       "<IPython.core.display.HTML object>"
      ]
     },
     "metadata": {},
     "output_type": "display_data"
    },
    {
     "data": {
      "text/markdown": [
       "22;14_larynxkarzinom_0099.tsv;25"
      ],
      "text/plain": [
       "<IPython.core.display.Markdown object>"
      ]
     },
     "metadata": {},
     "output_type": "display_data"
    },
    {
     "data": {
      "text/markdown": [
       "__Input:__"
      ],
      "text/plain": [
       "<IPython.core.display.Markdown object>"
      ]
     },
     "metadata": {},
     "output_type": "display_data"
    },
    {
     "data": {
      "text/markdown": [
       "Bei dem Endpunkt “actuarial freedom from laryngectomy”, also der reinen Betrachtung „mit- oder ohne Salvage-Laryngektomie“ wurden 70 % erreicht (nach 5 Jahren unverändert 70 %)."
      ],
      "text/plain": [
       "<IPython.core.display.Markdown object>"
      ]
     },
     "metadata": {},
     "output_type": "display_data"
    },
    {
     "data": {
      "text/markdown": [
       "__Error type:__ fp"
      ],
      "text/plain": [
       "<IPython.core.display.Markdown object>"
      ]
     },
     "metadata": {},
     "output_type": "display_data"
    },
    {
     "data": {
      "text/html": [
       "\n",
       "<!DOCTYPE html PUBLIC \"-//W3C//DTD XHTML 1.0 Transitional//EN\"\n",
       "          \"http://www.w3.org/TR/xhtml1/DTD/xhtml1-transitional.dtd\">\n",
       "\n",
       "<html>\n",
       "<head>\n",
       "<meta content=\"text/html; charset=utf-8\" http-equiv=\"Content-Type\"/>\n",
       "<title></title>\n",
       "<style type=\"text/css\">\n",
       "        table.diff {font-family:Courier; border:medium;}\n",
       "        .diff_header {background-color:#e0e0e0}\n",
       "        td.diff_header {text-align:right}\n",
       "        .diff_next {background-color:#c0c0c0}\n",
       "        .diff_add {background-color:#aaffaa}\n",
       "        .diff_chg {background-color:#ffff77}\n",
       "        .diff_sub {background-color:#ffaaaa}\n",
       "    </style>\n",
       "</head>\n",
       "<body>\n",
       "<table cellpadding=\"0\" cellspacing=\"0\" class=\"diff\" id=\"difflib_chg_to177__top\" rules=\"groups\">\n",
       "<colgroup></colgroup> <colgroup></colgroup> <colgroup></colgroup>\n",
       "<colgroup></colgroup> <colgroup></colgroup> <colgroup></colgroup>\n",
       "<tbody>\n",
       "<tr><div nowrap=\"nowrap\">Bei dem Endpunkt “actuarial freedom from laryngectomy”, also der reinen Betrachtung „mit<span class=\"diff_chg\">-</span> oder ohne Salvage-Laryngektomie“ wurden 70 % erreicht (nach 5 Jahren unverändert 70 %).</div><div nowrap=\"nowrap\">Bei dem Endpunkt “actuarial freedom from laryngectomy”, also der reinen Betrachtung „mit<span class=\"diff_chg\">laryngektomie</span> oder ohne Salvage-Laryngektomie“ wurden 70 % erreicht (nach 5 Jahren unverändert 70 %).</div></tr>\n",
       "</tbody>\n",
       "</table>\n",
       "\n",
       "</body>\n",
       "</html>"
      ],
      "text/plain": [
       "<IPython.core.display.HTML object>"
      ]
     },
     "metadata": {},
     "output_type": "display_data"
    },
    {
     "data": {
      "text/markdown": [
       "23;14_larynxkarzinom_0126.tsv;9"
      ],
      "text/plain": [
       "<IPython.core.display.Markdown object>"
      ]
     },
     "metadata": {},
     "output_type": "display_data"
    },
    {
     "data": {
      "text/markdown": [
       "__Input:__"
      ],
      "text/plain": [
       "<IPython.core.display.Markdown object>"
      ]
     },
     "metadata": {},
     "output_type": "display_data"
    },
    {
     "data": {
      "text/markdown": [
       "Um Aktualisierungs-Überschneidung vorzubeugen, sollen folgende Nebenwirkungen von Strahlen- und Chemotherapie hier nicht kommentiert werden, auch wenn sie relevant sind:"
      ],
      "text/plain": [
       "<IPython.core.display.Markdown object>"
      ]
     },
     "metadata": {},
     "output_type": "display_data"
    },
    {
     "data": {
      "text/markdown": [
       "__Error type:__ fp"
      ],
      "text/plain": [
       "<IPython.core.display.Markdown object>"
      ]
     },
     "metadata": {},
     "output_type": "display_data"
    },
    {
     "data": {
      "text/html": [
       "\n",
       "<!DOCTYPE html PUBLIC \"-//W3C//DTD XHTML 1.0 Transitional//EN\"\n",
       "          \"http://www.w3.org/TR/xhtml1/DTD/xhtml1-transitional.dtd\">\n",
       "\n",
       "<html>\n",
       "<head>\n",
       "<meta content=\"text/html; charset=utf-8\" http-equiv=\"Content-Type\"/>\n",
       "<title></title>\n",
       "<style type=\"text/css\">\n",
       "        table.diff {font-family:Courier; border:medium;}\n",
       "        .diff_header {background-color:#e0e0e0}\n",
       "        td.diff_header {text-align:right}\n",
       "        .diff_next {background-color:#c0c0c0}\n",
       "        .diff_add {background-color:#aaffaa}\n",
       "        .diff_chg {background-color:#ffff77}\n",
       "        .diff_sub {background-color:#ffaaaa}\n",
       "    </style>\n",
       "</head>\n",
       "<body>\n",
       "<table cellpadding=\"0\" cellspacing=\"0\" class=\"diff\" id=\"difflib_chg_to178__top\" rules=\"groups\">\n",
       "<colgroup></colgroup> <colgroup></colgroup> <colgroup></colgroup>\n",
       "<colgroup></colgroup> <colgroup></colgroup> <colgroup></colgroup>\n",
       "<tbody>\n",
       "<tr><div nowrap=\"nowrap\">Um Aktualisierungs-Überschneidung vorzubeugen, sollen folgende Nebenwirkungen von Strahlen<span class=\"diff_chg\">-</span> und Chemotherapie hier nicht kommentiert werden, auch wenn sie relevant sind:</div><div nowrap=\"nowrap\">Um Aktualisierungs-Überschneidung vorzubeugen, sollen folgende Nebenwirkungen von Strahlen<span class=\"diff_chg\">therapie</span> und Chemotherapie hier nicht kommentiert werden, auch wenn sie relevant sind:</div></tr>\n",
       "</tbody>\n",
       "</table>\n",
       "\n",
       "</body>\n",
       "</html>"
      ],
      "text/plain": [
       "<IPython.core.display.HTML object>"
      ]
     },
     "metadata": {},
     "output_type": "display_data"
    },
    {
     "data": {
      "text/markdown": [
       "24;15_endometriumkarzinom_0087.tsv;26"
      ],
      "text/plain": [
       "<IPython.core.display.Markdown object>"
      ]
     },
     "metadata": {},
     "output_type": "display_data"
    },
    {
     "data": {
      "text/markdown": [
       "__Input:__"
      ],
      "text/plain": [
       "<IPython.core.display.Markdown object>"
      ]
     },
     "metadata": {},
     "output_type": "display_data"
    },
    {
     "data": {
      "text/markdown": [
       "Findet sich im Hysterektomiepräparat kein makroskopisch sichtbarer Tumor, ist die Einbettung von jeweils drei Blöcken von der Vorder- und Hinterwand sinnvoll [REF]."
      ],
      "text/plain": [
       "<IPython.core.display.Markdown object>"
      ]
     },
     "metadata": {},
     "output_type": "display_data"
    },
    {
     "data": {
      "text/markdown": [
       "__Error type:__ fp"
      ],
      "text/plain": [
       "<IPython.core.display.Markdown object>"
      ]
     },
     "metadata": {},
     "output_type": "display_data"
    },
    {
     "data": {
      "text/html": [
       "\n",
       "<!DOCTYPE html PUBLIC \"-//W3C//DTD XHTML 1.0 Transitional//EN\"\n",
       "          \"http://www.w3.org/TR/xhtml1/DTD/xhtml1-transitional.dtd\">\n",
       "\n",
       "<html>\n",
       "<head>\n",
       "<meta content=\"text/html; charset=utf-8\" http-equiv=\"Content-Type\"/>\n",
       "<title></title>\n",
       "<style type=\"text/css\">\n",
       "        table.diff {font-family:Courier; border:medium;}\n",
       "        .diff_header {background-color:#e0e0e0}\n",
       "        td.diff_header {text-align:right}\n",
       "        .diff_next {background-color:#c0c0c0}\n",
       "        .diff_add {background-color:#aaffaa}\n",
       "        .diff_chg {background-color:#ffff77}\n",
       "        .diff_sub {background-color:#ffaaaa}\n",
       "    </style>\n",
       "</head>\n",
       "<body>\n",
       "<table cellpadding=\"0\" cellspacing=\"0\" class=\"diff\" id=\"difflib_chg_to179__top\" rules=\"groups\">\n",
       "<colgroup></colgroup> <colgroup></colgroup> <colgroup></colgroup>\n",
       "<colgroup></colgroup> <colgroup></colgroup> <colgroup></colgroup>\n",
       "<tbody>\n",
       "<tr><div nowrap=\"nowrap\">Findet sich im Hysterektomiepräparat kein makroskopisch sichtbarer Tumor, ist die Einbettung von jeweils drei Blöcken von der Vorder<span class=\"diff_chg\">-</span> und Hinterwand sinnvoll [REF].</div><div nowrap=\"nowrap\">Findet sich im Hysterektomiepräparat kein makroskopisch sichtbarer Tumor, ist die Einbettung von jeweils drei Blöcken von der Vorder<span class=\"diff_chg\">wand</span> und Hinterwand sinnvoll [REF].</div></tr>\n",
       "</tbody>\n",
       "</table>\n",
       "\n",
       "</body>\n",
       "</html>"
      ],
      "text/plain": [
       "<IPython.core.display.HTML object>"
      ]
     },
     "metadata": {},
     "output_type": "display_data"
    },
    {
     "data": {
      "text/markdown": [
       "25;15_endometriumkarzinom_0156.tsv;38"
      ],
      "text/plain": [
       "<IPython.core.display.Markdown object>"
      ]
     },
     "metadata": {},
     "output_type": "display_data"
    },
    {
     "data": {
      "text/markdown": [
       "__Input:__"
      ],
      "text/plain": [
       "<IPython.core.display.Markdown object>"
      ]
     },
     "metadata": {},
     "output_type": "display_data"
    },
    {
     "data": {
      "text/markdown": [
       "Die Studie GOG 99 randomisierte 392 Patientinnen (nur endometrioider Typ) mit Myometriuminfiltration (also Stadium IA mit Myometriuminfiltration oder Stadium IB) sowie im Stadium II, jeweils jeglichen Gradings, postoperativ auf eine alleinige postoperative Beckenbestrahlung mit 50,4 Gy (2D-Bestrahlungstechnik, Gegenfeld- oder 4-Felder-Technik, z. T. Cobalt-60) vs. Beobachtung [REF]."
      ],
      "text/plain": [
       "<IPython.core.display.Markdown object>"
      ]
     },
     "metadata": {},
     "output_type": "display_data"
    },
    {
     "data": {
      "text/markdown": [
       "__Error type:__ fp"
      ],
      "text/plain": [
       "<IPython.core.display.Markdown object>"
      ]
     },
     "metadata": {},
     "output_type": "display_data"
    },
    {
     "data": {
      "text/html": [
       "\n",
       "<!DOCTYPE html PUBLIC \"-//W3C//DTD XHTML 1.0 Transitional//EN\"\n",
       "          \"http://www.w3.org/TR/xhtml1/DTD/xhtml1-transitional.dtd\">\n",
       "\n",
       "<html>\n",
       "<head>\n",
       "<meta content=\"text/html; charset=utf-8\" http-equiv=\"Content-Type\"/>\n",
       "<title></title>\n",
       "<style type=\"text/css\">\n",
       "        table.diff {font-family:Courier; border:medium;}\n",
       "        .diff_header {background-color:#e0e0e0}\n",
       "        td.diff_header {text-align:right}\n",
       "        .diff_next {background-color:#c0c0c0}\n",
       "        .diff_add {background-color:#aaffaa}\n",
       "        .diff_chg {background-color:#ffff77}\n",
       "        .diff_sub {background-color:#ffaaaa}\n",
       "    </style>\n",
       "</head>\n",
       "<body>\n",
       "<table cellpadding=\"0\" cellspacing=\"0\" class=\"diff\" id=\"difflib_chg_to180__top\" rules=\"groups\">\n",
       "<colgroup></colgroup> <colgroup></colgroup> <colgroup></colgroup>\n",
       "<colgroup></colgroup> <colgroup></colgroup> <colgroup></colgroup>\n",
       "<tbody>\n",
       "<tr><div nowrap=\"nowrap\">Die Studie GOG 99 randomisierte 392 Patientinnen (nur endometrioider Typ) mit Myometriuminfiltration (also Stadium IA mit Myometriuminfiltration oder Stadium IB) sowie im Stadium II, jeweils jeglichen Gradings, postoperativ auf eine alleinige postoperative Beckenbestrahlung mit 50,4 Gy (2D-Bestrahlungstechnik, Gegenfeld<span class=\"diff_chg\">- oder</span> 4-Felder-Technik, z. T. Cobalt-60) vs. Beobachtung [REF].</div><div nowrap=\"nowrap\">Die Studie GOG 99 randomisierte 392 Patientinnen (nur endometrioider Typ) mit Myometriuminfiltration (also Stadium IA mit Myometriuminfiltration oder Stadium IB) sowie im Stadium II, jeweils jeglichen Gradings, postoperativ auf eine alleinige postoperative Beckenbestrahlung mit 50,4 Gy (2D-Bestrahlungstechnik, Gegenfeld<span class=\"diff_chg\">technik oder</span> 4-Felder-Technik, z. T. Cobalt-60) vs. Beobachtung [REF].</div></tr>\n",
       "</tbody>\n",
       "</table>\n",
       "\n",
       "</body>\n",
       "</html>"
      ],
      "text/plain": [
       "<IPython.core.display.HTML object>"
      ]
     },
     "metadata": {},
     "output_type": "display_data"
    },
    {
     "data": {
      "text/markdown": [
       "26;16_maligne-ovarialtumoren_0035.tsv;2"
      ],
      "text/plain": [
       "<IPython.core.display.Markdown object>"
      ]
     },
     "metadata": {},
     "output_type": "display_data"
    },
    {
     "data": {
      "text/markdown": [
       "__Input:__"
      ],
      "text/plain": [
       "<IPython.core.display.Markdown object>"
      ]
     },
     "metadata": {},
     "output_type": "display_data"
    },
    {
     "data": {
      "text/markdown": [
       "Bei Patientinnen mit Mutationen von BRCA1 oder BRCA2 kann durch eine bilaterale Salpingo-Oophorektomie (BSO) das Erkrankungsrisiko für ein Ovarial- oder Tubenkarzinom um 80 bis > 90 % gesenkt werden [REF], [REF], [REF], [REF]."
      ],
      "text/plain": [
       "<IPython.core.display.Markdown object>"
      ]
     },
     "metadata": {},
     "output_type": "display_data"
    },
    {
     "data": {
      "text/markdown": [
       "__Error type:__ fp"
      ],
      "text/plain": [
       "<IPython.core.display.Markdown object>"
      ]
     },
     "metadata": {},
     "output_type": "display_data"
    },
    {
     "data": {
      "text/html": [
       "\n",
       "<!DOCTYPE html PUBLIC \"-//W3C//DTD XHTML 1.0 Transitional//EN\"\n",
       "          \"http://www.w3.org/TR/xhtml1/DTD/xhtml1-transitional.dtd\">\n",
       "\n",
       "<html>\n",
       "<head>\n",
       "<meta content=\"text/html; charset=utf-8\" http-equiv=\"Content-Type\"/>\n",
       "<title></title>\n",
       "<style type=\"text/css\">\n",
       "        table.diff {font-family:Courier; border:medium;}\n",
       "        .diff_header {background-color:#e0e0e0}\n",
       "        td.diff_header {text-align:right}\n",
       "        .diff_next {background-color:#c0c0c0}\n",
       "        .diff_add {background-color:#aaffaa}\n",
       "        .diff_chg {background-color:#ffff77}\n",
       "        .diff_sub {background-color:#ffaaaa}\n",
       "    </style>\n",
       "</head>\n",
       "<body>\n",
       "<table cellpadding=\"0\" cellspacing=\"0\" class=\"diff\" id=\"difflib_chg_to181__top\" rules=\"groups\">\n",
       "<colgroup></colgroup> <colgroup></colgroup> <colgroup></colgroup>\n",
       "<colgroup></colgroup> <colgroup></colgroup> <colgroup></colgroup>\n",
       "<tbody>\n",
       "<tr><div nowrap=\"nowrap\">Bei Patientinnen mit Mutationen von BRCA1 oder BRCA2 kann durch eine bilaterale Salpingo-Oophorektomie (BSO) das Erkrankungsrisiko für ein Ovarial<span class=\"diff_chg\">- oder</span> Tubenkarzinom um 80 bis &gt; 90 % gesenkt werden [REF], [REF], [REF], [REF].</div><div nowrap=\"nowrap\">Bei Patientinnen mit Mutationen von BRCA1 oder BRCA2 kann durch eine bilaterale Salpingo-Oophorektomie (BSO) das Erkrankungsrisiko für ein Ovarial<span class=\"diff_chg\">karzinom oder</span> Tubenkarzinom um 80 bis &gt; 90 % gesenkt werden [REF], [REF], [REF], [REF].</div></tr>\n",
       "</tbody>\n",
       "</table>\n",
       "\n",
       "</body>\n",
       "</html>"
      ],
      "text/plain": [
       "<IPython.core.display.HTML object>"
      ]
     },
     "metadata": {},
     "output_type": "display_data"
    },
    {
     "data": {
      "text/markdown": [
       "27;17_chronisch-lymphatische-leukaemie-cll_0272.tsv;1"
      ],
      "text/plain": [
       "<IPython.core.display.Markdown object>"
      ]
     },
     "metadata": {},
     "output_type": "display_data"
    },
    {
     "data": {
      "text/markdown": [
       "__Input:__"
      ],
      "text/plain": [
       "<IPython.core.display.Markdown object>"
      ]
     },
     "metadata": {},
     "output_type": "display_data"
    },
    {
     "data": {
      "text/markdown": [
       "Die Entdeckung von Früh- und Spätkomplikationen ist ein wichtiger Pfeiler in der Nachsorge von Patienten mit einer vorbehandelten CLL."
      ],
      "text/plain": [
       "<IPython.core.display.Markdown object>"
      ]
     },
     "metadata": {},
     "output_type": "display_data"
    },
    {
     "data": {
      "text/markdown": [
       "__Error type:__ fp"
      ],
      "text/plain": [
       "<IPython.core.display.Markdown object>"
      ]
     },
     "metadata": {},
     "output_type": "display_data"
    },
    {
     "data": {
      "text/html": [
       "\n",
       "<!DOCTYPE html PUBLIC \"-//W3C//DTD XHTML 1.0 Transitional//EN\"\n",
       "          \"http://www.w3.org/TR/xhtml1/DTD/xhtml1-transitional.dtd\">\n",
       "\n",
       "<html>\n",
       "<head>\n",
       "<meta content=\"text/html; charset=utf-8\" http-equiv=\"Content-Type\"/>\n",
       "<title></title>\n",
       "<style type=\"text/css\">\n",
       "        table.diff {font-family:Courier; border:medium;}\n",
       "        .diff_header {background-color:#e0e0e0}\n",
       "        td.diff_header {text-align:right}\n",
       "        .diff_next {background-color:#c0c0c0}\n",
       "        .diff_add {background-color:#aaffaa}\n",
       "        .diff_chg {background-color:#ffff77}\n",
       "        .diff_sub {background-color:#ffaaaa}\n",
       "    </style>\n",
       "</head>\n",
       "<body>\n",
       "<table cellpadding=\"0\" cellspacing=\"0\" class=\"diff\" id=\"difflib_chg_to182__top\" rules=\"groups\">\n",
       "<colgroup></colgroup> <colgroup></colgroup> <colgroup></colgroup>\n",
       "<colgroup></colgroup> <colgroup></colgroup> <colgroup></colgroup>\n",
       "<tbody>\n",
       "<tr><div nowrap=\"nowrap\">Die Entdeckung von Früh<span class=\"diff_chg\">-</span> und Spätkomplikationen ist ein wichtiger Pfeiler in der Nachsorge von Patienten mit einer vorbehandelten CLL.</div><div nowrap=\"nowrap\">Die Entdeckung von Früh<span class=\"diff_chg\">komplikationen</span> und Spätkomplikationen ist ein wichtiger Pfeiler in der Nachsorge von Patienten mit einer vorbehandelten CLL.</div></tr>\n",
       "</tbody>\n",
       "</table>\n",
       "\n",
       "</body>\n",
       "</html>"
      ],
      "text/plain": [
       "<IPython.core.display.HTML object>"
      ]
     },
     "metadata": {},
     "output_type": "display_data"
    },
    {
     "data": {
      "text/markdown": [
       "28;19_follikulaeres-lymphom_0284.tsv;6"
      ],
      "text/plain": [
       "<IPython.core.display.Markdown object>"
      ]
     },
     "metadata": {},
     "output_type": "display_data"
    },
    {
     "data": {
      "text/markdown": [
       "__Input:__"
      ],
      "text/plain": [
       "<IPython.core.display.Markdown object>"
      ]
     },
     "metadata": {},
     "output_type": "display_data"
    },
    {
     "data": {
      "text/markdown": [
       "Dies entsprach einer 7-fach erhöhten Wahrscheinlichkeit verglichen mit einer Alters- und Geschlechts-adaptierten Vergleichsgruppe."
      ],
      "text/plain": [
       "<IPython.core.display.Markdown object>"
      ]
     },
     "metadata": {},
     "output_type": "display_data"
    },
    {
     "data": {
      "text/markdown": [
       "__Error type:__ fp"
      ],
      "text/plain": [
       "<IPython.core.display.Markdown object>"
      ]
     },
     "metadata": {},
     "output_type": "display_data"
    },
    {
     "data": {
      "text/html": [
       "\n",
       "<!DOCTYPE html PUBLIC \"-//W3C//DTD XHTML 1.0 Transitional//EN\"\n",
       "          \"http://www.w3.org/TR/xhtml1/DTD/xhtml1-transitional.dtd\">\n",
       "\n",
       "<html>\n",
       "<head>\n",
       "<meta content=\"text/html; charset=utf-8\" http-equiv=\"Content-Type\"/>\n",
       "<title></title>\n",
       "<style type=\"text/css\">\n",
       "        table.diff {font-family:Courier; border:medium;}\n",
       "        .diff_header {background-color:#e0e0e0}\n",
       "        td.diff_header {text-align:right}\n",
       "        .diff_next {background-color:#c0c0c0}\n",
       "        .diff_add {background-color:#aaffaa}\n",
       "        .diff_chg {background-color:#ffff77}\n",
       "        .diff_sub {background-color:#ffaaaa}\n",
       "    </style>\n",
       "</head>\n",
       "<body>\n",
       "<table cellpadding=\"0\" cellspacing=\"0\" class=\"diff\" id=\"difflib_chg_to183__top\" rules=\"groups\">\n",
       "<colgroup></colgroup> <colgroup></colgroup> <colgroup></colgroup>\n",
       "<colgroup></colgroup> <colgroup></colgroup> <colgroup></colgroup>\n",
       "<tbody>\n",
       "<tr><div nowrap=\"nowrap\">Dies entsprach einer 7-fach erhöhten Wahrscheinlichkeit verglichen mit einer Alters<span class=\"diff_chg\">-</span> und Geschlechts-adaptierten Vergleichsgruppe.</div><div nowrap=\"nowrap\">Dies entsprach einer 7-fach erhöhten Wahrscheinlichkeit verglichen mit einer Alters<span class=\"diff_chg\">adaptierten</span> und Geschlechts-adaptierten Vergleichsgruppe.</div></tr>\n",
       "</tbody>\n",
       "</table>\n",
       "\n",
       "</body>\n",
       "</html>"
      ],
      "text/plain": [
       "<IPython.core.display.HTML object>"
      ]
     },
     "metadata": {},
     "output_type": "display_data"
    },
    {
     "data": {
      "text/markdown": [
       "29;20_harnblasenkarzinom_0283.tsv;93"
      ],
      "text/plain": [
       "<IPython.core.display.Markdown object>"
      ]
     },
     "metadata": {},
     "output_type": "display_data"
    },
    {
     "data": {
      "text/markdown": [
       "__Input:__"
      ],
      "text/plain": [
       "<IPython.core.display.Markdown object>"
      ]
     },
     "metadata": {},
     "output_type": "display_data"
    },
    {
     "data": {
      "text/markdown": [
       "Wie bei der KEYNOTE052-Studie (NCT02335424) wurde der „combined positivity score“ (CPS) bestimmt, der sich aus dem Verhältnis von PD-L1 positiven Tumor- und Immunzellen zu der Gesamtzahl aller Tumor- und Immunzellen berechnet."
      ],
      "text/plain": [
       "<IPython.core.display.Markdown object>"
      ]
     },
     "metadata": {},
     "output_type": "display_data"
    },
    {
     "data": {
      "text/markdown": [
       "__Error type:__ fp"
      ],
      "text/plain": [
       "<IPython.core.display.Markdown object>"
      ]
     },
     "metadata": {},
     "output_type": "display_data"
    },
    {
     "data": {
      "text/html": [
       "\n",
       "<!DOCTYPE html PUBLIC \"-//W3C//DTD XHTML 1.0 Transitional//EN\"\n",
       "          \"http://www.w3.org/TR/xhtml1/DTD/xhtml1-transitional.dtd\">\n",
       "\n",
       "<html>\n",
       "<head>\n",
       "<meta content=\"text/html; charset=utf-8\" http-equiv=\"Content-Type\"/>\n",
       "<title></title>\n",
       "<style type=\"text/css\">\n",
       "        table.diff {font-family:Courier; border:medium;}\n",
       "        .diff_header {background-color:#e0e0e0}\n",
       "        td.diff_header {text-align:right}\n",
       "        .diff_next {background-color:#c0c0c0}\n",
       "        .diff_add {background-color:#aaffaa}\n",
       "        .diff_chg {background-color:#ffff77}\n",
       "        .diff_sub {background-color:#ffaaaa}\n",
       "    </style>\n",
       "</head>\n",
       "<body>\n",
       "<table cellpadding=\"0\" cellspacing=\"0\" class=\"diff\" id=\"difflib_chg_to184__top\" rules=\"groups\">\n",
       "<colgroup></colgroup> <colgroup></colgroup> <colgroup></colgroup>\n",
       "<colgroup></colgroup> <colgroup></colgroup> <colgroup></colgroup>\n",
       "<tbody>\n",
       "<tr><div nowrap=\"nowrap\">Wie bei der KEYNOTE052-Studie (NCT02335424) wurde der „combined positivity score“ (CPS) bestimmt, der sich aus dem Verhältnis von PD-L1 positiven Tumor<span class=\"diff_chg\">- und</span> Immunzellen zu der Gesamtzahl aller Tumor<span class=\"diff_chg\">- und</span> Immunzellen berechnet.</div><div nowrap=\"nowrap\">Wie bei der KEYNOTE052-Studie (NCT02335424) wurde der „combined positivity score“ (CPS) bestimmt, der sich aus dem Verhältnis von PD-L1 positiven Tumor<span class=\"diff_chg\">zellen und</span> Immunzellen zu der Gesamtzahl aller Tumor<span class=\"diff_chg\">zellen und</span> Immunzellen berechnet.</div></tr>\n",
       "</tbody>\n",
       "</table>\n",
       "\n",
       "</body>\n",
       "</html>"
      ],
      "text/plain": [
       "<IPython.core.display.HTML object>"
      ]
     },
     "metadata": {},
     "output_type": "display_data"
    },
    {
     "data": {
      "text/markdown": [
       "30;20_harnblasenkarzinom_0283.tsv;13"
      ],
      "text/plain": [
       "<IPython.core.display.Markdown object>"
      ]
     },
     "metadata": {},
     "output_type": "display_data"
    },
    {
     "data": {
      "text/markdown": [
       "__Input:__"
      ],
      "text/plain": [
       "<IPython.core.display.Markdown object>"
      ]
     },
     "metadata": {},
     "output_type": "display_data"
    },
    {
     "data": {
      "text/markdown": [
       "Auf der Basis dieser einarmigen Phase-II-Studien erfolgten die FDA- und EMA-Zulassung von Atezolizumab und Pembrolizumab für nicht-cisplatinfähige metastasierte Urothelkarzinom-Patienten (Details s.u.)."
      ],
      "text/plain": [
       "<IPython.core.display.Markdown object>"
      ]
     },
     "metadata": {},
     "output_type": "display_data"
    },
    {
     "data": {
      "text/markdown": [
       "__Error type:__ fp"
      ],
      "text/plain": [
       "<IPython.core.display.Markdown object>"
      ]
     },
     "metadata": {},
     "output_type": "display_data"
    },
    {
     "data": {
      "text/html": [
       "\n",
       "<!DOCTYPE html PUBLIC \"-//W3C//DTD XHTML 1.0 Transitional//EN\"\n",
       "          \"http://www.w3.org/TR/xhtml1/DTD/xhtml1-transitional.dtd\">\n",
       "\n",
       "<html>\n",
       "<head>\n",
       "<meta content=\"text/html; charset=utf-8\" http-equiv=\"Content-Type\"/>\n",
       "<title></title>\n",
       "<style type=\"text/css\">\n",
       "        table.diff {font-family:Courier; border:medium;}\n",
       "        .diff_header {background-color:#e0e0e0}\n",
       "        td.diff_header {text-align:right}\n",
       "        .diff_next {background-color:#c0c0c0}\n",
       "        .diff_add {background-color:#aaffaa}\n",
       "        .diff_chg {background-color:#ffff77}\n",
       "        .diff_sub {background-color:#ffaaaa}\n",
       "    </style>\n",
       "</head>\n",
       "<body>\n",
       "<table cellpadding=\"0\" cellspacing=\"0\" class=\"diff\" id=\"difflib_chg_to185__top\" rules=\"groups\">\n",
       "<colgroup></colgroup> <colgroup></colgroup> <colgroup></colgroup>\n",
       "<colgroup></colgroup> <colgroup></colgroup> <colgroup></colgroup>\n",
       "<tbody>\n",
       "<tr><div nowrap=\"nowrap\">Auf der Basis dieser einarmigen Phase-II-Studien erfolgten die FDA<span class=\"diff_chg\">- und</span> EMA-Zulassung von Atezolizumab und Pembrolizumab für nicht-cisplatinfähige metastasierte Urothelkarzinom-Patienten (Details s.u.).</div><div nowrap=\"nowrap\">Auf der Basis dieser einarmigen Phase-II-Studien erfolgten die FDA<span class=\"diff_chg\">zulassung und</span> EMA-Zulassung von Atezolizumab und Pembrolizumab für nicht-cisplatinfähige metastasierte Urothelkarzinom-Patienten (Details s.u.).</div></tr>\n",
       "</tbody>\n",
       "</table>\n",
       "\n",
       "</body>\n",
       "</html>"
      ],
      "text/plain": [
       "<IPython.core.display.HTML object>"
      ]
     },
     "metadata": {},
     "output_type": "display_data"
    },
    {
     "data": {
      "text/markdown": [
       "31;20_harnblasenkarzinom_0322.tsv;25"
      ],
      "text/plain": [
       "<IPython.core.display.Markdown object>"
      ]
     },
     "metadata": {},
     "output_type": "display_data"
    },
    {
     "data": {
      "text/markdown": [
       "__Input:__"
      ],
      "text/plain": [
       "<IPython.core.display.Markdown object>"
      ]
     },
     "metadata": {},
     "output_type": "display_data"
    },
    {
     "data": {
      "text/markdown": [
       "Zu einer qualifizierten Behandlung von Tumorpatienten gehören das frühzeitige und langfristige Angebot einer - an individuellen Bedürfnissen und Problemen orientierten - psychoonkologischen Beratung, Begleitung und Behandlung sowie die orts- und zeitnahe Unterstützung bei der Bewältigung körperlicher, psychischer, sozialer, beruflicher und finanzieller Schwierigkeiten."
      ],
      "text/plain": [
       "<IPython.core.display.Markdown object>"
      ]
     },
     "metadata": {},
     "output_type": "display_data"
    },
    {
     "data": {
      "text/markdown": [
       "__Error type:__ fp"
      ],
      "text/plain": [
       "<IPython.core.display.Markdown object>"
      ]
     },
     "metadata": {},
     "output_type": "display_data"
    },
    {
     "data": {
      "text/html": [
       "\n",
       "<!DOCTYPE html PUBLIC \"-//W3C//DTD XHTML 1.0 Transitional//EN\"\n",
       "          \"http://www.w3.org/TR/xhtml1/DTD/xhtml1-transitional.dtd\">\n",
       "\n",
       "<html>\n",
       "<head>\n",
       "<meta content=\"text/html; charset=utf-8\" http-equiv=\"Content-Type\"/>\n",
       "<title></title>\n",
       "<style type=\"text/css\">\n",
       "        table.diff {font-family:Courier; border:medium;}\n",
       "        .diff_header {background-color:#e0e0e0}\n",
       "        td.diff_header {text-align:right}\n",
       "        .diff_next {background-color:#c0c0c0}\n",
       "        .diff_add {background-color:#aaffaa}\n",
       "        .diff_chg {background-color:#ffff77}\n",
       "        .diff_sub {background-color:#ffaaaa}\n",
       "    </style>\n",
       "</head>\n",
       "<body>\n",
       "<table cellpadding=\"0\" cellspacing=\"0\" class=\"diff\" id=\"difflib_chg_to186__top\" rules=\"groups\">\n",
       "<colgroup></colgroup> <colgroup></colgroup> <colgroup></colgroup>\n",
       "<colgroup></colgroup> <colgroup></colgroup> <colgroup></colgroup>\n",
       "<tbody>\n",
       "<tr><div nowrap=\"nowrap\">Zu einer qualifizierten Behandlung von Tumorpatienten gehören das frühzeitige und langfristige Angebot einer - an individuellen Bedürfnissen und Problemen orientierten - psychoonkologischen Beratung, Begleitung und Behandlung sowie die orts<span class=\"diff_chg\">- und zeitnahe</span> Unterstützung bei der Bewältigung körperlicher, psychischer, sozialer, beruflicher und finanzieller Schwierigkeiten.</div><div nowrap=\"nowrap\">Zu einer qualifizierten Behandlung von Tumorpatienten gehören das frühzeitige und langfristige Angebot einer - an individuellen Bedürfnissen und Problemen orientierten - psychoonkologischen Beratung, Begleitung und Behandlung sowie die orts<span class=\"diff_chg\">nahe und zeitnahe</span> Unterstützung bei der Bewältigung körperlicher, psychischer, sozialer, beruflicher und finanzieller Schwierigkeiten.</div></tr>\n",
       "</tbody>\n",
       "</table>\n",
       "\n",
       "</body>\n",
       "</html>"
      ],
      "text/plain": [
       "<IPython.core.display.HTML object>"
      ]
     },
     "metadata": {},
     "output_type": "display_data"
    },
    {
     "data": {
      "text/markdown": [
       "32;22_prostatakarzinom_0056.tsv;43"
      ],
      "text/plain": [
       "<IPython.core.display.Markdown object>"
      ]
     },
     "metadata": {},
     "output_type": "display_data"
    },
    {
     "data": {
      "text/markdown": [
       "__Input:__"
      ],
      "text/plain": [
       "<IPython.core.display.Markdown object>"
      ]
     },
     "metadata": {},
     "output_type": "display_data"
    },
    {
     "data": {
      "text/markdown": [
       "N+-Kategorie."
      ],
      "text/plain": [
       "<IPython.core.display.Markdown object>"
      ]
     },
     "metadata": {},
     "output_type": "display_data"
    },
    {
     "data": {
      "text/markdown": [
       "__Error type:__ fp"
      ],
      "text/plain": [
       "<IPython.core.display.Markdown object>"
      ]
     },
     "metadata": {},
     "output_type": "display_data"
    },
    {
     "data": {
      "text/html": [
       "\n",
       "<!DOCTYPE html PUBLIC \"-//W3C//DTD XHTML 1.0 Transitional//EN\"\n",
       "          \"http://www.w3.org/TR/xhtml1/DTD/xhtml1-transitional.dtd\">\n",
       "\n",
       "<html>\n",
       "<head>\n",
       "<meta content=\"text/html; charset=utf-8\" http-equiv=\"Content-Type\"/>\n",
       "<title></title>\n",
       "<style type=\"text/css\">\n",
       "        table.diff {font-family:Courier; border:medium;}\n",
       "        .diff_header {background-color:#e0e0e0}\n",
       "        td.diff_header {text-align:right}\n",
       "        .diff_next {background-color:#c0c0c0}\n",
       "        .diff_add {background-color:#aaffaa}\n",
       "        .diff_chg {background-color:#ffff77}\n",
       "        .diff_sub {background-color:#ffaaaa}\n",
       "    </style>\n",
       "</head>\n",
       "<body>\n",
       "<table cellpadding=\"0\" cellspacing=\"0\" class=\"diff\" id=\"difflib_chg_to187__top\" rules=\"groups\">\n",
       "<colgroup></colgroup> <colgroup></colgroup> <colgroup></colgroup>\n",
       "<colgroup></colgroup> <colgroup></colgroup> <colgroup></colgroup>\n",
       "<tbody>\n",
       "<tr><div nowrap=\"nowrap\">N+<span class=\"diff_chg\">-</span>Kategorie.</div><div nowrap=\"nowrap\">N+<span class=\"diff_chg\">N</span>Kategorie.</div></tr>\n",
       "</tbody>\n",
       "</table>\n",
       "\n",
       "</body>\n",
       "</html>"
      ],
      "text/plain": [
       "<IPython.core.display.HTML object>"
      ]
     },
     "metadata": {},
     "output_type": "display_data"
    },
    {
     "data": {
      "text/markdown": [
       "33;22_prostatakarzinom_0073.tsv;13"
      ],
      "text/plain": [
       "<IPython.core.display.Markdown object>"
      ]
     },
     "metadata": {},
     "output_type": "display_data"
    },
    {
     "data": {
      "text/markdown": [
       "__Input:__"
      ],
      "text/plain": [
       "<IPython.core.display.Markdown object>"
      ]
     },
     "metadata": {},
     "output_type": "display_data"
    },
    {
     "data": {
      "text/markdown": [
       "- Colon CK20+/CK7-/CDX2+, Urothel CK7(+) und CK20(+), GATA3+, p63+:"
      ],
      "text/plain": [
       "<IPython.core.display.Markdown object>"
      ]
     },
     "metadata": {},
     "output_type": "display_data"
    },
    {
     "data": {
      "text/markdown": [
       "__Error type:__ fp"
      ],
      "text/plain": [
       "<IPython.core.display.Markdown object>"
      ]
     },
     "metadata": {},
     "output_type": "display_data"
    },
    {
     "data": {
      "text/html": [
       "\n",
       "<!DOCTYPE html PUBLIC \"-//W3C//DTD XHTML 1.0 Transitional//EN\"\n",
       "          \"http://www.w3.org/TR/xhtml1/DTD/xhtml1-transitional.dtd\">\n",
       "\n",
       "<html>\n",
       "<head>\n",
       "<meta content=\"text/html; charset=utf-8\" http-equiv=\"Content-Type\"/>\n",
       "<title></title>\n",
       "<style type=\"text/css\">\n",
       "        table.diff {font-family:Courier; border:medium;}\n",
       "        .diff_header {background-color:#e0e0e0}\n",
       "        td.diff_header {text-align:right}\n",
       "        .diff_next {background-color:#c0c0c0}\n",
       "        .diff_add {background-color:#aaffaa}\n",
       "        .diff_chg {background-color:#ffff77}\n",
       "        .diff_sub {background-color:#ffaaaa}\n",
       "    </style>\n",
       "</head>\n",
       "<body>\n",
       "<table cellpadding=\"0\" cellspacing=\"0\" class=\"diff\" id=\"difflib_chg_to188__top\" rules=\"groups\">\n",
       "<colgroup></colgroup> <colgroup></colgroup> <colgroup></colgroup>\n",
       "<colgroup></colgroup> <colgroup></colgroup> <colgroup></colgroup>\n",
       "<tbody>\n",
       "<tr><div nowrap=\"nowrap\">- Colon CK20+/CK7<span class=\"diff_chg\">-</span>/CDX2+, Urothel CK7(+) und CK20(+), GATA3+, p63+:</div><div nowrap=\"nowrap\">- Colon CK20+/CK7<span class=\"diff_chg\">CK20</span>/CDX2+, Urothel CK7(+) und CK20(+), GATA3+, p63+:</div></tr>\n",
       "</tbody>\n",
       "</table>\n",
       "\n",
       "</body>\n",
       "</html>"
      ],
      "text/plain": [
       "<IPython.core.display.HTML object>"
      ]
     },
     "metadata": {},
     "output_type": "display_data"
    },
    {
     "data": {
      "text/markdown": [
       "34;22_prostatakarzinom_0098.tsv;97"
      ],
      "text/plain": [
       "<IPython.core.display.Markdown object>"
      ]
     },
     "metadata": {},
     "output_type": "display_data"
    },
    {
     "data": {
      "text/markdown": [
       "__Input:__"
      ],
      "text/plain": [
       "<IPython.core.display.Markdown object>"
      ]
     },
     "metadata": {},
     "output_type": "display_data"
    },
    {
     "data": {
      "text/markdown": [
       "Der betroffene Patient wird so über Vor- und Nachteile der verschiedenen Verfahren umfassend informiert."
      ],
      "text/plain": [
       "<IPython.core.display.Markdown object>"
      ]
     },
     "metadata": {},
     "output_type": "display_data"
    },
    {
     "data": {
      "text/markdown": [
       "__Error type:__ fp"
      ],
      "text/plain": [
       "<IPython.core.display.Markdown object>"
      ]
     },
     "metadata": {},
     "output_type": "display_data"
    },
    {
     "data": {
      "text/html": [
       "\n",
       "<!DOCTYPE html PUBLIC \"-//W3C//DTD XHTML 1.0 Transitional//EN\"\n",
       "          \"http://www.w3.org/TR/xhtml1/DTD/xhtml1-transitional.dtd\">\n",
       "\n",
       "<html>\n",
       "<head>\n",
       "<meta content=\"text/html; charset=utf-8\" http-equiv=\"Content-Type\"/>\n",
       "<title></title>\n",
       "<style type=\"text/css\">\n",
       "        table.diff {font-family:Courier; border:medium;}\n",
       "        .diff_header {background-color:#e0e0e0}\n",
       "        td.diff_header {text-align:right}\n",
       "        .diff_next {background-color:#c0c0c0}\n",
       "        .diff_add {background-color:#aaffaa}\n",
       "        .diff_chg {background-color:#ffff77}\n",
       "        .diff_sub {background-color:#ffaaaa}\n",
       "    </style>\n",
       "</head>\n",
       "<body>\n",
       "<table cellpadding=\"0\" cellspacing=\"0\" class=\"diff\" id=\"difflib_chg_to189__top\" rules=\"groups\">\n",
       "<colgroup></colgroup> <colgroup></colgroup> <colgroup></colgroup>\n",
       "<colgroup></colgroup> <colgroup></colgroup> <colgroup></colgroup>\n",
       "<tbody>\n",
       "<tr><div nowrap=\"nowrap\">Der betroffene Patient wird so über Vor<span class=\"diff_chg\">-</span> und Nachteile der verschiedenen Verfahren umfassend informiert.</div><div nowrap=\"nowrap\">Der betroffene Patient wird so über Vor<span class=\"diff_chg\">teile</span> und Nachteile der verschiedenen Verfahren umfassend informiert.</div></tr>\n",
       "</tbody>\n",
       "</table>\n",
       "\n",
       "</body>\n",
       "</html>"
      ],
      "text/plain": [
       "<IPython.core.display.HTML object>"
      ]
     },
     "metadata": {},
     "output_type": "display_data"
    },
    {
     "data": {
      "text/markdown": [
       "35;22_prostatakarzinom_0123.tsv;43"
      ],
      "text/plain": [
       "<IPython.core.display.Markdown object>"
      ]
     },
     "metadata": {},
     "output_type": "display_data"
    },
    {
     "data": {
      "text/markdown": [
       "__Input:__"
      ],
      "text/plain": [
       "<IPython.core.display.Markdown object>"
      ]
     },
     "metadata": {},
     "output_type": "display_data"
    },
    {
     "data": {
      "text/markdown": [
       "Bis zum Zeitpunkt der systematischen Recherche waren die Effektivität- und Toxizität-Daten nach einem Follow-up von mindestens 5 Jahren aus drei RCT mit jeweils ca. 400 bis >1.000 Patienten pro konventionellem und hypofraktioniertem Bestrahlungsschema publiziert [REF], [REF], [REF], [REF], [REF], [REF]."
      ],
      "text/plain": [
       "<IPython.core.display.Markdown object>"
      ]
     },
     "metadata": {},
     "output_type": "display_data"
    },
    {
     "data": {
      "text/markdown": [
       "__Error type:__ fp"
      ],
      "text/plain": [
       "<IPython.core.display.Markdown object>"
      ]
     },
     "metadata": {},
     "output_type": "display_data"
    },
    {
     "data": {
      "text/html": [
       "\n",
       "<!DOCTYPE html PUBLIC \"-//W3C//DTD XHTML 1.0 Transitional//EN\"\n",
       "          \"http://www.w3.org/TR/xhtml1/DTD/xhtml1-transitional.dtd\">\n",
       "\n",
       "<html>\n",
       "<head>\n",
       "<meta content=\"text/html; charset=utf-8\" http-equiv=\"Content-Type\"/>\n",
       "<title></title>\n",
       "<style type=\"text/css\">\n",
       "        table.diff {font-family:Courier; border:medium;}\n",
       "        .diff_header {background-color:#e0e0e0}\n",
       "        td.diff_header {text-align:right}\n",
       "        .diff_next {background-color:#c0c0c0}\n",
       "        .diff_add {background-color:#aaffaa}\n",
       "        .diff_chg {background-color:#ffff77}\n",
       "        .diff_sub {background-color:#ffaaaa}\n",
       "    </style>\n",
       "</head>\n",
       "<body>\n",
       "<table cellpadding=\"0\" cellspacing=\"0\" class=\"diff\" id=\"difflib_chg_to190__top\" rules=\"groups\">\n",
       "<colgroup></colgroup> <colgroup></colgroup> <colgroup></colgroup>\n",
       "<colgroup></colgroup> <colgroup></colgroup> <colgroup></colgroup>\n",
       "<tbody>\n",
       "<tr><div nowrap=\"nowrap\">Bis zum Zeitpunkt der systematischen Recherche waren die Effektivität<span class=\"diff_chg\">- und</span> Toxizität-Daten nach einem Follow-up von mindestens 5 Jahren aus drei RCT mit jeweils ca. 400 bis &gt;1.000 Patienten pro konventionellem und hypofraktioniertem Bestrahlungsschema publiziert [REF], [REF], [REF], [REF], [REF], [REF].</div><div nowrap=\"nowrap\">Bis zum Zeitpunkt der systematischen Recherche waren die Effektivität<span class=\"diff_chg\">daten und</span> Toxizität-Daten nach einem Follow-up von mindestens 5 Jahren aus drei RCT mit jeweils ca. 400 bis &gt;1.000 Patienten pro konventionellem und hypofraktioniertem Bestrahlungsschema publiziert [REF], [REF], [REF], [REF], [REF], [REF].</div></tr>\n",
       "</tbody>\n",
       "</table>\n",
       "\n",
       "</body>\n",
       "</html>"
      ],
      "text/plain": [
       "<IPython.core.display.HTML object>"
      ]
     },
     "metadata": {},
     "output_type": "display_data"
    },
    {
     "data": {
      "text/markdown": [
       "36;22_prostatakarzinom_0241.tsv;27"
      ],
      "text/plain": [
       "<IPython.core.display.Markdown object>"
      ]
     },
     "metadata": {},
     "output_type": "display_data"
    },
    {
     "data": {
      "text/markdown": [
       "__Input:__"
      ],
      "text/plain": [
       "<IPython.core.display.Markdown object>"
      ]
     },
     "metadata": {},
     "output_type": "display_data"
    },
    {
     "data": {
      "text/markdown": [
       "Die Empfehlungen 7.24a (Apalutamid) und 7.24b (Enzalutamid) berücksichtigen jeweils eine Zeitdauer von 3 Monaten zwischen Beginn der AD und der Einleitung der Apalutamid- bzw. Enzalutamid-Therapie."
      ],
      "text/plain": [
       "<IPython.core.display.Markdown object>"
      ]
     },
     "metadata": {},
     "output_type": "display_data"
    },
    {
     "data": {
      "text/markdown": [
       "__Error type:__ fp"
      ],
      "text/plain": [
       "<IPython.core.display.Markdown object>"
      ]
     },
     "metadata": {},
     "output_type": "display_data"
    },
    {
     "data": {
      "text/html": [
       "\n",
       "<!DOCTYPE html PUBLIC \"-//W3C//DTD XHTML 1.0 Transitional//EN\"\n",
       "          \"http://www.w3.org/TR/xhtml1/DTD/xhtml1-transitional.dtd\">\n",
       "\n",
       "<html>\n",
       "<head>\n",
       "<meta content=\"text/html; charset=utf-8\" http-equiv=\"Content-Type\"/>\n",
       "<title></title>\n",
       "<style type=\"text/css\">\n",
       "        table.diff {font-family:Courier; border:medium;}\n",
       "        .diff_header {background-color:#e0e0e0}\n",
       "        td.diff_header {text-align:right}\n",
       "        .diff_next {background-color:#c0c0c0}\n",
       "        .diff_add {background-color:#aaffaa}\n",
       "        .diff_chg {background-color:#ffff77}\n",
       "        .diff_sub {background-color:#ffaaaa}\n",
       "    </style>\n",
       "</head>\n",
       "<body>\n",
       "<table cellpadding=\"0\" cellspacing=\"0\" class=\"diff\" id=\"difflib_chg_to191__top\" rules=\"groups\">\n",
       "<colgroup></colgroup> <colgroup></colgroup> <colgroup></colgroup>\n",
       "<colgroup></colgroup> <colgroup></colgroup> <colgroup></colgroup>\n",
       "<tbody>\n",
       "<tr><div nowrap=\"nowrap\">Die Empfehlungen 7.24a (Apalutamid) und 7.24b (Enzalutamid) berücksichtigen jeweils eine Zeitdauer von 3 Monaten zwischen Beginn der AD und der Einleitung der Apalutamid<span class=\"diff_chg\">-</span> bzw. Enzalutamid-Therapie.</div><div nowrap=\"nowrap\">Die Empfehlungen 7.24a (Apalutamid) und 7.24b (Enzalutamid) berücksichtigen jeweils eine Zeitdauer von 3 Monaten zwischen Beginn der AD und der Einleitung der Apalutamid<span class=\"diff_chg\">therapie</span> bzw. Enzalutamid-Therapie.</div></tr>\n",
       "</tbody>\n",
       "</table>\n",
       "\n",
       "</body>\n",
       "</html>"
      ],
      "text/plain": [
       "<IPython.core.display.HTML object>"
      ]
     },
     "metadata": {},
     "output_type": "display_data"
    },
    {
     "data": {
      "text/markdown": [
       "37;23_peniskarzinom_0146.tsv;3"
      ],
      "text/plain": [
       "<IPython.core.display.Markdown object>"
      ]
     },
     "metadata": {},
     "output_type": "display_data"
    },
    {
     "data": {
      "text/markdown": [
       "__Input:__"
      ],
      "text/plain": [
       "<IPython.core.display.Markdown object>"
      ]
     },
     "metadata": {},
     "output_type": "display_data"
    },
    {
     "data": {
      "text/markdown": [
       "Neben der Beurteilung der lokalen und regionalen Tumorkontrolle stehen die Erfassung der therapie- und tumorbedingten Nebenwirkungen sowie die positive Beeinflussung der Lebensqualität der Patienten im Vordergrund."
      ],
      "text/plain": [
       "<IPython.core.display.Markdown object>"
      ]
     },
     "metadata": {},
     "output_type": "display_data"
    },
    {
     "data": {
      "text/markdown": [
       "__Error type:__ fp"
      ],
      "text/plain": [
       "<IPython.core.display.Markdown object>"
      ]
     },
     "metadata": {},
     "output_type": "display_data"
    },
    {
     "data": {
      "text/html": [
       "\n",
       "<!DOCTYPE html PUBLIC \"-//W3C//DTD XHTML 1.0 Transitional//EN\"\n",
       "          \"http://www.w3.org/TR/xhtml1/DTD/xhtml1-transitional.dtd\">\n",
       "\n",
       "<html>\n",
       "<head>\n",
       "<meta content=\"text/html; charset=utf-8\" http-equiv=\"Content-Type\"/>\n",
       "<title></title>\n",
       "<style type=\"text/css\">\n",
       "        table.diff {font-family:Courier; border:medium;}\n",
       "        .diff_header {background-color:#e0e0e0}\n",
       "        td.diff_header {text-align:right}\n",
       "        .diff_next {background-color:#c0c0c0}\n",
       "        .diff_add {background-color:#aaffaa}\n",
       "        .diff_chg {background-color:#ffff77}\n",
       "        .diff_sub {background-color:#ffaaaa}\n",
       "    </style>\n",
       "</head>\n",
       "<body>\n",
       "<table cellpadding=\"0\" cellspacing=\"0\" class=\"diff\" id=\"difflib_chg_to192__top\" rules=\"groups\">\n",
       "<colgroup></colgroup> <colgroup></colgroup> <colgroup></colgroup>\n",
       "<colgroup></colgroup> <colgroup></colgroup> <colgroup></colgroup>\n",
       "<tbody>\n",
       "<tr><div nowrap=\"nowrap\">Neben der Beurteilung der lokalen und regionalen Tumorkontrolle stehen die Erfassung der therapie<span class=\"diff_chg\">- und</span> tumorbedingten Nebenwirkungen sowie die positive Beeinflussung der Lebensqualität der Patienten im Vordergrund.</div><div nowrap=\"nowrap\">Neben der Beurteilung der lokalen und regionalen Tumorkontrolle stehen die Erfassung der therapie<span class=\"diff_chg\">bedingten und</span> tumorbedingten Nebenwirkungen sowie die positive Beeinflussung der Lebensqualität der Patienten im Vordergrund.</div></tr>\n",
       "</tbody>\n",
       "</table>\n",
       "\n",
       "</body>\n",
       "</html>"
      ],
      "text/plain": [
       "<IPython.core.display.HTML object>"
      ]
     },
     "metadata": {},
     "output_type": "display_data"
    },
    {
     "data": {
      "text/markdown": [
       "38;24_analkarzinom_0178.tsv;48"
      ],
      "text/plain": [
       "<IPython.core.display.Markdown object>"
      ]
     },
     "metadata": {},
     "output_type": "display_data"
    },
    {
     "data": {
      "text/markdown": [
       "__Input:__"
      ],
      "text/plain": [
       "<IPython.core.display.Markdown object>"
      ]
     },
     "metadata": {},
     "output_type": "display_data"
    },
    {
     "data": {
      "text/markdown": [
       "Alle waren nichtvergleichende prospektive Beobachtungs- bzw. Kohortenstudien (siehe Evidenzbericht, Kapitel 3.4.1.)."
      ],
      "text/plain": [
       "<IPython.core.display.Markdown object>"
      ]
     },
     "metadata": {},
     "output_type": "display_data"
    },
    {
     "data": {
      "text/markdown": [
       "__Error type:__ fp"
      ],
      "text/plain": [
       "<IPython.core.display.Markdown object>"
      ]
     },
     "metadata": {},
     "output_type": "display_data"
    },
    {
     "data": {
      "text/html": [
       "\n",
       "<!DOCTYPE html PUBLIC \"-//W3C//DTD XHTML 1.0 Transitional//EN\"\n",
       "          \"http://www.w3.org/TR/xhtml1/DTD/xhtml1-transitional.dtd\">\n",
       "\n",
       "<html>\n",
       "<head>\n",
       "<meta content=\"text/html; charset=utf-8\" http-equiv=\"Content-Type\"/>\n",
       "<title></title>\n",
       "<style type=\"text/css\">\n",
       "        table.diff {font-family:Courier; border:medium;}\n",
       "        .diff_header {background-color:#e0e0e0}\n",
       "        td.diff_header {text-align:right}\n",
       "        .diff_next {background-color:#c0c0c0}\n",
       "        .diff_add {background-color:#aaffaa}\n",
       "        .diff_chg {background-color:#ffff77}\n",
       "        .diff_sub {background-color:#ffaaaa}\n",
       "    </style>\n",
       "</head>\n",
       "<body>\n",
       "<table cellpadding=\"0\" cellspacing=\"0\" class=\"diff\" id=\"difflib_chg_to193__top\" rules=\"groups\">\n",
       "<colgroup></colgroup> <colgroup></colgroup> <colgroup></colgroup>\n",
       "<colgroup></colgroup> <colgroup></colgroup> <colgroup></colgroup>\n",
       "<tbody>\n",
       "<tr><div nowrap=\"nowrap\">Alle waren nichtvergleichende prospektive Beobachtungs<span class=\"diff_chg\">-</span> bzw. Kohortenstudien (siehe Evidenzbericht, Kapitel 3.4.1.).</div><div nowrap=\"nowrap\">Alle waren nichtvergleichende prospektive Beobachtungs<span class=\"diff_chg\">studien</span> bzw. Kohortenstudien (siehe Evidenzbericht, Kapitel 3.4.1.).</div></tr>\n",
       "</tbody>\n",
       "</table>\n",
       "\n",
       "</body>\n",
       "</html>"
      ],
      "text/plain": [
       "<IPython.core.display.HTML object>"
      ]
     },
     "metadata": {},
     "output_type": "display_data"
    },
    {
     "data": {
      "text/markdown": [
       "39;25_psychoonkologie_0011.tsv;2"
      ],
      "text/plain": [
       "<IPython.core.display.Markdown object>"
      ]
     },
     "metadata": {},
     "output_type": "display_data"
    },
    {
     "data": {
      "text/markdown": [
       "__Input:__"
      ],
      "text/plain": [
       "<IPython.core.display.Markdown object>"
      ]
     },
     "metadata": {},
     "output_type": "display_data"
    },
    {
     "data": {
      "text/markdown": [
       "- psychoonkologische Betreuung im Rahmen der psychosomatischen Grundversorgung durch Haus- und Fachärzte"
      ],
      "text/plain": [
       "<IPython.core.display.Markdown object>"
      ]
     },
     "metadata": {},
     "output_type": "display_data"
    },
    {
     "data": {
      "text/markdown": [
       "__Error type:__ fp"
      ],
      "text/plain": [
       "<IPython.core.display.Markdown object>"
      ]
     },
     "metadata": {},
     "output_type": "display_data"
    },
    {
     "data": {
      "text/html": [
       "\n",
       "<!DOCTYPE html PUBLIC \"-//W3C//DTD XHTML 1.0 Transitional//EN\"\n",
       "          \"http://www.w3.org/TR/xhtml1/DTD/xhtml1-transitional.dtd\">\n",
       "\n",
       "<html>\n",
       "<head>\n",
       "<meta content=\"text/html; charset=utf-8\" http-equiv=\"Content-Type\"/>\n",
       "<title></title>\n",
       "<style type=\"text/css\">\n",
       "        table.diff {font-family:Courier; border:medium;}\n",
       "        .diff_header {background-color:#e0e0e0}\n",
       "        td.diff_header {text-align:right}\n",
       "        .diff_next {background-color:#c0c0c0}\n",
       "        .diff_add {background-color:#aaffaa}\n",
       "        .diff_chg {background-color:#ffff77}\n",
       "        .diff_sub {background-color:#ffaaaa}\n",
       "    </style>\n",
       "</head>\n",
       "<body>\n",
       "<table cellpadding=\"0\" cellspacing=\"0\" class=\"diff\" id=\"difflib_chg_to194__top\" rules=\"groups\">\n",
       "<colgroup></colgroup> <colgroup></colgroup> <colgroup></colgroup>\n",
       "<colgroup></colgroup> <colgroup></colgroup> <colgroup></colgroup>\n",
       "<tbody>\n",
       "<tr><div nowrap=\"nowrap\">- psychoonkologische Betreuung im Rahmen der psychosomatischen Grundversorgung durch Haus<span class=\"diff_chg\">-</span> und Fachärzte</div><div nowrap=\"nowrap\">- psychoonkologische Betreuung im Rahmen der psychosomatischen Grundversorgung durch Haus<span class=\"diff_chg\">ärzte</span> und Fachärzte</div></tr>\n",
       "</tbody>\n",
       "</table>\n",
       "\n",
       "</body>\n",
       "</html>"
      ],
      "text/plain": [
       "<IPython.core.display.HTML object>"
      ]
     },
     "metadata": {},
     "output_type": "display_data"
    },
    {
     "data": {
      "text/markdown": [
       "40;26_palliativmedizin_0018.tsv;45"
      ],
      "text/plain": [
       "<IPython.core.display.Markdown object>"
      ]
     },
     "metadata": {},
     "output_type": "display_data"
    },
    {
     "data": {
      "text/markdown": [
       "__Input:__"
      ],
      "text/plain": [
       "<IPython.core.display.Markdown object>"
      ]
     },
     "metadata": {},
     "output_type": "display_data"
    },
    {
     "data": {
      "text/markdown": [
       "Entsprechende Aktivitäten zur Verbesserung in Aus-, Fort- und Weiterbildung in der kommunikativen Kompetenz insbesondere für die Ärzte und das Pflegepersonal wurden im Rahmen des Nationalen Krebsplanes in der Arbeitsgruppe Patientenorientierung derzeit erarbeitet und verabschiedet (www.bundesgesundheitsministerium.de/themen/praevention/nationaler-krebsplan/was-haben-wir-bisher-erreicht/ziel-12a12b13.html)."
      ],
      "text/plain": [
       "<IPython.core.display.Markdown object>"
      ]
     },
     "metadata": {},
     "output_type": "display_data"
    },
    {
     "data": {
      "text/markdown": [
       "__Error type:__ fp"
      ],
      "text/plain": [
       "<IPython.core.display.Markdown object>"
      ]
     },
     "metadata": {},
     "output_type": "display_data"
    },
    {
     "data": {
      "text/html": [
       "\n",
       "<!DOCTYPE html PUBLIC \"-//W3C//DTD XHTML 1.0 Transitional//EN\"\n",
       "          \"http://www.w3.org/TR/xhtml1/DTD/xhtml1-transitional.dtd\">\n",
       "\n",
       "<html>\n",
       "<head>\n",
       "<meta content=\"text/html; charset=utf-8\" http-equiv=\"Content-Type\"/>\n",
       "<title></title>\n",
       "<style type=\"text/css\">\n",
       "        table.diff {font-family:Courier; border:medium;}\n",
       "        .diff_header {background-color:#e0e0e0}\n",
       "        td.diff_header {text-align:right}\n",
       "        .diff_next {background-color:#c0c0c0}\n",
       "        .diff_add {background-color:#aaffaa}\n",
       "        .diff_chg {background-color:#ffff77}\n",
       "        .diff_sub {background-color:#ffaaaa}\n",
       "    </style>\n",
       "</head>\n",
       "<body>\n",
       "<table cellpadding=\"0\" cellspacing=\"0\" class=\"diff\" id=\"difflib_chg_to195__top\" rules=\"groups\">\n",
       "<colgroup></colgroup> <colgroup></colgroup> <colgroup></colgroup>\n",
       "<colgroup></colgroup> <colgroup></colgroup> <colgroup></colgroup>\n",
       "<tbody>\n",
       "<tr><div nowrap=\"nowrap\">Entsprechende Aktivitäten zur Verbesserung in Aus<span class=\"diff_chg\">-</span>, Fort<span class=\"diff_chg\">- und</span> Weiterbildung in der kommunikativen Kompetenz insbesondere für die Ärzte und das Pflegepersonal wurden im Rahmen des Nationalen Krebsplanes in der Arbeitsgruppe Patientenorientierung derzeit erarbeitet und verabschiedet (www.bundesgesundheitsministerium.de/themen/praevention/nationaler-krebsplan/was-haben-wir-bisher-erreicht/ziel-12a12b13.html).</div><div nowrap=\"nowrap\">Entsprechende Aktivitäten zur Verbesserung in Aus<span class=\"diff_chg\">bildung</span>, Fort<span class=\"diff_chg\">bildung und</span> Weiterbildung in der kommunikativen Kompetenz insbesondere für die Ärzte und das Pflegepersonal wurden im Rahmen des Nationalen Krebsplanes in der Arbeitsgruppe Patientenorientierung derzeit erarbeitet und verabschiedet (www.bundesgesundheitsministerium.de/themen/praevention/nationaler-krebsplan/was-haben-wir-bisher-erreicht/ziel-12a12b13.html).</div></tr>\n",
       "</tbody>\n",
       "</table>\n",
       "\n",
       "</body>\n",
       "</html>"
      ],
      "text/plain": [
       "<IPython.core.display.HTML object>"
      ]
     },
     "metadata": {},
     "output_type": "display_data"
    },
    {
     "data": {
      "text/markdown": [
       "41;26_palliativmedizin_0039.tsv;15"
      ],
      "text/plain": [
       "<IPython.core.display.Markdown object>"
      ]
     },
     "metadata": {},
     "output_type": "display_data"
    },
    {
     "data": {
      "text/markdown": [
       "__Input:__"
      ],
      "text/plain": [
       "<IPython.core.display.Markdown object>"
      ]
     },
     "metadata": {},
     "output_type": "display_data"
    },
    {
     "data": {
      "text/markdown": [
       "Ebenso wurde entschieden, zunächst von einer Zweiteilung der Palliativversorgung in spezialisierte und allgemeine Palliativversorgung auszugehen, auch wenn es international Modelle einer Drei- oder gar Vierteilung (siehe WHO [REF], White Paper [REF], [REF] ) gibt."
      ],
      "text/plain": [
       "<IPython.core.display.Markdown object>"
      ]
     },
     "metadata": {},
     "output_type": "display_data"
    },
    {
     "data": {
      "text/markdown": [
       "__Error type:__ fp"
      ],
      "text/plain": [
       "<IPython.core.display.Markdown object>"
      ]
     },
     "metadata": {},
     "output_type": "display_data"
    },
    {
     "data": {
      "text/html": [
       "\n",
       "<!DOCTYPE html PUBLIC \"-//W3C//DTD XHTML 1.0 Transitional//EN\"\n",
       "          \"http://www.w3.org/TR/xhtml1/DTD/xhtml1-transitional.dtd\">\n",
       "\n",
       "<html>\n",
       "<head>\n",
       "<meta content=\"text/html; charset=utf-8\" http-equiv=\"Content-Type\"/>\n",
       "<title></title>\n",
       "<style type=\"text/css\">\n",
       "        table.diff {font-family:Courier; border:medium;}\n",
       "        .diff_header {background-color:#e0e0e0}\n",
       "        td.diff_header {text-align:right}\n",
       "        .diff_next {background-color:#c0c0c0}\n",
       "        .diff_add {background-color:#aaffaa}\n",
       "        .diff_chg {background-color:#ffff77}\n",
       "        .diff_sub {background-color:#ffaaaa}\n",
       "    </style>\n",
       "</head>\n",
       "<body>\n",
       "<table cellpadding=\"0\" cellspacing=\"0\" class=\"diff\" id=\"difflib_chg_to196__top\" rules=\"groups\">\n",
       "<colgroup></colgroup> <colgroup></colgroup> <colgroup></colgroup>\n",
       "<colgroup></colgroup> <colgroup></colgroup> <colgroup></colgroup>\n",
       "<tbody>\n",
       "<tr><div nowrap=\"nowrap\">Ebenso wurde entschieden, zunächst von einer Zweiteilung der Palliativversorgung in spezialisierte und allgemeine Palliativversorgung auszugehen, auch wenn es international Modelle einer Drei<span class=\"diff_chg\">- oder gar</span> Vierteilung (siehe WHO [REF], White Paper [REF], [REF] ) gibt.</div><div nowrap=\"nowrap\">Ebenso wurde entschieden, zunächst von einer Zweiteilung der Palliativversorgung in spezialisierte und allgemeine Palliativversorgung auszugehen, auch wenn es international Modelle einer Drei<span class=\"diff_chg\">teilung oder gar</span> Vierteilung (siehe WHO [REF], White Paper [REF], [REF] ) gibt.</div></tr>\n",
       "</tbody>\n",
       "</table>\n",
       "\n",
       "</body>\n",
       "</html>"
      ],
      "text/plain": [
       "<IPython.core.display.HTML object>"
      ]
     },
     "metadata": {},
     "output_type": "display_data"
    },
    {
     "data": {
      "text/markdown": [
       "42;26_palliativmedizin_0165.tsv;2"
      ],
      "text/plain": [
       "<IPython.core.display.Markdown object>"
      ]
     },
     "metadata": {},
     "output_type": "display_data"
    },
    {
     "data": {
      "text/markdown": [
       "__Input:__"
      ],
      "text/plain": [
       "<IPython.core.display.Markdown object>"
      ]
     },
     "metadata": {},
     "output_type": "display_data"
    },
    {
     "data": {
      "text/markdown": [
       "Die Behandlung mit diesen Substanzen war spezifisch auf die Linderung von tumor- oder therapiebedingter Fatigue als Hauptsymptom der Anämie gerichtet worden [REF]."
      ],
      "text/plain": [
       "<IPython.core.display.Markdown object>"
      ]
     },
     "metadata": {},
     "output_type": "display_data"
    },
    {
     "data": {
      "text/markdown": [
       "__Error type:__ fp"
      ],
      "text/plain": [
       "<IPython.core.display.Markdown object>"
      ]
     },
     "metadata": {},
     "output_type": "display_data"
    },
    {
     "data": {
      "text/html": [
       "\n",
       "<!DOCTYPE html PUBLIC \"-//W3C//DTD XHTML 1.0 Transitional//EN\"\n",
       "          \"http://www.w3.org/TR/xhtml1/DTD/xhtml1-transitional.dtd\">\n",
       "\n",
       "<html>\n",
       "<head>\n",
       "<meta content=\"text/html; charset=utf-8\" http-equiv=\"Content-Type\"/>\n",
       "<title></title>\n",
       "<style type=\"text/css\">\n",
       "        table.diff {font-family:Courier; border:medium;}\n",
       "        .diff_header {background-color:#e0e0e0}\n",
       "        td.diff_header {text-align:right}\n",
       "        .diff_next {background-color:#c0c0c0}\n",
       "        .diff_add {background-color:#aaffaa}\n",
       "        .diff_chg {background-color:#ffff77}\n",
       "        .diff_sub {background-color:#ffaaaa}\n",
       "    </style>\n",
       "</head>\n",
       "<body>\n",
       "<table cellpadding=\"0\" cellspacing=\"0\" class=\"diff\" id=\"difflib_chg_to197__top\" rules=\"groups\">\n",
       "<colgroup></colgroup> <colgroup></colgroup> <colgroup></colgroup>\n",
       "<colgroup></colgroup> <colgroup></colgroup> <colgroup></colgroup>\n",
       "<tbody>\n",
       "<tr><div nowrap=\"nowrap\">Die Behandlung mit diesen Substanzen war spezifisch auf die Linderung von tumor<span class=\"diff_chg\">-</span> oder therapiebedingter Fatigue als Hauptsymptom der Anämie gerichtet worden [REF].</div><div nowrap=\"nowrap\">Die Behandlung mit diesen Substanzen war spezifisch auf die Linderung von tumor<span class=\"diff_chg\">bedingter</span> oder therapiebedingter Fatigue als Hauptsymptom der Anämie gerichtet worden [REF].</div></tr>\n",
       "</tbody>\n",
       "</table>\n",
       "\n",
       "</body>\n",
       "</html>"
      ],
      "text/plain": [
       "<IPython.core.display.HTML object>"
      ]
     },
     "metadata": {},
     "output_type": "display_data"
    },
    {
     "data": {
      "text/markdown": [
       "43;26_palliativmedizin_0176.tsv;44"
      ],
      "text/plain": [
       "<IPython.core.display.Markdown object>"
      ]
     },
     "metadata": {},
     "output_type": "display_data"
    },
    {
     "data": {
      "text/markdown": [
       "__Input:__"
      ],
      "text/plain": [
       "<IPython.core.display.Markdown object>"
      ]
     },
     "metadata": {},
     "output_type": "display_data"
    },
    {
     "data": {
      "text/markdown": [
       "Die Beseitigung anderer Ursachen, z. B. die Punktion von Aszites oder Pleuraergüssen oder die Reduktion von Leberkapselspannungs- oder Nervenkompressionsschmerz kann ebenso zu einer akuten Entlastung von Druckschmerzen beitragen."
      ],
      "text/plain": [
       "<IPython.core.display.Markdown object>"
      ]
     },
     "metadata": {},
     "output_type": "display_data"
    },
    {
     "data": {
      "text/markdown": [
       "__Error type:__ fp"
      ],
      "text/plain": [
       "<IPython.core.display.Markdown object>"
      ]
     },
     "metadata": {},
     "output_type": "display_data"
    },
    {
     "data": {
      "text/html": [
       "\n",
       "<!DOCTYPE html PUBLIC \"-//W3C//DTD XHTML 1.0 Transitional//EN\"\n",
       "          \"http://www.w3.org/TR/xhtml1/DTD/xhtml1-transitional.dtd\">\n",
       "\n",
       "<html>\n",
       "<head>\n",
       "<meta content=\"text/html; charset=utf-8\" http-equiv=\"Content-Type\"/>\n",
       "<title></title>\n",
       "<style type=\"text/css\">\n",
       "        table.diff {font-family:Courier; border:medium;}\n",
       "        .diff_header {background-color:#e0e0e0}\n",
       "        td.diff_header {text-align:right}\n",
       "        .diff_next {background-color:#c0c0c0}\n",
       "        .diff_add {background-color:#aaffaa}\n",
       "        .diff_chg {background-color:#ffff77}\n",
       "        .diff_sub {background-color:#ffaaaa}\n",
       "    </style>\n",
       "</head>\n",
       "<body>\n",
       "<table cellpadding=\"0\" cellspacing=\"0\" class=\"diff\" id=\"difflib_chg_to198__top\" rules=\"groups\">\n",
       "<colgroup></colgroup> <colgroup></colgroup> <colgroup></colgroup>\n",
       "<colgroup></colgroup> <colgroup></colgroup> <colgroup></colgroup>\n",
       "<tbody>\n",
       "<tr><div nowrap=\"nowrap\">Die Beseitigung anderer Ursachen, z. B. die Punktion von Aszites oder Pleuraergüssen oder die Reduktion von Leberkapselspannungs<span class=\"diff_chg\">- oder</span> Nervenkompressionsschmerz kann ebenso zu einer akuten Entlastung von Druckschmerzen beitragen.</div><div nowrap=\"nowrap\">Die Beseitigung anderer Ursachen, z. B. die Punktion von Aszites oder Pleuraergüssen oder die Reduktion von Leberkapselspannungs<span class=\"diff_chg\">schmerz oder</span> Nervenkompressionsschmerz kann ebenso zu einer akuten Entlastung von Druckschmerzen beitragen.</div></tr>\n",
       "</tbody>\n",
       "</table>\n",
       "\n",
       "</body>\n",
       "</html>"
      ],
      "text/plain": [
       "<IPython.core.display.HTML object>"
      ]
     },
     "metadata": {},
     "output_type": "display_data"
    },
    {
     "data": {
      "text/markdown": [
       "44;26_palliativmedizin_0516.tsv;9"
      ],
      "text/plain": [
       "<IPython.core.display.Markdown object>"
      ]
     },
     "metadata": {},
     "output_type": "display_data"
    },
    {
     "data": {
      "text/markdown": [
       "__Input:__"
      ],
      "text/plain": [
       "<IPython.core.display.Markdown object>"
      ]
     },
     "metadata": {},
     "output_type": "display_data"
    },
    {
     "data": {
      "text/markdown": [
       "Maligne Wunden zeigen eine hohe Neigung zu Spontan- und Kontaktblutungen, z.B. bei erforderlichen, nicht vermeidbaren Handlungen an der Wunde."
      ],
      "text/plain": [
       "<IPython.core.display.Markdown object>"
      ]
     },
     "metadata": {},
     "output_type": "display_data"
    },
    {
     "data": {
      "text/markdown": [
       "__Error type:__ fp"
      ],
      "text/plain": [
       "<IPython.core.display.Markdown object>"
      ]
     },
     "metadata": {},
     "output_type": "display_data"
    },
    {
     "data": {
      "text/html": [
       "\n",
       "<!DOCTYPE html PUBLIC \"-//W3C//DTD XHTML 1.0 Transitional//EN\"\n",
       "          \"http://www.w3.org/TR/xhtml1/DTD/xhtml1-transitional.dtd\">\n",
       "\n",
       "<html>\n",
       "<head>\n",
       "<meta content=\"text/html; charset=utf-8\" http-equiv=\"Content-Type\"/>\n",
       "<title></title>\n",
       "<style type=\"text/css\">\n",
       "        table.diff {font-family:Courier; border:medium;}\n",
       "        .diff_header {background-color:#e0e0e0}\n",
       "        td.diff_header {text-align:right}\n",
       "        .diff_next {background-color:#c0c0c0}\n",
       "        .diff_add {background-color:#aaffaa}\n",
       "        .diff_chg {background-color:#ffff77}\n",
       "        .diff_sub {background-color:#ffaaaa}\n",
       "    </style>\n",
       "</head>\n",
       "<body>\n",
       "<table cellpadding=\"0\" cellspacing=\"0\" class=\"diff\" id=\"difflib_chg_to199__top\" rules=\"groups\">\n",
       "<colgroup></colgroup> <colgroup></colgroup> <colgroup></colgroup>\n",
       "<colgroup></colgroup> <colgroup></colgroup> <colgroup></colgroup>\n",
       "<tbody>\n",
       "<tr><div nowrap=\"nowrap\">Maligne Wunden zeigen eine hohe Neigung zu Spontan<span class=\"diff_chg\">-</span> und Kontaktblutungen, z.B. bei erforderlichen, nicht vermeidbaren Handlungen an der Wunde.</div><div nowrap=\"nowrap\">Maligne Wunden zeigen eine hohe Neigung zu Spontan<span class=\"diff_chg\">blutungen</span> und Kontaktblutungen, z.B. bei erforderlichen, nicht vermeidbaren Handlungen an der Wunde.</div></tr>\n",
       "</tbody>\n",
       "</table>\n",
       "\n",
       "</body>\n",
       "</html>"
      ],
      "text/plain": [
       "<IPython.core.display.HTML object>"
      ]
     },
     "metadata": {},
     "output_type": "display_data"
    },
    {
     "data": {
      "text/markdown": [
       "45;26_palliativmedizin_0664.tsv;13"
      ],
      "text/plain": [
       "<IPython.core.display.Markdown object>"
      ]
     },
     "metadata": {},
     "output_type": "display_data"
    },
    {
     "data": {
      "text/markdown": [
       "__Input:__"
      ],
      "text/plain": [
       "<IPython.core.display.Markdown object>"
      ]
     },
     "metadata": {},
     "output_type": "display_data"
    },
    {
     "data": {
      "text/markdown": [
       "Bei fortgesetzter Nahrungs- und Flüssigkeitszufuhr bei Patienten mit Schluckstörung besteht die Gefahr einer Aspiration."
      ],
      "text/plain": [
       "<IPython.core.display.Markdown object>"
      ]
     },
     "metadata": {},
     "output_type": "display_data"
    },
    {
     "data": {
      "text/markdown": [
       "__Error type:__ fp"
      ],
      "text/plain": [
       "<IPython.core.display.Markdown object>"
      ]
     },
     "metadata": {},
     "output_type": "display_data"
    },
    {
     "data": {
      "text/html": [
       "\n",
       "<!DOCTYPE html PUBLIC \"-//W3C//DTD XHTML 1.0 Transitional//EN\"\n",
       "          \"http://www.w3.org/TR/xhtml1/DTD/xhtml1-transitional.dtd\">\n",
       "\n",
       "<html>\n",
       "<head>\n",
       "<meta content=\"text/html; charset=utf-8\" http-equiv=\"Content-Type\"/>\n",
       "<title></title>\n",
       "<style type=\"text/css\">\n",
       "        table.diff {font-family:Courier; border:medium;}\n",
       "        .diff_header {background-color:#e0e0e0}\n",
       "        td.diff_header {text-align:right}\n",
       "        .diff_next {background-color:#c0c0c0}\n",
       "        .diff_add {background-color:#aaffaa}\n",
       "        .diff_chg {background-color:#ffff77}\n",
       "        .diff_sub {background-color:#ffaaaa}\n",
       "    </style>\n",
       "</head>\n",
       "<body>\n",
       "<table cellpadding=\"0\" cellspacing=\"0\" class=\"diff\" id=\"difflib_chg_to200__top\" rules=\"groups\">\n",
       "<colgroup></colgroup> <colgroup></colgroup> <colgroup></colgroup>\n",
       "<colgroup></colgroup> <colgroup></colgroup> <colgroup></colgroup>\n",
       "<tbody>\n",
       "<tr><div nowrap=\"nowrap\">Bei fortgesetzter Nahrungs<span class=\"diff_chg\">-</span> und Flüssigkeitszufuhr bei Patienten mit Schluckstörung besteht die Gefahr einer Aspiration.</div><div nowrap=\"nowrap\">Bei fortgesetzter Nahrungs<span class=\"diff_chg\">zufuhr</span> und Flüssigkeitszufuhr bei Patienten mit Schluckstörung besteht die Gefahr einer Aspiration.</div></tr>\n",
       "</tbody>\n",
       "</table>\n",
       "\n",
       "</body>\n",
       "</html>"
      ],
      "text/plain": [
       "<IPython.core.display.HTML object>"
      ]
     },
     "metadata": {},
     "output_type": "display_data"
    },
    {
     "data": {
      "text/markdown": [
       "46;28_komplementaermedizin_0067.tsv;116"
      ],
      "text/plain": [
       "<IPython.core.display.Markdown object>"
      ]
     },
     "metadata": {},
     "output_type": "display_data"
    },
    {
     "data": {
      "text/markdown": [
       "__Input:__"
      ],
      "text/plain": [
       "<IPython.core.display.Markdown object>"
      ]
     },
     "metadata": {},
     "output_type": "display_data"
    },
    {
     "data": {
      "text/markdown": [
       "Beim ersten Fragebogen, welcher nach der Intervention zum Einsatz kam, gab es keine signifikanten Unterschiede zwischen der Reiki- und Vergleichsgruppe (p = 0.236)."
      ],
      "text/plain": [
       "<IPython.core.display.Markdown object>"
      ]
     },
     "metadata": {},
     "output_type": "display_data"
    },
    {
     "data": {
      "text/markdown": [
       "__Error type:__ fp"
      ],
      "text/plain": [
       "<IPython.core.display.Markdown object>"
      ]
     },
     "metadata": {},
     "output_type": "display_data"
    },
    {
     "data": {
      "text/html": [
       "\n",
       "<!DOCTYPE html PUBLIC \"-//W3C//DTD XHTML 1.0 Transitional//EN\"\n",
       "          \"http://www.w3.org/TR/xhtml1/DTD/xhtml1-transitional.dtd\">\n",
       "\n",
       "<html>\n",
       "<head>\n",
       "<meta content=\"text/html; charset=utf-8\" http-equiv=\"Content-Type\"/>\n",
       "<title></title>\n",
       "<style type=\"text/css\">\n",
       "        table.diff {font-family:Courier; border:medium;}\n",
       "        .diff_header {background-color:#e0e0e0}\n",
       "        td.diff_header {text-align:right}\n",
       "        .diff_next {background-color:#c0c0c0}\n",
       "        .diff_add {background-color:#aaffaa}\n",
       "        .diff_chg {background-color:#ffff77}\n",
       "        .diff_sub {background-color:#ffaaaa}\n",
       "    </style>\n",
       "</head>\n",
       "<body>\n",
       "<table cellpadding=\"0\" cellspacing=\"0\" class=\"diff\" id=\"difflib_chg_to201__top\" rules=\"groups\">\n",
       "<colgroup></colgroup> <colgroup></colgroup> <colgroup></colgroup>\n",
       "<colgroup></colgroup> <colgroup></colgroup> <colgroup></colgroup>\n",
       "<tbody>\n",
       "<tr><div nowrap=\"nowrap\">Beim ersten Fragebogen, welcher nach der Intervention zum Einsatz kam, gab es keine signifikanten Unterschiede zwischen der Reiki<span class=\"diff_chg\">-</span> und Vergleichsgruppe (p = 0.236).</div><div nowrap=\"nowrap\">Beim ersten Fragebogen, welcher nach der Intervention zum Einsatz kam, gab es keine signifikanten Unterschiede zwischen der Reiki<span class=\"diff_chg\">gruppe</span> und Vergleichsgruppe (p = 0.236).</div></tr>\n",
       "</tbody>\n",
       "</table>\n",
       "\n",
       "</body>\n",
       "</html>"
      ],
      "text/plain": [
       "<IPython.core.display.HTML object>"
      ]
     },
     "metadata": {},
     "output_type": "display_data"
    },
    {
     "data": {
      "text/markdown": [
       "47;28_komplementaermedizin_0093.tsv;40"
      ],
      "text/plain": [
       "<IPython.core.display.Markdown object>"
      ]
     },
     "metadata": {},
     "output_type": "display_data"
    },
    {
     "data": {
      "text/markdown": [
       "__Input:__"
      ],
      "text/plain": [
       "<IPython.core.display.Markdown object>"
      ]
     },
     "metadata": {},
     "output_type": "display_data"
    },
    {
     "data": {
      "text/markdown": [
       "Die im Review von Shin et al. [REF] eingeschlossenen Studien von Billhult et al. [REF] [N = 39, Angst und Depressivität mit VAS und HAD] und Campeau et al. [REF] [N = 100; Angst mit dem VAS und STAI] konnten keine Unterschiede zwischen einer Massage- und einer aktiven Kontrollgruppe finden."
      ],
      "text/plain": [
       "<IPython.core.display.Markdown object>"
      ]
     },
     "metadata": {},
     "output_type": "display_data"
    },
    {
     "data": {
      "text/markdown": [
       "__Error type:__ fp"
      ],
      "text/plain": [
       "<IPython.core.display.Markdown object>"
      ]
     },
     "metadata": {},
     "output_type": "display_data"
    },
    {
     "data": {
      "text/html": [
       "\n",
       "<!DOCTYPE html PUBLIC \"-//W3C//DTD XHTML 1.0 Transitional//EN\"\n",
       "          \"http://www.w3.org/TR/xhtml1/DTD/xhtml1-transitional.dtd\">\n",
       "\n",
       "<html>\n",
       "<head>\n",
       "<meta content=\"text/html; charset=utf-8\" http-equiv=\"Content-Type\"/>\n",
       "<title></title>\n",
       "<style type=\"text/css\">\n",
       "        table.diff {font-family:Courier; border:medium;}\n",
       "        .diff_header {background-color:#e0e0e0}\n",
       "        td.diff_header {text-align:right}\n",
       "        .diff_next {background-color:#c0c0c0}\n",
       "        .diff_add {background-color:#aaffaa}\n",
       "        .diff_chg {background-color:#ffff77}\n",
       "        .diff_sub {background-color:#ffaaaa}\n",
       "    </style>\n",
       "</head>\n",
       "<body>\n",
       "<table cellpadding=\"0\" cellspacing=\"0\" class=\"diff\" id=\"difflib_chg_to202__top\" rules=\"groups\">\n",
       "<colgroup></colgroup> <colgroup></colgroup> <colgroup></colgroup>\n",
       "<colgroup></colgroup> <colgroup></colgroup> <colgroup></colgroup>\n",
       "<tbody>\n",
       "<tr><div nowrap=\"nowrap\">Die im Review von Shin et al. [REF] eingeschlossenen Studien von Billhult et al. [REF] [N = 39, Angst und Depressivität mit VAS und HAD] und Campeau et al. [REF] [N = 100; Angst mit dem VAS und STAI] konnten keine Unterschiede zwischen einer Massage<span class=\"diff_chg\">- und einer</span> aktiven Kontrollgruppe finden.</div><div nowrap=\"nowrap\">Die im Review von Shin et al. [REF] eingeschlossenen Studien von Billhult et al. [REF] [N = 39, Angst und Depressivität mit VAS und HAD] und Campeau et al. [REF] [N = 100; Angst mit dem VAS und STAI] konnten keine Unterschiede zwischen einer Massage<span class=\"diff_chg\">gruppe und einer</span> aktiven Kontrollgruppe finden.</div></tr>\n",
       "</tbody>\n",
       "</table>\n",
       "\n",
       "</body>\n",
       "</html>"
      ],
      "text/plain": [
       "<IPython.core.display.HTML object>"
      ]
     },
     "metadata": {},
     "output_type": "display_data"
    },
    {
     "data": {
      "text/markdown": [
       "48;28_komplementaermedizin_0096.tsv;37"
      ],
      "text/plain": [
       "<IPython.core.display.Markdown object>"
      ]
     },
     "metadata": {},
     "output_type": "display_data"
    },
    {
     "data": {
      "text/markdown": [
       "__Input:__"
      ],
      "text/plain": [
       "<IPython.core.display.Markdown object>"
      ]
     },
     "metadata": {},
     "output_type": "display_data"
    },
    {
     "data": {
      "text/markdown": [
       "In der Studie von S. M. Wilkinson et al. [REF] (n = 221) konnte eine höhere Absenkung der Angst in der Aromatherapie- im Vergleich zur Kontrollgruppe gefunden werden für 6 und 10 Wochen bei der Erhebung mit dem Selbstbericht STAI."
      ],
      "text/plain": [
       "<IPython.core.display.Markdown object>"
      ]
     },
     "metadata": {},
     "output_type": "display_data"
    },
    {
     "data": {
      "text/markdown": [
       "__Error type:__ fp"
      ],
      "text/plain": [
       "<IPython.core.display.Markdown object>"
      ]
     },
     "metadata": {},
     "output_type": "display_data"
    },
    {
     "data": {
      "text/html": [
       "\n",
       "<!DOCTYPE html PUBLIC \"-//W3C//DTD XHTML 1.0 Transitional//EN\"\n",
       "          \"http://www.w3.org/TR/xhtml1/DTD/xhtml1-transitional.dtd\">\n",
       "\n",
       "<html>\n",
       "<head>\n",
       "<meta content=\"text/html; charset=utf-8\" http-equiv=\"Content-Type\"/>\n",
       "<title></title>\n",
       "<style type=\"text/css\">\n",
       "        table.diff {font-family:Courier; border:medium;}\n",
       "        .diff_header {background-color:#e0e0e0}\n",
       "        td.diff_header {text-align:right}\n",
       "        .diff_next {background-color:#c0c0c0}\n",
       "        .diff_add {background-color:#aaffaa}\n",
       "        .diff_chg {background-color:#ffff77}\n",
       "        .diff_sub {background-color:#ffaaaa}\n",
       "    </style>\n",
       "</head>\n",
       "<body>\n",
       "<table cellpadding=\"0\" cellspacing=\"0\" class=\"diff\" id=\"difflib_chg_to203__top\" rules=\"groups\">\n",
       "<colgroup></colgroup> <colgroup></colgroup> <colgroup></colgroup>\n",
       "<colgroup></colgroup> <colgroup></colgroup> <colgroup></colgroup>\n",
       "<tbody>\n",
       "<tr><div nowrap=\"nowrap\">In der Studie von S. M. Wilkinson et al. [REF] (n = 221) konnte eine höhere Absenkung der Angst in der Aromatherapie<span class=\"diff_chg\">- im</span> Vergleich zur Kontrollgruppe gefunden werden für 6 und 10 Wochen bei der Erhebung mit dem Selbstbericht STAI.</div><div nowrap=\"nowrap\">In der Studie von S. M. Wilkinson et al. [REF] (n = 221) konnte eine höhere Absenkung der Angst in der Aromatherapie<span class=\"diff_chg\">gleich im</span> Vergleich zur Kontrollgruppe gefunden werden für 6 und 10 Wochen bei der Erhebung mit dem Selbstbericht STAI.</div></tr>\n",
       "</tbody>\n",
       "</table>\n",
       "\n",
       "</body>\n",
       "</html>"
      ],
      "text/plain": [
       "<IPython.core.display.HTML object>"
      ]
     },
     "metadata": {},
     "output_type": "display_data"
    },
    {
     "data": {
      "text/markdown": [
       "49;28_komplementaermedizin_0187.tsv;51"
      ],
      "text/plain": [
       "<IPython.core.display.Markdown object>"
      ]
     },
     "metadata": {},
     "output_type": "display_data"
    },
    {
     "data": {
      "text/markdown": [
       "__Input:__"
      ],
      "text/plain": [
       "<IPython.core.display.Markdown object>"
      ]
     },
     "metadata": {},
     "output_type": "display_data"
    },
    {
     "data": {
      "text/markdown": [
       "Insgesamt wartet die Studie mit großer statistischer und planungsmäßiger Sorgfalt auf, versäumt hingegen wichtige Informationen über den Randomisierungs- und Verblindungsprozess zu liefern, womit die Rahmenbedingungen der Studie in Frage gestellt werden könnten."
      ],
      "text/plain": [
       "<IPython.core.display.Markdown object>"
      ]
     },
     "metadata": {},
     "output_type": "display_data"
    },
    {
     "data": {
      "text/markdown": [
       "__Error type:__ fp"
      ],
      "text/plain": [
       "<IPython.core.display.Markdown object>"
      ]
     },
     "metadata": {},
     "output_type": "display_data"
    },
    {
     "data": {
      "text/html": [
       "\n",
       "<!DOCTYPE html PUBLIC \"-//W3C//DTD XHTML 1.0 Transitional//EN\"\n",
       "          \"http://www.w3.org/TR/xhtml1/DTD/xhtml1-transitional.dtd\">\n",
       "\n",
       "<html>\n",
       "<head>\n",
       "<meta content=\"text/html; charset=utf-8\" http-equiv=\"Content-Type\"/>\n",
       "<title></title>\n",
       "<style type=\"text/css\">\n",
       "        table.diff {font-family:Courier; border:medium;}\n",
       "        .diff_header {background-color:#e0e0e0}\n",
       "        td.diff_header {text-align:right}\n",
       "        .diff_next {background-color:#c0c0c0}\n",
       "        .diff_add {background-color:#aaffaa}\n",
       "        .diff_chg {background-color:#ffff77}\n",
       "        .diff_sub {background-color:#ffaaaa}\n",
       "    </style>\n",
       "</head>\n",
       "<body>\n",
       "<table cellpadding=\"0\" cellspacing=\"0\" class=\"diff\" id=\"difflib_chg_to204__top\" rules=\"groups\">\n",
       "<colgroup></colgroup> <colgroup></colgroup> <colgroup></colgroup>\n",
       "<colgroup></colgroup> <colgroup></colgroup> <colgroup></colgroup>\n",
       "<tbody>\n",
       "<tr><div nowrap=\"nowrap\">Insgesamt wartet die Studie mit großer statistischer und planungsmäßiger Sorgfalt auf, versäumt hingegen wichtige Informationen über den Randomisierungs<span class=\"diff_chg\">- und</span> Verblindungsprozess zu liefern, womit die Rahmenbedingungen der Studie in Frage gestellt werden könnten.</div><div nowrap=\"nowrap\">Insgesamt wartet die Studie mit großer statistischer und planungsmäßiger Sorgfalt auf, versäumt hingegen wichtige Informationen über den Randomisierungs<span class=\"diff_chg\">prozess und</span> Verblindungsprozess zu liefern, womit die Rahmenbedingungen der Studie in Frage gestellt werden könnten.</div></tr>\n",
       "</tbody>\n",
       "</table>\n",
       "\n",
       "</body>\n",
       "</html>"
      ],
      "text/plain": [
       "<IPython.core.display.HTML object>"
      ]
     },
     "metadata": {},
     "output_type": "display_data"
    },
    {
     "data": {
      "text/markdown": [
       "50;28_komplementaermedizin_0197.tsv;20"
      ],
      "text/plain": [
       "<IPython.core.display.Markdown object>"
      ]
     },
     "metadata": {},
     "output_type": "display_data"
    },
    {
     "data": {
      "text/markdown": [
       "__Input:__"
      ],
      "text/plain": [
       "<IPython.core.display.Markdown object>"
      ]
     },
     "metadata": {},
     "output_type": "display_data"
    },
    {
     "data": {
      "text/markdown": [
       "In den drei Einzelstudien wurde jeweils eine vergleichbare Inzidenz des Hand-Fuß-Syndroms während der Chemotherapie im Pyridoxin-Arm im Vergleich zu einem Placebo- bzw. reinen Chemotherapie-Arm gefunden (Braik et al. [REF] :"
      ],
      "text/plain": [
       "<IPython.core.display.Markdown object>"
      ]
     },
     "metadata": {},
     "output_type": "display_data"
    },
    {
     "data": {
      "text/markdown": [
       "__Error type:__ fp"
      ],
      "text/plain": [
       "<IPython.core.display.Markdown object>"
      ]
     },
     "metadata": {},
     "output_type": "display_data"
    },
    {
     "data": {
      "text/html": [
       "\n",
       "<!DOCTYPE html PUBLIC \"-//W3C//DTD XHTML 1.0 Transitional//EN\"\n",
       "          \"http://www.w3.org/TR/xhtml1/DTD/xhtml1-transitional.dtd\">\n",
       "\n",
       "<html>\n",
       "<head>\n",
       "<meta content=\"text/html; charset=utf-8\" http-equiv=\"Content-Type\"/>\n",
       "<title></title>\n",
       "<style type=\"text/css\">\n",
       "        table.diff {font-family:Courier; border:medium;}\n",
       "        .diff_header {background-color:#e0e0e0}\n",
       "        td.diff_header {text-align:right}\n",
       "        .diff_next {background-color:#c0c0c0}\n",
       "        .diff_add {background-color:#aaffaa}\n",
       "        .diff_chg {background-color:#ffff77}\n",
       "        .diff_sub {background-color:#ffaaaa}\n",
       "    </style>\n",
       "</head>\n",
       "<body>\n",
       "<table cellpadding=\"0\" cellspacing=\"0\" class=\"diff\" id=\"difflib_chg_to205__top\" rules=\"groups\">\n",
       "<colgroup></colgroup> <colgroup></colgroup> <colgroup></colgroup>\n",
       "<colgroup></colgroup> <colgroup></colgroup> <colgroup></colgroup>\n",
       "<tbody>\n",
       "<tr><div nowrap=\"nowrap\">In den drei Einzelstudien wurde jeweils eine vergleichbare Inzidenz des Hand-Fuß-Syndroms während der Chemotherapie im Pyridoxin-Arm im Vergleich zu einem Placebo<span class=\"diff_chg\">-</span> bzw. reinen Chemotherapie-Arm gefunden (Braik et al. [REF] :</div><div nowrap=\"nowrap\">In den drei Einzelstudien wurde jeweils eine vergleichbare Inzidenz des Hand-Fuß-Syndroms während der Chemotherapie im Pyridoxin-Arm im Vergleich zu einem Placebo<span class=\"diff_chg\">nen</span> bzw. reinen Chemotherapie-Arm gefunden (Braik et al. [REF] :</div></tr>\n",
       "</tbody>\n",
       "</table>\n",
       "\n",
       "</body>\n",
       "</html>"
      ],
      "text/plain": [
       "<IPython.core.display.HTML object>"
      ]
     },
     "metadata": {},
     "output_type": "display_data"
    },
    {
     "data": {
      "text/markdown": [
       "51;28_komplementaermedizin_0239.tsv;35"
      ],
      "text/plain": [
       "<IPython.core.display.Markdown object>"
      ]
     },
     "metadata": {},
     "output_type": "display_data"
    },
    {
     "data": {
      "text/markdown": [
       "__Input:__"
      ],
      "text/plain": [
       "<IPython.core.display.Markdown object>"
      ]
     },
     "metadata": {},
     "output_type": "display_data"
    },
    {
     "data": {
      "text/markdown": [
       "Diese Ergebnisse schränken die Verallgemeinerbarkeit der zuvor getroffenen Aussagen bezüglich einer Zinkeinnahme zwar ein, jedoch muss beachtet werden, dass die Subgruppen geringere Patientenzahlen beinhalteten und in Lin et al. [REF] der Eindruck entstand, dass die Autoren sehr selektiv berichteten und den Fokus mal auf den Vergleich zwischen Interventions- und Kontrollgruppe und an anderer Stelle wiederum auf den Vergleich der beiden Subgruppen legten."
      ],
      "text/plain": [
       "<IPython.core.display.Markdown object>"
      ]
     },
     "metadata": {},
     "output_type": "display_data"
    },
    {
     "data": {
      "text/markdown": [
       "__Error type:__ fp"
      ],
      "text/plain": [
       "<IPython.core.display.Markdown object>"
      ]
     },
     "metadata": {},
     "output_type": "display_data"
    },
    {
     "data": {
      "text/html": [
       "\n",
       "<!DOCTYPE html PUBLIC \"-//W3C//DTD XHTML 1.0 Transitional//EN\"\n",
       "          \"http://www.w3.org/TR/xhtml1/DTD/xhtml1-transitional.dtd\">\n",
       "\n",
       "<html>\n",
       "<head>\n",
       "<meta content=\"text/html; charset=utf-8\" http-equiv=\"Content-Type\"/>\n",
       "<title></title>\n",
       "<style type=\"text/css\">\n",
       "        table.diff {font-family:Courier; border:medium;}\n",
       "        .diff_header {background-color:#e0e0e0}\n",
       "        td.diff_header {text-align:right}\n",
       "        .diff_next {background-color:#c0c0c0}\n",
       "        .diff_add {background-color:#aaffaa}\n",
       "        .diff_chg {background-color:#ffff77}\n",
       "        .diff_sub {background-color:#ffaaaa}\n",
       "    </style>\n",
       "</head>\n",
       "<body>\n",
       "<table cellpadding=\"0\" cellspacing=\"0\" class=\"diff\" id=\"difflib_chg_to206__top\" rules=\"groups\">\n",
       "<colgroup></colgroup> <colgroup></colgroup> <colgroup></colgroup>\n",
       "<colgroup></colgroup> <colgroup></colgroup> <colgroup></colgroup>\n",
       "<tbody>\n",
       "<tr><div nowrap=\"nowrap\">Diese Ergebnisse schränken die Verallgemeinerbarkeit der zuvor getroffenen Aussagen bezüglich einer Zinkeinnahme zwar ein, jedoch muss beachtet werden, dass die Subgruppen geringere Patientenzahlen beinhalteten und in Lin et al. [REF] der Eindruck entstand, dass die Autoren sehr selektiv berichteten und den Fokus mal auf den Vergleich zwischen Interventions<span class=\"diff_chg\">- und</span> Kontrollgruppe und an anderer Stelle wiederum auf den Vergleich der beiden Subgruppen legten.</div><div nowrap=\"nowrap\">Diese Ergebnisse schränken die Verallgemeinerbarkeit der zuvor getroffenen Aussagen bezüglich einer Zinkeinnahme zwar ein, jedoch muss beachtet werden, dass die Subgruppen geringere Patientenzahlen beinhalteten und in Lin et al. [REF] der Eindruck entstand, dass die Autoren sehr selektiv berichteten und den Fokus mal auf den Vergleich zwischen Interventions<span class=\"diff_chg\">gruppe und</span> Kontrollgruppe und an anderer Stelle wiederum auf den Vergleich der beiden Subgruppen legten.</div></tr>\n",
       "</tbody>\n",
       "</table>\n",
       "\n",
       "</body>\n",
       "</html>"
      ],
      "text/plain": [
       "<IPython.core.display.HTML object>"
      ]
     },
     "metadata": {},
     "output_type": "display_data"
    },
    {
     "data": {
      "text/markdown": [
       "52;28_komplementaermedizin_0263.tsv;8"
      ],
      "text/plain": [
       "<IPython.core.display.Markdown object>"
      ]
     },
     "metadata": {},
     "output_type": "display_data"
    },
    {
     "data": {
      "text/markdown": [
       "__Input:__"
      ],
      "text/plain": [
       "<IPython.core.display.Markdown object>"
      ]
     },
     "metadata": {},
     "output_type": "display_data"
    },
    {
     "data": {
      "text/markdown": [
       "Jedoch fand sich in einem der beiden RCTs trotz der kleinen Fallzahl und der im Vergleich zu FDA- und EMA-Vorgaben zu kurzen Studiendauer eine signifikant stärkere Reduktion von Schweißausbrüchen in der CR-Gruppe im Vergleich zur Placebogruppe [REF]."
      ],
      "text/plain": [
       "<IPython.core.display.Markdown object>"
      ]
     },
     "metadata": {},
     "output_type": "display_data"
    },
    {
     "data": {
      "text/markdown": [
       "__Error type:__ fp"
      ],
      "text/plain": [
       "<IPython.core.display.Markdown object>"
      ]
     },
     "metadata": {},
     "output_type": "display_data"
    },
    {
     "data": {
      "text/html": [
       "\n",
       "<!DOCTYPE html PUBLIC \"-//W3C//DTD XHTML 1.0 Transitional//EN\"\n",
       "          \"http://www.w3.org/TR/xhtml1/DTD/xhtml1-transitional.dtd\">\n",
       "\n",
       "<html>\n",
       "<head>\n",
       "<meta content=\"text/html; charset=utf-8\" http-equiv=\"Content-Type\"/>\n",
       "<title></title>\n",
       "<style type=\"text/css\">\n",
       "        table.diff {font-family:Courier; border:medium;}\n",
       "        .diff_header {background-color:#e0e0e0}\n",
       "        td.diff_header {text-align:right}\n",
       "        .diff_next {background-color:#c0c0c0}\n",
       "        .diff_add {background-color:#aaffaa}\n",
       "        .diff_chg {background-color:#ffff77}\n",
       "        .diff_sub {background-color:#ffaaaa}\n",
       "    </style>\n",
       "</head>\n",
       "<body>\n",
       "<table cellpadding=\"0\" cellspacing=\"0\" class=\"diff\" id=\"difflib_chg_to207__top\" rules=\"groups\">\n",
       "<colgroup></colgroup> <colgroup></colgroup> <colgroup></colgroup>\n",
       "<colgroup></colgroup> <colgroup></colgroup> <colgroup></colgroup>\n",
       "<tbody>\n",
       "<tr><div nowrap=\"nowrap\">Jedoch fand sich in einem der beiden RCTs trotz der kleinen Fallzahl und der im Vergleich zu FDA<span class=\"diff_chg\">- und</span> EMA-Vorgaben zu kurzen Studiendauer eine signifikant stärkere Reduktion von Schweißausbrüchen in der CR-Gruppe im Vergleich zur Placebogruppe [REF].</div><div nowrap=\"nowrap\">Jedoch fand sich in einem der beiden RCTs trotz der kleinen Fallzahl und der im Vergleich zu FDA<span class=\"diff_chg\">vorgaben und</span> EMA-Vorgaben zu kurzen Studiendauer eine signifikant stärkere Reduktion von Schweißausbrüchen in der CR-Gruppe im Vergleich zur Placebogruppe [REF].</div></tr>\n",
       "</tbody>\n",
       "</table>\n",
       "\n",
       "</body>\n",
       "</html>"
      ],
      "text/plain": [
       "<IPython.core.display.HTML object>"
      ]
     },
     "metadata": {},
     "output_type": "display_data"
    },
    {
     "data": {
      "text/markdown": [
       "53;28_komplementaermedizin_0266.tsv;25"
      ],
      "text/plain": [
       "<IPython.core.display.Markdown object>"
      ]
     },
     "metadata": {},
     "output_type": "display_data"
    },
    {
     "data": {
      "text/markdown": [
       "__Input:__"
      ],
      "text/plain": [
       "<IPython.core.display.Markdown object>"
      ]
     },
     "metadata": {},
     "output_type": "display_data"
    },
    {
     "data": {
      "text/markdown": [
       "Die Unterschiede in der Veränderung der MN in Lymphozyten und CF-Aktivität zwischen der Placebo- und der Verum-Gruppe waren signifikant (p < 0.01 bzw. p < 0.05, jeweils)."
      ],
      "text/plain": [
       "<IPython.core.display.Markdown object>"
      ]
     },
     "metadata": {},
     "output_type": "display_data"
    },
    {
     "data": {
      "text/markdown": [
       "__Error type:__ fp"
      ],
      "text/plain": [
       "<IPython.core.display.Markdown object>"
      ]
     },
     "metadata": {},
     "output_type": "display_data"
    },
    {
     "data": {
      "text/html": [
       "\n",
       "<!DOCTYPE html PUBLIC \"-//W3C//DTD XHTML 1.0 Transitional//EN\"\n",
       "          \"http://www.w3.org/TR/xhtml1/DTD/xhtml1-transitional.dtd\">\n",
       "\n",
       "<html>\n",
       "<head>\n",
       "<meta content=\"text/html; charset=utf-8\" http-equiv=\"Content-Type\"/>\n",
       "<title></title>\n",
       "<style type=\"text/css\">\n",
       "        table.diff {font-family:Courier; border:medium;}\n",
       "        .diff_header {background-color:#e0e0e0}\n",
       "        td.diff_header {text-align:right}\n",
       "        .diff_next {background-color:#c0c0c0}\n",
       "        .diff_add {background-color:#aaffaa}\n",
       "        .diff_chg {background-color:#ffff77}\n",
       "        .diff_sub {background-color:#ffaaaa}\n",
       "    </style>\n",
       "</head>\n",
       "<body>\n",
       "<table cellpadding=\"0\" cellspacing=\"0\" class=\"diff\" id=\"difflib_chg_to208__top\" rules=\"groups\">\n",
       "<colgroup></colgroup> <colgroup></colgroup> <colgroup></colgroup>\n",
       "<colgroup></colgroup> <colgroup></colgroup> <colgroup></colgroup>\n",
       "<tbody>\n",
       "<tr><div nowrap=\"nowrap\">Die Unterschiede in der Veränderung der MN in Lymphozyten und CF-Aktivität zwischen der Placebo<span class=\"diff_chg\">-</span> und der Verum-Gruppe waren signifikant (p &lt; 0.01 bzw. p &lt; 0.05, jeweils).</div><div nowrap=\"nowrap\">Die Unterschiede in der Veränderung der MN in Lymphozyten und CF-Aktivität zwischen der Placebo<span class=\"diff_chg\">gruppe</span> und der Verum-Gruppe waren signifikant (p &lt; 0.01 bzw. p &lt; 0.05, jeweils).</div></tr>\n",
       "</tbody>\n",
       "</table>\n",
       "\n",
       "</body>\n",
       "</html>"
      ],
      "text/plain": [
       "<IPython.core.display.HTML object>"
      ]
     },
     "metadata": {},
     "output_type": "display_data"
    },
    {
     "data": {
      "text/markdown": [
       "54;28_komplementaermedizin_0272.tsv;30"
      ],
      "text/plain": [
       "<IPython.core.display.Markdown object>"
      ]
     },
     "metadata": {},
     "output_type": "display_data"
    },
    {
     "data": {
      "text/markdown": [
       "__Input:__"
      ],
      "text/plain": [
       "<IPython.core.display.Markdown object>"
      ]
     },
     "metadata": {},
     "output_type": "display_data"
    },
    {
     "data": {
      "text/markdown": [
       "Studien in Zellkultur- und Mausmodellen deuten auf einen möglichen östrogenrezeptor-vermittelten und nicht-östrogenrezeptor-vermittelten Nutzen von Granatapfelsaft in Bezug auf das Brustkrebsrisiko hin."
      ],
      "text/plain": [
       "<IPython.core.display.Markdown object>"
      ]
     },
     "metadata": {},
     "output_type": "display_data"
    },
    {
     "data": {
      "text/markdown": [
       "__Error type:__ fp"
      ],
      "text/plain": [
       "<IPython.core.display.Markdown object>"
      ]
     },
     "metadata": {},
     "output_type": "display_data"
    },
    {
     "data": {
      "text/html": [
       "\n",
       "<!DOCTYPE html PUBLIC \"-//W3C//DTD XHTML 1.0 Transitional//EN\"\n",
       "          \"http://www.w3.org/TR/xhtml1/DTD/xhtml1-transitional.dtd\">\n",
       "\n",
       "<html>\n",
       "<head>\n",
       "<meta content=\"text/html; charset=utf-8\" http-equiv=\"Content-Type\"/>\n",
       "<title></title>\n",
       "<style type=\"text/css\">\n",
       "        table.diff {font-family:Courier; border:medium;}\n",
       "        .diff_header {background-color:#e0e0e0}\n",
       "        td.diff_header {text-align:right}\n",
       "        .diff_next {background-color:#c0c0c0}\n",
       "        .diff_add {background-color:#aaffaa}\n",
       "        .diff_chg {background-color:#ffff77}\n",
       "        .diff_sub {background-color:#ffaaaa}\n",
       "    </style>\n",
       "</head>\n",
       "<body>\n",
       "<table cellpadding=\"0\" cellspacing=\"0\" class=\"diff\" id=\"difflib_chg_to209__top\" rules=\"groups\">\n",
       "<colgroup></colgroup> <colgroup></colgroup> <colgroup></colgroup>\n",
       "<colgroup></colgroup> <colgroup></colgroup> <colgroup></colgroup>\n",
       "<tbody>\n",
       "<tr><div nowrap=\"nowrap\">Studien in Zellkultur<span class=\"diff_chg\">- und</span> Mausmodellen deuten auf einen möglichen östrogenrezeptor-vermittelten und nicht-östrogenrezeptor-vermittelten Nutzen von Granatapfelsaft in Bezug auf das Brustkrebsrisiko hin.</div><div nowrap=\"nowrap\">Studien in Zellkultur<span class=\"diff_chg\">modellen und</span> Mausmodellen deuten auf einen möglichen östrogenrezeptor-vermittelten und nicht-östrogenrezeptor-vermittelten Nutzen von Granatapfelsaft in Bezug auf das Brustkrebsrisiko hin.</div></tr>\n",
       "</tbody>\n",
       "</table>\n",
       "\n",
       "</body>\n",
       "</html>"
      ],
      "text/plain": [
       "<IPython.core.display.HTML object>"
      ]
     },
     "metadata": {},
     "output_type": "display_data"
    },
    {
     "data": {
      "text/markdown": [
       "55;28_komplementaermedizin_0277.tsv;36"
      ],
      "text/plain": [
       "<IPython.core.display.Markdown object>"
      ]
     },
     "metadata": {},
     "output_type": "display_data"
    },
    {
     "data": {
      "text/markdown": [
       "__Input:__"
      ],
      "text/plain": [
       "<IPython.core.display.Markdown object>"
      ]
     },
     "metadata": {},
     "output_type": "display_data"
    },
    {
     "data": {
      "text/markdown": [
       "Es liegen Tier- sowie klinische Studien vor, welche erste Hinweise darauf geben, dass Coriolus zur Vorbeugung und Behandlung von Krebs, zur Reduktion von Nebenwirkungen während der Chemotherapie und Strahlentherapie, zur Stimulation des Immunsystems, zur Behandlung von Infektionen, Herpes und Hepatitis, sowie zur Verbesserung von Kraft und Ausdauer angewendet werden könnte."
      ],
      "text/plain": [
       "<IPython.core.display.Markdown object>"
      ]
     },
     "metadata": {},
     "output_type": "display_data"
    },
    {
     "data": {
      "text/markdown": [
       "__Error type:__ fp"
      ],
      "text/plain": [
       "<IPython.core.display.Markdown object>"
      ]
     },
     "metadata": {},
     "output_type": "display_data"
    },
    {
     "data": {
      "text/html": [
       "\n",
       "<!DOCTYPE html PUBLIC \"-//W3C//DTD XHTML 1.0 Transitional//EN\"\n",
       "          \"http://www.w3.org/TR/xhtml1/DTD/xhtml1-transitional.dtd\">\n",
       "\n",
       "<html>\n",
       "<head>\n",
       "<meta content=\"text/html; charset=utf-8\" http-equiv=\"Content-Type\"/>\n",
       "<title></title>\n",
       "<style type=\"text/css\">\n",
       "        table.diff {font-family:Courier; border:medium;}\n",
       "        .diff_header {background-color:#e0e0e0}\n",
       "        td.diff_header {text-align:right}\n",
       "        .diff_next {background-color:#c0c0c0}\n",
       "        .diff_add {background-color:#aaffaa}\n",
       "        .diff_chg {background-color:#ffff77}\n",
       "        .diff_sub {background-color:#ffaaaa}\n",
       "    </style>\n",
       "</head>\n",
       "<body>\n",
       "<table cellpadding=\"0\" cellspacing=\"0\" class=\"diff\" id=\"difflib_chg_to210__top\" rules=\"groups\">\n",
       "<colgroup></colgroup> <colgroup></colgroup> <colgroup></colgroup>\n",
       "<colgroup></colgroup> <colgroup></colgroup> <colgroup></colgroup>\n",
       "<tbody>\n",
       "<tr><div nowrap=\"nowrap\">Es liegen Tier<span class=\"diff_sub\">- sowie kli</span>nische Studien vor, welche erste Hinweise darauf geben, dass Coriolus zur Vorbeugung und Behandlung von Krebs, zur Reduktion von Nebenwirkungen während der Chemotherapie und Strahlentherapie, zur Stimulation des Immunsystems, zur Behandlung von Infektionen, Herpes und Hepatitis, sowie zur Verbesserung von Kraft und Ausdauer angewendet werden könnte.</div><div nowrap=\"nowrap\">Es liegen Tiernische <span class=\"diff_add\">sowie klinische </span>Studien vor, welche erste Hinweise darauf geben, dass Coriolus zur Vorbeugung und Behandlung von Krebs, zur Reduktion von Nebenwirkungen während der Chemotherapie und Strahlentherapie, zur Stimulation des Immunsystems, zur Behandlung von Infektionen, Herpes und Hepatitis, sowie zur Verbesserung von Kraft und Ausdauer angewendet werden könnte.</div></tr>\n",
       "</tbody>\n",
       "</table>\n",
       "\n",
       "</body>\n",
       "</html>"
      ],
      "text/plain": [
       "<IPython.core.display.HTML object>"
      ]
     },
     "metadata": {},
     "output_type": "display_data"
    }
   ],
   "source": [
    "show_errors(errors[errors.error_type == 'fp'])"
   ]
  },
  {
   "cell_type": "code",
   "execution_count": null,
   "metadata": {},
   "outputs": [],
   "source": []
  },
  {
   "cell_type": "code",
   "execution_count": null,
   "metadata": {},
   "outputs": [],
   "source": []
  }
 ],
 "metadata": {
  "kernelspec": {
   "display_name": "Python [conda env:ellipses]",
   "language": "python",
   "name": "conda-env-ellipses-py"
  },
  "language_info": {
   "codemirror_mode": {
    "name": "ipython",
    "version": 3
   },
   "file_extension": ".py",
   "mimetype": "text/x-python",
   "name": "python",
   "nbconvert_exporter": "python",
   "pygments_lexer": "ipython3",
   "version": "3.10.6"
  }
 },
 "nbformat": 4,
 "nbformat_minor": 4
}
