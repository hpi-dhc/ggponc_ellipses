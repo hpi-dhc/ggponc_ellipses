{
 "cells": [
  {
   "cell_type": "code",
   "execution_count": 1,
   "metadata": {},
   "outputs": [],
   "source": [
    "import sys\n",
    "sys.path.append('../scripts')"
   ]
  },
  {
   "cell_type": "code",
   "execution_count": 2,
   "metadata": {
    "collapsed": false,
    "jupyter": {
     "outputs_hidden": false
    },
    "pycharm": {
     "name": "#%%\n"
    }
   },
   "outputs": [],
   "source": [
    "import pandas as pd\n",
    "import spacy\n",
    "import os\n",
    "from pathlib import Path\n",
    "from xml.dom import minidom\n",
    "from charsplit import Splitter\n",
    "from rules.ellipticCompounds import exchangeLemmas\n",
    "from evaluation import error_analysis, get_scores\n",
    "\n",
    "nlp = spacy.load(\"de_core_news_lg\")"
   ]
  },
  {
   "cell_type": "code",
   "execution_count": 3,
   "metadata": {},
   "outputs": [],
   "source": [
    "import hydra\n",
    "from hydra import compose, initialize\n",
    "\n",
    "hydra.core.global_hydra.GlobalHydra.instance().clear()\n",
    "initialize(config_path=Path('..'), job_name='foo', version_base='1.1')\n",
    "config = compose(config_name='experiment.yaml')"
   ]
  },
  {
   "cell_type": "code",
   "execution_count": 4,
   "metadata": {
    "collapsed": false,
    "jupyter": {
     "outputs_hidden": false
    },
    "pycharm": {
     "name": "#%%\n"
    }
   },
   "outputs": [],
   "source": [
    "tmp_path = Path('../tmp/baseline_files')\n",
    "tmp_path.mkdir(exist_ok=True, parents=True)"
   ]
  },
  {
   "cell_type": "code",
   "execution_count": 5,
   "metadata": {},
   "outputs": [],
   "source": [
    "path_xml_file = tmp_path / 'Original.xml'\n",
    "path_output_file = tmp_path / 'Output.xml'\n",
    "path_gertwol_file = tmp_path / 'gertwol.txt'\n",
    "path_word_freqs = tmp_path / 'wordFreqs.txt'\n",
    "tagged_path = '../compoundListTagged.txt'\n",
    "\n",
    "path_tokens = Path('..') / config.data.ggponc_plain_text"
   ]
  },
  {
   "cell_type": "markdown",
   "metadata": {},
   "source": [
    "# Load the Data"
   ]
  },
  {
   "cell_type": "code",
   "execution_count": 6,
   "metadata": {},
   "outputs": [],
   "source": [
    "ellipses = pd.read_csv(Path('..') / config.data.cnf_tsv_path, sep='\\t')\n",
    "not_ellipses = pd.read_csv(Path('..') / 'data/ellipses/ggponc_no_ellipses_small.tsv', sep='\\t')\n",
    "\n",
    "not_ellipses['full_resolution'] = not_ellipses.raw_sentence\n",
    "\n",
    "ellipses = ellipses[ellipses.split == 'test']\n",
    "not_ellipses = not_ellipses[not_ellipses.split == 'test']\n",
    "\n",
    "data = pd.concat([ellipses[['file', 'sentence_id', 'raw_sentence', 'full_resolution']], not_ellipses[['file', 'sentence_id', 'raw_sentence', 'full_resolution']]]).sort_values(by='file').reset_index(drop=True)"
   ]
  },
  {
   "cell_type": "code",
   "execution_count": 7,
   "metadata": {},
   "outputs": [
    {
     "data": {
      "text/plain": [
       "25711"
      ]
     },
     "execution_count": 7,
     "metadata": {},
     "output_type": "execute_result"
    }
   ],
   "source": [
    "data.raw_sentence.str.split(' ').apply(len).sum()"
   ]
  },
  {
   "cell_type": "code",
   "execution_count": 8,
   "metadata": {},
   "outputs": [
    {
     "data": {
      "text/plain": [
       "1159"
      ]
     },
     "execution_count": 8,
     "metadata": {},
     "output_type": "execute_result"
    }
   ],
   "source": [
    "len(data[['file', 'sentence_id']].drop_duplicates())"
   ]
  },
  {
   "cell_type": "code",
   "execution_count": 9,
   "metadata": {},
   "outputs": [
    {
     "data": {
      "text/plain": [
       "(1159, 4)"
      ]
     },
     "execution_count": 9,
     "metadata": {},
     "output_type": "execute_result"
    }
   ],
   "source": [
    "data.shape"
   ]
  },
  {
   "cell_type": "code",
   "execution_count": 10,
   "metadata": {},
   "outputs": [
    {
     "data": {
      "text/html": [
       "<div>\n",
       "<style scoped>\n",
       "    .dataframe tbody tr th:only-of-type {\n",
       "        vertical-align: middle;\n",
       "    }\n",
       "\n",
       "    .dataframe tbody tr th {\n",
       "        vertical-align: top;\n",
       "    }\n",
       "\n",
       "    .dataframe thead th {\n",
       "        text-align: right;\n",
       "    }\n",
       "</style>\n",
       "<table border=\"1\" class=\"dataframe\">\n",
       "  <thead>\n",
       "    <tr style=\"text-align: right;\">\n",
       "      <th></th>\n",
       "      <th>file</th>\n",
       "      <th>sentence_id</th>\n",
       "      <th>raw_sentence</th>\n",
       "      <th>full_resolution</th>\n",
       "    </tr>\n",
       "  </thead>\n",
       "  <tbody>\n",
       "    <tr>\n",
       "      <th>0</th>\n",
       "      <td>00_mundhoehlenkarzinom_0002.tsv</td>\n",
       "      <td>1</td>\n",
       "      <td>Hauptrisikofaktoren für das Auftreten eines Mu...</td>\n",
       "      <td>Hauptrisikofaktoren für das Auftreten eines Mu...</td>\n",
       "    </tr>\n",
       "    <tr>\n",
       "      <th>1</th>\n",
       "      <td>00_mundhoehlenkarzinom_0002.tsv</td>\n",
       "      <td>2</td>\n",
       "      <td>Bei chronischem Tabak- oder Alkoholabusus ist ...</td>\n",
       "      <td>Bei chronischem Tabakabusus oder Alkoholabusus...</td>\n",
       "    </tr>\n",
       "    <tr>\n",
       "      <th>2</th>\n",
       "      <td>00_mundhoehlenkarzinom_0098.tsv</td>\n",
       "      <td>2</td>\n",
       "      <td>Als kurativ intendierte therapeutische Optione...</td>\n",
       "      <td>Als kurativ intendierte therapeutische Optione...</td>\n",
       "    </tr>\n",
       "    <tr>\n",
       "      <th>3</th>\n",
       "      <td>00_mundhoehlenkarzinom_0103.tsv</td>\n",
       "      <td>1</td>\n",
       "      <td>Patienten mit einem unheilbaren Tumorleiden, j...</td>\n",
       "      <td>Patienten mit einem unheilbaren Tumorleiden, j...</td>\n",
       "    </tr>\n",
       "    <tr>\n",
       "      <th>4</th>\n",
       "      <td>00_mundhoehlenkarzinom_0115.tsv</td>\n",
       "      <td>30</td>\n",
       "      <td>Dies bestätigte sich auch nach 2 Jahren Nachbe...</td>\n",
       "      <td>Dies bestätigte sich auch nach 2 Jahren Nachbe...</td>\n",
       "    </tr>\n",
       "  </tbody>\n",
       "</table>\n",
       "</div>"
      ],
      "text/plain": [
       "                              file  sentence_id  \\\n",
       "0  00_mundhoehlenkarzinom_0002.tsv            1   \n",
       "1  00_mundhoehlenkarzinom_0002.tsv            2   \n",
       "2  00_mundhoehlenkarzinom_0098.tsv            2   \n",
       "3  00_mundhoehlenkarzinom_0103.tsv            1   \n",
       "4  00_mundhoehlenkarzinom_0115.tsv           30   \n",
       "\n",
       "                                        raw_sentence  \\\n",
       "0  Hauptrisikofaktoren für das Auftreten eines Mu...   \n",
       "1  Bei chronischem Tabak- oder Alkoholabusus ist ...   \n",
       "2  Als kurativ intendierte therapeutische Optione...   \n",
       "3  Patienten mit einem unheilbaren Tumorleiden, j...   \n",
       "4  Dies bestätigte sich auch nach 2 Jahren Nachbe...   \n",
       "\n",
       "                                     full_resolution  \n",
       "0  Hauptrisikofaktoren für das Auftreten eines Mu...  \n",
       "1  Bei chronischem Tabakabusus oder Alkoholabusus...  \n",
       "2  Als kurativ intendierte therapeutische Optione...  \n",
       "3  Patienten mit einem unheilbaren Tumorleiden, j...  \n",
       "4  Dies bestätigte sich auch nach 2 Jahren Nachbe...  "
      ]
     },
     "execution_count": 10,
     "metadata": {},
     "output_type": "execute_result"
    }
   ],
   "source": [
    "data.head()"
   ]
  },
  {
   "cell_type": "markdown",
   "metadata": {},
   "source": [
    "# Create XML Document"
   ]
  },
  {
   "cell_type": "code",
   "execution_count": 11,
   "metadata": {
    "collapsed": false,
    "jupyter": {
     "outputs_hidden": false
    },
    "pycharm": {
     "name": "#%%\n"
    }
   },
   "outputs": [],
   "source": [
    "root = minidom.Document()\n",
    "\n",
    "xml = root.createElement('corpus')\n",
    "xml.setAttribute('id', 'corpus')\n",
    "root.appendChild(xml)\n",
    "\n",
    "for i, f in enumerate(data[['file', 'raw_sentence']].groupby('file').first().index.to_list()):\n",
    "    file = root.createElement('file')\n",
    "    file.setAttribute('n', str(i))\n",
    "    xml.appendChild(file)\n",
    "\n",
    "    div = root.createElement('div')\n",
    "    file.appendChild(div)\n",
    "\n",
    "    for j, s in enumerate(data[data['file']==f]['raw_sentence']):\n",
    "        sentence = root.createElement('s')\n",
    "        sentence.setAttribute('lang', 'de')\n",
    "        sentence.setAttribute('n', f'{i}-{j}')\n",
    "        div.appendChild(sentence)\n",
    "\n",
    "        doc = nlp(s)\n",
    "        for k, token in enumerate(doc):\n",
    "            word = root.createElement('w')\n",
    "            word.setAttribute('lemma', token.lemma_)\n",
    "            word.setAttribute('n', f'{i}-{j}-{k}')\n",
    "            word.setAttribute('pos', token.tag_)\n",
    "            word.setAttribute('whitespace', token.whitespace_)\n",
    "            sentence.appendChild(word)\n",
    "            word.appendChild(root.createTextNode(token.text))\n",
    "\n",
    "with open(path_xml_file, \"wb\") as f:\n",
    "    f.write(root.toprettyxml(indent =\"\\t\", encoding=\"utf-8\"))"
   ]
  },
  {
   "cell_type": "markdown",
   "metadata": {},
   "source": [
    "# Produce Gertwol-like List and Gather Word Frequencies"
   ]
  },
  {
   "cell_type": "code",
   "execution_count": 12,
   "metadata": {
    "collapsed": false,
    "jupyter": {
     "outputs_hidden": false
    },
    "pycharm": {
     "name": "#%%\n"
    }
   },
   "outputs": [],
   "source": [
    "freq = {}\n",
    "dict = {}\n",
    "splitter = Splitter()\n",
    "special_characters = \"!@#$%^&*()-+?_=,<>/.[] \"\n",
    "\n",
    "for filename in os.listdir(path_tokens):\n",
    "    with open(path_tokens / filename , encoding='utf8') as f:\n",
    "        for word in f.readlines():\n",
    "            word = word[:-1]\n",
    "\n",
    "            # Gertwol Split\n",
    "            split = splitter.split_compound(word)[0]\n",
    "            if split[0] != 0:\n",
    "                dict[word] = '#'.join([split[1]] + [subword.lower() for subword in split[2:]])\n",
    "\n",
    "            # Word Freq\n",
    "            if word in special_characters:\n",
    "                continue\n",
    "            if word in freq:\n",
    "                freq[word] += 1\n",
    "            else:\n",
    "                freq[word] = 1\n",
    "\n",
    "with open(path_gertwol_file, 'w', encoding='utf-8') as f:\n",
    "    for key, value in dict.items():\n",
    "        f.write(f'{key}\\t{value}\\n')\n",
    "\n",
    "with open(path_word_freqs, 'w', encoding='utf-8') as f:\n",
    "    for key, value in freq.items():\n",
    "        f.write(f'{key}\\t{value}\\n')"
   ]
  },
  {
   "cell_type": "markdown",
   "metadata": {},
   "source": [
    "# Run Aepli Baseline"
   ]
  },
  {
   "cell_type": "code",
   "execution_count": 13,
   "metadata": {
    "collapsed": false,
    "jupyter": {
     "outputs_hidden": false
    },
    "pycharm": {
     "name": "#%%\n"
    }
   },
   "outputs": [
    {
     "name": "stdout",
     "output_type": "stream",
     "text": [
      "Alkohol#abusus\n",
      "Alkohol#abusus\n",
      "Radio#chemotherapie\n",
      "Leistungs#zustand\n",
      "Leistungs#zustand\n",
      "Leistungs#zustand\n",
      "Gesamt#überleben\n",
      "Proteom#ebene\n",
      "Ref#lux\n",
      "Dyspnö#symptomatik\n",
      "Chemo#therapie\n",
      "Ausschluss#kriterien\n",
      "Post#operativen\n",
      "Mort#alität\n",
      "Tumor#bedingte\n",
      "Schm#erzen\n",
      "Strahlen#therapie\n",
      "Strahlen#therapieinduzierten\n",
      "Gemüse#reiche\n",
      "Ern#ährung\n",
      "Strahlen#therapie\n",
      "Aroma#massage\n",
      "Indikations#problem\n",
      "Perforations#risiko\n",
      "Papillen#adenome\n",
      "Hnpcc#syndrom\n",
      "Mr#kolonografie\n",
      "Blutgefäß#invasion\n",
      "Links#seitigen\n",
      "Tum#oren\n",
      "Tumor#lokalisation\n",
      "Tonstein#industrie\n",
      "Peri#kardkarzinose\n",
      "Gefäßresektionsrän#der\n",
      "Palliativ#beratung\n",
      "Zweit-Generations#tki\n",
      "OS\n",
      "Zweit-Generations#tki\n",
      "Zweiwöchentli#chen\n",
      "Abstän#den\n",
      "Stammzell#transplantation\n",
      "Laser#therapie\n",
      "Bewegungs#therapie\n",
      "Panik#reaktion\n",
      "Drittlinien#therapie\n",
      "Panik#komponente\n",
      "Hand#ventilatoren\n",
      "Lebens#stunden\n",
      "Langzeit#studie\n",
      "60#jährigen\n",
      "30#jährigen\n",
      "65#jährigen\n",
      "29#jährigen\n",
      "Wiedervorstellung#algorithmen\n",
      "Wiedervorstellung#algorithmen\n",
      "Spät#komplikationen\n",
      "Nach#teile\n",
      "Therapie#optionen\n",
      "Hilfs#angebote\n",
      "Hilfs#angebote\n",
      "Sach#kompetente\n",
      "Sach#kompetente\n",
      "Therapie#optionen\n",
      "Mehr#zahl\n",
      "für\n",
      "Perineuralscheiden#invasion\n",
      "Perineuralscheiden#invasion\n",
      "Langzeit#folgen\n",
      "Unter#therapien\n",
      "Langzeit#folgen\n",
      "Unter#therapien\n",
      "Post#operativen\n",
      "Komplikations#rate\n",
      "Brachy#therapie\n",
      "Endometrium#karzinom\n",
      "Endometrium#karzinom\n",
      "Therapie#folgen\n",
      "Therapie#angebote\n",
      "Dysplasie#sprechstunde\n",
      "Histologie#befunde\n",
      "Therapie#algorithmus\n",
      "Plattenepithelkarzinom#fällen\n",
      "Leisten#bereich\n",
      "In-Transit#metastasen\n",
      "Referenz#therapeutikum\n",
      "Ziel#gerichtete\n",
      "The#rapien\n",
      "Knochen#metastasen\n",
      "Knochen#metastasen\n",
      "Knochen#metastasen\n",
      "Lymphknoten#metastasen\n",
      "Lymphknoten#metastasen\n",
      "Puva#keratosen\n",
      "Patienten#wunsch\n",
      "8\n",
      "Therapie#optionen\n",
      "Aufklärungs#bedürfnisse\n",
      "Behandlungs#optionen\n",
      "Krankheits#themen\n",
      "Vakuum#biopsie\n",
      "Vakuum#biopsie\n",
      "Vakuum#biopsie\n",
      "Kontra#lateral\n",
      "Nach#teile\n",
      "Contra#argumente\n",
      "Her2#status\n",
      "R2#\n",
      "Kontralatera#len\n",
      "Rezidiv#häufigkeiten\n",
      "Häm#angiosis\n",
      "Fernmetastasierungs#rate\n",
      "Taxol#therapie\n",
      "Gemüse#reiche\n",
      "Ern#ährung\n",
      "Leber#erkrankungen\n",
      "Sekundär#prävention\n",
      "Extra#hepatische\n",
      "Met#astasen\n",
      "Mrt#merkmale\n",
      "Nebenbild#merkmalen\n",
      "Tumor#größe\n",
      "Anz#ahl\n",
      "Tumorspezi#fisches\n",
      "Über#leben\n",
      "Kryoablat#ion\n",
      "Mrt#gestützten\n",
      "Nach#sorge\n",
      "Mrt#diagnostik\n",
      "Adeno#karzinom\n",
      "Dreifach#kombination\n",
      "Angst#störungen\n",
      "Behandlung#sassoziierten\n",
      "Eins#chränkungen\n",
      "Radio#chemotherapie\n",
      "Stimm#training\n",
      "Hals#bereich\n",
      "Speise#weg\n",
      "Speise#weg\n",
      "Unterstützungs#möglichkeiten\n",
      "Schmerz#therapie\n",
      "Rehabilitations#fähigkeit\n",
      "Hypo#pharynx\n",
      "Schluck#funktion\n",
      "Makro#metastasen\n",
      "Makro#metastasen\n",
      "Zervix#karzinom\n",
      "Progressions#freien\n",
      "Über#leben\n",
      "Scheiden#stumpfrezidivs\n",
      "Bösar#tige\n",
      "Tum#oren\n",
      "Stuhl#inkontinenz\n",
      "Interaktions#fähigkeit\n",
      "Krisenbewältigungs#erfahrung\n",
      "Krisenbewältigungs#erfahrung\n",
      "Endometrium#karzinom\n",
      "Behandlungs#angebote\n",
      "Behandlungs#angebote\n",
      "Adhäsionsbesch#werden\n",
      "Darm#störungen\n",
      "Behandlungs#konzept\n",
      "Haus#ärzte\n",
      "Sport#therapeuten\n",
      "Risiko#faktoren\n",
      "Anpassungs#störungen\n",
      "Behandlungs#folgestörungen\n",
      "Tast#untersuchung\n",
      "Mlh1#mutation\n",
      "Ins#besondere\n",
      "Leber#untersuchung\n",
      "Milzgrößenab#schätzung\n",
      "Cmv#infektion\n",
      "Rezidiv#diagnostik\n",
      "Zwei#monatlichen\n",
      "Abstän#den\n",
      "Magnetresonanztomo#graphischen\n",
      "Bild#gebung\n",
      "Behandlungs#verlauf\n",
      "Alltagskompetenz#defizite\n",
      "His#tologie\n",
      "Behandlungs#verlaufs\n",
      "Seh#störungen\n",
      "Toxizitäts#risikos\n",
      "Salvage#therapie\n",
      "Krankheits#freie\n",
      "Über#leben\n",
      "Strahlen#therapie\n",
      "PFS\n",
      "Persistenz#verdacht\n",
      "Hochdosis#chemotherapie\n",
      "Therapie#kontext\n",
      "Mortalitäts#risiko\n",
      "Multi#morbidität\n",
      "Erhaltungs#therapie\n",
      "vor\n",
      "Diffu#sem\n",
      "Radioimmunchemotherapie#protokollen\n",
      "Radioimmunchemotherapie#protokollen\n",
      "Obinotuzumab#gaben\n",
      "38\n",
      "Pati#enten\n",
      "Lang#zeitigen\n",
      "Dritt#therapie\n",
      "Langzeit#toxizität\n",
      "Multi#fokal\n",
      "auf\n",
      "Morbiditäts#risiko\n",
      "Therapie#durchführbarkeit\n",
      "Therapie#durchführbarkeit\n",
      "Lymphom#erkrankung\n",
      "Tumor#gewebe\n",
      "Gewebe#spiegel\n",
      "Intraobserver#variabilität\n",
      "Post#operativen\n",
      "Hämoglobin#wertes\n",
      "Post#operative\n",
      "Hämoglobin#differenz\n",
      "High#risk\n",
      "Kar#zinome\n",
      "Low#risk\n",
      "Progressions#risikos\n",
      "Rezidiv#risiko\n",
      "Erhaltungs#schema\n",
      "Über#leben\n",
      "Krankheits#spezifische\n",
      "Post#operativen\n",
      "Maß#nahmen\n",
      "Post#operative\n",
      "Morbidi#tät\n",
      "Post#operativer\n",
      "Kompli#kationen\n",
      "auch\n",
      "Mono#therapien\n",
      "High#risk\n",
      "High#risk\n",
      "NMIBC\n",
      "Spät#toxizitäten\n",
      "Chemo#therapie\n",
      "Marker#konstellation\n",
      "Nach#teile\n",
      "Nephro#toxizität\n",
      "-Iib#seminom\n",
      "Iia#\n",
      "Kunst#therapie\n",
      "Bewegungs#angebote\n",
      "Life-Style#beratung\n",
      "Gemüse#sorten\n",
      "Krebs#spezifischen\n",
      "Überlebens#raten\n",
      "Helium#gas\n",
      "Krankheitsspezi#fischen\n",
      "Extra#zelluläre\n",
      "Eiskristall#bildung\n",
      "Spät#folgen\n",
      "Makro#metastasen\n",
      "Metastasen#freien\n",
      "Über#lebens\n",
      "Low#volume\n",
      "Low#risk\n",
      "Abirateron#arm\n",
      "Überlege#nheit\n",
      "Krebs#spezifischem\n",
      "Über#leben\n",
      "Sechsmona#tiger\n",
      "Kontroll#untersuchungen\n",
      "Magnet#resonanztomografie\n",
      "Zwei#zeitige\n",
      "Bestrah#lungen\n",
      "Rezidiv#tumor\n",
      "Rezidiv#tumor\n",
      "Radiochemotherapie#regime\n",
      "Analrand#karzinom\n",
      "Hof#fnungslosigkeit\n",
      "Narben#schmerzen\n",
      "Durch#schlafstörungen\n",
      "Kontrollattribut#ionen\n",
      "Schwellen#wert\n",
      "Fremd#gefährdung\n",
      "Unterstützungs#möglichkeiten\n",
      "Familien#beratung\n",
      "Geschmacks#sinns\n",
      "Hospiz#versorgung\n",
      "Belastungs#zustand\n",
      "Belastungs#zustand\n",
      "Krebs#erkrankung\n",
      "Hospiz#versorgung\n",
      "Ehren#amtliche\n",
      "Symptom#kontrolle\n",
      "Qualitäts#entwicklung\n",
      "Quasi#experimentellen\n",
      "Stu#dien\n",
      "Multi#disziplinären\n",
      "Spv#team\n",
      "Notfall#konsultationen\n",
      "Versorgungs#planung\n",
      "Strahlen#therapie\n",
      "Strahlen#therapie\n",
      "Hospiz#einrichtungen\n",
      "Tisch#ventilator\n",
      "Mehr#dimensionalen\n",
      "Ska#len\n",
      "Erregungs#zustände\n",
      "Aktivitäts#phase\n",
      "Durch#schlafen\n",
      "Ruhe#phasen\n",
      "Baseline#schlafprobleme\n",
      "Stuhl#menge\n",
      "Präfinal#phase\n",
      "Blasen#karzinomen\n",
      "Gewichts#verlust\n",
      "Fremd#einschätzung\n",
      "Schmerz#reduktion\n",
      "Entlastungs#möglichkeiten\n",
      "Commitment#therapie\n",
      "Atem#fähigkeit\n",
      "Klang#instrumente\n",
      "Flüssigkeits#aufnahme\n",
      "Verführungs#ziele\n",
      "Panik#störung\n",
      "Sekret#mobilisation\n",
      "Flüssigkeits#zufuhr\n",
      "Oberkörper#hochlagerung\n",
      "Qtc#zeit\n",
      "Tenden#ziell\n",
      "Nieren#karzinom\n",
      "3,0\n",
      "%\n",
      "Andro#gensuppressiven\n",
      "The#rapie\n",
      "Mitomy#cin\n",
      "Mitomy#cin\n",
      "Mitomy#cin\n",
      "Sauerstoff#gabe\n",
      "Dünndarm#sonde\n",
      "Dick#darm\n",
      "Ohra#kupunktur\n",
      "Ohra#kupunktur\n",
      "Gas#trointestinalen\n",
      "Ohra#kupunktur\n",
      "Sham#akupunktur\n",
      "Durch#schlafstörungen\n",
      "Sprach#therapie\n",
      "Sprach#therapie\n",
      "Erwartungs#effekte\n",
      "Kontroll#gruppe\n",
      "Chemo#therapie\n",
      "Durch#schlafstörungen\n",
      "Durch#schlafstörungen\n",
      "Durch#schlafstörungen\n",
      "Sitz#meditation\n",
      "Durch#schlafstörungen\n",
      "Stör#faktoren\n",
      "Brachy#therapie\n",
      "Radio#therapie\n",
      "2x\n",
      "1x\n",
      "2x\n",
      "Verblindungs#prozess\n",
      "Placebo#gruppe\n",
      "Progressions#freie\n",
      "Über#leben\n",
      "Progressions#freie\n",
      "Über#leben\n",
      "Progress#ionsfreiem\n",
      "Über#leben\n",
      "Placebo#gruppe\n",
      "Kehl#bereich\n",
      "Azulen#lösung\n",
      "Kontroll#gruppe\n",
      "Post#menopause\n",
      "Cr#einnahme\n",
      "Kontroll#gruppen\n",
      "Ema#vorgaben\n",
      "Wechsel#wirkungen\n",
      "Verum#gruppe\n",
      "Placebo#gruppe\n",
      "Verum#gruppe\n",
      "Wechsel#wirkungen\n",
      "Brokkol#extrakt\n",
      "Brokkol#extrakt\n",
      "Brokkol#extrakt\n",
      "Placebo#gruppen\n",
      "Maus#modellen\n",
      "Zervix#karzinom\n",
      "Zervix#karzinom\n",
      "Zervix#karzinom\n",
      "Wechsel#wirkungen\n",
      "Placebo#gruppe\n",
      "Triterpen#saponine\n",
      "Bernstein#säure\n",
      "Kli#nische\n",
      "Stu#dien\n",
      "Chemo#therapie\n",
      "Strahlen#therapie\n",
      "Strahlen#therapie\n",
      "Chemo#therapie\n",
      "Progress#ion\n",
      "Hypo#kalzämie\n",
      "Schwarz#tee\n",
      "Trauben#saft\n",
      "Leber#enzyme\n",
      "Peri#operative\n",
      "Chemo#therapie\n",
      "R2#resektion\n",
      "Drittlinien#therapie\n",
      "Spät#ere\n",
      "Behand#lung\n",
      "337 lemmas have been changed in ../tmp/baseline_files/Original.xml.\n",
      "Function name & frequency of undecidable cases which have not been changed:\n",
      "findPattern_6        43\n",
      "splitCompound_B      13\n",
      "findPattern_4        2\n",
      "rvsdSplitCompound_B  1\n",
      "findPattern_8        1\n"
     ]
    }
   ],
   "source": [
    "exchangeLemmas(path_xml_file, path_output_file, path_gertwol_file, path_word_freqs, tagged_path)"
   ]
  },
  {
   "cell_type": "markdown",
   "metadata": {},
   "source": [
    "# Reconstruct Complete Sentences"
   ]
  },
  {
   "cell_type": "code",
   "execution_count": 14,
   "metadata": {
    "collapsed": false,
    "jupyter": {
     "outputs_hidden": false
    },
    "pycharm": {
     "name": "#%%\n"
    }
   },
   "outputs": [],
   "source": [
    "dom = minidom.parse(open(path_output_file))\n",
    "predictions = []\n",
    "\n",
    "sentences = dom.getElementsByTagName('s')\n",
    "for sentence in sentences:\n",
    "    tokens = sentence.getElementsByTagName('w')\n",
    "    sentence_tokens = []\n",
    "    for token in tokens:\n",
    "        word = token.childNodes[0].nodeValue\n",
    "        lemma = token.getAttribute('lemma')\n",
    "        if '+' in lemma:\n",
    "            word_parts = lemma.partition('+')\n",
    "            if token.getAttribute('pos') == 'TRUNC':\n",
    "                word = word.replace('-', word_parts[2])\n",
    "            else:\n",
    "                word = word.replace('-', word_parts[0])\n",
    "        whitespace = token.getAttribute('whitespace')\n",
    "        sentence_tokens.append(word + whitespace)\n",
    "\n",
    "    predictions.append(''.join(token for token in sentence_tokens))"
   ]
  },
  {
   "cell_type": "markdown",
   "metadata": {},
   "source": [
    "# Evaluate Baseline"
   ]
  },
  {
   "cell_type": "code",
   "execution_count": 16,
   "metadata": {
    "collapsed": false,
    "jupyter": {
     "outputs_hidden": false
    },
    "pycharm": {
     "name": "#%%\n"
    }
   },
   "outputs": [
    {
     "data": {
      "text/plain": [
       "tn         0.530630\n",
       "fn         0.195858\n",
       "tp         0.170837\n",
       "replace    0.043141\n",
       "delete     0.031061\n",
       "complex    0.018119\n",
       "insert     0.009491\n",
       "fp         0.000863\n",
       "Name: error_type, dtype: float64"
      ]
     },
     "execution_count": 16,
     "metadata": {},
     "output_type": "execute_result"
    }
   ],
   "source": [
    "errors_df = error_analysis(predictions, data.full_resolution, data.raw_sentence)\n",
    "errors_df.error_type.value_counts() / len(errors_df)"
   ]
  },
  {
   "cell_type": "code",
   "execution_count": null,
   "metadata": {},
   "outputs": [],
   "source": [
    "%%time\n",
    "scores = get_scores(errors_df, \"test\")\n",
    "scores"
   ]
  },
  {
   "cell_type": "code",
   "execution_count": null,
   "metadata": {},
   "outputs": [],
   "source": [
    "from notebook_util import show_errors"
   ]
  },
  {
   "cell_type": "code",
   "execution_count": null,
   "metadata": {},
   "outputs": [],
   "source": [
    "errors = pd.concat([errors_df, data[['file', 'sentence_id']].reset_index()], axis=1)"
   ]
  },
  {
   "cell_type": "code",
   "execution_count": null,
   "metadata": {},
   "outputs": [],
   "source": [
    "fps = errors[errors.error_type == 'fp'][['file', 'sentence_id', 'ground_truth', 'pred']].rename(columns = {'ground_truth' : 'resolution'})\n",
    "print(fps.shape)\n",
    "#fps.to_excel('../potential_missing_2.xlsx')"
   ]
  },
  {
   "cell_type": "code",
   "execution_count": null,
   "metadata": {
    "collapsed": false,
    "jupyter": {
     "outputs_hidden": false
    },
    "pycharm": {
     "name": "#%%\n"
    }
   },
   "outputs": [],
   "source": [
    "show_errors(errors[errors.error_type == 'fn'])"
   ]
  },
  {
   "cell_type": "code",
   "execution_count": null,
   "metadata": {},
   "outputs": [],
   "source": []
  },
  {
   "cell_type": "code",
   "execution_count": null,
   "metadata": {},
   "outputs": [],
   "source": []
  }
 ],
 "metadata": {
  "kernelspec": {
   "display_name": "Python [conda env:ellipses]",
   "language": "python",
   "name": "conda-env-ellipses-py"
  },
  "language_info": {
   "codemirror_mode": {
    "name": "ipython",
    "version": 3
   },
   "file_extension": ".py",
   "mimetype": "text/x-python",
   "name": "python",
   "nbconvert_exporter": "python",
   "pygments_lexer": "ipython3",
   "version": "3.10.6"
  }
 },
 "nbformat": 4,
 "nbformat_minor": 4
}
