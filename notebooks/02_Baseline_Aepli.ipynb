{
 "cells": [
  {
   "cell_type": "code",
   "execution_count": 1,
   "metadata": {},
   "outputs": [],
   "source": [
    "import sys\n",
    "sys.path.append('../scripts')"
   ]
  },
  {
   "cell_type": "code",
   "execution_count": 2,
   "metadata": {
    "collapsed": false,
    "jupyter": {
     "outputs_hidden": false
    },
    "pycharm": {
     "name": "#%%\n"
    }
   },
   "outputs": [],
   "source": [
    "import pandas as pd\n",
    "import spacy\n",
    "import os\n",
    "from pathlib import Path\n",
    "from xml.dom import minidom\n",
    "from charsplit import Splitter\n",
    "from rules.ellipticCompounds import exchangeLemmas\n",
    "from evaluation import error_analysis, get_scores\n",
    "from dataset import load_data\n",
    "\n",
    "nlp = spacy.load(\"de_core_news_lg\")"
   ]
  },
  {
   "cell_type": "code",
   "execution_count": 3,
   "metadata": {},
   "outputs": [],
   "source": [
    "import hydra\n",
    "from hydra import compose, initialize\n",
    "\n",
    "hydra.core.global_hydra.GlobalHydra.instance().clear()\n",
    "initialize(config_path=Path('..'), job_name='foo', version_base='1.1')\n",
    "config = compose(config_name='experiment.yaml')"
   ]
  },
  {
   "cell_type": "code",
   "execution_count": 4,
   "metadata": {
    "collapsed": false,
    "jupyter": {
     "outputs_hidden": false
    },
    "pycharm": {
     "name": "#%%\n"
    }
   },
   "outputs": [],
   "source": [
    "tmp_path = Path('../tmp/baseline_files')\n",
    "tmp_path.mkdir(exist_ok=True, parents=True)"
   ]
  },
  {
   "cell_type": "code",
   "execution_count": 5,
   "metadata": {},
   "outputs": [],
   "source": [
    "path_xml_file = tmp_path / 'Original.xml'\n",
    "path_output_file = tmp_path / 'Output.xml'\n",
    "path_gertwol_file = tmp_path / 'gertwol.txt'\n",
    "path_word_freqs = tmp_path / 'wordFreqs.txt'\n",
    "tagged_path = '../compoundListTagged.txt'\n",
    "\n",
    "path_tokens = Path('..') / config.data.ggponc_plain_text"
   ]
  },
  {
   "cell_type": "markdown",
   "metadata": {},
   "source": [
    "# Load the Data"
   ]
  },
  {
   "cell_type": "code",
   "execution_count": 6,
   "metadata": {},
   "outputs": [],
   "source": [
    "base_path = Path('..')\n",
    "_, _, test_df = load_data(base_path / config.data.cnf_tsv_path, base_path / config.data.controls_tsv_path)"
   ]
  },
  {
   "cell_type": "code",
   "execution_count": 7,
   "metadata": {},
   "outputs": [],
   "source": [
    "# Get baseline results for test set\n",
    "df = test_df.sort_values('file').reset_index()"
   ]
  },
  {
   "cell_type": "code",
   "execution_count": 8,
   "metadata": {},
   "outputs": [
    {
     "data": {
      "text/plain": [
       "1159"
      ]
     },
     "execution_count": 8,
     "metadata": {},
     "output_type": "execute_result"
    }
   ],
   "source": [
    "len(df[['file', 'sentence_id']].drop_duplicates())"
   ]
  },
  {
   "cell_type": "code",
   "execution_count": 9,
   "metadata": {},
   "outputs": [
    {
     "data": {
      "text/html": [
       "<div>\n",
       "<style scoped>\n",
       "    .dataframe tbody tr th:only-of-type {\n",
       "        vertical-align: middle;\n",
       "    }\n",
       "\n",
       "    .dataframe tbody tr th {\n",
       "        vertical-align: top;\n",
       "    }\n",
       "\n",
       "    .dataframe thead th {\n",
       "        text-align: right;\n",
       "    }\n",
       "</style>\n",
       "<table border=\"1\" class=\"dataframe\">\n",
       "  <thead>\n",
       "    <tr style=\"text-align: right;\">\n",
       "      <th></th>\n",
       "      <th>index</th>\n",
       "      <th>file</th>\n",
       "      <th>sentence_id</th>\n",
       "      <th>text_whitespace_tokenized</th>\n",
       "      <th>resolved_whitespace_tokenized</th>\n",
       "      <th>raw_sentence</th>\n",
       "      <th>full_resolution</th>\n",
       "      <th>split</th>\n",
       "      <th>controls</th>\n",
       "    </tr>\n",
       "  </thead>\n",
       "  <tbody>\n",
       "    <tr>\n",
       "      <th>0</th>\n",
       "      <td>0</td>\n",
       "      <td>00_mundhoehlenkarzinom_0002.tsv</td>\n",
       "      <td>1</td>\n",
       "      <td>chronischer Tabak - oder Alkoholabusus</td>\n",
       "      <td>chronischer Tabakabusus  oder Alkoholabusus</td>\n",
       "      <td>Hauptrisikofaktoren für das Auftreten eines Mu...</td>\n",
       "      <td>Hauptrisikofaktoren für das Auftreten eines Mu...</td>\n",
       "      <td>test</td>\n",
       "      <td>False</td>\n",
       "    </tr>\n",
       "    <tr>\n",
       "      <th>1</th>\n",
       "      <td>1</td>\n",
       "      <td>00_mundhoehlenkarzinom_0002.tsv</td>\n",
       "      <td>2</td>\n",
       "      <td>chronischem Tabak - oder Alkoholabusus</td>\n",
       "      <td>chronischem Tabakabusus  oder Alkoholabusus</td>\n",
       "      <td>Bei chronischem Tabak- oder Alkoholabusus ist ...</td>\n",
       "      <td>Bei chronischem Tabakabusus oder Alkoholabusus...</td>\n",
       "      <td>test</td>\n",
       "      <td>False</td>\n",
       "    </tr>\n",
       "    <tr>\n",
       "      <th>2</th>\n",
       "      <td>40</td>\n",
       "      <td>00_mundhoehlenkarzinom_0098.tsv</td>\n",
       "      <td>2</td>\n",
       "      <td>Radio - oder Radiochemotherapie</td>\n",
       "      <td>Radiotherapie  oder Radiochemotherapie</td>\n",
       "      <td>Als kurativ intendierte therapeutische Optione...</td>\n",
       "      <td>Als kurativ intendierte therapeutische Optione...</td>\n",
       "      <td>test</td>\n",
       "      <td>False</td>\n",
       "    </tr>\n",
       "    <tr>\n",
       "      <th>3</th>\n",
       "      <td>44</td>\n",
       "      <td>00_mundhoehlenkarzinom_0103.tsv</td>\n",
       "      <td>1</td>\n",
       "      <td>guten Allgemein - und Leistungszustand</td>\n",
       "      <td>guten Allgemeinzustand  und Leistungszustand</td>\n",
       "      <td>Patienten mit einem unheilbaren Tumorleiden, j...</td>\n",
       "      <td>Patienten mit einem unheilbaren Tumorleiden, j...</td>\n",
       "      <td>test</td>\n",
       "      <td>False</td>\n",
       "    </tr>\n",
       "    <tr>\n",
       "      <th>4</th>\n",
       "      <td>281</td>\n",
       "      <td>00_mundhoehlenkarzinom_0115.tsv</td>\n",
       "      <td>30</td>\n",
       "      <td>NaN</td>\n",
       "      <td>NaN</td>\n",
       "      <td>Dies bestätigte sich auch nach 2 Jahren Nachbe...</td>\n",
       "      <td>Dies bestätigte sich auch nach 2 Jahren Nachbe...</td>\n",
       "      <td>test</td>\n",
       "      <td>True</td>\n",
       "    </tr>\n",
       "  </tbody>\n",
       "</table>\n",
       "</div>"
      ],
      "text/plain": [
       "   index                             file  sentence_id  \\\n",
       "0      0  00_mundhoehlenkarzinom_0002.tsv            1   \n",
       "1      1  00_mundhoehlenkarzinom_0002.tsv            2   \n",
       "2     40  00_mundhoehlenkarzinom_0098.tsv            2   \n",
       "3     44  00_mundhoehlenkarzinom_0103.tsv            1   \n",
       "4    281  00_mundhoehlenkarzinom_0115.tsv           30   \n",
       "\n",
       "                text_whitespace_tokenized  \\\n",
       "0  chronischer Tabak - oder Alkoholabusus   \n",
       "1  chronischem Tabak - oder Alkoholabusus   \n",
       "2         Radio - oder Radiochemotherapie   \n",
       "3  guten Allgemein - und Leistungszustand   \n",
       "4                                     NaN   \n",
       "\n",
       "                  resolved_whitespace_tokenized  \\\n",
       "0   chronischer Tabakabusus  oder Alkoholabusus   \n",
       "1   chronischem Tabakabusus  oder Alkoholabusus   \n",
       "2        Radiotherapie  oder Radiochemotherapie   \n",
       "3  guten Allgemeinzustand  und Leistungszustand   \n",
       "4                                           NaN   \n",
       "\n",
       "                                        raw_sentence  \\\n",
       "0  Hauptrisikofaktoren für das Auftreten eines Mu...   \n",
       "1  Bei chronischem Tabak- oder Alkoholabusus ist ...   \n",
       "2  Als kurativ intendierte therapeutische Optione...   \n",
       "3  Patienten mit einem unheilbaren Tumorleiden, j...   \n",
       "4  Dies bestätigte sich auch nach 2 Jahren Nachbe...   \n",
       "\n",
       "                                     full_resolution split  controls  \n",
       "0  Hauptrisikofaktoren für das Auftreten eines Mu...  test     False  \n",
       "1  Bei chronischem Tabakabusus oder Alkoholabusus...  test     False  \n",
       "2  Als kurativ intendierte therapeutische Optione...  test     False  \n",
       "3  Patienten mit einem unheilbaren Tumorleiden, j...  test     False  \n",
       "4  Dies bestätigte sich auch nach 2 Jahren Nachbe...  test      True  "
      ]
     },
     "execution_count": 9,
     "metadata": {},
     "output_type": "execute_result"
    }
   ],
   "source": [
    "df.head()"
   ]
  },
  {
   "cell_type": "markdown",
   "metadata": {},
   "source": [
    "# Optimal Values"
   ]
  },
  {
   "cell_type": "code",
   "execution_count": 10,
   "metadata": {},
   "outputs": [
    {
     "data": {
      "text/plain": [
       "tn    616\n",
       "tp    543\n",
       "Name: error_type, dtype: int64"
      ]
     },
     "execution_count": 10,
     "metadata": {},
     "output_type": "execute_result"
    }
   ],
   "source": [
    "ea = error_analysis(df.full_resolution.values, df.full_resolution.values, df.raw_sentence.values)\n",
    "ea.error_type.value_counts()"
   ]
  },
  {
   "cell_type": "code",
   "execution_count": 11,
   "metadata": {},
   "outputs": [
    {
     "data": {
      "text/plain": [
       "{'max/exact_match': 1.0, 'max/gleu': 1.0, 'max/edit_distance_rel': 1.0}"
      ]
     },
     "execution_count": 11,
     "metadata": {},
     "output_type": "execute_result"
    }
   ],
   "source": [
    "get_scores(ea, \"max\")"
   ]
  },
  {
   "cell_type": "markdown",
   "metadata": {},
   "source": [
    "# Trivial Baseline: Do Nothing"
   ]
  },
  {
   "cell_type": "code",
   "execution_count": 12,
   "metadata": {},
   "outputs": [
    {
     "data": {
      "text/plain": [
       "tn    0.531493\n",
       "fn    0.468507\n",
       "Name: error_type, dtype: float64"
      ]
     },
     "execution_count": 12,
     "metadata": {},
     "output_type": "execute_result"
    }
   ],
   "source": [
    "ea = error_analysis(df.raw_sentence.values, df.full_resolution.values, df.raw_sentence.values)\n",
    "ea.error_type.value_counts() / len(ea)"
   ]
  },
  {
   "cell_type": "code",
   "execution_count": 13,
   "metadata": {},
   "outputs": [
    {
     "data": {
      "text/plain": [
       "{'trivial/exact_match': 0.5314926660914582,\n",
       " 'trivial/gleu': 0.9472019923158214,\n",
       " 'trivial/edit_distance_rel': 0.5314926660914582}"
      ]
     },
     "execution_count": 13,
     "metadata": {},
     "output_type": "execute_result"
    }
   ],
   "source": [
    "get_scores(ea, \"trivial\")"
   ]
  },
  {
   "cell_type": "markdown",
   "metadata": {},
   "source": [
    "# Create XML Document"
   ]
  },
  {
   "cell_type": "code",
   "execution_count": 14,
   "metadata": {
    "collapsed": false,
    "jupyter": {
     "outputs_hidden": false
    },
    "pycharm": {
     "name": "#%%\n"
    }
   },
   "outputs": [],
   "source": [
    "root = minidom.Document()\n",
    "\n",
    "xml = root.createElement('corpus')\n",
    "xml.setAttribute('id', 'corpus')\n",
    "root.appendChild(xml)\n",
    "\n",
    "for i, f in enumerate(df[['file', 'raw_sentence']].groupby('file').first().index.to_list()):\n",
    "    file = root.createElement('file')\n",
    "    file.setAttribute('n', str(i))\n",
    "    xml.appendChild(file)\n",
    "\n",
    "    div = root.createElement('div')\n",
    "    file.appendChild(div)\n",
    "\n",
    "    for j, s in enumerate(df[df['file']==f]['raw_sentence']):\n",
    "        sentence = root.createElement('s')\n",
    "        sentence.setAttribute('lang', 'de')\n",
    "        sentence.setAttribute('n', f'{i}-{j}')\n",
    "        div.appendChild(sentence)\n",
    "\n",
    "        doc = nlp(s)\n",
    "        for k, token in enumerate(doc):\n",
    "            word = root.createElement('w')\n",
    "            word.setAttribute('lemma', token.lemma_)\n",
    "            word.setAttribute('n', f'{i}-{j}-{k}')\n",
    "            word.setAttribute('pos', token.tag_)\n",
    "            word.setAttribute('whitespace', token.whitespace_)\n",
    "            sentence.appendChild(word)\n",
    "            word.appendChild(root.createTextNode(token.text))\n",
    "\n",
    "with open(path_xml_file, \"wb\") as f:\n",
    "    f.write(root.toprettyxml(indent =\"\\t\", encoding=\"utf-8\"))"
   ]
  },
  {
   "cell_type": "markdown",
   "metadata": {},
   "source": [
    "# Produce Gertwol-like List and Gather Word Frequencies"
   ]
  },
  {
   "cell_type": "code",
   "execution_count": 15,
   "metadata": {
    "collapsed": false,
    "jupyter": {
     "outputs_hidden": false
    },
    "pycharm": {
     "name": "#%%\n"
    }
   },
   "outputs": [],
   "source": [
    "freq = {}\n",
    "dct = {}\n",
    "splitter = Splitter()\n",
    "special_characters = \"!@#$%^&*()-+?_=,<>/.[] \"\n",
    "\n",
    "for filename in os.listdir(path_tokens):\n",
    "    with open(path_tokens / filename , encoding='utf8') as f:\n",
    "        for word in f.readlines():\n",
    "            word = word[:-1]\n",
    "\n",
    "            # Gertwol Split\n",
    "            split = splitter.split_compound(word)[0]\n",
    "            if split[0] != 0:\n",
    "                dct[word] = '#'.join([split[1]] + [subword.lower() for subword in split[2:]])\n",
    "\n",
    "            # Word Freq\n",
    "            if word in special_characters:\n",
    "                continue\n",
    "            if word in freq:\n",
    "                freq[word] += 1\n",
    "            else:\n",
    "                freq[word] = 1\n",
    "\n",
    "with open(path_gertwol_file, 'w', encoding='utf-8') as f:\n",
    "    for key, value in dct.items():\n",
    "        f.write(f'{key}\\t{value}\\n')\n",
    "\n",
    "with open(path_word_freqs, 'w', encoding='utf-8') as f:\n",
    "    for key, value in freq.items():\n",
    "        f.write(f'{key}\\t{value}\\n')"
   ]
  },
  {
   "cell_type": "markdown",
   "metadata": {},
   "source": [
    "# Run Aepli Baseline"
   ]
  },
  {
   "cell_type": "code",
   "execution_count": 16,
   "metadata": {
    "collapsed": false,
    "jupyter": {
     "outputs_hidden": false
    },
    "pycharm": {
     "name": "#%%\n"
    }
   },
   "outputs": [
    {
     "name": "stdout",
     "output_type": "stream",
     "text": [
      "Alkohol#abusus\n",
      "Alkohol#abusus\n",
      "Radio#chemotherapie\n",
      "Leistungs#zustand\n",
      "Leistungs#zustand\n",
      "Leistungs#zustand\n",
      "Gesamt#überleben\n",
      "Proteom#ebene\n",
      "Ref#lux\n",
      "Dyspnö#symptomatik\n",
      "Chemo#therapie\n",
      "Ausschluss#kriterien\n",
      "Post#operativen\n",
      "Mort#alität\n",
      "Tumor#bedingte\n",
      "Schm#erzen\n",
      "Strahlen#therapie\n",
      "Strahlen#therapieinduzierten\n",
      "Gemüse#reiche\n",
      "Ern#ährung\n",
      "Strahlen#therapie\n",
      "Aroma#massage\n",
      "Indikations#problem\n",
      "Perforations#risiko\n",
      "Papillen#adenome\n",
      "Hnpcc#syndrom\n",
      "Mr#kolonografie\n",
      "Blutgefäß#invasion\n",
      "Links#seitigen\n",
      "Tum#oren\n",
      "Tumor#lokalisation\n",
      "Tonstein#industrie\n",
      "Peri#kardkarzinose\n",
      "Gefäßresektionsrän#der\n",
      "Palliativ#beratung\n",
      "Zweit-Generations#tki\n",
      "OS\n",
      "Zweit-Generations#tki\n",
      "Zweiwöchentli#chen\n",
      "Abstän#den\n",
      "Stammzell#transplantation\n",
      "Laser#therapie\n",
      "Bewegungs#therapie\n",
      "Panik#reaktion\n",
      "Drittlinien#therapie\n",
      "Panik#komponente\n",
      "Hand#ventilatoren\n",
      "Lebens#stunden\n",
      "Langzeit#studie\n",
      "60#jährigen\n",
      "30#jährigen\n",
      "65#jährigen\n",
      "29#jährigen\n",
      "Wiedervorstellung#algorithmen\n",
      "Wiedervorstellung#algorithmen\n",
      "Spät#komplikationen\n",
      "Nach#teile\n",
      "Therapie#optionen\n",
      "Hilfs#angebote\n",
      "Hilfs#angebote\n",
      "Sach#kompetente\n",
      "Sach#kompetente\n",
      "Therapie#optionen\n",
      "Mehr#zahl\n",
      "für\n",
      "Perineuralscheiden#invasion\n",
      "Perineuralscheiden#invasion\n",
      "Langzeit#folgen\n",
      "Unter#therapien\n",
      "Langzeit#folgen\n",
      "Unter#therapien\n",
      "Post#operativen\n",
      "Komplikations#rate\n",
      "Brachy#therapie\n",
      "Endometrium#karzinom\n",
      "Endometrium#karzinom\n",
      "Therapie#folgen\n",
      "Therapie#angebote\n",
      "Dysplasie#sprechstunde\n",
      "Histologie#befunde\n",
      "Therapie#algorithmus\n",
      "Plattenepithelkarzinom#fällen\n",
      "Leisten#bereich\n",
      "In-Transit#metastasen\n",
      "Referenz#therapeutikum\n",
      "Ziel#gerichtete\n",
      "The#rapien\n",
      "Knochen#metastasen\n",
      "Knochen#metastasen\n",
      "Knochen#metastasen\n",
      "Lymphknoten#metastasen\n",
      "Lymphknoten#metastasen\n",
      "Puva#keratosen\n",
      "Patienten#wunsch\n",
      "8\n",
      "Therapie#optionen\n",
      "Aufklärungs#bedürfnisse\n",
      "Behandlungs#optionen\n",
      "Krankheits#themen\n",
      "Vakuum#biopsie\n",
      "Vakuum#biopsie\n",
      "Vakuum#biopsie\n",
      "Kontra#lateral\n",
      "Nach#teile\n",
      "Contra#argumente\n",
      "Her2#status\n",
      "R2#\n",
      "Kontralatera#len\n",
      "Rezidiv#häufigkeiten\n",
      "Häm#angiosis\n",
      "Fernmetastasierungs#rate\n",
      "Taxol#therapie\n",
      "Gemüse#reiche\n",
      "Ern#ährung\n",
      "Leber#erkrankungen\n",
      "Sekundär#prävention\n",
      "Extra#hepatische\n",
      "Met#astasen\n",
      "Mrt#merkmale\n",
      "Nebenbild#merkmalen\n",
      "Tumor#größe\n",
      "Anz#ahl\n",
      "Tumorspezi#fisches\n",
      "Über#leben\n",
      "Kryoablat#ion\n",
      "Mrt#gestützten\n",
      "Nach#sorge\n",
      "Mrt#diagnostik\n",
      "Adeno#karzinom\n",
      "Dreifach#kombination\n",
      "Angst#störungen\n",
      "Behandlung#sassoziierten\n",
      "Eins#chränkungen\n",
      "Radio#chemotherapie\n",
      "Stimm#training\n",
      "Hals#bereich\n",
      "Speise#weg\n",
      "Speise#weg\n",
      "Unterstützungs#möglichkeiten\n",
      "Schmerz#therapie\n",
      "Rehabilitations#fähigkeit\n",
      "Hypo#pharynx\n",
      "Schluck#funktion\n",
      "Makro#metastasen\n",
      "Makro#metastasen\n",
      "Zervix#karzinom\n",
      "Progressions#freien\n",
      "Über#leben\n",
      "Scheiden#stumpfrezidivs\n",
      "Bösar#tige\n",
      "Tum#oren\n",
      "Stuhl#inkontinenz\n",
      "Interaktions#fähigkeit\n",
      "Krisenbewältigungs#erfahrung\n",
      "Krisenbewältigungs#erfahrung\n",
      "Endometrium#karzinom\n",
      "Behandlungs#angebote\n",
      "Behandlungs#angebote\n",
      "Adhäsionsbesch#werden\n",
      "Darm#störungen\n",
      "Behandlungs#konzept\n",
      "Haus#ärzte\n",
      "Sport#therapeuten\n",
      "Risiko#faktoren\n",
      "Anpassungs#störungen\n",
      "Behandlungs#folgestörungen\n",
      "Tast#untersuchung\n",
      "Mlh1#mutation\n",
      "Ins#besondere\n",
      "Leber#untersuchung\n",
      "Milzgrößenab#schätzung\n",
      "Cmv#infektion\n",
      "Rezidiv#diagnostik\n",
      "Zwei#monatlichen\n",
      "Abstän#den\n",
      "Magnetresonanztomo#graphischen\n",
      "Bild#gebung\n",
      "Behandlungs#verlauf\n",
      "Alltagskompetenz#defizite\n",
      "His#tologie\n",
      "Behandlungs#verlaufs\n",
      "Seh#störungen\n",
      "Toxizitäts#risikos\n",
      "Salvage#therapie\n",
      "Krankheits#freie\n",
      "Über#leben\n",
      "Strahlen#therapie\n",
      "PFS\n",
      "Persistenz#verdacht\n",
      "Hochdosis#chemotherapie\n",
      "Therapie#kontext\n",
      "Mortalitäts#risiko\n",
      "Multi#morbidität\n",
      "Erhaltungs#therapie\n",
      "vor\n",
      "Diffu#sem\n",
      "Radioimmunchemotherapie#protokollen\n",
      "Radioimmunchemotherapie#protokollen\n",
      "Obinotuzumab#gaben\n",
      "38\n",
      "Pati#enten\n",
      "Lang#zeitigen\n",
      "Dritt#therapie\n",
      "Langzeit#toxizität\n",
      "Multi#fokal\n",
      "auf\n",
      "Morbiditäts#risiko\n",
      "Therapie#durchführbarkeit\n",
      "Therapie#durchführbarkeit\n",
      "Lymphom#erkrankung\n",
      "Tumor#gewebe\n",
      "Gewebe#spiegel\n",
      "Intraobserver#variabilität\n",
      "Post#operativen\n",
      "Hämoglobin#wertes\n",
      "Post#operative\n",
      "Hämoglobin#differenz\n",
      "High#risk\n",
      "Kar#zinome\n",
      "Low#risk\n",
      "Progressions#risikos\n",
      "Rezidiv#risiko\n",
      "Erhaltungs#schema\n",
      "Über#leben\n",
      "Krankheits#spezifische\n",
      "Post#operativen\n",
      "Maß#nahmen\n",
      "Post#operative\n",
      "Morbidi#tät\n",
      "Post#operativer\n",
      "Kompli#kationen\n",
      "auch\n",
      "Mono#therapien\n",
      "High#risk\n",
      "High#risk\n",
      "NMIBC\n",
      "Spät#toxizitäten\n",
      "Chemo#therapie\n",
      "Marker#konstellation\n",
      "Nach#teile\n",
      "Nephro#toxizität\n",
      "-Iib#seminom\n",
      "Iia#\n",
      "Kunst#therapie\n",
      "Bewegungs#angebote\n",
      "Life-Style#beratung\n",
      "Gemüse#sorten\n",
      "Krebs#spezifischen\n",
      "Überlebens#raten\n",
      "Helium#gas\n",
      "Krankheitsspezi#fischen\n",
      "Extra#zelluläre\n",
      "Eiskristall#bildung\n",
      "Spät#folgen\n",
      "Makro#metastasen\n",
      "Metastasen#freien\n",
      "Über#lebens\n",
      "Low#volume\n",
      "Low#risk\n",
      "Abirateron#arm\n",
      "Überlege#nheit\n",
      "Krebs#spezifischem\n",
      "Über#leben\n",
      "Sechsmona#tiger\n",
      "Kontroll#untersuchungen\n",
      "Magnet#resonanztomografie\n",
      "Zwei#zeitige\n",
      "Bestrah#lungen\n",
      "Rezidiv#tumor\n",
      "Rezidiv#tumor\n",
      "Radiochemotherapie#regime\n",
      "Analrand#karzinom\n",
      "Hof#fnungslosigkeit\n",
      "Narben#schmerzen\n",
      "Durch#schlafstörungen\n",
      "Kontrollattribut#ionen\n",
      "Schwellen#wert\n",
      "Fremd#gefährdung\n",
      "Unterstützungs#möglichkeiten\n",
      "Familien#beratung\n",
      "Geschmacks#sinns\n",
      "Hospiz#versorgung\n",
      "Belastungs#zustand\n",
      "Belastungs#zustand\n",
      "Krebs#erkrankung\n",
      "Hospiz#versorgung\n",
      "Ehren#amtliche\n",
      "Symptom#kontrolle\n",
      "Qualitäts#entwicklung\n",
      "Quasi#experimentellen\n",
      "Stu#dien\n",
      "Multi#disziplinären\n",
      "Spv#team\n",
      "Notfall#konsultationen\n",
      "Versorgungs#planung\n",
      "Strahlen#therapie\n",
      "Strahlen#therapie\n",
      "Hospiz#einrichtungen\n",
      "Tisch#ventilator\n",
      "Mehr#dimensionalen\n",
      "Ska#len\n",
      "Erregungs#zustände\n",
      "Aktivitäts#phase\n",
      "Durch#schlafen\n",
      "Ruhe#phasen\n",
      "Baseline#schlafprobleme\n",
      "Stuhl#menge\n",
      "Präfinal#phase\n",
      "Blasen#karzinomen\n",
      "Gewichts#verlust\n",
      "Fremd#einschätzung\n",
      "Schmerz#reduktion\n",
      "Entlastungs#möglichkeiten\n",
      "Commitment#therapie\n",
      "Atem#fähigkeit\n",
      "Klang#instrumente\n",
      "Flüssigkeits#aufnahme\n",
      "Verführungs#ziele\n",
      "Panik#störung\n",
      "Sekret#mobilisation\n",
      "Flüssigkeits#zufuhr\n",
      "Oberkörper#hochlagerung\n",
      "Qtc#zeit\n",
      "Tenden#ziell\n",
      "Nieren#karzinom\n",
      "3,0\n",
      "%\n",
      "Andro#gensuppressiven\n",
      "The#rapie\n",
      "Mitomy#cin\n",
      "Mitomy#cin\n",
      "Mitomy#cin\n",
      "Sauerstoff#gabe\n",
      "Dünndarm#sonde\n",
      "Dick#darm\n",
      "Ohra#kupunktur\n",
      "Ohra#kupunktur\n",
      "Gas#trointestinalen\n",
      "Ohra#kupunktur\n",
      "Sham#akupunktur\n",
      "Durch#schlafstörungen\n",
      "Sprach#therapie\n",
      "Sprach#therapie\n",
      "Erwartungs#effekte\n",
      "Kontroll#gruppe\n",
      "Chemo#therapie\n",
      "Durch#schlafstörungen\n",
      "Durch#schlafstörungen\n",
      "Durch#schlafstörungen\n",
      "Sitz#meditation\n",
      "Durch#schlafstörungen\n",
      "Stör#faktoren\n",
      "Brachy#therapie\n",
      "Radio#therapie\n",
      "2x\n",
      "1x\n",
      "2x\n",
      "Verblindungs#prozess\n",
      "Placebo#gruppe\n",
      "Progressions#freie\n",
      "Über#leben\n",
      "Progressions#freie\n",
      "Über#leben\n",
      "Progress#ionsfreiem\n",
      "Über#leben\n",
      "Placebo#gruppe\n",
      "Kehl#bereich\n",
      "Azulen#lösung\n",
      "Kontroll#gruppe\n",
      "Post#menopause\n",
      "Cr#einnahme\n",
      "Kontroll#gruppen\n",
      "Ema#vorgaben\n",
      "Wechsel#wirkungen\n",
      "Verum#gruppe\n",
      "Placebo#gruppe\n",
      "Verum#gruppe\n",
      "Wechsel#wirkungen\n",
      "Brokkol#extrakt\n",
      "Brokkol#extrakt\n",
      "Brokkol#extrakt\n",
      "Placebo#gruppen\n",
      "Maus#modellen\n",
      "Zervix#karzinom\n",
      "Zervix#karzinom\n",
      "Zervix#karzinom\n",
      "Wechsel#wirkungen\n",
      "Placebo#gruppe\n",
      "Triterpen#saponine\n",
      "Bernstein#säure\n",
      "Kli#nische\n",
      "Stu#dien\n",
      "Chemo#therapie\n",
      "Strahlen#therapie\n",
      "Strahlen#therapie\n",
      "Chemo#therapie\n",
      "Progress#ion\n",
      "Hypo#kalzämie\n",
      "Schwarz#tee\n",
      "Trauben#saft\n",
      "Leber#enzyme\n",
      "Peri#operative\n",
      "Chemo#therapie\n",
      "R2#resektion\n",
      "Drittlinien#therapie\n",
      "Spät#ere\n",
      "Behand#lung\n",
      "337 lemmas have been changed in ../tmp/baseline_files/Original.xml.\n",
      "Function name & frequency of undecidable cases which have not been changed:\n",
      "findPattern_6        43\n",
      "splitCompound_B      13\n",
      "findPattern_4        2\n",
      "rvsdSplitCompound_B  1\n",
      "findPattern_8        1\n"
     ]
    }
   ],
   "source": [
    "exchangeLemmas(path_xml_file, path_output_file, path_gertwol_file, path_word_freqs, tagged_path)"
   ]
  },
  {
   "cell_type": "markdown",
   "metadata": {},
   "source": [
    "# Reconstruct Complete Sentences"
   ]
  },
  {
   "cell_type": "code",
   "execution_count": 17,
   "metadata": {
    "collapsed": false,
    "jupyter": {
     "outputs_hidden": false
    },
    "pycharm": {
     "name": "#%%\n"
    }
   },
   "outputs": [],
   "source": [
    "dom = minidom.parse(open(path_output_file))\n",
    "predictions = []\n",
    "\n",
    "sentences = dom.getElementsByTagName('s')\n",
    "for sentence in sentences:\n",
    "    tokens = sentence.getElementsByTagName('w')\n",
    "    sentence_tokens = []\n",
    "    for token in tokens:\n",
    "        word = token.childNodes[0].nodeValue\n",
    "        lemma = token.getAttribute('lemma')\n",
    "        if '+' in lemma:\n",
    "            word_parts = lemma.partition('+')\n",
    "            if token.getAttribute('pos') == 'TRUNC':\n",
    "                word = word.replace('-', word_parts[2])\n",
    "            else:\n",
    "                word = word.replace('-', word_parts[0])\n",
    "        whitespace = token.getAttribute('whitespace')\n",
    "        sentence_tokens.append(word + whitespace)\n",
    "\n",
    "    predictions.append(''.join(token for token in sentence_tokens))"
   ]
  },
  {
   "cell_type": "markdown",
   "metadata": {},
   "source": [
    "# Evaluate Baseline"
   ]
  },
  {
   "cell_type": "code",
   "execution_count": 18,
   "metadata": {
    "collapsed": false,
    "jupyter": {
     "outputs_hidden": false
    },
    "pycharm": {
     "name": "#%%\n"
    }
   },
   "outputs": [
    {
     "data": {
      "text/plain": [
       "tn         0.530630\n",
       "fn         0.195858\n",
       "tp         0.170837\n",
       "replace    0.043141\n",
       "delete     0.031061\n",
       "complex    0.018119\n",
       "insert     0.009491\n",
       "fp         0.000863\n",
       "Name: error_type, dtype: float64"
      ]
     },
     "execution_count": 18,
     "metadata": {},
     "output_type": "execute_result"
    }
   ],
   "source": [
    "errors_df = error_analysis(predictions, df.full_resolution, df.raw_sentence)\n",
    "errors_df.error_type.value_counts() / len(errors_df)"
   ]
  },
  {
   "cell_type": "code",
   "execution_count": 19,
   "metadata": {},
   "outputs": [
    {
     "name": "stdout",
     "output_type": "stream",
     "text": [
      "CPU times: user 1min 20s, sys: 75.1 ms, total: 1min 20s\n",
      "Wall time: 1min 22s\n"
     ]
    },
    {
     "data": {
      "text/plain": [
       "{'test/exact_match': 0.7014667817083693,\n",
       " 'test/gleu': 0.9647026057324476,\n",
       " 'test/edit_distance_rel': 0.771210005623929}"
      ]
     },
     "execution_count": 19,
     "metadata": {},
     "output_type": "execute_result"
    }
   ],
   "source": [
    "%%time\n",
    "scores = get_scores(errors_df, \"test\")\n",
    "scores"
   ]
  },
  {
   "cell_type": "code",
   "execution_count": 20,
   "metadata": {},
   "outputs": [],
   "source": [
    "from notebook_util import show_errors"
   ]
  },
  {
   "cell_type": "code",
   "execution_count": 22,
   "metadata": {},
   "outputs": [],
   "source": [
    "errors = pd.concat([errors_df, df[['file', 'sentence_id']].reset_index()], axis=1)"
   ]
  },
  {
   "cell_type": "code",
   "execution_count": 23,
   "metadata": {
    "collapsed": false,
    "jupyter": {
     "outputs_hidden": false
    },
    "pycharm": {
     "name": "#%%\n"
    }
   },
   "outputs": [
    {
     "data": {
      "text/markdown": [
       "0;00_mundhoehlenkarzinom_0115.tsv;14"
      ],
      "text/plain": [
       "<IPython.core.display.Markdown object>"
      ]
     },
     "metadata": {},
     "output_type": "display_data"
    },
    {
     "data": {
      "text/markdown": [
       "__Input:__"
      ],
      "text/plain": [
       "<IPython.core.display.Markdown object>"
      ]
     },
     "metadata": {},
     "output_type": "display_data"
    },
    {
     "data": {
      "text/markdown": [
       "Diese Dreier-Kombination zeigte als erste überhaupt gegenüber Platin in Kombination mit 5-FU eine signifikant gesteigerte Ansprechrate, progressionsfreies- und Gesamtüberleben (10,1 vs 7,4 Monate mit einer HR von 0.8) und war somit in allen Effektivitätsparametern positiv."
      ],
      "text/plain": [
       "<IPython.core.display.Markdown object>"
      ]
     },
     "metadata": {},
     "output_type": "display_data"
    },
    {
     "data": {
      "text/markdown": [
       "__Error type:__ replace"
      ],
      "text/plain": [
       "<IPython.core.display.Markdown object>"
      ]
     },
     "metadata": {},
     "output_type": "display_data"
    },
    {
     "data": {
      "text/html": [
       "\n",
       "<!DOCTYPE html PUBLIC \"-//W3C//DTD XHTML 1.0 Transitional//EN\"\n",
       "          \"http://www.w3.org/TR/xhtml1/DTD/xhtml1-transitional.dtd\">\n",
       "\n",
       "<html>\n",
       "<head>\n",
       "<meta content=\"text/html; charset=utf-8\" http-equiv=\"Content-Type\"/>\n",
       "<title></title>\n",
       "<style type=\"text/css\">\n",
       "        table.diff {font-family:Courier; border:medium;}\n",
       "        .diff_header {background-color:#e0e0e0}\n",
       "        td.diff_header {text-align:right}\n",
       "        .diff_next {background-color:#c0c0c0}\n",
       "        .diff_add {background-color:#aaffaa}\n",
       "        .diff_chg {background-color:#ffff77}\n",
       "        .diff_sub {background-color:#ffaaaa}\n",
       "    </style>\n",
       "</head>\n",
       "<body>\n",
       "<table cellpadding=\"0\" cellspacing=\"0\" class=\"diff\" id=\"difflib_chg_to0__top\" rules=\"groups\">\n",
       "<colgroup></colgroup> <colgroup></colgroup> <colgroup></colgroup>\n",
       "<colgroup></colgroup> <colgroup></colgroup> <colgroup></colgroup>\n",
       "<tbody>\n",
       "<tr><div nowrap=\"nowrap\">Diese Dreier-Kombination zeigte als erste überhaupt gegenüber Platin in Kombination mit 5-FU eine signifikant gesteigerte Ansprechrate, progressionsfreies<span class=\"diff_chg\"> Überleben</span> und Gesamtüberleben (10,1 vs 7,4 Monate mit einer HR von 0.8) und war somit in allen Effektivitätsparametern positiv.</div><div nowrap=\"nowrap\">Diese Dreier-Kombination zeigte als erste überhaupt gegenüber Platin in Kombination mit 5-FU eine signifikant gesteigerte Ansprechrate, progressionsfreies<span class=\"diff_chg\">überleben</span> und Gesamtüberleben (10,1 vs 7,4 Monate mit einer HR von 0.8) und war somit in allen Effektivitätsparametern positiv.</div></tr>\n",
       "</tbody>\n",
       "</table>\n",
       "\n",
       "</body>\n",
       "</html>"
      ],
      "text/plain": [
       "<IPython.core.display.HTML object>"
      ]
     },
     "metadata": {},
     "output_type": "display_data"
    },
    {
     "data": {
      "text/markdown": [
       "1;01_magenkarzinom_0002.tsv;24"
      ],
      "text/plain": [
       "<IPython.core.display.Markdown object>"
      ]
     },
     "metadata": {},
     "output_type": "display_data"
    },
    {
     "data": {
      "text/markdown": [
       "__Input:__"
      ],
      "text/plain": [
       "<IPython.core.display.Markdown object>"
      ]
     },
     "metadata": {},
     "output_type": "display_data"
    },
    {
     "data": {
      "text/markdown": [
       "H. pylori- und Reflux assoziierte Karzinome [REF] [REF] [REF], wobei eine Unterscheidung derzeit nur vage über Surrogatparameter möglich scheint [REF] [REF]."
      ],
      "text/plain": [
       "<IPython.core.display.Markdown object>"
      ]
     },
     "metadata": {},
     "output_type": "display_data"
    },
    {
     "data": {
      "text/markdown": [
       "__Error type:__ replace"
      ],
      "text/plain": [
       "<IPython.core.display.Markdown object>"
      ]
     },
     "metadata": {},
     "output_type": "display_data"
    },
    {
     "data": {
      "text/html": [
       "\n",
       "<!DOCTYPE html PUBLIC \"-//W3C//DTD XHTML 1.0 Transitional//EN\"\n",
       "          \"http://www.w3.org/TR/xhtml1/DTD/xhtml1-transitional.dtd\">\n",
       "\n",
       "<html>\n",
       "<head>\n",
       "<meta content=\"text/html; charset=utf-8\" http-equiv=\"Content-Type\"/>\n",
       "<title></title>\n",
       "<style type=\"text/css\">\n",
       "        table.diff {font-family:Courier; border:medium;}\n",
       "        .diff_header {background-color:#e0e0e0}\n",
       "        td.diff_header {text-align:right}\n",
       "        .diff_next {background-color:#c0c0c0}\n",
       "        .diff_add {background-color:#aaffaa}\n",
       "        .diff_chg {background-color:#ffff77}\n",
       "        .diff_sub {background-color:#ffaaaa}\n",
       "    </style>\n",
       "</head>\n",
       "<body>\n",
       "<table cellpadding=\"0\" cellspacing=\"0\" class=\"diff\" id=\"difflib_chg_to1__top\" rules=\"groups\">\n",
       "<colgroup></colgroup> <colgroup></colgroup> <colgroup></colgroup>\n",
       "<colgroup></colgroup> <colgroup></colgroup> <colgroup></colgroup>\n",
       "<tbody>\n",
       "<tr><div nowrap=\"nowrap\">H. pylori<span class=\"diff_chg\">-</span>assoziierte <span class=\"diff_sub\">und Reflux assoziierte </span>Karzinome [REF] [REF] [REF], wobei eine Unterscheidung derzeit nur vage über Surrogatparameter möglich scheint [REF] [REF].</div><div nowrap=\"nowrap\">H. pylori<span class=\"diff_chg\">lux und Reflux </span>assoziierte Karzinome [REF] [REF] [REF], wobei eine Unterscheidung derzeit nur vage über Surrogatparameter möglich scheint [REF] [REF].</div></tr>\n",
       "</tbody>\n",
       "</table>\n",
       "\n",
       "</body>\n",
       "</html>"
      ],
      "text/plain": [
       "<IPython.core.display.HTML object>"
      ]
     },
     "metadata": {},
     "output_type": "display_data"
    },
    {
     "data": {
      "text/markdown": [
       "2;01_magenkarzinom_0096.tsv;13"
      ],
      "text/plain": [
       "<IPython.core.display.Markdown object>"
      ]
     },
     "metadata": {},
     "output_type": "display_data"
    },
    {
     "data": {
      "text/markdown": [
       "__Input:__"
      ],
      "text/plain": [
       "<IPython.core.display.Markdown object>"
      ]
     },
     "metadata": {},
     "output_type": "display_data"
    },
    {
     "data": {
      "text/markdown": [
       "Eine Studie zum Vergleich der Lebensqualität von Patienten nach transhiatalem gegenüber transthorakalem Verfahren ergab eine bessere Lebensqualität beim transhiatalen Verfahren mit geringerer Reflux- und Dyspnö-Symptomatik [REF]."
      ],
      "text/plain": [
       "<IPython.core.display.Markdown object>"
      ]
     },
     "metadata": {},
     "output_type": "display_data"
    },
    {
     "data": {
      "text/markdown": [
       "__Error type:__ replace"
      ],
      "text/plain": [
       "<IPython.core.display.Markdown object>"
      ]
     },
     "metadata": {},
     "output_type": "display_data"
    },
    {
     "data": {
      "text/html": [
       "\n",
       "<!DOCTYPE html PUBLIC \"-//W3C//DTD XHTML 1.0 Transitional//EN\"\n",
       "          \"http://www.w3.org/TR/xhtml1/DTD/xhtml1-transitional.dtd\">\n",
       "\n",
       "<html>\n",
       "<head>\n",
       "<meta content=\"text/html; charset=utf-8\" http-equiv=\"Content-Type\"/>\n",
       "<title></title>\n",
       "<style type=\"text/css\">\n",
       "        table.diff {font-family:Courier; border:medium;}\n",
       "        .diff_header {background-color:#e0e0e0}\n",
       "        td.diff_header {text-align:right}\n",
       "        .diff_next {background-color:#c0c0c0}\n",
       "        .diff_add {background-color:#aaffaa}\n",
       "        .diff_chg {background-color:#ffff77}\n",
       "        .diff_sub {background-color:#ffaaaa}\n",
       "    </style>\n",
       "</head>\n",
       "<body>\n",
       "<table cellpadding=\"0\" cellspacing=\"0\" class=\"diff\" id=\"difflib_chg_to2__top\" rules=\"groups\">\n",
       "<colgroup></colgroup> <colgroup></colgroup> <colgroup></colgroup>\n",
       "<colgroup></colgroup> <colgroup></colgroup> <colgroup></colgroup>\n",
       "<tbody>\n",
       "<tr><div nowrap=\"nowrap\">Eine Studie zum Vergleich der Lebensqualität von Patienten nach transhiatalem gegenüber transthorakalem Verfahren ergab eine bessere Lebensqualität beim transhiatalen Verfahren mit geringerer Reflux<span class=\"diff_chg\">-S</span>ymptomatik und Dyspnö-Symptomatik [REF].</div><div nowrap=\"nowrap\">Eine Studie zum Vergleich der Lebensqualität von Patienten nach transhiatalem gegenüber transthorakalem Verfahren ergab eine bessere Lebensqualität beim transhiatalen Verfahren mit geringerer Reflux<span class=\"diff_chg\">s</span>ymptomatik und Dyspnö-Symptomatik [REF].</div></tr>\n",
       "</tbody>\n",
       "</table>\n",
       "\n",
       "</body>\n",
       "</html>"
      ],
      "text/plain": [
       "<IPython.core.display.HTML object>"
      ]
     },
     "metadata": {},
     "output_type": "display_data"
    },
    {
     "data": {
      "text/markdown": [
       "3;02_kolorektales-karzinom_0150.tsv;1"
      ],
      "text/plain": [
       "<IPython.core.display.Markdown object>"
      ]
     },
     "metadata": {},
     "output_type": "display_data"
    },
    {
     "data": {
      "text/markdown": [
       "__Input:__"
      ],
      "text/plain": [
       "<IPython.core.display.Markdown object>"
      ]
     },
     "metadata": {},
     "output_type": "display_data"
    },
    {
     "data": {
      "text/markdown": [
       "Mit Patientinnen mit Lynch- und HNPCC-Syndrom sollte mit 40 Jahren, bzw. fünf Jahre vor dem frühesten Erkrankungsalter in der Familie, eine prophylaktische Hysterektomie und ggf. eine Ovarektomie besprochen werden."
      ],
      "text/plain": [
       "<IPython.core.display.Markdown object>"
      ]
     },
     "metadata": {},
     "output_type": "display_data"
    },
    {
     "data": {
      "text/markdown": [
       "__Error type:__ replace"
      ],
      "text/plain": [
       "<IPython.core.display.Markdown object>"
      ]
     },
     "metadata": {},
     "output_type": "display_data"
    },
    {
     "data": {
      "text/html": [
       "\n",
       "<!DOCTYPE html PUBLIC \"-//W3C//DTD XHTML 1.0 Transitional//EN\"\n",
       "          \"http://www.w3.org/TR/xhtml1/DTD/xhtml1-transitional.dtd\">\n",
       "\n",
       "<html>\n",
       "<head>\n",
       "<meta content=\"text/html; charset=utf-8\" http-equiv=\"Content-Type\"/>\n",
       "<title></title>\n",
       "<style type=\"text/css\">\n",
       "        table.diff {font-family:Courier; border:medium;}\n",
       "        .diff_header {background-color:#e0e0e0}\n",
       "        td.diff_header {text-align:right}\n",
       "        .diff_next {background-color:#c0c0c0}\n",
       "        .diff_add {background-color:#aaffaa}\n",
       "        .diff_chg {background-color:#ffff77}\n",
       "        .diff_sub {background-color:#ffaaaa}\n",
       "    </style>\n",
       "</head>\n",
       "<body>\n",
       "<table cellpadding=\"0\" cellspacing=\"0\" class=\"diff\" id=\"difflib_chg_to3__top\" rules=\"groups\">\n",
       "<colgroup></colgroup> <colgroup></colgroup> <colgroup></colgroup>\n",
       "<colgroup></colgroup> <colgroup></colgroup> <colgroup></colgroup>\n",
       "<tbody>\n",
       "<tr><div nowrap=\"nowrap\">Mit Patientinnen mit Lynch<span class=\"diff_chg\">-Syndrom</span> und HNPCC-Syndrom sollte mit 40 Jahren, bzw. fünf Jahre vor dem frühesten Erkrankungsalter in der Familie, eine prophylaktische Hysterektomie und ggf. eine Ovarektomie besprochen werden.</div><div nowrap=\"nowrap\">Mit Patientinnen mit Lynch<span class=\"diff_chg\">syndrom</span> und HNPCC-Syndrom sollte mit 40 Jahren, bzw. fünf Jahre vor dem frühesten Erkrankungsalter in der Familie, eine prophylaktische Hysterektomie und ggf. eine Ovarektomie besprochen werden.</div></tr>\n",
       "</tbody>\n",
       "</table>\n",
       "\n",
       "</body>\n",
       "</html>"
      ],
      "text/plain": [
       "<IPython.core.display.HTML object>"
      ]
     },
     "metadata": {},
     "output_type": "display_data"
    },
    {
     "data": {
      "text/markdown": [
       "4;02_kolorektales-karzinom_0198.tsv;1"
      ],
      "text/plain": [
       "<IPython.core.display.Markdown object>"
      ]
     },
     "metadata": {},
     "output_type": "display_data"
    },
    {
     "data": {
      "text/markdown": [
       "__Input:__"
      ],
      "text/plain": [
       "<IPython.core.display.Markdown object>"
      ]
     },
     "metadata": {},
     "output_type": "display_data"
    },
    {
     "data": {
      "text/markdown": [
       "Bei inkompletter Koloskopie aufgrund eines stenosierenden Tumors kann präoperativ zusätzlich eine CT- oder MR-Kolonografie erfolgen."
      ],
      "text/plain": [
       "<IPython.core.display.Markdown object>"
      ]
     },
     "metadata": {},
     "output_type": "display_data"
    },
    {
     "data": {
      "text/markdown": [
       "__Error type:__ replace"
      ],
      "text/plain": [
       "<IPython.core.display.Markdown object>"
      ]
     },
     "metadata": {},
     "output_type": "display_data"
    },
    {
     "data": {
      "text/html": [
       "\n",
       "<!DOCTYPE html PUBLIC \"-//W3C//DTD XHTML 1.0 Transitional//EN\"\n",
       "          \"http://www.w3.org/TR/xhtml1/DTD/xhtml1-transitional.dtd\">\n",
       "\n",
       "<html>\n",
       "<head>\n",
       "<meta content=\"text/html; charset=utf-8\" http-equiv=\"Content-Type\"/>\n",
       "<title></title>\n",
       "<style type=\"text/css\">\n",
       "        table.diff {font-family:Courier; border:medium;}\n",
       "        .diff_header {background-color:#e0e0e0}\n",
       "        td.diff_header {text-align:right}\n",
       "        .diff_next {background-color:#c0c0c0}\n",
       "        .diff_add {background-color:#aaffaa}\n",
       "        .diff_chg {background-color:#ffff77}\n",
       "        .diff_sub {background-color:#ffaaaa}\n",
       "    </style>\n",
       "</head>\n",
       "<body>\n",
       "<table cellpadding=\"0\" cellspacing=\"0\" class=\"diff\" id=\"difflib_chg_to4__top\" rules=\"groups\">\n",
       "<colgroup></colgroup> <colgroup></colgroup> <colgroup></colgroup>\n",
       "<colgroup></colgroup> <colgroup></colgroup> <colgroup></colgroup>\n",
       "<tbody>\n",
       "<tr><div nowrap=\"nowrap\">Bei inkompletter Koloskopie aufgrund eines stenosierenden Tumors kann präoperativ zusätzlich eine CT<span class=\"diff_chg\">-K</span>olonografie oder MR-Kolonografie erfolgen.</div><div nowrap=\"nowrap\">Bei inkompletter Koloskopie aufgrund eines stenosierenden Tumors kann präoperativ zusätzlich eine CT<span class=\"diff_chg\">k</span>olonografie oder MR-Kolonografie erfolgen.</div></tr>\n",
       "</tbody>\n",
       "</table>\n",
       "\n",
       "</body>\n",
       "</html>"
      ],
      "text/plain": [
       "<IPython.core.display.HTML object>"
      ]
     },
     "metadata": {},
     "output_type": "display_data"
    },
    {
     "data": {
      "text/markdown": [
       "5;04_praevention-zervixkarzinom_0172.tsv;9"
      ],
      "text/plain": [
       "<IPython.core.display.Markdown object>"
      ]
     },
     "metadata": {},
     "output_type": "display_data"
    },
    {
     "data": {
      "text/markdown": [
       "__Input:__"
      ],
      "text/plain": [
       "<IPython.core.display.Markdown object>"
      ]
     },
     "metadata": {},
     "output_type": "display_data"
    },
    {
     "data": {
      "text/markdown": [
       "Nur rund 20% der Frauen in den Altersgruppen unter 40 Jahren nahmen in drei Jahren an keiner KFU teil, bei den 50- bis 60-Jährigen sind es rund 33% und ab 60 Jahren nochmals deutlich mehr Nicht-Teilnehmer (ca. 58% in der Altersgruppe „70 bis unter 75 Jahre“ bzw. 84% in der „Altersgruppe 80 und mehr Jahre“)."
      ],
      "text/plain": [
       "<IPython.core.display.Markdown object>"
      ]
     },
     "metadata": {},
     "output_type": "display_data"
    },
    {
     "data": {
      "text/markdown": [
       "__Error type:__ replace"
      ],
      "text/plain": [
       "<IPython.core.display.Markdown object>"
      ]
     },
     "metadata": {},
     "output_type": "display_data"
    },
    {
     "data": {
      "text/html": [
       "\n",
       "<!DOCTYPE html PUBLIC \"-//W3C//DTD XHTML 1.0 Transitional//EN\"\n",
       "          \"http://www.w3.org/TR/xhtml1/DTD/xhtml1-transitional.dtd\">\n",
       "\n",
       "<html>\n",
       "<head>\n",
       "<meta content=\"text/html; charset=utf-8\" http-equiv=\"Content-Type\"/>\n",
       "<title></title>\n",
       "<style type=\"text/css\">\n",
       "        table.diff {font-family:Courier; border:medium;}\n",
       "        .diff_header {background-color:#e0e0e0}\n",
       "        td.diff_header {text-align:right}\n",
       "        .diff_next {background-color:#c0c0c0}\n",
       "        .diff_add {background-color:#aaffaa}\n",
       "        .diff_chg {background-color:#ffff77}\n",
       "        .diff_sub {background-color:#ffaaaa}\n",
       "    </style>\n",
       "</head>\n",
       "<body>\n",
       "<table cellpadding=\"0\" cellspacing=\"0\" class=\"diff\" id=\"difflib_chg_to5__top\" rules=\"groups\">\n",
       "<colgroup></colgroup> <colgroup></colgroup> <colgroup></colgroup>\n",
       "<colgroup></colgroup> <colgroup></colgroup> <colgroup></colgroup>\n",
       "<tbody>\n",
       "<tr><div nowrap=\"nowrap\">Nur rund 20% der Frauen in den Altersgruppen unter 40 Jahren nahmen in drei Jahren an keiner KFU teil, bei den 50-Jährigen <span class=\"diff_chg\">bis 60-Jährigen sind es rund</span> 33% und ab 60 Jahren nochmals deutlich mehr Nicht-Teilnehmer (ca. 58% in der Altersgruppe „70 bis unter 75 Jahre“ bzw. 84% in der „Altersgruppe 80 und mehr Jahre“).</div><div nowrap=\"nowrap\">Nur rund 20% der Frauen in den Altersgruppen unter 40 Jahren nahmen in drei Jahren an keiner KFU teil, bei den 50<span class=\"diff_add\">jährigen bis 60</span>-Jährigen <span class=\"diff_chg\">sind es rund</span> 33% und ab 60 Jahren nochmals deutlich mehr Nicht-Teilnehmer (ca. 58% in der Altersgruppe „70 bis unter 75 Jahre“ bzw. 84% in der „Altersgruppe 80 und mehr Jahre“).</div></tr>\n",
       "</tbody>\n",
       "</table>\n",
       "\n",
       "</body>\n",
       "</html>"
      ],
      "text/plain": [
       "<IPython.core.display.HTML object>"
      ]
     },
     "metadata": {},
     "output_type": "display_data"
    },
    {
     "data": {
      "text/markdown": [
       "6;04_praevention-zervixkarzinom_0172.tsv;5"
      ],
      "text/plain": [
       "<IPython.core.display.Markdown object>"
      ]
     },
     "metadata": {},
     "output_type": "display_data"
    },
    {
     "data": {
      "text/markdown": [
       "__Input:__"
      ],
      "text/plain": [
       "<IPython.core.display.Markdown object>"
      ]
     },
     "metadata": {},
     "output_type": "display_data"
    },
    {
     "data": {
      "text/markdown": [
       "die Teilnahmequote betrug 28 % bei den 25- bis unter 30-Jährigen und bis 25 % bei den 60- bis unter 65-Jährigen."
      ],
      "text/plain": [
       "<IPython.core.display.Markdown object>"
      ]
     },
     "metadata": {},
     "output_type": "display_data"
    },
    {
     "data": {
      "text/markdown": [
       "__Error type:__ replace"
      ],
      "text/plain": [
       "<IPython.core.display.Markdown object>"
      ]
     },
     "metadata": {},
     "output_type": "display_data"
    },
    {
     "data": {
      "text/html": [
       "\n",
       "<!DOCTYPE html PUBLIC \"-//W3C//DTD XHTML 1.0 Transitional//EN\"\n",
       "          \"http://www.w3.org/TR/xhtml1/DTD/xhtml1-transitional.dtd\">\n",
       "\n",
       "<html>\n",
       "<head>\n",
       "<meta content=\"text/html; charset=utf-8\" http-equiv=\"Content-Type\"/>\n",
       "<title></title>\n",
       "<style type=\"text/css\">\n",
       "        table.diff {font-family:Courier; border:medium;}\n",
       "        .diff_header {background-color:#e0e0e0}\n",
       "        td.diff_header {text-align:right}\n",
       "        .diff_next {background-color:#c0c0c0}\n",
       "        .diff_add {background-color:#aaffaa}\n",
       "        .diff_chg {background-color:#ffff77}\n",
       "        .diff_sub {background-color:#ffaaaa}\n",
       "    </style>\n",
       "</head>\n",
       "<body>\n",
       "<table cellpadding=\"0\" cellspacing=\"0\" class=\"diff\" id=\"difflib_chg_to6__top\" rules=\"groups\">\n",
       "<colgroup></colgroup> <colgroup></colgroup> <colgroup></colgroup>\n",
       "<colgroup></colgroup> <colgroup></colgroup> <colgroup></colgroup>\n",
       "<tbody>\n",
       "<tr><div nowrap=\"nowrap\">die Teilnahmequote betrug 28 % bei den 25<span class=\"diff_chg\">-J</span>ährigen bis unter 30-Jährigen und bis 25 % bei den 60<span class=\"diff_chg\">-J</span>ährigen bis unter 65-Jährigen.</div><div nowrap=\"nowrap\">die Teilnahmequote betrug 28 % bei den 25<span class=\"diff_chg\">j</span>ährigen bis unter 30-Jährigen und bis 25 % bei den 60<span class=\"diff_chg\">j</span>ährigen bis unter 65-Jährigen.</div></tr>\n",
       "</tbody>\n",
       "</table>\n",
       "\n",
       "</body>\n",
       "</html>"
      ],
      "text/plain": [
       "<IPython.core.display.HTML object>"
      ]
     },
     "metadata": {},
     "output_type": "display_data"
    },
    {
     "data": {
      "text/markdown": [
       "7;04_praevention-zervixkarzinom_0172.tsv;13"
      ],
      "text/plain": [
       "<IPython.core.display.Markdown object>"
      ]
     },
     "metadata": {},
     "output_type": "display_data"
    },
    {
     "data": {
      "text/markdown": [
       "__Input:__"
      ],
      "text/plain": [
       "<IPython.core.display.Markdown object>"
      ]
     },
     "metadata": {},
     "output_type": "display_data"
    },
    {
     "data": {
      "text/markdown": [
       "Die höchste Quote lag bei den 25- und 29-Jährigen (jährlich ca. 60%; zwei-jährlich ca. 77%)."
      ],
      "text/plain": [
       "<IPython.core.display.Markdown object>"
      ]
     },
     "metadata": {},
     "output_type": "display_data"
    },
    {
     "data": {
      "text/markdown": [
       "__Error type:__ replace"
      ],
      "text/plain": [
       "<IPython.core.display.Markdown object>"
      ]
     },
     "metadata": {},
     "output_type": "display_data"
    },
    {
     "data": {
      "text/html": [
       "\n",
       "<!DOCTYPE html PUBLIC \"-//W3C//DTD XHTML 1.0 Transitional//EN\"\n",
       "          \"http://www.w3.org/TR/xhtml1/DTD/xhtml1-transitional.dtd\">\n",
       "\n",
       "<html>\n",
       "<head>\n",
       "<meta content=\"text/html; charset=utf-8\" http-equiv=\"Content-Type\"/>\n",
       "<title></title>\n",
       "<style type=\"text/css\">\n",
       "        table.diff {font-family:Courier; border:medium;}\n",
       "        .diff_header {background-color:#e0e0e0}\n",
       "        td.diff_header {text-align:right}\n",
       "        .diff_next {background-color:#c0c0c0}\n",
       "        .diff_add {background-color:#aaffaa}\n",
       "        .diff_chg {background-color:#ffff77}\n",
       "        .diff_sub {background-color:#ffaaaa}\n",
       "    </style>\n",
       "</head>\n",
       "<body>\n",
       "<table cellpadding=\"0\" cellspacing=\"0\" class=\"diff\" id=\"difflib_chg_to7__top\" rules=\"groups\">\n",
       "<colgroup></colgroup> <colgroup></colgroup> <colgroup></colgroup>\n",
       "<colgroup></colgroup> <colgroup></colgroup> <colgroup></colgroup>\n",
       "<tbody>\n",
       "<tr><div nowrap=\"nowrap\">Die höchste Quote lag bei den 25<span class=\"diff_chg\">-J</span>ährigen und 29-Jährigen (jährlich ca. 60%; zwei-jährlich ca. 77%).</div><div nowrap=\"nowrap\">Die höchste Quote lag bei den 25<span class=\"diff_chg\">j</span>ährigen und 29-Jährigen (jährlich ca. 60%; zwei-jährlich ca. 77%).</div></tr>\n",
       "</tbody>\n",
       "</table>\n",
       "\n",
       "</body>\n",
       "</html>"
      ],
      "text/plain": [
       "<IPython.core.display.HTML object>"
      ]
     },
     "metadata": {},
     "output_type": "display_data"
    },
    {
     "data": {
      "text/markdown": [
       "8;05_zervixkarzinom_0073.tsv;10"
      ],
      "text/plain": [
       "<IPython.core.display.Markdown object>"
      ]
     },
     "metadata": {},
     "output_type": "display_data"
    },
    {
     "data": {
      "text/markdown": [
       "__Input:__"
      ],
      "text/plain": [
       "<IPython.core.display.Markdown object>"
      ]
     },
     "metadata": {},
     "output_type": "display_data"
    },
    {
     "data": {
      "text/markdown": [
       "Für das Plattenepithel- sowie für die Mehrzahl der Adenokarzinome der Cervix uteri gibt es kein von der WHO empfohlenes Grading-System [REF]."
      ],
      "text/plain": [
       "<IPython.core.display.Markdown object>"
      ]
     },
     "metadata": {},
     "output_type": "display_data"
    },
    {
     "data": {
      "text/markdown": [
       "__Error type:__ replace"
      ],
      "text/plain": [
       "<IPython.core.display.Markdown object>"
      ]
     },
     "metadata": {},
     "output_type": "display_data"
    },
    {
     "data": {
      "text/html": [
       "\n",
       "<!DOCTYPE html PUBLIC \"-//W3C//DTD XHTML 1.0 Transitional//EN\"\n",
       "          \"http://www.w3.org/TR/xhtml1/DTD/xhtml1-transitional.dtd\">\n",
       "\n",
       "<html>\n",
       "<head>\n",
       "<meta content=\"text/html; charset=utf-8\" http-equiv=\"Content-Type\"/>\n",
       "<title></title>\n",
       "<style type=\"text/css\">\n",
       "        table.diff {font-family:Courier; border:medium;}\n",
       "        .diff_header {background-color:#e0e0e0}\n",
       "        td.diff_header {text-align:right}\n",
       "        .diff_next {background-color:#c0c0c0}\n",
       "        .diff_add {background-color:#aaffaa}\n",
       "        .diff_chg {background-color:#ffff77}\n",
       "        .diff_sub {background-color:#ffaaaa}\n",
       "    </style>\n",
       "</head>\n",
       "<body>\n",
       "<table cellpadding=\"0\" cellspacing=\"0\" class=\"diff\" id=\"difflib_chg_to8__top\" rules=\"groups\">\n",
       "<colgroup></colgroup> <colgroup></colgroup> <colgroup></colgroup>\n",
       "<colgroup></colgroup> <colgroup></colgroup> <colgroup></colgroup>\n",
       "<tbody>\n",
       "<tr><div nowrap=\"nowrap\">Für das Plattenepithel<span class=\"diff_chg\">k</span>a<span class=\"diff_chg\">rzinome</span> sowie für die Mehrzahl der Adenokarzinome der Cervix uteri gibt es kein von der WHO empfohlenes Grading-System [REF].</div><div nowrap=\"nowrap\">Für das Plattenepithel<span class=\"diff_chg\">z</span>a<span class=\"diff_chg\">hl</span> sowie für die Mehrzahl der Adenokarzinome der Cervix uteri gibt es kein von der WHO empfohlenes Grading-System [REF].</div></tr>\n",
       "</tbody>\n",
       "</table>\n",
       "\n",
       "</body>\n",
       "</html>"
      ],
      "text/plain": [
       "<IPython.core.display.HTML object>"
      ]
     },
     "metadata": {},
     "output_type": "display_data"
    },
    {
     "data": {
      "text/markdown": [
       "9;05_zervixkarzinom_0407.tsv;5"
      ],
      "text/plain": [
       "<IPython.core.display.Markdown object>"
      ]
     },
     "metadata": {},
     "output_type": "display_data"
    },
    {
     "data": {
      "text/markdown": [
       "__Input:__"
      ],
      "text/plain": [
       "<IPython.core.display.Markdown object>"
      ]
     },
     "metadata": {},
     "output_type": "display_data"
    },
    {
     "data": {
      "text/markdown": [
       "Insbesondere auch die Abklärung der auffälligen Zytologie- oder Histologie-Befunde ist nicht einheitlich definiert gewesen."
      ],
      "text/plain": [
       "<IPython.core.display.Markdown object>"
      ]
     },
     "metadata": {},
     "output_type": "display_data"
    },
    {
     "data": {
      "text/markdown": [
       "__Error type:__ replace"
      ],
      "text/plain": [
       "<IPython.core.display.Markdown object>"
      ]
     },
     "metadata": {},
     "output_type": "display_data"
    },
    {
     "data": {
      "text/html": [
       "\n",
       "<!DOCTYPE html PUBLIC \"-//W3C//DTD XHTML 1.0 Transitional//EN\"\n",
       "          \"http://www.w3.org/TR/xhtml1/DTD/xhtml1-transitional.dtd\">\n",
       "\n",
       "<html>\n",
       "<head>\n",
       "<meta content=\"text/html; charset=utf-8\" http-equiv=\"Content-Type\"/>\n",
       "<title></title>\n",
       "<style type=\"text/css\">\n",
       "        table.diff {font-family:Courier; border:medium;}\n",
       "        .diff_header {background-color:#e0e0e0}\n",
       "        td.diff_header {text-align:right}\n",
       "        .diff_next {background-color:#c0c0c0}\n",
       "        .diff_add {background-color:#aaffaa}\n",
       "        .diff_chg {background-color:#ffff77}\n",
       "        .diff_sub {background-color:#ffaaaa}\n",
       "    </style>\n",
       "</head>\n",
       "<body>\n",
       "<table cellpadding=\"0\" cellspacing=\"0\" class=\"diff\" id=\"difflib_chg_to9__top\" rules=\"groups\">\n",
       "<colgroup></colgroup> <colgroup></colgroup> <colgroup></colgroup>\n",
       "<colgroup></colgroup> <colgroup></colgroup> <colgroup></colgroup>\n",
       "<tbody>\n",
       "<tr><div nowrap=\"nowrap\">Insbesondere auch die Abklärung der auffälligen Zytologie<span class=\"diff_chg\">-B</span>efunde oder Histologie-Befunde ist nicht einheitlich definiert gewesen.</div><div nowrap=\"nowrap\">Insbesondere auch die Abklärung der auffälligen Zytologie<span class=\"diff_chg\">b</span>efunde oder Histologie-Befunde ist nicht einheitlich definiert gewesen.</div></tr>\n",
       "</tbody>\n",
       "</table>\n",
       "\n",
       "</body>\n",
       "</html>"
      ],
      "text/plain": [
       "<IPython.core.display.HTML object>"
      ]
     },
     "metadata": {},
     "output_type": "display_data"
    },
    {
     "data": {
      "text/markdown": [
       "10;06_hautkrebspraevention_0372.tsv;15"
      ],
      "text/plain": [
       "<IPython.core.display.Markdown object>"
      ]
     },
     "metadata": {},
     "output_type": "display_data"
    },
    {
     "data": {
      "text/markdown": [
       "__Input:__"
      ],
      "text/plain": [
       "<IPython.core.display.Markdown object>"
      ]
     },
     "metadata": {},
     "output_type": "display_data"
    },
    {
     "data": {
      "text/markdown": [
       "Die Gesundheitseffekte wurden mithilfe der Anzahl an neuen Melanom- und Plattenepithelkarzinom-Fällen sowie gewonnenen Lebensjahren gemessen."
      ],
      "text/plain": [
       "<IPython.core.display.Markdown object>"
      ]
     },
     "metadata": {},
     "output_type": "display_data"
    },
    {
     "data": {
      "text/markdown": [
       "__Error type:__ replace"
      ],
      "text/plain": [
       "<IPython.core.display.Markdown object>"
      ]
     },
     "metadata": {},
     "output_type": "display_data"
    },
    {
     "data": {
      "text/html": [
       "\n",
       "<!DOCTYPE html PUBLIC \"-//W3C//DTD XHTML 1.0 Transitional//EN\"\n",
       "          \"http://www.w3.org/TR/xhtml1/DTD/xhtml1-transitional.dtd\">\n",
       "\n",
       "<html>\n",
       "<head>\n",
       "<meta content=\"text/html; charset=utf-8\" http-equiv=\"Content-Type\"/>\n",
       "<title></title>\n",
       "<style type=\"text/css\">\n",
       "        table.diff {font-family:Courier; border:medium;}\n",
       "        .diff_header {background-color:#e0e0e0}\n",
       "        td.diff_header {text-align:right}\n",
       "        .diff_next {background-color:#c0c0c0}\n",
       "        .diff_add {background-color:#aaffaa}\n",
       "        .diff_chg {background-color:#ffff77}\n",
       "        .diff_sub {background-color:#ffaaaa}\n",
       "    </style>\n",
       "</head>\n",
       "<body>\n",
       "<table cellpadding=\"0\" cellspacing=\"0\" class=\"diff\" id=\"difflib_chg_to10__top\" rules=\"groups\">\n",
       "<colgroup></colgroup> <colgroup></colgroup> <colgroup></colgroup>\n",
       "<colgroup></colgroup> <colgroup></colgroup> <colgroup></colgroup>\n",
       "<tbody>\n",
       "<tr><div nowrap=\"nowrap\">Die Gesundheitseffekte wurden mithilfe der Anzahl an neuen Melanom<span class=\"diff_chg\">-F</span>ällen und Plattenepithelkarzinom-Fällen sowie gewonnenen Lebensjahren gemessen.</div><div nowrap=\"nowrap\">Die Gesundheitseffekte wurden mithilfe der Anzahl an neuen Melanom<span class=\"diff_chg\">f</span>ällen und Plattenepithelkarzinom-Fällen sowie gewonnenen Lebensjahren gemessen.</div></tr>\n",
       "</tbody>\n",
       "</table>\n",
       "\n",
       "</body>\n",
       "</html>"
      ],
      "text/plain": [
       "<IPython.core.display.HTML object>"
      ]
     },
     "metadata": {},
     "output_type": "display_data"
    },
    {
     "data": {
      "text/markdown": [
       "11;07_malignes-melanom_0195.tsv;15"
      ],
      "text/plain": [
       "<IPython.core.display.Markdown object>"
      ]
     },
     "metadata": {},
     "output_type": "display_data"
    },
    {
     "data": {
      "text/markdown": [
       "__Input:__"
      ],
      "text/plain": [
       "<IPython.core.display.Markdown object>"
      ]
     },
     "metadata": {},
     "output_type": "display_data"
    },
    {
     "data": {
      "text/markdown": [
       "Während Chemo- und zielgerichtete Therapien bereits kurz nach Therapiebeginn zu Symptomen führen können, tritt eine Immun-Checkpoint-Blocker induzierte Autoimmunkolitis in der Regel nach den ersten zwei Therapiezyklen auf [REF], [REF]."
      ],
      "text/plain": [
       "<IPython.core.display.Markdown object>"
      ]
     },
     "metadata": {},
     "output_type": "display_data"
    },
    {
     "data": {
      "text/markdown": [
       "__Error type:__ replace"
      ],
      "text/plain": [
       "<IPython.core.display.Markdown object>"
      ]
     },
     "metadata": {},
     "output_type": "display_data"
    },
    {
     "data": {
      "text/html": [
       "\n",
       "<!DOCTYPE html PUBLIC \"-//W3C//DTD XHTML 1.0 Transitional//EN\"\n",
       "          \"http://www.w3.org/TR/xhtml1/DTD/xhtml1-transitional.dtd\">\n",
       "\n",
       "<html>\n",
       "<head>\n",
       "<meta content=\"text/html; charset=utf-8\" http-equiv=\"Content-Type\"/>\n",
       "<title></title>\n",
       "<style type=\"text/css\">\n",
       "        table.diff {font-family:Courier; border:medium;}\n",
       "        .diff_header {background-color:#e0e0e0}\n",
       "        td.diff_header {text-align:right}\n",
       "        .diff_next {background-color:#c0c0c0}\n",
       "        .diff_add {background-color:#aaffaa}\n",
       "        .diff_chg {background-color:#ffff77}\n",
       "        .diff_sub {background-color:#ffaaaa}\n",
       "    </style>\n",
       "</head>\n",
       "<body>\n",
       "<table cellpadding=\"0\" cellspacing=\"0\" class=\"diff\" id=\"difflib_chg_to11__top\" rules=\"groups\">\n",
       "<colgroup></colgroup> <colgroup></colgroup> <colgroup></colgroup>\n",
       "<colgroup></colgroup> <colgroup></colgroup> <colgroup></colgroup>\n",
       "<tbody>\n",
       "<tr><div nowrap=\"nowrap\">Während Chemo<span class=\"diff_chg\">therapien und zielgerichtete</span> Therapien bereits kurz nach Therapiebeginn zu Symptomen führen können, tritt eine Immun-Checkpoint-Blocker induzierte Autoimmunkolitis in der Regel nach den ersten zwei Therapiezyklen auf [REF], [REF].</div><div nowrap=\"nowrap\">Während Chemo<span class=\"diff_chg\">gerichtete und zielgerichtete</span> Therapien bereits kurz nach Therapiebeginn zu Symptomen führen können, tritt eine Immun-Checkpoint-Blocker induzierte Autoimmunkolitis in der Regel nach den ersten zwei Therapiezyklen auf [REF], [REF].</div></tr>\n",
       "</tbody>\n",
       "</table>\n",
       "\n",
       "</body>\n",
       "</html>"
      ],
      "text/plain": [
       "<IPython.core.display.HTML object>"
      ]
     },
     "metadata": {},
     "output_type": "display_data"
    },
    {
     "data": {
      "text/markdown": [
       "12;08_aktinische-keratose-und-plattenepithelkarzinom-der-haut_0016.tsv;7"
      ],
      "text/plain": [
       "<IPython.core.display.Markdown object>"
      ]
     },
     "metadata": {},
     "output_type": "display_data"
    },
    {
     "data": {
      "text/markdown": [
       "__Input:__"
      ],
      "text/plain": [
       "<IPython.core.display.Markdown object>"
      ]
     },
     "metadata": {},
     "output_type": "display_data"
    },
    {
     "data": {
      "text/markdown": [
       "Im Grunde genommen handelt es sich um eine zwar gängige, aber im Kern unpräzise Begriffsbezeichnung, da Veränderungen, die mit dieser Diagnose bezeichnet werden, weder obligat eine aktinische (solare, durch Sonnenlicht induzierte) Genese haben müssen (z.B. Arsen- oder PUVA-Keratosen) noch obligat mit einer klinisch oder histologisch manifesten Keratose (klinisch keratotische Schuppe, histomorphologisch Ortho- und / oder Hyperparakeratose) einhergehen muss."
      ],
      "text/plain": [
       "<IPython.core.display.Markdown object>"
      ]
     },
     "metadata": {},
     "output_type": "display_data"
    },
    {
     "data": {
      "text/markdown": [
       "__Error type:__ replace"
      ],
      "text/plain": [
       "<IPython.core.display.Markdown object>"
      ]
     },
     "metadata": {},
     "output_type": "display_data"
    },
    {
     "data": {
      "text/html": [
       "\n",
       "<!DOCTYPE html PUBLIC \"-//W3C//DTD XHTML 1.0 Transitional//EN\"\n",
       "          \"http://www.w3.org/TR/xhtml1/DTD/xhtml1-transitional.dtd\">\n",
       "\n",
       "<html>\n",
       "<head>\n",
       "<meta content=\"text/html; charset=utf-8\" http-equiv=\"Content-Type\"/>\n",
       "<title></title>\n",
       "<style type=\"text/css\">\n",
       "        table.diff {font-family:Courier; border:medium;}\n",
       "        .diff_header {background-color:#e0e0e0}\n",
       "        td.diff_header {text-align:right}\n",
       "        .diff_next {background-color:#c0c0c0}\n",
       "        .diff_add {background-color:#aaffaa}\n",
       "        .diff_chg {background-color:#ffff77}\n",
       "        .diff_sub {background-color:#ffaaaa}\n",
       "    </style>\n",
       "</head>\n",
       "<body>\n",
       "<table cellpadding=\"0\" cellspacing=\"0\" class=\"diff\" id=\"difflib_chg_to12__top\" rules=\"groups\">\n",
       "<colgroup></colgroup> <colgroup></colgroup> <colgroup></colgroup>\n",
       "<colgroup></colgroup> <colgroup></colgroup> <colgroup></colgroup>\n",
       "<tbody>\n",
       "<tr><div nowrap=\"nowrap\">Im Grunde genommen handelt es sich um eine zwar gängige, aber im Kern unpräzise Begriffsbezeichnung, da Veränderungen, die mit dieser Diagnose bezeichnet werden, weder obligat eine aktinische (solare, durch Sonnenlicht induzierte) Genese haben müssen (z.B. Arsen<span class=\"diff_chg\">-Keratosen oder</span> PUVA-Keratosen) noch obligat mit einer klinisch oder histologisch manifesten Keratose (klinisch keratotische Schuppe, histomorphologisch Ortho<span class=\"diff_chg\">keratose und</span> / oder Hyperparakeratose) einhergehen muss.</div><div nowrap=\"nowrap\">Im Grunde genommen handelt es sich um eine zwar gängige, aber im Kern unpräzise Begriffsbezeichnung, da Veränderungen, die mit dieser Diagnose bezeichnet werden, weder obligat eine aktinische (solare, durch Sonnenlicht induzierte) Genese haben müssen (z.B. Arsen<span class=\"diff_chg\">keratosen oder</span> PUVA-Keratosen) noch obligat mit einer klinisch oder histologisch manifesten Keratose (klinisch keratotische Schuppe, histomorphologisch Ortho<span class=\"diff_chg\">- und</span> / oder Hyperparakeratose) einhergehen muss.</div></tr>\n",
       "</tbody>\n",
       "</table>\n",
       "\n",
       "</body>\n",
       "</html>"
      ],
      "text/plain": [
       "<IPython.core.display.HTML object>"
      ]
     },
     "metadata": {},
     "output_type": "display_data"
    },
    {
     "data": {
      "text/markdown": [
       "13;09_mammakarzinom_0206.tsv;17"
      ],
      "text/plain": [
       "<IPython.core.display.Markdown object>"
      ]
     },
     "metadata": {},
     "output_type": "display_data"
    },
    {
     "data": {
      "text/markdown": [
       "__Input:__"
      ],
      "text/plain": [
       "<IPython.core.display.Markdown object>"
      ]
     },
     "metadata": {},
     "output_type": "display_data"
    },
    {
     "data": {
      "text/markdown": [
       "Die Entscheidung für eine neoadjuvante Therapie wird vor allem durch den Hormonrezeptor- und HER2-Status gesteuert."
      ],
      "text/plain": [
       "<IPython.core.display.Markdown object>"
      ]
     },
     "metadata": {},
     "output_type": "display_data"
    },
    {
     "data": {
      "text/markdown": [
       "__Error type:__ replace"
      ],
      "text/plain": [
       "<IPython.core.display.Markdown object>"
      ]
     },
     "metadata": {},
     "output_type": "display_data"
    },
    {
     "data": {
      "text/html": [
       "\n",
       "<!DOCTYPE html PUBLIC \"-//W3C//DTD XHTML 1.0 Transitional//EN\"\n",
       "          \"http://www.w3.org/TR/xhtml1/DTD/xhtml1-transitional.dtd\">\n",
       "\n",
       "<html>\n",
       "<head>\n",
       "<meta content=\"text/html; charset=utf-8\" http-equiv=\"Content-Type\"/>\n",
       "<title></title>\n",
       "<style type=\"text/css\">\n",
       "        table.diff {font-family:Courier; border:medium;}\n",
       "        .diff_header {background-color:#e0e0e0}\n",
       "        td.diff_header {text-align:right}\n",
       "        .diff_next {background-color:#c0c0c0}\n",
       "        .diff_add {background-color:#aaffaa}\n",
       "        .diff_chg {background-color:#ffff77}\n",
       "        .diff_sub {background-color:#ffaaaa}\n",
       "    </style>\n",
       "</head>\n",
       "<body>\n",
       "<table cellpadding=\"0\" cellspacing=\"0\" class=\"diff\" id=\"difflib_chg_to13__top\" rules=\"groups\">\n",
       "<colgroup></colgroup> <colgroup></colgroup> <colgroup></colgroup>\n",
       "<colgroup></colgroup> <colgroup></colgroup> <colgroup></colgroup>\n",
       "<tbody>\n",
       "<tr><div nowrap=\"nowrap\">Die Entscheidung für eine neoadjuvante Therapie wird vor allem durch den Hormonrezeptor<span class=\"diff_chg\">-S</span>tatus und HER2-Status gesteuert.</div><div nowrap=\"nowrap\">Die Entscheidung für eine neoadjuvante Therapie wird vor allem durch den Hormonrezeptor<span class=\"diff_chg\">s</span>tatus und HER2-Status gesteuert.</div></tr>\n",
       "</tbody>\n",
       "</table>\n",
       "\n",
       "</body>\n",
       "</html>"
      ],
      "text/plain": [
       "<IPython.core.display.HTML object>"
      ]
     },
     "metadata": {},
     "output_type": "display_data"
    },
    {
     "data": {
      "text/markdown": [
       "14;11_hepatozellulaeres-karzinom-und-biliaere-karzinome_0059.tsv;6"
      ],
      "text/plain": [
       "<IPython.core.display.Markdown object>"
      ]
     },
     "metadata": {},
     "output_type": "display_data"
    },
    {
     "data": {
      "text/markdown": [
       "__Input:__"
      ],
      "text/plain": [
       "<IPython.core.display.Markdown object>"
      ]
     },
     "metadata": {},
     "output_type": "display_data"
    },
    {
     "data": {
      "text/markdown": [
       "Diese LI-RADS Übersicht fasst die relevanten CT- und MRT-Merkmale zusammen und stellt für Radiologen, die mit LI-RADS nicht vertraut sind, einen bildgestützten Ansatz für die Anwendung des Systems vor."
      ],
      "text/plain": [
       "<IPython.core.display.Markdown object>"
      ]
     },
     "metadata": {},
     "output_type": "display_data"
    },
    {
     "data": {
      "text/markdown": [
       "__Error type:__ replace"
      ],
      "text/plain": [
       "<IPython.core.display.Markdown object>"
      ]
     },
     "metadata": {},
     "output_type": "display_data"
    },
    {
     "data": {
      "text/html": [
       "\n",
       "<!DOCTYPE html PUBLIC \"-//W3C//DTD XHTML 1.0 Transitional//EN\"\n",
       "          \"http://www.w3.org/TR/xhtml1/DTD/xhtml1-transitional.dtd\">\n",
       "\n",
       "<html>\n",
       "<head>\n",
       "<meta content=\"text/html; charset=utf-8\" http-equiv=\"Content-Type\"/>\n",
       "<title></title>\n",
       "<style type=\"text/css\">\n",
       "        table.diff {font-family:Courier; border:medium;}\n",
       "        .diff_header {background-color:#e0e0e0}\n",
       "        td.diff_header {text-align:right}\n",
       "        .diff_next {background-color:#c0c0c0}\n",
       "        .diff_add {background-color:#aaffaa}\n",
       "        .diff_chg {background-color:#ffff77}\n",
       "        .diff_sub {background-color:#ffaaaa}\n",
       "    </style>\n",
       "</head>\n",
       "<body>\n",
       "<table cellpadding=\"0\" cellspacing=\"0\" class=\"diff\" id=\"difflib_chg_to14__top\" rules=\"groups\">\n",
       "<colgroup></colgroup> <colgroup></colgroup> <colgroup></colgroup>\n",
       "<colgroup></colgroup> <colgroup></colgroup> <colgroup></colgroup>\n",
       "<tbody>\n",
       "<tr><div nowrap=\"nowrap\">Diese LI-RADS Übersicht fasst die relevanten CT-Merkmale <span class=\"diff_sub\">und MRT-Merkmale </span>zusammen und stellt für Radiologen, die mit LI-RADS nicht vertraut sind, einen bildgestützten Ansatz für die Anwendung des Systems vor.</div><div nowrap=\"nowrap\">Diese LI-RADS Übersicht fasst die relevanten C<span class=\"diff_add\">Tmerkmale und MR</span>T-Merkmale zusammen und stellt für Radiologen, die mit LI-RADS nicht vertraut sind, einen bildgestützten Ansatz für die Anwendung des Systems vor.</div></tr>\n",
       "</tbody>\n",
       "</table>\n",
       "\n",
       "</body>\n",
       "</html>"
      ],
      "text/plain": [
       "<IPython.core.display.HTML object>"
      ]
     },
     "metadata": {},
     "output_type": "display_data"
    },
    {
     "data": {
      "text/markdown": [
       "15;12_nierenzellkarzinom_0049.tsv;8"
      ],
      "text/plain": [
       "<IPython.core.display.Markdown object>"
      ]
     },
     "metadata": {},
     "output_type": "display_data"
    },
    {
     "data": {
      "text/markdown": [
       "__Input:__"
      ],
      "text/plain": [
       "<IPython.core.display.Markdown object>"
      ]
     },
     "metadata": {},
     "output_type": "display_data"
    },
    {
     "data": {
      "text/markdown": [
       "Gesamt- und tumorspezifisches Überleben, Progressionsfreiheit"
      ],
      "text/plain": [
       "<IPython.core.display.Markdown object>"
      ]
     },
     "metadata": {},
     "output_type": "display_data"
    },
    {
     "data": {
      "text/markdown": [
       "__Error type:__ replace"
      ],
      "text/plain": [
       "<IPython.core.display.Markdown object>"
      ]
     },
     "metadata": {},
     "output_type": "display_data"
    },
    {
     "data": {
      "text/html": [
       "\n",
       "<!DOCTYPE html PUBLIC \"-//W3C//DTD XHTML 1.0 Transitional//EN\"\n",
       "          \"http://www.w3.org/TR/xhtml1/DTD/xhtml1-transitional.dtd\">\n",
       "\n",
       "<html>\n",
       "<head>\n",
       "<meta content=\"text/html; charset=utf-8\" http-equiv=\"Content-Type\"/>\n",
       "<title></title>\n",
       "<style type=\"text/css\">\n",
       "        table.diff {font-family:Courier; border:medium;}\n",
       "        .diff_header {background-color:#e0e0e0}\n",
       "        td.diff_header {text-align:right}\n",
       "        .diff_next {background-color:#c0c0c0}\n",
       "        .diff_add {background-color:#aaffaa}\n",
       "        .diff_chg {background-color:#ffff77}\n",
       "        .diff_sub {background-color:#ffaaaa}\n",
       "    </style>\n",
       "</head>\n",
       "<body>\n",
       "<table cellpadding=\"0\" cellspacing=\"0\" class=\"diff\" id=\"difflib_chg_to15__top\" rules=\"groups\">\n",
       "<colgroup></colgroup> <colgroup></colgroup> <colgroup></colgroup>\n",
       "<colgroup></colgroup> <colgroup></colgroup> <colgroup></colgroup>\n",
       "<tbody>\n",
       "<tr><div nowrap=\"nowrap\">Gesamt<span class=\"diff_chg\">üb</span>e<span class=\"diff_chg\">rleben</span> und tumorspezifisches Überleben, Progressionsfreiheit</div><div nowrap=\"nowrap\">Gesamt<span class=\"diff_chg\">fisch</span>e<span class=\"diff_chg\">s</span> und tumorspezifisches Überleben, Progressionsfreiheit</div></tr>\n",
       "</tbody>\n",
       "</table>\n",
       "\n",
       "</body>\n",
       "</html>"
      ],
      "text/plain": [
       "<IPython.core.display.HTML object>"
      ]
     },
     "metadata": {},
     "output_type": "display_data"
    },
    {
     "data": {
      "text/markdown": [
       "16;12_nierenzellkarzinom_0113.tsv;3"
      ],
      "text/plain": [
       "<IPython.core.display.Markdown object>"
      ]
     },
     "metadata": {},
     "output_type": "display_data"
    },
    {
     "data": {
      "text/markdown": [
       "__Input:__"
      ],
      "text/plain": [
       "<IPython.core.display.Markdown object>"
      ]
     },
     "metadata": {},
     "output_type": "display_data"
    },
    {
     "data": {
      "text/markdown": [
       "Eine Indikation zur ipsilatera­len Adrenalektomie stellt sich insofern nur bei in der präoperativen CT- oder MRT-Diagnostik geäußertem Verdacht einer Tumorinfiltration der Nebenniere oder bei intraoperativ makroskopisch suspektem Befund der Nebenniere."
      ],
      "text/plain": [
       "<IPython.core.display.Markdown object>"
      ]
     },
     "metadata": {},
     "output_type": "display_data"
    },
    {
     "data": {
      "text/markdown": [
       "__Error type:__ replace"
      ],
      "text/plain": [
       "<IPython.core.display.Markdown object>"
      ]
     },
     "metadata": {},
     "output_type": "display_data"
    },
    {
     "data": {
      "text/html": [
       "\n",
       "<!DOCTYPE html PUBLIC \"-//W3C//DTD XHTML 1.0 Transitional//EN\"\n",
       "          \"http://www.w3.org/TR/xhtml1/DTD/xhtml1-transitional.dtd\">\n",
       "\n",
       "<html>\n",
       "<head>\n",
       "<meta content=\"text/html; charset=utf-8\" http-equiv=\"Content-Type\"/>\n",
       "<title></title>\n",
       "<style type=\"text/css\">\n",
       "        table.diff {font-family:Courier; border:medium;}\n",
       "        .diff_header {background-color:#e0e0e0}\n",
       "        td.diff_header {text-align:right}\n",
       "        .diff_next {background-color:#c0c0c0}\n",
       "        .diff_add {background-color:#aaffaa}\n",
       "        .diff_chg {background-color:#ffff77}\n",
       "        .diff_sub {background-color:#ffaaaa}\n",
       "    </style>\n",
       "</head>\n",
       "<body>\n",
       "<table cellpadding=\"0\" cellspacing=\"0\" class=\"diff\" id=\"difflib_chg_to16__top\" rules=\"groups\">\n",
       "<colgroup></colgroup> <colgroup></colgroup> <colgroup></colgroup>\n",
       "<colgroup></colgroup> <colgroup></colgroup> <colgroup></colgroup>\n",
       "<tbody>\n",
       "<tr><div nowrap=\"nowrap\">Eine Indikation zur ipsilatera­len Adrenalektomie stellt sich insofern nur bei in der präoperativen CT<span class=\"diff_chg\">-D</span>iagnostik oder MRT-Diagnostik geäußertem Verdacht einer Tumorinfiltration der Nebenniere oder bei intraoperativ makroskopisch suspektem Befund der Nebenniere.</div><div nowrap=\"nowrap\">Eine Indikation zur ipsilatera­len Adrenalektomie stellt sich insofern nur bei in der präoperativen CT<span class=\"diff_chg\">d</span>iagnostik oder MRT-Diagnostik geäußertem Verdacht einer Tumorinfiltration der Nebenniere oder bei intraoperativ makroskopisch suspektem Befund der Nebenniere.</div></tr>\n",
       "</tbody>\n",
       "</table>\n",
       "\n",
       "</body>\n",
       "</html>"
      ],
      "text/plain": [
       "<IPython.core.display.HTML object>"
      ]
     },
     "metadata": {},
     "output_type": "display_data"
    },
    {
     "data": {
      "text/markdown": [
       "17;15_endometriumkarzinom_0150.tsv;16"
      ],
      "text/plain": [
       "<IPython.core.display.Markdown object>"
      ]
     },
     "metadata": {},
     "output_type": "display_data"
    },
    {
     "data": {
      "text/markdown": [
       "__Input:__"
      ],
      "text/plain": [
       "<IPython.core.display.Markdown object>"
      ]
     },
     "metadata": {},
     "output_type": "display_data"
    },
    {
     "data": {
      "text/markdown": [
       "Sie fanden keine signifikanten Unterschiede im Gesamt- und progressionsfreien Überleben."
      ],
      "text/plain": [
       "<IPython.core.display.Markdown object>"
      ]
     },
     "metadata": {},
     "output_type": "display_data"
    },
    {
     "data": {
      "text/markdown": [
       "__Error type:__ replace"
      ],
      "text/plain": [
       "<IPython.core.display.Markdown object>"
      ]
     },
     "metadata": {},
     "output_type": "display_data"
    },
    {
     "data": {
      "text/html": [
       "\n",
       "<!DOCTYPE html PUBLIC \"-//W3C//DTD XHTML 1.0 Transitional//EN\"\n",
       "          \"http://www.w3.org/TR/xhtml1/DTD/xhtml1-transitional.dtd\">\n",
       "\n",
       "<html>\n",
       "<head>\n",
       "<meta content=\"text/html; charset=utf-8\" http-equiv=\"Content-Type\"/>\n",
       "<title></title>\n",
       "<style type=\"text/css\">\n",
       "        table.diff {font-family:Courier; border:medium;}\n",
       "        .diff_header {background-color:#e0e0e0}\n",
       "        td.diff_header {text-align:right}\n",
       "        .diff_next {background-color:#c0c0c0}\n",
       "        .diff_add {background-color:#aaffaa}\n",
       "        .diff_chg {background-color:#ffff77}\n",
       "        .diff_sub {background-color:#ffaaaa}\n",
       "    </style>\n",
       "</head>\n",
       "<body>\n",
       "<table cellpadding=\"0\" cellspacing=\"0\" class=\"diff\" id=\"difflib_chg_to17__top\" rules=\"groups\">\n",
       "<colgroup></colgroup> <colgroup></colgroup> <colgroup></colgroup>\n",
       "<colgroup></colgroup> <colgroup></colgroup> <colgroup></colgroup>\n",
       "<tbody>\n",
       "<tr><div nowrap=\"nowrap\">Sie fanden keine signifikanten Unterschiede im Gesamt<span class=\"diff_chg\">üb</span>e<span class=\"diff_chg\">rleb</span>en und progressionsfreien Überleben.</div><div nowrap=\"nowrap\">Sie fanden keine signifikanten Unterschiede im Gesamt<span class=\"diff_chg\">fr</span>e<span class=\"diff_chg\">i</span>en und progressionsfreien Überleben.</div></tr>\n",
       "</tbody>\n",
       "</table>\n",
       "\n",
       "</body>\n",
       "</html>"
      ],
      "text/plain": [
       "<IPython.core.display.HTML object>"
      ]
     },
     "metadata": {},
     "output_type": "display_data"
    },
    {
     "data": {
      "text/markdown": [
       "18;15_endometriumkarzinom_0294.tsv;35"
      ],
      "text/plain": [
       "<IPython.core.display.Markdown object>"
      ]
     },
     "metadata": {},
     "output_type": "display_data"
    },
    {
     "data": {
      "text/markdown": [
       "__Input:__"
      ],
      "text/plain": [
       "<IPython.core.display.Markdown object>"
      ]
     },
     "metadata": {},
     "output_type": "display_data"
    },
    {
     "data": {
      "text/markdown": [
       "Ein wohnortnahes multiprofessionelles Beratungs- und Behandlungskonzept für Patientinnen und ihre Angehörigen (u. a. durch Fach- und Hausärzte, Psychologen, Sozialarbeiter, Physio-, Ergo- Kunst- oder Sporttherapeuten) sollte auch nach der onkologischen Rehabilitation, d.h. sektorenübergreifend weitergeführt werden, auch während der Nachsorge, und auf die individuellen Beeinträchtigungen und Wünsche ausgerichtet sein."
      ],
      "text/plain": [
       "<IPython.core.display.Markdown object>"
      ]
     },
     "metadata": {},
     "output_type": "display_data"
    },
    {
     "data": {
      "text/markdown": [
       "__Error type:__ replace"
      ],
      "text/plain": [
       "<IPython.core.display.Markdown object>"
      ]
     },
     "metadata": {},
     "output_type": "display_data"
    },
    {
     "data": {
      "text/html": [
       "\n",
       "<!DOCTYPE html PUBLIC \"-//W3C//DTD XHTML 1.0 Transitional//EN\"\n",
       "          \"http://www.w3.org/TR/xhtml1/DTD/xhtml1-transitional.dtd\">\n",
       "\n",
       "<html>\n",
       "<head>\n",
       "<meta content=\"text/html; charset=utf-8\" http-equiv=\"Content-Type\"/>\n",
       "<title></title>\n",
       "<style type=\"text/css\">\n",
       "        table.diff {font-family:Courier; border:medium;}\n",
       "        .diff_header {background-color:#e0e0e0}\n",
       "        td.diff_header {text-align:right}\n",
       "        .diff_next {background-color:#c0c0c0}\n",
       "        .diff_add {background-color:#aaffaa}\n",
       "        .diff_chg {background-color:#ffff77}\n",
       "        .diff_sub {background-color:#ffaaaa}\n",
       "    </style>\n",
       "</head>\n",
       "<body>\n",
       "<table cellpadding=\"0\" cellspacing=\"0\" class=\"diff\" id=\"difflib_chg_to18__top\" rules=\"groups\">\n",
       "<colgroup></colgroup> <colgroup></colgroup> <colgroup></colgroup>\n",
       "<colgroup></colgroup> <colgroup></colgroup> <colgroup></colgroup>\n",
       "<tbody>\n",
       "<tr><div nowrap=\"nowrap\">Ein wohnortnahes multiprofessionelles Beratungskonzept und Behandlungskonzept für Patientinnen und ihre Angehörigen (u. a. durch Fachärzte und Hausärzte, Psychologen, Sozialarbeiter, Physio<span class=\"diff_chg\">therapeuten,</span> Ergo<span class=\"diff_chg\">therapeuten</span> Kunsttherapeuten oder Sporttherapeuten) sollte auch nach der onkologischen Rehabilitation, d.h. sektorenübergreifend weitergeführt werden, auch während der Nachsorge, und auf die individuellen Beeinträchtigungen und Wünsche ausgerichtet sein.</div><div nowrap=\"nowrap\">Ein wohnortnahes multiprofessionelles Beratungskonzept und Behandlungskonzept für Patientinnen und ihre Angehörigen (u. a. durch Fachärzte und Hausärzte, Psychologen, Sozialarbeiter, Physio<span class=\"diff_chg\">-,</span> Ergo<span class=\"diff_chg\">-</span> Kunsttherapeuten oder Sporttherapeuten) sollte auch nach der onkologischen Rehabilitation, d.h. sektorenübergreifend weitergeführt werden, auch während der Nachsorge, und auf die individuellen Beeinträchtigungen und Wünsche ausgerichtet sein.</div></tr>\n",
       "</tbody>\n",
       "</table>\n",
       "\n",
       "</body>\n",
       "</html>"
      ],
      "text/plain": [
       "<IPython.core.display.HTML object>"
      ]
     },
     "metadata": {},
     "output_type": "display_data"
    },
    {
     "data": {
      "text/markdown": [
       "19;16_maligne-ovarialtumoren_0031.tsv;6"
      ],
      "text/plain": [
       "<IPython.core.display.Markdown object>"
      ]
     },
     "metadata": {},
     "output_type": "display_data"
    },
    {
     "data": {
      "text/markdown": [
       "__Input:__"
      ],
      "text/plain": [
       "<IPython.core.display.Markdown object>"
      ]
     },
     "metadata": {},
     "output_type": "display_data"
    },
    {
     "data": {
      "text/markdown": [
       "Frauen mit einer MSH2- oder MLH1-Mutation haben bis zum Alter von 40 Jahren mit 1 % noch ein geringes Risiko an einem Eierstockkrebs zu erkranken, das dann jedoch bis zum 70. Lebensjahr mit 24 % (MSH2) bzw. 20 % (MLH1) stark ansteigt [REF], [REF], [REF], [REF], [REF], [REF]."
      ],
      "text/plain": [
       "<IPython.core.display.Markdown object>"
      ]
     },
     "metadata": {},
     "output_type": "display_data"
    },
    {
     "data": {
      "text/markdown": [
       "__Error type:__ replace"
      ],
      "text/plain": [
       "<IPython.core.display.Markdown object>"
      ]
     },
     "metadata": {},
     "output_type": "display_data"
    },
    {
     "data": {
      "text/html": [
       "\n",
       "<!DOCTYPE html PUBLIC \"-//W3C//DTD XHTML 1.0 Transitional//EN\"\n",
       "          \"http://www.w3.org/TR/xhtml1/DTD/xhtml1-transitional.dtd\">\n",
       "\n",
       "<html>\n",
       "<head>\n",
       "<meta content=\"text/html; charset=utf-8\" http-equiv=\"Content-Type\"/>\n",
       "<title></title>\n",
       "<style type=\"text/css\">\n",
       "        table.diff {font-family:Courier; border:medium;}\n",
       "        .diff_header {background-color:#e0e0e0}\n",
       "        td.diff_header {text-align:right}\n",
       "        .diff_next {background-color:#c0c0c0}\n",
       "        .diff_add {background-color:#aaffaa}\n",
       "        .diff_chg {background-color:#ffff77}\n",
       "        .diff_sub {background-color:#ffaaaa}\n",
       "    </style>\n",
       "</head>\n",
       "<body>\n",
       "<table cellpadding=\"0\" cellspacing=\"0\" class=\"diff\" id=\"difflib_chg_to19__top\" rules=\"groups\">\n",
       "<colgroup></colgroup> <colgroup></colgroup> <colgroup></colgroup>\n",
       "<colgroup></colgroup> <colgroup></colgroup> <colgroup></colgroup>\n",
       "<tbody>\n",
       "<tr><div nowrap=\"nowrap\">Frauen mit einer MSH2<span class=\"diff_chg\">-Mutation oder</span> MLH1-Mutation haben bis zum Alter von 40 Jahren mit 1 % noch ein geringes Risiko an einem Eierstockkrebs zu erkranken, das dann jedoch bis zum 70. Lebensjahr mit 24 % (MSH2) bzw. 20 % (MLH1) stark ansteigt [REF], [REF], [REF], [REF], [REF], [REF].</div><div nowrap=\"nowrap\">Frauen mit einer MSH2<span class=\"diff_chg\">mutation oder</span> MLH1-Mutation haben bis zum Alter von 40 Jahren mit 1 % noch ein geringes Risiko an einem Eierstockkrebs zu erkranken, das dann jedoch bis zum 70. Lebensjahr mit 24 % (MSH2) bzw. 20 % (MLH1) stark ansteigt [REF], [REF], [REF], [REF], [REF], [REF].</div></tr>\n",
       "</tbody>\n",
       "</table>\n",
       "\n",
       "</body>\n",
       "</html>"
      ],
      "text/plain": [
       "<IPython.core.display.HTML object>"
      ]
     },
     "metadata": {},
     "output_type": "display_data"
    },
    {
     "data": {
      "text/markdown": [
       "20;17_chronisch-lymphatische-leukaemie-cll_0043.tsv;5"
      ],
      "text/plain": [
       "<IPython.core.display.Markdown object>"
      ]
     },
     "metadata": {},
     "output_type": "display_data"
    },
    {
     "data": {
      "text/markdown": [
       "__Input:__"
      ],
      "text/plain": [
       "<IPython.core.display.Markdown object>"
      ]
     },
     "metadata": {},
     "output_type": "display_data"
    },
    {
     "data": {
      "text/markdown": [
       "Da die Qualität der Lymphknoten- und insbesondere der Milz- und Leberuntersuchung abhängig von Untersucher und individuellen Patientenfaktoren ist (z. B. erschwert bei adipösen Patienten), sollte die Ausdehnung der darstellbaren Lymphknoten und von Leber/Milz zusätzlich sonographisch bestimmt werden."
      ],
      "text/plain": [
       "<IPython.core.display.Markdown object>"
      ]
     },
     "metadata": {},
     "output_type": "display_data"
    },
    {
     "data": {
      "text/markdown": [
       "__Error type:__ replace"
      ],
      "text/plain": [
       "<IPython.core.display.Markdown object>"
      ]
     },
     "metadata": {},
     "output_type": "display_data"
    },
    {
     "data": {
      "text/html": [
       "\n",
       "<!DOCTYPE html PUBLIC \"-//W3C//DTD XHTML 1.0 Transitional//EN\"\n",
       "          \"http://www.w3.org/TR/xhtml1/DTD/xhtml1-transitional.dtd\">\n",
       "\n",
       "<html>\n",
       "<head>\n",
       "<meta content=\"text/html; charset=utf-8\" http-equiv=\"Content-Type\"/>\n",
       "<title></title>\n",
       "<style type=\"text/css\">\n",
       "        table.diff {font-family:Courier; border:medium;}\n",
       "        .diff_header {background-color:#e0e0e0}\n",
       "        td.diff_header {text-align:right}\n",
       "        .diff_next {background-color:#c0c0c0}\n",
       "        .diff_add {background-color:#aaffaa}\n",
       "        .diff_chg {background-color:#ffff77}\n",
       "        .diff_sub {background-color:#ffaaaa}\n",
       "    </style>\n",
       "</head>\n",
       "<body>\n",
       "<table cellpadding=\"0\" cellspacing=\"0\" class=\"diff\" id=\"difflib_chg_to20__top\" rules=\"groups\">\n",
       "<colgroup></colgroup> <colgroup></colgroup> <colgroup></colgroup>\n",
       "<colgroup></colgroup> <colgroup></colgroup> <colgroup></colgroup>\n",
       "<tbody>\n",
       "<tr><div nowrap=\"nowrap\">Da die Qualität der Lymphknoten<span class=\"diff_chg\">untersuchung und insbesondere der</span> Milzuntersuchung und Leberuntersuchung abhängig von Untersucher und individuellen Patientenfaktoren ist (z. B. erschwert bei adipösen Patienten), sollte die Ausdehnung der darstellbaren Lymphknoten und von Leber/Milz zusätzlich sonographisch bestimmt werden.</div><div nowrap=\"nowrap\">Da die Qualität der Lymphknoten<span class=\"diff_chg\">besondere und insbesondere der</span> Milzuntersuchung und Leberuntersuchung abhängig von Untersucher und individuellen Patientenfaktoren ist (z. B. erschwert bei adipösen Patienten), sollte die Ausdehnung der darstellbaren Lymphknoten und von Leber/Milz zusätzlich sonographisch bestimmt werden.</div></tr>\n",
       "</tbody>\n",
       "</table>\n",
       "\n",
       "</body>\n",
       "</html>"
      ],
      "text/plain": [
       "<IPython.core.display.HTML object>"
      ]
     },
     "metadata": {},
     "output_type": "display_data"
    },
    {
     "data": {
      "text/markdown": [
       "21;17_chronisch-lymphatische-leukaemie-cll_0047.tsv;15"
      ],
      "text/plain": [
       "<IPython.core.display.Markdown object>"
      ]
     },
     "metadata": {},
     "output_type": "display_data"
    },
    {
     "data": {
      "text/markdown": [
       "__Input:__"
      ],
      "text/plain": [
       "<IPython.core.display.Markdown object>"
      ]
     },
     "metadata": {},
     "output_type": "display_data"
    },
    {
     "data": {
      "text/markdown": [
       "Vor Therapieeinleitung mit Medikamenten, welche mit einem erhöhten Risiko einer CMV-Infektion bzw. -Reaktivierung verbunden sind (z. B. bei Einsatz des CD52-Antikörpers Alemtuzumab oder dem Kinase-Inhibitor Idelalisib), sollte der CMV-Status (CMV-IgM, CMV-IgG) erhoben werden."
      ],
      "text/plain": [
       "<IPython.core.display.Markdown object>"
      ]
     },
     "metadata": {},
     "output_type": "display_data"
    },
    {
     "data": {
      "text/markdown": [
       "__Error type:__ replace"
      ],
      "text/plain": [
       "<IPython.core.display.Markdown object>"
      ]
     },
     "metadata": {},
     "output_type": "display_data"
    },
    {
     "data": {
      "text/html": [
       "\n",
       "<!DOCTYPE html PUBLIC \"-//W3C//DTD XHTML 1.0 Transitional//EN\"\n",
       "          \"http://www.w3.org/TR/xhtml1/DTD/xhtml1-transitional.dtd\">\n",
       "\n",
       "<html>\n",
       "<head>\n",
       "<meta content=\"text/html; charset=utf-8\" http-equiv=\"Content-Type\"/>\n",
       "<title></title>\n",
       "<style type=\"text/css\">\n",
       "        table.diff {font-family:Courier; border:medium;}\n",
       "        .diff_header {background-color:#e0e0e0}\n",
       "        td.diff_header {text-align:right}\n",
       "        .diff_next {background-color:#c0c0c0}\n",
       "        .diff_add {background-color:#aaffaa}\n",
       "        .diff_chg {background-color:#ffff77}\n",
       "        .diff_sub {background-color:#ffaaaa}\n",
       "    </style>\n",
       "</head>\n",
       "<body>\n",
       "<table cellpadding=\"0\" cellspacing=\"0\" class=\"diff\" id=\"difflib_chg_to21__top\" rules=\"groups\">\n",
       "<colgroup></colgroup> <colgroup></colgroup> <colgroup></colgroup>\n",
       "<colgroup></colgroup> <colgroup></colgroup> <colgroup></colgroup>\n",
       "<tbody>\n",
       "<tr><div nowrap=\"nowrap\">Vor Therapieeinleitung mit Medikamenten, welche mit einem erhöhten Risiko einer CMV-Infektion bzw. C<span class=\"diff_chg\">MV-</span>Reaktivierung verbunden sind (z. B. bei Einsatz des CD52-Antikörpers Alemtuzumab oder dem Kinase-Inhibitor Idelalisib), sollte der CMV-Status (CMV-IgM, CMV-IgG) erhoben werden.</div><div nowrap=\"nowrap\">Vor Therapieeinleitung mit Medikamenten, welche mit einem erhöhten Risiko einer CMV-Infektion bzw. C<span class=\"diff_chg\">mv</span>Reaktivierung verbunden sind (z. B. bei Einsatz des CD52-Antikörpers Alemtuzumab oder dem Kinase-Inhibitor Idelalisib), sollte der CMV-Status (CMV-IgM, CMV-IgG) erhoben werden.</div></tr>\n",
       "</tbody>\n",
       "</table>\n",
       "\n",
       "</body>\n",
       "</html>"
      ],
      "text/plain": [
       "<IPython.core.display.HTML object>"
      ]
     },
     "metadata": {},
     "output_type": "display_data"
    },
    {
     "data": {
      "text/markdown": [
       "22;19_follikulaeres-lymphom_0056.tsv;3"
      ],
      "text/plain": [
       "<IPython.core.display.Markdown object>"
      ]
     },
     "metadata": {},
     "output_type": "display_data"
    },
    {
     "data": {
      "text/markdown": [
       "__Input:__"
      ],
      "text/plain": [
       "<IPython.core.display.Markdown object>"
      ]
     },
     "metadata": {},
     "output_type": "display_data"
    },
    {
     "data": {
      "text/markdown": [
       "In einer 37 Patienten mit follikulärem Lymphom und je 72 Patienten mit Hodgkin- bzw. diffusem großzelligen B-Zell-Lymphom umfassenden randomisierten Studie, in dem die CT mit oder ohne begleitende PET mit einem aus allen verfügbaren Informationen bestehenden Goldstandard verglichen wurde, erwies sich die PET/CT der CT bei der Abschlussuntersuchung signifikant überlegen [REF]."
      ],
      "text/plain": [
       "<IPython.core.display.Markdown object>"
      ]
     },
     "metadata": {},
     "output_type": "display_data"
    },
    {
     "data": {
      "text/markdown": [
       "__Error type:__ replace"
      ],
      "text/plain": [
       "<IPython.core.display.Markdown object>"
      ]
     },
     "metadata": {},
     "output_type": "display_data"
    },
    {
     "data": {
      "text/html": [
       "\n",
       "<!DOCTYPE html PUBLIC \"-//W3C//DTD XHTML 1.0 Transitional//EN\"\n",
       "          \"http://www.w3.org/TR/xhtml1/DTD/xhtml1-transitional.dtd\">\n",
       "\n",
       "<html>\n",
       "<head>\n",
       "<meta content=\"text/html; charset=utf-8\" http-equiv=\"Content-Type\"/>\n",
       "<title></title>\n",
       "<style type=\"text/css\">\n",
       "        table.diff {font-family:Courier; border:medium;}\n",
       "        .diff_header {background-color:#e0e0e0}\n",
       "        td.diff_header {text-align:right}\n",
       "        .diff_next {background-color:#c0c0c0}\n",
       "        .diff_add {background-color:#aaffaa}\n",
       "        .diff_chg {background-color:#ffff77}\n",
       "        .diff_sub {background-color:#ffaaaa}\n",
       "    </style>\n",
       "</head>\n",
       "<body>\n",
       "<table cellpadding=\"0\" cellspacing=\"0\" class=\"diff\" id=\"difflib_chg_to22__top\" rules=\"groups\">\n",
       "<colgroup></colgroup> <colgroup></colgroup> <colgroup></colgroup>\n",
       "<colgroup></colgroup> <colgroup></colgroup> <colgroup></colgroup>\n",
       "<tbody>\n",
       "<tr><div nowrap=\"nowrap\">In einer 37 Patienten mit follikulärem Lymphom und je 72 Patienten mit Hodgkin-Lymphom <span class=\"diff_chg\">bzw. diffusem großzelligen B-Zell-Lymphom umfassenden randomisierten</span> Studie, in dem die CT mit oder ohne begleitende PET mit einem aus allen verfügbaren Informationen bestehenden Goldstandard verglichen wurde, erwies sich die PET/CT der CT bei der Abschlussuntersuchung signifikant überlegen [REF].</div><div nowrap=\"nowrap\">In einer 37 Patienten mit follikulärem Lymphom und je 72 Patienten mit Hodgkin<span class=\"diff_add\">sem bzw. diffusem großzelligen B-Zell</span>-Lymphom <span class=\"diff_chg\">umfassenden randomisierten</span> Studie, in dem die CT mit oder ohne begleitende PET mit einem aus allen verfügbaren Informationen bestehenden Goldstandard verglichen wurde, erwies sich die PET/CT der CT bei der Abschlussuntersuchung signifikant überlegen [REF].</div></tr>\n",
       "</tbody>\n",
       "</table>\n",
       "\n",
       "</body>\n",
       "</html>"
      ],
      "text/plain": [
       "<IPython.core.display.HTML object>"
      ]
     },
     "metadata": {},
     "output_type": "display_data"
    },
    {
     "data": {
      "text/markdown": [
       "23;19_follikulaeres-lymphom_0058.tsv;2"
      ],
      "text/plain": [
       "<IPython.core.display.Markdown object>"
      ]
     },
     "metadata": {},
     "output_type": "display_data"
    },
    {
     "data": {
      "text/markdown": [
       "__Input:__"
      ],
      "text/plain": [
       "<IPython.core.display.Markdown object>"
      ]
     },
     "metadata": {},
     "output_type": "display_data"
    },
    {
     "data": {
      "text/markdown": [
       "In einer 72 Rezidivpatienten umfassenden prospektiven Studie erwies sich die Abschluss-PET/CT nach 4 wöchentlichen Rituximab- oder Obinotuzumab-Gaben als prädiktiv für den weiteren Krankheitsverlauf [REF]."
      ],
      "text/plain": [
       "<IPython.core.display.Markdown object>"
      ]
     },
     "metadata": {},
     "output_type": "display_data"
    },
    {
     "data": {
      "text/markdown": [
       "__Error type:__ replace"
      ],
      "text/plain": [
       "<IPython.core.display.Markdown object>"
      ]
     },
     "metadata": {},
     "output_type": "display_data"
    },
    {
     "data": {
      "text/html": [
       "\n",
       "<!DOCTYPE html PUBLIC \"-//W3C//DTD XHTML 1.0 Transitional//EN\"\n",
       "          \"http://www.w3.org/TR/xhtml1/DTD/xhtml1-transitional.dtd\">\n",
       "\n",
       "<html>\n",
       "<head>\n",
       "<meta content=\"text/html; charset=utf-8\" http-equiv=\"Content-Type\"/>\n",
       "<title></title>\n",
       "<style type=\"text/css\">\n",
       "        table.diff {font-family:Courier; border:medium;}\n",
       "        .diff_header {background-color:#e0e0e0}\n",
       "        td.diff_header {text-align:right}\n",
       "        .diff_next {background-color:#c0c0c0}\n",
       "        .diff_add {background-color:#aaffaa}\n",
       "        .diff_chg {background-color:#ffff77}\n",
       "        .diff_sub {background-color:#ffaaaa}\n",
       "    </style>\n",
       "</head>\n",
       "<body>\n",
       "<table cellpadding=\"0\" cellspacing=\"0\" class=\"diff\" id=\"difflib_chg_to23__top\" rules=\"groups\">\n",
       "<colgroup></colgroup> <colgroup></colgroup> <colgroup></colgroup>\n",
       "<colgroup></colgroup> <colgroup></colgroup> <colgroup></colgroup>\n",
       "<tbody>\n",
       "<tr><div nowrap=\"nowrap\">In einer 72 Rezidivpatienten umfassenden prospektiven Studie erwies sich die Abschluss-PET/CT nach 4 wöchentlichen Rituximab-Gaben <span class=\"diff_chg\">oder Obinotuzumab-Gaben als</span> prädiktiv für den weiteren Krankheitsverlauf [REF].</div><div nowrap=\"nowrap\">In einer 72 Rezidivpatienten umfassenden prospektiven Studie erwies sich die Abschluss-PET/CT nach 4 wöchentlichen Rituxi<span class=\"diff_add\">mabgaben oder Obinotuzu</span>mab-Gaben <span class=\"diff_chg\">als</span> prädiktiv für den weiteren Krankheitsverlauf [REF].</div></tr>\n",
       "</tbody>\n",
       "</table>\n",
       "\n",
       "</body>\n",
       "</html>"
      ],
      "text/plain": [
       "<IPython.core.display.HTML object>"
      ]
     },
     "metadata": {},
     "output_type": "display_data"
    },
    {
     "data": {
      "text/markdown": [
       "24;21_hodentumoren_0271.tsv;1"
      ],
      "text/plain": [
       "<IPython.core.display.Markdown object>"
      ]
     },
     "metadata": {},
     "output_type": "display_data"
    },
    {
     "data": {
      "text/markdown": [
       "__Input:__"
      ],
      "text/plain": [
       "<IPython.core.display.Markdown object>"
      ]
     },
     "metadata": {},
     "output_type": "display_data"
    },
    {
     "data": {
      "text/markdown": [
       "In Gruppe 1 fallen alle Patienten mit KZT mit lokaler Therapie im Retroperitoneum nach adjuvanter Strahlentherapie beim Seminom im Stadium I, nach kurativer Strahlentherapie beim Stadium IIA- und -IIB-Seminom sowie Patienten mit metastasiertem nichtseminomatösen KZT und Residualtumorresektion nach kurativer Chemotherapie (Tabelle 12)."
      ],
      "text/plain": [
       "<IPython.core.display.Markdown object>"
      ]
     },
     "metadata": {},
     "output_type": "display_data"
    },
    {
     "data": {
      "text/markdown": [
       "__Error type:__ replace"
      ],
      "text/plain": [
       "<IPython.core.display.Markdown object>"
      ]
     },
     "metadata": {},
     "output_type": "display_data"
    },
    {
     "data": {
      "text/html": [
       "\n",
       "<!DOCTYPE html PUBLIC \"-//W3C//DTD XHTML 1.0 Transitional//EN\"\n",
       "          \"http://www.w3.org/TR/xhtml1/DTD/xhtml1-transitional.dtd\">\n",
       "\n",
       "<html>\n",
       "<head>\n",
       "<meta content=\"text/html; charset=utf-8\" http-equiv=\"Content-Type\"/>\n",
       "<title></title>\n",
       "<style type=\"text/css\">\n",
       "        table.diff {font-family:Courier; border:medium;}\n",
       "        .diff_header {background-color:#e0e0e0}\n",
       "        td.diff_header {text-align:right}\n",
       "        .diff_next {background-color:#c0c0c0}\n",
       "        .diff_add {background-color:#aaffaa}\n",
       "        .diff_chg {background-color:#ffff77}\n",
       "        .diff_sub {background-color:#ffaaaa}\n",
       "    </style>\n",
       "</head>\n",
       "<body>\n",
       "<table cellpadding=\"0\" cellspacing=\"0\" class=\"diff\" id=\"difflib_chg_to24__top\" rules=\"groups\">\n",
       "<colgroup></colgroup> <colgroup></colgroup> <colgroup></colgroup>\n",
       "<colgroup></colgroup> <colgroup></colgroup> <colgroup></colgroup>\n",
       "<tbody>\n",
       "<tr><div nowrap=\"nowrap\">In Gruppe 1 fallen alle Patienten mit KZT mit lokaler Therapie im Retroperitoneum nach adjuvanter Strahlentherapie beim Seminom im Stadium I, nach kurativer Strahlentherapie beim Stadium IIA<span class=\"diff_chg\">-Seminom und Stadium </span>IIB<span class=\"diff_chg\">-Seminom</span> sowie Patienten mit metastasiertem nichtseminomatösen KZT und Residualtumorresektion nach kurativer Chemotherapie (Tabelle 12).</div><div nowrap=\"nowrap\">In Gruppe 1 fallen alle Patienten mit KZT mit lokaler Therapie im Retroperitoneum nach adjuvanter Strahlentherapie beim Seminom im Stadium I, nach kurativer Strahlentherapie beim Stadium IIA<span class=\"diff_chg\">seminom und Iia</span>IIB<span class=\"diff_chg\">IiaSeminom</span> sowie Patienten mit metastasiertem nichtseminomatösen KZT und Residualtumorresektion nach kurativer Chemotherapie (Tabelle 12).</div></tr>\n",
       "</tbody>\n",
       "</table>\n",
       "\n",
       "</body>\n",
       "</html>"
      ],
      "text/plain": [
       "<IPython.core.display.HTML object>"
      ]
     },
     "metadata": {},
     "output_type": "display_data"
    },
    {
     "data": {
      "text/markdown": [
       "25;22_prostatakarzinom_0155.tsv;37"
      ],
      "text/plain": [
       "<IPython.core.display.Markdown object>"
      ]
     },
     "metadata": {},
     "output_type": "display_data"
    },
    {
     "data": {
      "text/markdown": [
       "__Input:__"
      ],
      "text/plain": [
       "<IPython.core.display.Markdown object>"
      ]
     },
     "metadata": {},
     "output_type": "display_data"
    },
    {
     "data": {
      "text/markdown": [
       "Für den jeweils längsten Beobachtungszeitraum sind die gesamt- und Krebs-spezifischen Überlebensraten sowie die Raten an nachfolgenden Salvage-Therapien in der Tabelle 12 zusammengefasst."
      ],
      "text/plain": [
       "<IPython.core.display.Markdown object>"
      ]
     },
     "metadata": {},
     "output_type": "display_data"
    },
    {
     "data": {
      "text/markdown": [
       "__Error type:__ replace"
      ],
      "text/plain": [
       "<IPython.core.display.Markdown object>"
      ]
     },
     "metadata": {},
     "output_type": "display_data"
    },
    {
     "data": {
      "text/html": [
       "\n",
       "<!DOCTYPE html PUBLIC \"-//W3C//DTD XHTML 1.0 Transitional//EN\"\n",
       "          \"http://www.w3.org/TR/xhtml1/DTD/xhtml1-transitional.dtd\">\n",
       "\n",
       "<html>\n",
       "<head>\n",
       "<meta content=\"text/html; charset=utf-8\" http-equiv=\"Content-Type\"/>\n",
       "<title></title>\n",
       "<style type=\"text/css\">\n",
       "        table.diff {font-family:Courier; border:medium;}\n",
       "        .diff_header {background-color:#e0e0e0}\n",
       "        td.diff_header {text-align:right}\n",
       "        .diff_next {background-color:#c0c0c0}\n",
       "        .diff_add {background-color:#aaffaa}\n",
       "        .diff_chg {background-color:#ffff77}\n",
       "        .diff_sub {background-color:#ffaaaa}\n",
       "    </style>\n",
       "</head>\n",
       "<body>\n",
       "<table cellpadding=\"0\" cellspacing=\"0\" class=\"diff\" id=\"difflib_chg_to25__top\" rules=\"groups\">\n",
       "<colgroup></colgroup> <colgroup></colgroup> <colgroup></colgroup>\n",
       "<colgroup></colgroup> <colgroup></colgroup> <colgroup></colgroup>\n",
       "<tbody>\n",
       "<tr><div nowrap=\"nowrap\">Für den jeweils längsten Beobachtungszeitraum sind die gesamt<span class=\"diff_chg\">üb</span>e<span class=\"diff_chg\">rleb</span>en<span class=\"diff_sub\">sraten</span> und Krebs-spezifischen Überlebensraten sowie die Raten an nachfolgenden Salvage-Therapien in der Tabelle 12 zusammengefasst.</div><div nowrap=\"nowrap\">Für den jeweils längsten Beobachtungszeitraum sind die gesamt<span class=\"diff_chg\">sp</span>e<span class=\"diff_chg\">zifisch</span>en und Krebs-spezifischen Überlebensraten sowie die Raten an nachfolgenden Salvage-Therapien in der Tabelle 12 zusammengefasst.</div></tr>\n",
       "</tbody>\n",
       "</table>\n",
       "\n",
       "</body>\n",
       "</html>"
      ],
      "text/plain": [
       "<IPython.core.display.HTML object>"
      ]
     },
     "metadata": {},
     "output_type": "display_data"
    },
    {
     "data": {
      "text/markdown": [
       "26;22_prostatakarzinom_0157.tsv;11"
      ],
      "text/plain": [
       "<IPython.core.display.Markdown object>"
      ]
     },
     "metadata": {},
     "output_type": "display_data"
    },
    {
     "data": {
      "text/markdown": [
       "__Input:__"
      ],
      "text/plain": [
       "<IPython.core.display.Markdown object>"
      ]
     },
     "metadata": {},
     "output_type": "display_data"
    },
    {
     "data": {
      "text/markdown": [
       "Es bestanden keine Unterschiede im Gesamt- oder Krankheitsspezifischen Überleben."
      ],
      "text/plain": [
       "<IPython.core.display.Markdown object>"
      ]
     },
     "metadata": {},
     "output_type": "display_data"
    },
    {
     "data": {
      "text/markdown": [
       "__Error type:__ replace"
      ],
      "text/plain": [
       "<IPython.core.display.Markdown object>"
      ]
     },
     "metadata": {},
     "output_type": "display_data"
    },
    {
     "data": {
      "text/html": [
       "\n",
       "<!DOCTYPE html PUBLIC \"-//W3C//DTD XHTML 1.0 Transitional//EN\"\n",
       "          \"http://www.w3.org/TR/xhtml1/DTD/xhtml1-transitional.dtd\">\n",
       "\n",
       "<html>\n",
       "<head>\n",
       "<meta content=\"text/html; charset=utf-8\" http-equiv=\"Content-Type\"/>\n",
       "<title></title>\n",
       "<style type=\"text/css\">\n",
       "        table.diff {font-family:Courier; border:medium;}\n",
       "        .diff_header {background-color:#e0e0e0}\n",
       "        td.diff_header {text-align:right}\n",
       "        .diff_next {background-color:#c0c0c0}\n",
       "        .diff_add {background-color:#aaffaa}\n",
       "        .diff_chg {background-color:#ffff77}\n",
       "        .diff_sub {background-color:#ffaaaa}\n",
       "    </style>\n",
       "</head>\n",
       "<body>\n",
       "<table cellpadding=\"0\" cellspacing=\"0\" class=\"diff\" id=\"difflib_chg_to26__top\" rules=\"groups\">\n",
       "<colgroup></colgroup> <colgroup></colgroup> <colgroup></colgroup>\n",
       "<colgroup></colgroup> <colgroup></colgroup> <colgroup></colgroup>\n",
       "<tbody>\n",
       "<tr><div nowrap=\"nowrap\">Es bestanden keine Unterschiede im Gesamt<span class=\"diff_chg\">überleb</span>en oder Krankheitsspezifischen Überleben.</div><div nowrap=\"nowrap\">Es bestanden keine Unterschiede im Gesamt<span class=\"diff_chg\">fisch</span>en oder Krankheitsspezifischen Überleben.</div></tr>\n",
       "</tbody>\n",
       "</table>\n",
       "\n",
       "</body>\n",
       "</html>"
      ],
      "text/plain": [
       "<IPython.core.display.HTML object>"
      ]
     },
     "metadata": {},
     "output_type": "display_data"
    },
    {
     "data": {
      "text/markdown": [
       "27;22_prostatakarzinom_0245.tsv;5"
      ],
      "text/plain": [
       "<IPython.core.display.Markdown object>"
      ]
     },
     "metadata": {},
     "output_type": "display_data"
    },
    {
     "data": {
      "text/markdown": [
       "__Input:__"
      ],
      "text/plain": [
       "<IPython.core.display.Markdown object>"
      ]
     },
     "metadata": {},
     "output_type": "display_data"
    },
    {
     "data": {
      "text/markdown": [
       "Lediglich in der mehrarmigen STAMPEDE-Studie gab es einen Docetaxel- und einen Abirateron-Arm, und es wurde ein stärkerer Effekt hinsichtlich der Zeit bis zum Therapieversagen unter Abirateron als unter Docetaxel berichtet, ebenfalls jedoch nicht im direkten Vergleich."
      ],
      "text/plain": [
       "<IPython.core.display.Markdown object>"
      ]
     },
     "metadata": {},
     "output_type": "display_data"
    },
    {
     "data": {
      "text/markdown": [
       "__Error type:__ replace"
      ],
      "text/plain": [
       "<IPython.core.display.Markdown object>"
      ]
     },
     "metadata": {},
     "output_type": "display_data"
    },
    {
     "data": {
      "text/html": [
       "\n",
       "<!DOCTYPE html PUBLIC \"-//W3C//DTD XHTML 1.0 Transitional//EN\"\n",
       "          \"http://www.w3.org/TR/xhtml1/DTD/xhtml1-transitional.dtd\">\n",
       "\n",
       "<html>\n",
       "<head>\n",
       "<meta content=\"text/html; charset=utf-8\" http-equiv=\"Content-Type\"/>\n",
       "<title></title>\n",
       "<style type=\"text/css\">\n",
       "        table.diff {font-family:Courier; border:medium;}\n",
       "        .diff_header {background-color:#e0e0e0}\n",
       "        td.diff_header {text-align:right}\n",
       "        .diff_next {background-color:#c0c0c0}\n",
       "        .diff_add {background-color:#aaffaa}\n",
       "        .diff_chg {background-color:#ffff77}\n",
       "        .diff_sub {background-color:#ffaaaa}\n",
       "    </style>\n",
       "</head>\n",
       "<body>\n",
       "<table cellpadding=\"0\" cellspacing=\"0\" class=\"diff\" id=\"difflib_chg_to27__top\" rules=\"groups\">\n",
       "<colgroup></colgroup> <colgroup></colgroup> <colgroup></colgroup>\n",
       "<colgroup></colgroup> <colgroup></colgroup> <colgroup></colgroup>\n",
       "<tbody>\n",
       "<tr><div nowrap=\"nowrap\">Lediglich in der mehrarmigen STAMPEDE-Studie gab es einen Docetaxel-Arm<span class=\"diff_sub\"> und einen Abirateron-Arm</span>, und es wurde ein stärkerer Effekt hinsichtlich der Zeit bis zum Therapieversagen unter Abirateron als unter Docetaxel berichtet, ebenfalls jedoch nicht im direkten Vergleich.</div><div nowrap=\"nowrap\">Lediglich in der mehrarmigen STAMPEDE-Studie gab es einen Docetaxel<span class=\"diff_add\">arm und einen Abirateron</span>-Arm, und es wurde ein stärkerer Effekt hinsichtlich der Zeit bis zum Therapieversagen unter Abirateron als unter Docetaxel berichtet, ebenfalls jedoch nicht im direkten Vergleich.</div></tr>\n",
       "</tbody>\n",
       "</table>\n",
       "\n",
       "</body>\n",
       "</html>"
      ],
      "text/plain": [
       "<IPython.core.display.HTML object>"
      ]
     },
     "metadata": {},
     "output_type": "display_data"
    },
    {
     "data": {
      "text/markdown": [
       "28;24_analkarzinom_0176.tsv;13"
      ],
      "text/plain": [
       "<IPython.core.display.Markdown object>"
      ]
     },
     "metadata": {},
     "output_type": "display_data"
    },
    {
     "data": {
      "text/markdown": [
       "__Input:__"
      ],
      "text/plain": [
       "<IPython.core.display.Markdown object>"
      ]
     },
     "metadata": {},
     "output_type": "display_data"
    },
    {
     "data": {
      "text/markdown": [
       "In keiner der vier Studien wurde nach Chemotherapie- bzw. Radiochemotherapie-Regime unterschieden."
      ],
      "text/plain": [
       "<IPython.core.display.Markdown object>"
      ]
     },
     "metadata": {},
     "output_type": "display_data"
    },
    {
     "data": {
      "text/markdown": [
       "__Error type:__ replace"
      ],
      "text/plain": [
       "<IPython.core.display.Markdown object>"
      ]
     },
     "metadata": {},
     "output_type": "display_data"
    },
    {
     "data": {
      "text/html": [
       "\n",
       "<!DOCTYPE html PUBLIC \"-//W3C//DTD XHTML 1.0 Transitional//EN\"\n",
       "          \"http://www.w3.org/TR/xhtml1/DTD/xhtml1-transitional.dtd\">\n",
       "\n",
       "<html>\n",
       "<head>\n",
       "<meta content=\"text/html; charset=utf-8\" http-equiv=\"Content-Type\"/>\n",
       "<title></title>\n",
       "<style type=\"text/css\">\n",
       "        table.diff {font-family:Courier; border:medium;}\n",
       "        .diff_header {background-color:#e0e0e0}\n",
       "        td.diff_header {text-align:right}\n",
       "        .diff_next {background-color:#c0c0c0}\n",
       "        .diff_add {background-color:#aaffaa}\n",
       "        .diff_chg {background-color:#ffff77}\n",
       "        .diff_sub {background-color:#ffaaaa}\n",
       "    </style>\n",
       "</head>\n",
       "<body>\n",
       "<table cellpadding=\"0\" cellspacing=\"0\" class=\"diff\" id=\"difflib_chg_to28__top\" rules=\"groups\">\n",
       "<colgroup></colgroup> <colgroup></colgroup> <colgroup></colgroup>\n",
       "<colgroup></colgroup> <colgroup></colgroup> <colgroup></colgroup>\n",
       "<tbody>\n",
       "<tr><div nowrap=\"nowrap\">In keiner der vier Studien wurde nach Chemotherapie<span class=\"diff_chg\">-R</span>egime bzw. Radiochemotherapie-Regime unterschieden.</div><div nowrap=\"nowrap\">In keiner der vier Studien wurde nach Chemotherapie<span class=\"diff_chg\">r</span>egime bzw. Radiochemotherapie-Regime unterschieden.</div></tr>\n",
       "</tbody>\n",
       "</table>\n",
       "\n",
       "</body>\n",
       "</html>"
      ],
      "text/plain": [
       "<IPython.core.display.HTML object>"
      ]
     },
     "metadata": {},
     "output_type": "display_data"
    },
    {
     "data": {
      "text/markdown": [
       "29;26_palliativmedizin_0064.tsv;51"
      ],
      "text/plain": [
       "<IPython.core.display.Markdown object>"
      ]
     },
     "metadata": {},
     "output_type": "display_data"
    },
    {
     "data": {
      "text/markdown": [
       "__Input:__"
      ],
      "text/plain": [
       "<IPython.core.display.Markdown object>"
      ]
     },
     "metadata": {},
     "output_type": "display_data"
    },
    {
     "data": {
      "text/markdown": [
       "Die Übersichtsarbeit zeigt die beste Evidenz für die Besserung von Schmerz- und Symptomkontrolle [REF], [REF], [REF], [REF], [REF], [REF], [REF], [REF], [REF], [REF], [REF], [REF], [REF], [REF], [REF], [REF], [REF], [REF], [REF], für die Minderung von Krankenhauseinweisungen oder –aufenthalten bzw. für das Sterben im häuslichen Umfeld [REF], [REF], [REF], [REF], [REF], [REF], [REF], [REF], [REF], [REF], [REF], [REF], [REF], [REF], [REF] und z. T. auch für Angehörigenoutcomes."
      ],
      "text/plain": [
       "<IPython.core.display.Markdown object>"
      ]
     },
     "metadata": {},
     "output_type": "display_data"
    },
    {
     "data": {
      "text/markdown": [
       "__Error type:__ replace"
      ],
      "text/plain": [
       "<IPython.core.display.Markdown object>"
      ]
     },
     "metadata": {},
     "output_type": "display_data"
    },
    {
     "data": {
      "text/html": [
       "\n",
       "<!DOCTYPE html PUBLIC \"-//W3C//DTD XHTML 1.0 Transitional//EN\"\n",
       "          \"http://www.w3.org/TR/xhtml1/DTD/xhtml1-transitional.dtd\">\n",
       "\n",
       "<html>\n",
       "<head>\n",
       "<meta content=\"text/html; charset=utf-8\" http-equiv=\"Content-Type\"/>\n",
       "<title></title>\n",
       "<style type=\"text/css\">\n",
       "        table.diff {font-family:Courier; border:medium;}\n",
       "        .diff_header {background-color:#e0e0e0}\n",
       "        td.diff_header {text-align:right}\n",
       "        .diff_next {background-color:#c0c0c0}\n",
       "        .diff_add {background-color:#aaffaa}\n",
       "        .diff_chg {background-color:#ffff77}\n",
       "        .diff_sub {background-color:#ffaaaa}\n",
       "    </style>\n",
       "</head>\n",
       "<body>\n",
       "<table cellpadding=\"0\" cellspacing=\"0\" class=\"diff\" id=\"difflib_chg_to29__top\" rules=\"groups\">\n",
       "<colgroup></colgroup> <colgroup></colgroup> <colgroup></colgroup>\n",
       "<colgroup></colgroup> <colgroup></colgroup> <colgroup></colgroup>\n",
       "<tbody>\n",
       "<tr><div nowrap=\"nowrap\">Die Übersichtsarbeit zeigt die beste Evidenz für die Besserung von Schmerzkontrolle und Symptomkontrolle [REF], [REF], [REF], [REF], [REF], [REF], [REF], [REF], [REF], [REF], [REF], [REF], [REF], [REF], [REF], [REF], [REF], [REF], [REF], für die Minderung von Krankenhauseinweisungen oder <span class=\"diff_chg\">Krankenhausaufenthalten</span> bzw. für das Sterben im häuslichen Umfeld [REF], [REF], [REF], [REF], [REF], [REF], [REF], [REF], [REF], [REF], [REF], [REF], [REF], [REF], [REF] und z. T. auch für Angehörigenoutcomes.</div><div nowrap=\"nowrap\">Die Übersichtsarbeit zeigt die beste Evidenz für die Besserung von Schmerzkontrolle und Symptomkontrolle [REF], [REF], [REF], [REF], [REF], [REF], [REF], [REF], [REF], [REF], [REF], [REF], [REF], [REF], [REF], [REF], [REF], [REF], [REF], für die Minderung von Krankenhauseinweisungen oder <span class=\"diff_chg\">–aufenthalten</span> bzw. für das Sterben im häuslichen Umfeld [REF], [REF], [REF], [REF], [REF], [REF], [REF], [REF], [REF], [REF], [REF], [REF], [REF], [REF], [REF] und z. T. auch für Angehörigenoutcomes.</div></tr>\n",
       "</tbody>\n",
       "</table>\n",
       "\n",
       "</body>\n",
       "</html>"
      ],
      "text/plain": [
       "<IPython.core.display.HTML object>"
      ]
     },
     "metadata": {},
     "output_type": "display_data"
    },
    {
     "data": {
      "text/markdown": [
       "30;26_palliativmedizin_0064.tsv;50"
      ],
      "text/plain": [
       "<IPython.core.display.Markdown object>"
      ]
     },
     "metadata": {},
     "output_type": "display_data"
    },
    {
     "data": {
      "text/markdown": [
       "__Input:__"
      ],
      "text/plain": [
       "<IPython.core.display.Markdown object>"
      ]
     },
     "metadata": {},
     "output_type": "display_data"
    },
    {
     "data": {
      "text/markdown": [
       "Ein weiterer Systematic Review mit acht RCTs und 32 Beobachtungs- oder quasiexperimentellen Studien unterschiedlicher Evidenzqualität [REF] untersucht SPV im Krankenhaus, als Palliativdienst oder ambulante häusliche Versorgung bei Patienten mit einer nicht heilbaren Krebserkrankung."
      ],
      "text/plain": [
       "<IPython.core.display.Markdown object>"
      ]
     },
     "metadata": {},
     "output_type": "display_data"
    },
    {
     "data": {
      "text/markdown": [
       "__Error type:__ replace"
      ],
      "text/plain": [
       "<IPython.core.display.Markdown object>"
      ]
     },
     "metadata": {},
     "output_type": "display_data"
    },
    {
     "data": {
      "text/html": [
       "\n",
       "<!DOCTYPE html PUBLIC \"-//W3C//DTD XHTML 1.0 Transitional//EN\"\n",
       "          \"http://www.w3.org/TR/xhtml1/DTD/xhtml1-transitional.dtd\">\n",
       "\n",
       "<html>\n",
       "<head>\n",
       "<meta content=\"text/html; charset=utf-8\" http-equiv=\"Content-Type\"/>\n",
       "<title></title>\n",
       "<style type=\"text/css\">\n",
       "        table.diff {font-family:Courier; border:medium;}\n",
       "        .diff_header {background-color:#e0e0e0}\n",
       "        td.diff_header {text-align:right}\n",
       "        .diff_next {background-color:#c0c0c0}\n",
       "        .diff_add {background-color:#aaffaa}\n",
       "        .diff_chg {background-color:#ffff77}\n",
       "        .diff_sub {background-color:#ffaaaa}\n",
       "    </style>\n",
       "</head>\n",
       "<body>\n",
       "<table cellpadding=\"0\" cellspacing=\"0\" class=\"diff\" id=\"difflib_chg_to30__top\" rules=\"groups\">\n",
       "<colgroup></colgroup> <colgroup></colgroup> <colgroup></colgroup>\n",
       "<colgroup></colgroup> <colgroup></colgroup> <colgroup></colgroup>\n",
       "<tbody>\n",
       "<tr><div nowrap=\"nowrap\">Ein weiterer Systematic Review mit acht RCTs und 32 Beobachtungs<span class=\"diff_sub\">studien oder quasi</span>experimentellen Studien unterschiedlicher Evidenzqualität [REF] untersucht SPV im Krankenhaus, als Palliativdienst oder ambulante häusliche Versorgung bei Patienten mit einer nicht heilbaren Krebserkrankung.</div><div nowrap=\"nowrap\">Ein weiterer Systematic Review mit acht RCTs und 32 Beobachtungsexperimentellen <span class=\"diff_add\">oder quasiexperimentellen </span>Studien unterschiedlicher Evidenzqualität [REF] untersucht SPV im Krankenhaus, als Palliativdienst oder ambulante häusliche Versorgung bei Patienten mit einer nicht heilbaren Krebserkrankung.</div></tr>\n",
       "</tbody>\n",
       "</table>\n",
       "\n",
       "</body>\n",
       "</html>"
      ],
      "text/plain": [
       "<IPython.core.display.HTML object>"
      ]
     },
     "metadata": {},
     "output_type": "display_data"
    },
    {
     "data": {
      "text/markdown": [
       "31;26_palliativmedizin_0097.tsv;38"
      ],
      "text/plain": [
       "<IPython.core.display.Markdown object>"
      ]
     },
     "metadata": {},
     "output_type": "display_data"
    },
    {
     "data": {
      "text/markdown": [
       "__Input:__"
      ],
      "text/plain": [
       "<IPython.core.display.Markdown object>"
      ]
     },
     "metadata": {},
     "output_type": "display_data"
    },
    {
     "data": {
      "text/markdown": [
       "Dennoch führte die Intervention zu einer geringeren Anzahl an Hausarzt- und Notfall-Konsultationen (p = .03 bzw. p = .04)."
      ],
      "text/plain": [
       "<IPython.core.display.Markdown object>"
      ]
     },
     "metadata": {},
     "output_type": "display_data"
    },
    {
     "data": {
      "text/markdown": [
       "__Error type:__ replace"
      ],
      "text/plain": [
       "<IPython.core.display.Markdown object>"
      ]
     },
     "metadata": {},
     "output_type": "display_data"
    },
    {
     "data": {
      "text/html": [
       "\n",
       "<!DOCTYPE html PUBLIC \"-//W3C//DTD XHTML 1.0 Transitional//EN\"\n",
       "          \"http://www.w3.org/TR/xhtml1/DTD/xhtml1-transitional.dtd\">\n",
       "\n",
       "<html>\n",
       "<head>\n",
       "<meta content=\"text/html; charset=utf-8\" http-equiv=\"Content-Type\"/>\n",
       "<title></title>\n",
       "<style type=\"text/css\">\n",
       "        table.diff {font-family:Courier; border:medium;}\n",
       "        .diff_header {background-color:#e0e0e0}\n",
       "        td.diff_header {text-align:right}\n",
       "        .diff_next {background-color:#c0c0c0}\n",
       "        .diff_add {background-color:#aaffaa}\n",
       "        .diff_chg {background-color:#ffff77}\n",
       "        .diff_sub {background-color:#ffaaaa}\n",
       "    </style>\n",
       "</head>\n",
       "<body>\n",
       "<table cellpadding=\"0\" cellspacing=\"0\" class=\"diff\" id=\"difflib_chg_to31__top\" rules=\"groups\">\n",
       "<colgroup></colgroup> <colgroup></colgroup> <colgroup></colgroup>\n",
       "<colgroup></colgroup> <colgroup></colgroup> <colgroup></colgroup>\n",
       "<tbody>\n",
       "<tr><div nowrap=\"nowrap\">Dennoch führte die Intervention zu einer geringeren Anzahl an Hausarzt<span class=\"diff_chg\">-K</span>onsultationen und Notfall-Konsultationen (p = .03 bzw. p = .04).</div><div nowrap=\"nowrap\">Dennoch führte die Intervention zu einer geringeren Anzahl an Hausarzt<span class=\"diff_chg\">k</span>onsultationen und Notfall-Konsultationen (p = .03 bzw. p = .04).</div></tr>\n",
       "</tbody>\n",
       "</table>\n",
       "\n",
       "</body>\n",
       "</html>"
      ],
      "text/plain": [
       "<IPython.core.display.HTML object>"
      ]
     },
     "metadata": {},
     "output_type": "display_data"
    },
    {
     "data": {
      "text/markdown": [
       "32;26_palliativmedizin_0542.tsv;41"
      ],
      "text/plain": [
       "<IPython.core.display.Markdown object>"
      ]
     },
     "metadata": {},
     "output_type": "display_data"
    },
    {
     "data": {
      "text/markdown": [
       "__Input:__"
      ],
      "text/plain": [
       "<IPython.core.display.Markdown object>"
      ]
     },
     "metadata": {},
     "output_type": "display_data"
    },
    {
     "data": {
      "text/markdown": [
       "- Akzeptanz- und Commitment-Therapie ACT:"
      ],
      "text/plain": [
       "<IPython.core.display.Markdown object>"
      ]
     },
     "metadata": {},
     "output_type": "display_data"
    },
    {
     "data": {
      "text/markdown": [
       "__Error type:__ replace"
      ],
      "text/plain": [
       "<IPython.core.display.Markdown object>"
      ]
     },
     "metadata": {},
     "output_type": "display_data"
    },
    {
     "data": {
      "text/html": [
       "\n",
       "<!DOCTYPE html PUBLIC \"-//W3C//DTD XHTML 1.0 Transitional//EN\"\n",
       "          \"http://www.w3.org/TR/xhtml1/DTD/xhtml1-transitional.dtd\">\n",
       "\n",
       "<html>\n",
       "<head>\n",
       "<meta content=\"text/html; charset=utf-8\" http-equiv=\"Content-Type\"/>\n",
       "<title></title>\n",
       "<style type=\"text/css\">\n",
       "        table.diff {font-family:Courier; border:medium;}\n",
       "        .diff_header {background-color:#e0e0e0}\n",
       "        td.diff_header {text-align:right}\n",
       "        .diff_next {background-color:#c0c0c0}\n",
       "        .diff_add {background-color:#aaffaa}\n",
       "        .diff_chg {background-color:#ffff77}\n",
       "        .diff_sub {background-color:#ffaaaa}\n",
       "    </style>\n",
       "</head>\n",
       "<body>\n",
       "<table cellpadding=\"0\" cellspacing=\"0\" class=\"diff\" id=\"difflib_chg_to32__top\" rules=\"groups\">\n",
       "<colgroup></colgroup> <colgroup></colgroup> <colgroup></colgroup>\n",
       "<colgroup></colgroup> <colgroup></colgroup> <colgroup></colgroup>\n",
       "<tbody>\n",
       "<tr><div nowrap=\"nowrap\">- Akzeptanz<span class=\"diff_chg\">-T</span>herapie und Commitment-Therapie ACT:</div><div nowrap=\"nowrap\">- Akzeptanz<span class=\"diff_chg\">t</span>herapie und Commitment-Therapie ACT:</div></tr>\n",
       "</tbody>\n",
       "</table>\n",
       "\n",
       "</body>\n",
       "</html>"
      ],
      "text/plain": [
       "<IPython.core.display.HTML object>"
      ]
     },
     "metadata": {},
     "output_type": "display_data"
    },
    {
     "data": {
      "text/markdown": [
       "33;27_supportive-therapie_0477.tsv;12"
      ],
      "text/plain": [
       "<IPython.core.display.Markdown object>"
      ]
     },
     "metadata": {},
     "output_type": "display_data"
    },
    {
     "data": {
      "text/markdown": [
       "__Input:__"
      ],
      "text/plain": [
       "<IPython.core.display.Markdown object>"
      ]
     },
     "metadata": {},
     "output_type": "display_data"
    },
    {
     "data": {
      "text/markdown": [
       "Prinzipiell kommen die Platten- und tendenziell häufiger die Marknagelosteosynthese zum Einsatz."
      ],
      "text/plain": [
       "<IPython.core.display.Markdown object>"
      ]
     },
     "metadata": {},
     "output_type": "display_data"
    },
    {
     "data": {
      "text/markdown": [
       "__Error type:__ replace"
      ],
      "text/plain": [
       "<IPython.core.display.Markdown object>"
      ]
     },
     "metadata": {},
     "output_type": "display_data"
    },
    {
     "data": {
      "text/html": [
       "\n",
       "<!DOCTYPE html PUBLIC \"-//W3C//DTD XHTML 1.0 Transitional//EN\"\n",
       "          \"http://www.w3.org/TR/xhtml1/DTD/xhtml1-transitional.dtd\">\n",
       "\n",
       "<html>\n",
       "<head>\n",
       "<meta content=\"text/html; charset=utf-8\" http-equiv=\"Content-Type\"/>\n",
       "<title></title>\n",
       "<style type=\"text/css\">\n",
       "        table.diff {font-family:Courier; border:medium;}\n",
       "        .diff_header {background-color:#e0e0e0}\n",
       "        td.diff_header {text-align:right}\n",
       "        .diff_next {background-color:#c0c0c0}\n",
       "        .diff_add {background-color:#aaffaa}\n",
       "        .diff_chg {background-color:#ffff77}\n",
       "        .diff_sub {background-color:#ffaaaa}\n",
       "    </style>\n",
       "</head>\n",
       "<body>\n",
       "<table cellpadding=\"0\" cellspacing=\"0\" class=\"diff\" id=\"difflib_chg_to33__top\" rules=\"groups\">\n",
       "<colgroup></colgroup> <colgroup></colgroup> <colgroup></colgroup>\n",
       "<colgroup></colgroup> <colgroup></colgroup> <colgroup></colgroup>\n",
       "<tbody>\n",
       "<tr><div nowrap=\"nowrap\">Prinzipiell kommen die Platten<span class=\"diff_chg\">ost</span>e<span class=\"diff_chg\">osynthese</span> und tendenziell häufiger die Marknagelosteosynthese zum Einsatz.</div><div nowrap=\"nowrap\">Prinzipiell kommen die Platten<span class=\"diff_chg\">zi</span>e<span class=\"diff_chg\">ll</span> und tendenziell häufiger die Marknagelosteosynthese zum Einsatz.</div></tr>\n",
       "</tbody>\n",
       "</table>\n",
       "\n",
       "</body>\n",
       "</html>"
      ],
      "text/plain": [
       "<IPython.core.display.HTML object>"
      ]
     },
     "metadata": {},
     "output_type": "display_data"
    },
    {
     "data": {
      "text/markdown": [
       "34;27_supportive-therapie_0559.tsv;1"
      ],
      "text/plain": [
       "<IPython.core.display.Markdown object>"
      ]
     },
     "metadata": {},
     "output_type": "display_data"
    },
    {
     "data": {
      "text/markdown": [
       "__Input:__"
      ],
      "text/plain": [
       "<IPython.core.display.Markdown object>"
      ]
     },
     "metadata": {},
     "output_type": "display_data"
    },
    {
     "data": {
      "text/markdown": [
       "Bei Amsacrin-, Cisplatin-, Dactinomycin- und Mitomycin C-Paravasaten sollte die Paravasatstelle mit Dimethylsulfoxid (DMSO) 99 % betupft werden."
      ],
      "text/plain": [
       "<IPython.core.display.Markdown object>"
      ]
     },
     "metadata": {},
     "output_type": "display_data"
    },
    {
     "data": {
      "text/markdown": [
       "__Error type:__ replace"
      ],
      "text/plain": [
       "<IPython.core.display.Markdown object>"
      ]
     },
     "metadata": {},
     "output_type": "display_data"
    },
    {
     "data": {
      "text/html": [
       "\n",
       "<!DOCTYPE html PUBLIC \"-//W3C//DTD XHTML 1.0 Transitional//EN\"\n",
       "          \"http://www.w3.org/TR/xhtml1/DTD/xhtml1-transitional.dtd\">\n",
       "\n",
       "<html>\n",
       "<head>\n",
       "<meta content=\"text/html; charset=utf-8\" http-equiv=\"Content-Type\"/>\n",
       "<title></title>\n",
       "<style type=\"text/css\">\n",
       "        table.diff {font-family:Courier; border:medium;}\n",
       "        .diff_header {background-color:#e0e0e0}\n",
       "        td.diff_header {text-align:right}\n",
       "        .diff_next {background-color:#c0c0c0}\n",
       "        .diff_add {background-color:#aaffaa}\n",
       "        .diff_chg {background-color:#ffff77}\n",
       "        .diff_sub {background-color:#ffaaaa}\n",
       "    </style>\n",
       "</head>\n",
       "<body>\n",
       "<table cellpadding=\"0\" cellspacing=\"0\" class=\"diff\" id=\"difflib_chg_to34__top\" rules=\"groups\">\n",
       "<colgroup></colgroup> <colgroup></colgroup> <colgroup></colgroup>\n",
       "<colgroup></colgroup> <colgroup></colgroup> <colgroup></colgroup>\n",
       "<tbody>\n",
       "<tr><div nowrap=\"nowrap\">Bei Amsacrin<span class=\"diff_chg\">-Paravasate</span>n, Cisplatin<span class=\"diff_chg\">-Paravasate</span>n, Dactinomycin<span class=\"diff_chg\">-Paravasate</span>n und Mitomycin C-Paravasaten sollte die Paravasatstelle mit Dimethylsulfoxid (DMSO) 99 % betupft werden.</div><div nowrap=\"nowrap\">Bei Amsacrin<span class=\"diff_chg\">ci</span>n, Cisplatin<span class=\"diff_chg\">ci</span>n, Dactinomycin<span class=\"diff_chg\">ci</span>n und Mitomycin C-Paravasaten sollte die Paravasatstelle mit Dimethylsulfoxid (DMSO) 99 % betupft werden.</div></tr>\n",
       "</tbody>\n",
       "</table>\n",
       "\n",
       "</body>\n",
       "</html>"
      ],
      "text/plain": [
       "<IPython.core.display.HTML object>"
      ]
     },
     "metadata": {},
     "output_type": "display_data"
    },
    {
     "data": {
      "text/markdown": [
       "35;27_supportive-therapie_0621.tsv;9"
      ],
      "text/plain": [
       "<IPython.core.display.Markdown object>"
      ]
     },
     "metadata": {},
     "output_type": "display_data"
    },
    {
     "data": {
      "text/markdown": [
       "__Input:__"
      ],
      "text/plain": [
       "<IPython.core.display.Markdown object>"
      ]
     },
     "metadata": {},
     "output_type": "display_data"
    },
    {
     "data": {
      "text/markdown": [
       "Bei Darmverschluss ohne sinnvolle Möglichkeit einer Resektion oder einer Bypass-Anlage (zum Beispiel bei ausgeprägter Peritonealkarzinose) kann eine perkutan angelegte Ablauf-Magen- bzw. Dünndarmsonde eine Alternative darstellen."
      ],
      "text/plain": [
       "<IPython.core.display.Markdown object>"
      ]
     },
     "metadata": {},
     "output_type": "display_data"
    },
    {
     "data": {
      "text/markdown": [
       "__Error type:__ replace"
      ],
      "text/plain": [
       "<IPython.core.display.Markdown object>"
      ]
     },
     "metadata": {},
     "output_type": "display_data"
    },
    {
     "data": {
      "text/html": [
       "\n",
       "<!DOCTYPE html PUBLIC \"-//W3C//DTD XHTML 1.0 Transitional//EN\"\n",
       "          \"http://www.w3.org/TR/xhtml1/DTD/xhtml1-transitional.dtd\">\n",
       "\n",
       "<html>\n",
       "<head>\n",
       "<meta content=\"text/html; charset=utf-8\" http-equiv=\"Content-Type\"/>\n",
       "<title></title>\n",
       "<style type=\"text/css\">\n",
       "        table.diff {font-family:Courier; border:medium;}\n",
       "        .diff_header {background-color:#e0e0e0}\n",
       "        td.diff_header {text-align:right}\n",
       "        .diff_next {background-color:#c0c0c0}\n",
       "        .diff_add {background-color:#aaffaa}\n",
       "        .diff_chg {background-color:#ffff77}\n",
       "        .diff_sub {background-color:#ffaaaa}\n",
       "    </style>\n",
       "</head>\n",
       "<body>\n",
       "<table cellpadding=\"0\" cellspacing=\"0\" class=\"diff\" id=\"difflib_chg_to35__top\" rules=\"groups\">\n",
       "<colgroup></colgroup> <colgroup></colgroup> <colgroup></colgroup>\n",
       "<colgroup></colgroup> <colgroup></colgroup> <colgroup></colgroup>\n",
       "<tbody>\n",
       "<tr><div nowrap=\"nowrap\">Bei Darmverschluss ohne sinnvolle Möglichkeit einer Resektion oder einer Bypass-Anlage (zum Beispiel bei ausgeprägter Peritonealkarzinose) kann eine perkutan angelegte Ablauf<span class=\"diff_chg\">-</span>Magensonde bzw. Dünndarmsonde eine Alternative darstellen.</div><div nowrap=\"nowrap\">Bei Darmverschluss ohne sinnvolle Möglichkeit einer Resektion oder einer Bypass-Anlage (zum Beispiel bei ausgeprägter Peritonealkarzinose) kann eine perkutan angelegte Ablauf<span class=\"diff_chg\">sonde</span>Magensonde bzw. Dünndarmsonde eine Alternative darstellen.</div></tr>\n",
       "</tbody>\n",
       "</table>\n",
       "\n",
       "</body>\n",
       "</html>"
      ],
      "text/plain": [
       "<IPython.core.display.HTML object>"
      ]
     },
     "metadata": {},
     "output_type": "display_data"
    },
    {
     "data": {
      "text/markdown": [
       "36;28_komplementaermedizin_0023.tsv;25"
      ],
      "text/plain": [
       "<IPython.core.display.Markdown object>"
      ]
     },
     "metadata": {},
     "output_type": "display_data"
    },
    {
     "data": {
      "text/markdown": [
       "__Input:__"
      ],
      "text/plain": [
       "<IPython.core.display.Markdown object>"
      ]
     },
     "metadata": {},
     "output_type": "display_data"
    },
    {
     "data": {
      "text/markdown": [
       "In dem Cochrane Review von Paley et al. (2015) zu Akupunktur und tumorbedingten Schmerzen sind zwei RCTs mit fortgeschrittenem Pankreas- und Gastrointestinalen Karzinomen eingeschlossen, eines davon wurde nicht in He et al. (2019) besprochen."
      ],
      "text/plain": [
       "<IPython.core.display.Markdown object>"
      ]
     },
     "metadata": {},
     "output_type": "display_data"
    },
    {
     "data": {
      "text/markdown": [
       "__Error type:__ replace"
      ],
      "text/plain": [
       "<IPython.core.display.Markdown object>"
      ]
     },
     "metadata": {},
     "output_type": "display_data"
    },
    {
     "data": {
      "text/html": [
       "\n",
       "<!DOCTYPE html PUBLIC \"-//W3C//DTD XHTML 1.0 Transitional//EN\"\n",
       "          \"http://www.w3.org/TR/xhtml1/DTD/xhtml1-transitional.dtd\">\n",
       "\n",
       "<html>\n",
       "<head>\n",
       "<meta content=\"text/html; charset=utf-8\" http-equiv=\"Content-Type\"/>\n",
       "<title></title>\n",
       "<style type=\"text/css\">\n",
       "        table.diff {font-family:Courier; border:medium;}\n",
       "        .diff_header {background-color:#e0e0e0}\n",
       "        td.diff_header {text-align:right}\n",
       "        .diff_next {background-color:#c0c0c0}\n",
       "        .diff_add {background-color:#aaffaa}\n",
       "        .diff_chg {background-color:#ffff77}\n",
       "        .diff_sub {background-color:#ffaaaa}\n",
       "    </style>\n",
       "</head>\n",
       "<body>\n",
       "<table cellpadding=\"0\" cellspacing=\"0\" class=\"diff\" id=\"difflib_chg_to36__top\" rules=\"groups\">\n",
       "<colgroup></colgroup> <colgroup></colgroup> <colgroup></colgroup>\n",
       "<colgroup></colgroup> <colgroup></colgroup> <colgroup></colgroup>\n",
       "<tbody>\n",
       "<tr><div nowrap=\"nowrap\">In dem Cochrane Review von Paley et al. (2015) zu Akupunktur und tumorbedingten Schmerzen sind zwei RCTs mit fortgeschrittenem Pankreas<span class=\"diff_chg\">karzinomen und</span> Gastrointestinalen Karzinomen eingeschlossen, eines davon wurde nicht in He et al. (2019) besprochen.</div><div nowrap=\"nowrap\">In dem Cochrane Review von Paley et al. (2015) zu Akupunktur und tumorbedingten Schmerzen sind zwei RCTs mit fortgeschrittenem Pankreas<span class=\"diff_chg\">trointestinalen und</span> Gastrointestinalen Karzinomen eingeschlossen, eines davon wurde nicht in He et al. (2019) besprochen.</div></tr>\n",
       "</tbody>\n",
       "</table>\n",
       "\n",
       "</body>\n",
       "</html>"
      ],
      "text/plain": [
       "<IPython.core.display.HTML object>"
      ]
     },
     "metadata": {},
     "output_type": "display_data"
    },
    {
     "data": {
      "text/markdown": [
       "37;28_komplementaermedizin_0032.tsv;17"
      ],
      "text/plain": [
       "<IPython.core.display.Markdown object>"
      ]
     },
     "metadata": {},
     "output_type": "display_data"
    },
    {
     "data": {
      "text/markdown": [
       "__Input:__"
      ],
      "text/plain": [
       "<IPython.core.display.Markdown object>"
      ]
     },
     "metadata": {},
     "output_type": "display_data"
    },
    {
     "data": {
      "text/markdown": [
       "In 3 RCTs wurde zusätzlich zur Standardbehandlung entweder mit Verum- oder mit Sham-Akupunktur behandelt (n = 121), in 4 RCTs erhielt die Kontrollgruppe nur Standard (n = 464), (ein RCT hatte 3 Kontrollarme)."
      ],
      "text/plain": [
       "<IPython.core.display.Markdown object>"
      ]
     },
     "metadata": {},
     "output_type": "display_data"
    },
    {
     "data": {
      "text/markdown": [
       "__Error type:__ replace"
      ],
      "text/plain": [
       "<IPython.core.display.Markdown object>"
      ]
     },
     "metadata": {},
     "output_type": "display_data"
    },
    {
     "data": {
      "text/html": [
       "\n",
       "<!DOCTYPE html PUBLIC \"-//W3C//DTD XHTML 1.0 Transitional//EN\"\n",
       "          \"http://www.w3.org/TR/xhtml1/DTD/xhtml1-transitional.dtd\">\n",
       "\n",
       "<html>\n",
       "<head>\n",
       "<meta content=\"text/html; charset=utf-8\" http-equiv=\"Content-Type\"/>\n",
       "<title></title>\n",
       "<style type=\"text/css\">\n",
       "        table.diff {font-family:Courier; border:medium;}\n",
       "        .diff_header {background-color:#e0e0e0}\n",
       "        td.diff_header {text-align:right}\n",
       "        .diff_next {background-color:#c0c0c0}\n",
       "        .diff_add {background-color:#aaffaa}\n",
       "        .diff_chg {background-color:#ffff77}\n",
       "        .diff_sub {background-color:#ffaaaa}\n",
       "    </style>\n",
       "</head>\n",
       "<body>\n",
       "<table cellpadding=\"0\" cellspacing=\"0\" class=\"diff\" id=\"difflib_chg_to37__top\" rules=\"groups\">\n",
       "<colgroup></colgroup> <colgroup></colgroup> <colgroup></colgroup>\n",
       "<colgroup></colgroup> <colgroup></colgroup> <colgroup></colgroup>\n",
       "<tbody>\n",
       "<tr><div nowrap=\"nowrap\">In 3 RCTs wurde zusätzlich zur Standardbehandlung entweder mit Verum-Akupunktur <span class=\"diff_sub\">oder mit Sham-Akupunktur </span>behandelt (n = 121), in 4 RCTs erhielt die Kontrollgruppe nur Standard (n = 464), (ein RCT hatte 3 Kontrollarme).</div><div nowrap=\"nowrap\">In 3 RCTs wurde zusätzlich zur Standardbehandlung entweder mit Veru<span class=\"diff_add\">makupunktur oder mit Sha</span>m-Akupunktur behandelt (n = 121), in 4 RCTs erhielt die Kontrollgruppe nur Standard (n = 464), (ein RCT hatte 3 Kontrollarme).</div></tr>\n",
       "</tbody>\n",
       "</table>\n",
       "\n",
       "</body>\n",
       "</html>"
      ],
      "text/plain": [
       "<IPython.core.display.HTML object>"
      ]
     },
     "metadata": {},
     "output_type": "display_data"
    },
    {
     "data": {
      "text/markdown": [
       "38;28_komplementaermedizin_0070.tsv;4"
      ],
      "text/plain": [
       "<IPython.core.display.Markdown object>"
      ]
     },
     "metadata": {},
     "output_type": "display_data"
    },
    {
     "data": {
      "text/markdown": [
       "__Input:__"
      ],
      "text/plain": [
       "<IPython.core.display.Markdown object>"
      ]
     },
     "metadata": {},
     "output_type": "display_data"
    },
    {
     "data": {
      "text/markdown": [
       "Dabei gab es bezüglich der Lebensqualität keine signifikanten Unterschiede zwischen der Polarity Therapie-, der Massage- und der Kontrollgruppe (p = 0.21)."
      ],
      "text/plain": [
       "<IPython.core.display.Markdown object>"
      ]
     },
     "metadata": {},
     "output_type": "display_data"
    },
    {
     "data": {
      "text/markdown": [
       "__Error type:__ replace"
      ],
      "text/plain": [
       "<IPython.core.display.Markdown object>"
      ]
     },
     "metadata": {},
     "output_type": "display_data"
    },
    {
     "data": {
      "text/html": [
       "\n",
       "<!DOCTYPE html PUBLIC \"-//W3C//DTD XHTML 1.0 Transitional//EN\"\n",
       "          \"http://www.w3.org/TR/xhtml1/DTD/xhtml1-transitional.dtd\">\n",
       "\n",
       "<html>\n",
       "<head>\n",
       "<meta content=\"text/html; charset=utf-8\" http-equiv=\"Content-Type\"/>\n",
       "<title></title>\n",
       "<style type=\"text/css\">\n",
       "        table.diff {font-family:Courier; border:medium;}\n",
       "        .diff_header {background-color:#e0e0e0}\n",
       "        td.diff_header {text-align:right}\n",
       "        .diff_next {background-color:#c0c0c0}\n",
       "        .diff_add {background-color:#aaffaa}\n",
       "        .diff_chg {background-color:#ffff77}\n",
       "        .diff_sub {background-color:#ffaaaa}\n",
       "    </style>\n",
       "</head>\n",
       "<body>\n",
       "<table cellpadding=\"0\" cellspacing=\"0\" class=\"diff\" id=\"difflib_chg_to38__top\" rules=\"groups\">\n",
       "<colgroup></colgroup> <colgroup></colgroup> <colgroup></colgroup>\n",
       "<colgroup></colgroup> <colgroup></colgroup> <colgroup></colgroup>\n",
       "<tbody>\n",
       "<tr><div nowrap=\"nowrap\">Dabei gab es bezüglich der Lebensqualität keine signifikanten Unterschiede zwischen der Polarity Therapie<span class=\"diff_chg\">gruppe</span>, der Massagegruppe und der Kontrollgruppe (p = 0.21).</div><div nowrap=\"nowrap\">Dabei gab es bezüglich der Lebensqualität keine signifikanten Unterschiede zwischen der Polarity Therapie<span class=\"diff_chg\">-</span>, der Massagegruppe und der Kontrollgruppe (p = 0.21).</div></tr>\n",
       "</tbody>\n",
       "</table>\n",
       "\n",
       "</body>\n",
       "</html>"
      ],
      "text/plain": [
       "<IPython.core.display.HTML object>"
      ]
     },
     "metadata": {},
     "output_type": "display_data"
    },
    {
     "data": {
      "text/markdown": [
       "39;28_komplementaermedizin_0139.tsv;12"
      ],
      "text/plain": [
       "<IPython.core.display.Markdown object>"
      ]
     },
     "metadata": {},
     "output_type": "display_data"
    },
    {
     "data": {
      "text/markdown": [
       "__Input:__"
      ],
      "text/plain": [
       "<IPython.core.display.Markdown object>"
      ]
     },
     "metadata": {},
     "output_type": "display_data"
    },
    {
     "data": {
      "text/markdown": [
       "Bezüglich Schlaf bzw. Ein- und Durchschlafstörungen fand eine aktuelle Metaanalyse über 6 RCTs keine konsistenten Hinweise darauf, dass Tai Chi/Qigong Schlafstörungen/-probleme verbessern kann [REF]."
      ],
      "text/plain": [
       "<IPython.core.display.Markdown object>"
      ]
     },
     "metadata": {},
     "output_type": "display_data"
    },
    {
     "data": {
      "text/markdown": [
       "__Error type:__ replace"
      ],
      "text/plain": [
       "<IPython.core.display.Markdown object>"
      ]
     },
     "metadata": {},
     "output_type": "display_data"
    },
    {
     "data": {
      "text/html": [
       "\n",
       "<!DOCTYPE html PUBLIC \"-//W3C//DTD XHTML 1.0 Transitional//EN\"\n",
       "          \"http://www.w3.org/TR/xhtml1/DTD/xhtml1-transitional.dtd\">\n",
       "\n",
       "<html>\n",
       "<head>\n",
       "<meta content=\"text/html; charset=utf-8\" http-equiv=\"Content-Type\"/>\n",
       "<title></title>\n",
       "<style type=\"text/css\">\n",
       "        table.diff {font-family:Courier; border:medium;}\n",
       "        .diff_header {background-color:#e0e0e0}\n",
       "        td.diff_header {text-align:right}\n",
       "        .diff_next {background-color:#c0c0c0}\n",
       "        .diff_add {background-color:#aaffaa}\n",
       "        .diff_chg {background-color:#ffff77}\n",
       "        .diff_sub {background-color:#ffaaaa}\n",
       "    </style>\n",
       "</head>\n",
       "<body>\n",
       "<table cellpadding=\"0\" cellspacing=\"0\" class=\"diff\" id=\"difflib_chg_to39__top\" rules=\"groups\">\n",
       "<colgroup></colgroup> <colgroup></colgroup> <colgroup></colgroup>\n",
       "<colgroup></colgroup> <colgroup></colgroup> <colgroup></colgroup>\n",
       "<tbody>\n",
       "<tr><div nowrap=\"nowrap\">Bezüglich Schlaf bzw. Einschlafstörungen und Durchschlafstörungen fand eine aktuelle Metaanalyse über 6 RCTs keine konsistenten Hinweise darauf, dass Tai Chi/Qigong Schlafstörungen/<span class=\"diff_chg\">Schlaf</span>probleme verbessern kann [REF].</div><div nowrap=\"nowrap\">Bezüglich Schlaf bzw. Einschlafstörungen und Durchschlafstörungen fand eine aktuelle Metaanalyse über 6 RCTs keine konsistenten Hinweise darauf, dass Tai Chi/Qigong Schlafstörungen/<span class=\"diff_chg\">-</span>probleme verbessern kann [REF].</div></tr>\n",
       "</tbody>\n",
       "</table>\n",
       "\n",
       "</body>\n",
       "</html>"
      ],
      "text/plain": [
       "<IPython.core.display.HTML object>"
      ]
     },
     "metadata": {},
     "output_type": "display_data"
    },
    {
     "data": {
      "text/markdown": [
       "40;28_komplementaermedizin_0210.tsv;2"
      ],
      "text/plain": [
       "<IPython.core.display.Markdown object>"
      ]
     },
     "metadata": {},
     "output_type": "display_data"
    },
    {
     "data": {
      "text/markdown": [
       "__Input:__"
      ],
      "text/plain": [
       "<IPython.core.display.Markdown object>"
      ]
     },
     "metadata": {},
     "output_type": "display_data"
    },
    {
     "data": {
      "text/markdown": [
       "Vitamin E soll nicht bei onkologischen Patienten zur Beeinflussung des Gesamt- bzw. progressionsfreiem Überleben empfohlen werden."
      ],
      "text/plain": [
       "<IPython.core.display.Markdown object>"
      ]
     },
     "metadata": {},
     "output_type": "display_data"
    },
    {
     "data": {
      "text/markdown": [
       "__Error type:__ replace"
      ],
      "text/plain": [
       "<IPython.core.display.Markdown object>"
      ]
     },
     "metadata": {},
     "output_type": "display_data"
    },
    {
     "data": {
      "text/html": [
       "\n",
       "<!DOCTYPE html PUBLIC \"-//W3C//DTD XHTML 1.0 Transitional//EN\"\n",
       "          \"http://www.w3.org/TR/xhtml1/DTD/xhtml1-transitional.dtd\">\n",
       "\n",
       "<html>\n",
       "<head>\n",
       "<meta content=\"text/html; charset=utf-8\" http-equiv=\"Content-Type\"/>\n",
       "<title></title>\n",
       "<style type=\"text/css\">\n",
       "        table.diff {font-family:Courier; border:medium;}\n",
       "        .diff_header {background-color:#e0e0e0}\n",
       "        td.diff_header {text-align:right}\n",
       "        .diff_next {background-color:#c0c0c0}\n",
       "        .diff_add {background-color:#aaffaa}\n",
       "        .diff_chg {background-color:#ffff77}\n",
       "        .diff_sub {background-color:#ffaaaa}\n",
       "    </style>\n",
       "</head>\n",
       "<body>\n",
       "<table cellpadding=\"0\" cellspacing=\"0\" class=\"diff\" id=\"difflib_chg_to40__top\" rules=\"groups\">\n",
       "<colgroup></colgroup> <colgroup></colgroup> <colgroup></colgroup>\n",
       "<colgroup></colgroup> <colgroup></colgroup> <colgroup></colgroup>\n",
       "<tbody>\n",
       "<tr><div nowrap=\"nowrap\">Vitamin E soll nicht bei onkologischen Patienten zur Beeinflussung des Gesamt<span class=\"diff_chg\">üb</span>e<span class=\"diff_chg\">rl</span>e<span class=\"diff_chg\">ben</span> bzw. progressionsfreiem Überleben empfohlen werden.</div><div nowrap=\"nowrap\">Vitamin E soll nicht bei onkologischen Patienten zur Beeinflussung des Gesamt<span class=\"diff_chg\">ionsfr</span>e<span class=\"diff_chg\">i</span>e<span class=\"diff_chg\">m</span> bzw. progressionsfreiem Überleben empfohlen werden.</div></tr>\n",
       "</tbody>\n",
       "</table>\n",
       "\n",
       "</body>\n",
       "</html>"
      ],
      "text/plain": [
       "<IPython.core.display.HTML object>"
      ]
     },
     "metadata": {},
     "output_type": "display_data"
    },
    {
     "data": {
      "text/markdown": [
       "41;28_komplementaermedizin_0239.tsv;68"
      ],
      "text/plain": [
       "<IPython.core.display.Markdown object>"
      ]
     },
     "metadata": {},
     "output_type": "display_data"
    },
    {
     "data": {
      "text/markdown": [
       "__Input:__"
      ],
      "text/plain": [
       "<IPython.core.display.Markdown object>"
      ]
     },
     "metadata": {},
     "output_type": "display_data"
    },
    {
     "data": {
      "text/markdown": [
       "Sangthawan et al. [REF] beobachteten 72 Patienten mit Kopf-Hals-Tumoren und Behandlung durch Radiotherapie und teilten diese randomisiert in eine Zink- oder Placebo-Gruppe ein."
      ],
      "text/plain": [
       "<IPython.core.display.Markdown object>"
      ]
     },
     "metadata": {},
     "output_type": "display_data"
    },
    {
     "data": {
      "text/markdown": [
       "__Error type:__ replace"
      ],
      "text/plain": [
       "<IPython.core.display.Markdown object>"
      ]
     },
     "metadata": {},
     "output_type": "display_data"
    },
    {
     "data": {
      "text/html": [
       "\n",
       "<!DOCTYPE html PUBLIC \"-//W3C//DTD XHTML 1.0 Transitional//EN\"\n",
       "          \"http://www.w3.org/TR/xhtml1/DTD/xhtml1-transitional.dtd\">\n",
       "\n",
       "<html>\n",
       "<head>\n",
       "<meta content=\"text/html; charset=utf-8\" http-equiv=\"Content-Type\"/>\n",
       "<title></title>\n",
       "<style type=\"text/css\">\n",
       "        table.diff {font-family:Courier; border:medium;}\n",
       "        .diff_header {background-color:#e0e0e0}\n",
       "        td.diff_header {text-align:right}\n",
       "        .diff_next {background-color:#c0c0c0}\n",
       "        .diff_add {background-color:#aaffaa}\n",
       "        .diff_chg {background-color:#ffff77}\n",
       "        .diff_sub {background-color:#ffaaaa}\n",
       "    </style>\n",
       "</head>\n",
       "<body>\n",
       "<table cellpadding=\"0\" cellspacing=\"0\" class=\"diff\" id=\"difflib_chg_to41__top\" rules=\"groups\">\n",
       "<colgroup></colgroup> <colgroup></colgroup> <colgroup></colgroup>\n",
       "<colgroup></colgroup> <colgroup></colgroup> <colgroup></colgroup>\n",
       "<tbody>\n",
       "<tr><div nowrap=\"nowrap\">Sangthawan et al. [REF] beobachteten 72 Patienten mit Kopf-Hals-Tumoren und Behandlung durch Radiotherapie und teilten diese randomisiert in eine Zink<span class=\"diff_chg\">-G</span>ruppe oder Placebo-Gruppe ein.</div><div nowrap=\"nowrap\">Sangthawan et al. [REF] beobachteten 72 Patienten mit Kopf-Hals-Tumoren und Behandlung durch Radiotherapie und teilten diese randomisiert in eine Zink<span class=\"diff_chg\">g</span>ruppe oder Placebo-Gruppe ein.</div></tr>\n",
       "</tbody>\n",
       "</table>\n",
       "\n",
       "</body>\n",
       "</html>"
      ],
      "text/plain": [
       "<IPython.core.display.HTML object>"
      ]
     },
     "metadata": {},
     "output_type": "display_data"
    },
    {
     "data": {
      "text/markdown": [
       "42;28_komplementaermedizin_0239.tsv;43"
      ],
      "text/plain": [
       "<IPython.core.display.Markdown object>"
      ]
     },
     "metadata": {},
     "output_type": "display_data"
    },
    {
     "data": {
      "text/markdown": [
       "__Input:__"
      ],
      "text/plain": [
       "<IPython.core.display.Markdown object>"
      ]
     },
     "metadata": {},
     "output_type": "display_data"
    },
    {
     "data": {
      "text/markdown": [
       "Sie untersuchten 31 Patienten über einen Zeitraum von 10 Monaten und gaben den Patienten randomisiert entweder eine Polabrezinc- oder Azulen-Lösung."
      ],
      "text/plain": [
       "<IPython.core.display.Markdown object>"
      ]
     },
     "metadata": {},
     "output_type": "display_data"
    },
    {
     "data": {
      "text/markdown": [
       "__Error type:__ replace"
      ],
      "text/plain": [
       "<IPython.core.display.Markdown object>"
      ]
     },
     "metadata": {},
     "output_type": "display_data"
    },
    {
     "data": {
      "text/html": [
       "\n",
       "<!DOCTYPE html PUBLIC \"-//W3C//DTD XHTML 1.0 Transitional//EN\"\n",
       "          \"http://www.w3.org/TR/xhtml1/DTD/xhtml1-transitional.dtd\">\n",
       "\n",
       "<html>\n",
       "<head>\n",
       "<meta content=\"text/html; charset=utf-8\" http-equiv=\"Content-Type\"/>\n",
       "<title></title>\n",
       "<style type=\"text/css\">\n",
       "        table.diff {font-family:Courier; border:medium;}\n",
       "        .diff_header {background-color:#e0e0e0}\n",
       "        td.diff_header {text-align:right}\n",
       "        .diff_next {background-color:#c0c0c0}\n",
       "        .diff_add {background-color:#aaffaa}\n",
       "        .diff_chg {background-color:#ffff77}\n",
       "        .diff_sub {background-color:#ffaaaa}\n",
       "    </style>\n",
       "</head>\n",
       "<body>\n",
       "<table cellpadding=\"0\" cellspacing=\"0\" class=\"diff\" id=\"difflib_chg_to42__top\" rules=\"groups\">\n",
       "<colgroup></colgroup> <colgroup></colgroup> <colgroup></colgroup>\n",
       "<colgroup></colgroup> <colgroup></colgroup> <colgroup></colgroup>\n",
       "<tbody>\n",
       "<tr><div nowrap=\"nowrap\">Sie untersuchten 31 Patienten über einen Zeitraum von 10 Monaten und gaben den Patienten randomisiert entweder eine Polabrezinc<span class=\"diff_chg\">-L</span>ösung oder Azulen-Lösung.</div><div nowrap=\"nowrap\">Sie untersuchten 31 Patienten über einen Zeitraum von 10 Monaten und gaben den Patienten randomisiert entweder eine Polabrezinc<span class=\"diff_chg\">l</span>ösung oder Azulen-Lösung.</div></tr>\n",
       "</tbody>\n",
       "</table>\n",
       "\n",
       "</body>\n",
       "</html>"
      ],
      "text/plain": [
       "<IPython.core.display.HTML object>"
      ]
     },
     "metadata": {},
     "output_type": "display_data"
    },
    {
     "data": {
      "text/markdown": [
       "43;28_komplementaermedizin_0263.tsv;58"
      ],
      "text/plain": [
       "<IPython.core.display.Markdown object>"
      ]
     },
     "metadata": {},
     "output_type": "display_data"
    },
    {
     "data": {
      "text/markdown": [
       "__Input:__"
      ],
      "text/plain": [
       "<IPython.core.display.Markdown object>"
      ]
     },
     "metadata": {},
     "output_type": "display_data"
    },
    {
     "data": {
      "text/markdown": [
       "Die Assoziation zwischen Tamoxifen- und CR-Einnahme war signifikant (OR 1.76, p 0.001)."
      ],
      "text/plain": [
       "<IPython.core.display.Markdown object>"
      ]
     },
     "metadata": {},
     "output_type": "display_data"
    },
    {
     "data": {
      "text/markdown": [
       "__Error type:__ replace"
      ],
      "text/plain": [
       "<IPython.core.display.Markdown object>"
      ]
     },
     "metadata": {},
     "output_type": "display_data"
    },
    {
     "data": {
      "text/html": [
       "\n",
       "<!DOCTYPE html PUBLIC \"-//W3C//DTD XHTML 1.0 Transitional//EN\"\n",
       "          \"http://www.w3.org/TR/xhtml1/DTD/xhtml1-transitional.dtd\">\n",
       "\n",
       "<html>\n",
       "<head>\n",
       "<meta content=\"text/html; charset=utf-8\" http-equiv=\"Content-Type\"/>\n",
       "<title></title>\n",
       "<style type=\"text/css\">\n",
       "        table.diff {font-family:Courier; border:medium;}\n",
       "        .diff_header {background-color:#e0e0e0}\n",
       "        td.diff_header {text-align:right}\n",
       "        .diff_next {background-color:#c0c0c0}\n",
       "        .diff_add {background-color:#aaffaa}\n",
       "        .diff_chg {background-color:#ffff77}\n",
       "        .diff_sub {background-color:#ffaaaa}\n",
       "    </style>\n",
       "</head>\n",
       "<body>\n",
       "<table cellpadding=\"0\" cellspacing=\"0\" class=\"diff\" id=\"difflib_chg_to43__top\" rules=\"groups\">\n",
       "<colgroup></colgroup> <colgroup></colgroup> <colgroup></colgroup>\n",
       "<colgroup></colgroup> <colgroup></colgroup> <colgroup></colgroup>\n",
       "<tbody>\n",
       "<tr><div nowrap=\"nowrap\">Die Assoziation zwischen Tamoxifen<span class=\"diff_chg\">-E</span>innahme und CR-Einnahme war signifikant (OR 1.76, p 0.001).</div><div nowrap=\"nowrap\">Die Assoziation zwischen Tamoxifen<span class=\"diff_chg\">e</span>innahme und CR-Einnahme war signifikant (OR 1.76, p 0.001).</div></tr>\n",
       "</tbody>\n",
       "</table>\n",
       "\n",
       "</body>\n",
       "</html>"
      ],
      "text/plain": [
       "<IPython.core.display.HTML object>"
      ]
     },
     "metadata": {},
     "output_type": "display_data"
    },
    {
     "data": {
      "text/markdown": [
       "44;28_komplementaermedizin_0263.tsv;8"
      ],
      "text/plain": [
       "<IPython.core.display.Markdown object>"
      ]
     },
     "metadata": {},
     "output_type": "display_data"
    },
    {
     "data": {
      "text/markdown": [
       "__Input:__"
      ],
      "text/plain": [
       "<IPython.core.display.Markdown object>"
      ]
     },
     "metadata": {},
     "output_type": "display_data"
    },
    {
     "data": {
      "text/markdown": [
       "Jedoch fand sich in einem der beiden RCTs trotz der kleinen Fallzahl und der im Vergleich zu FDA- und EMA-Vorgaben zu kurzen Studiendauer eine signifikant stärkere Reduktion von Schweißausbrüchen in der CR-Gruppe im Vergleich zur Placebogruppe [REF]."
      ],
      "text/plain": [
       "<IPython.core.display.Markdown object>"
      ]
     },
     "metadata": {},
     "output_type": "display_data"
    },
    {
     "data": {
      "text/markdown": [
       "__Error type:__ replace"
      ],
      "text/plain": [
       "<IPython.core.display.Markdown object>"
      ]
     },
     "metadata": {},
     "output_type": "display_data"
    },
    {
     "data": {
      "text/html": [
       "\n",
       "<!DOCTYPE html PUBLIC \"-//W3C//DTD XHTML 1.0 Transitional//EN\"\n",
       "          \"http://www.w3.org/TR/xhtml1/DTD/xhtml1-transitional.dtd\">\n",
       "\n",
       "<html>\n",
       "<head>\n",
       "<meta content=\"text/html; charset=utf-8\" http-equiv=\"Content-Type\"/>\n",
       "<title></title>\n",
       "<style type=\"text/css\">\n",
       "        table.diff {font-family:Courier; border:medium;}\n",
       "        .diff_header {background-color:#e0e0e0}\n",
       "        td.diff_header {text-align:right}\n",
       "        .diff_next {background-color:#c0c0c0}\n",
       "        .diff_add {background-color:#aaffaa}\n",
       "        .diff_chg {background-color:#ffff77}\n",
       "        .diff_sub {background-color:#ffaaaa}\n",
       "    </style>\n",
       "</head>\n",
       "<body>\n",
       "<table cellpadding=\"0\" cellspacing=\"0\" class=\"diff\" id=\"difflib_chg_to44__top\" rules=\"groups\">\n",
       "<colgroup></colgroup> <colgroup></colgroup> <colgroup></colgroup>\n",
       "<colgroup></colgroup> <colgroup></colgroup> <colgroup></colgroup>\n",
       "<tbody>\n",
       "<tr><div nowrap=\"nowrap\">Jedoch fand sich in einem der beiden RCTs trotz der kleinen Fallzahl und der im Vergleich zu FDA<span class=\"diff_chg\">-Vorgaben und</span> EMA-Vorgaben zu kurzen Studiendauer eine signifikant stärkere Reduktion von Schweißausbrüchen in der CR-Gruppe im Vergleich zur Placebogruppe [REF].</div><div nowrap=\"nowrap\">Jedoch fand sich in einem der beiden RCTs trotz der kleinen Fallzahl und der im Vergleich zu FDA<span class=\"diff_chg\">vorgaben und</span> EMA-Vorgaben zu kurzen Studiendauer eine signifikant stärkere Reduktion von Schweißausbrüchen in der CR-Gruppe im Vergleich zur Placebogruppe [REF].</div></tr>\n",
       "</tbody>\n",
       "</table>\n",
       "\n",
       "</body>\n",
       "</html>"
      ],
      "text/plain": [
       "<IPython.core.display.HTML object>"
      ]
     },
     "metadata": {},
     "output_type": "display_data"
    },
    {
     "data": {
      "text/markdown": [
       "45;28_komplementaermedizin_0266.tsv;25"
      ],
      "text/plain": [
       "<IPython.core.display.Markdown object>"
      ]
     },
     "metadata": {},
     "output_type": "display_data"
    },
    {
     "data": {
      "text/markdown": [
       "__Input:__"
      ],
      "text/plain": [
       "<IPython.core.display.Markdown object>"
      ]
     },
     "metadata": {},
     "output_type": "display_data"
    },
    {
     "data": {
      "text/markdown": [
       "Die Unterschiede in der Veränderung der MN in Lymphozyten und CF-Aktivität zwischen der Placebo- und der Verum-Gruppe waren signifikant (p < 0.01 bzw. p < 0.05, jeweils)."
      ],
      "text/plain": [
       "<IPython.core.display.Markdown object>"
      ]
     },
     "metadata": {},
     "output_type": "display_data"
    },
    {
     "data": {
      "text/markdown": [
       "__Error type:__ replace"
      ],
      "text/plain": [
       "<IPython.core.display.Markdown object>"
      ]
     },
     "metadata": {},
     "output_type": "display_data"
    },
    {
     "data": {
      "text/html": [
       "\n",
       "<!DOCTYPE html PUBLIC \"-//W3C//DTD XHTML 1.0 Transitional//EN\"\n",
       "          \"http://www.w3.org/TR/xhtml1/DTD/xhtml1-transitional.dtd\">\n",
       "\n",
       "<html>\n",
       "<head>\n",
       "<meta content=\"text/html; charset=utf-8\" http-equiv=\"Content-Type\"/>\n",
       "<title></title>\n",
       "<style type=\"text/css\">\n",
       "        table.diff {font-family:Courier; border:medium;}\n",
       "        .diff_header {background-color:#e0e0e0}\n",
       "        td.diff_header {text-align:right}\n",
       "        .diff_next {background-color:#c0c0c0}\n",
       "        .diff_add {background-color:#aaffaa}\n",
       "        .diff_chg {background-color:#ffff77}\n",
       "        .diff_sub {background-color:#ffaaaa}\n",
       "    </style>\n",
       "</head>\n",
       "<body>\n",
       "<table cellpadding=\"0\" cellspacing=\"0\" class=\"diff\" id=\"difflib_chg_to45__top\" rules=\"groups\">\n",
       "<colgroup></colgroup> <colgroup></colgroup> <colgroup></colgroup>\n",
       "<colgroup></colgroup> <colgroup></colgroup> <colgroup></colgroup>\n",
       "<tbody>\n",
       "<tr><div nowrap=\"nowrap\">Die Unterschiede in der Veränderung der MN in Lymphozyten und CF-Aktivität zwischen der Placebo<span class=\"diff_chg\">-G</span>ruppe und der Verum-Gruppe waren signifikant (p &lt; 0.01 bzw. p &lt; 0.05, jeweils).</div><div nowrap=\"nowrap\">Die Unterschiede in der Veränderung der MN in Lymphozyten und CF-Aktivität zwischen der Placebo<span class=\"diff_chg\">g</span>ruppe und der Verum-Gruppe waren signifikant (p &lt; 0.01 bzw. p &lt; 0.05, jeweils).</div></tr>\n",
       "</tbody>\n",
       "</table>\n",
       "\n",
       "</body>\n",
       "</html>"
      ],
      "text/plain": [
       "<IPython.core.display.HTML object>"
      ]
     },
     "metadata": {},
     "output_type": "display_data"
    },
    {
     "data": {
      "text/markdown": [
       "46;28_komplementaermedizin_0272.tsv;51"
      ],
      "text/plain": [
       "<IPython.core.display.Markdown object>"
      ]
     },
     "metadata": {},
     "output_type": "display_data"
    },
    {
     "data": {
      "text/markdown": [
       "__Input:__"
      ],
      "text/plain": [
       "<IPython.core.display.Markdown object>"
      ]
     },
     "metadata": {},
     "output_type": "display_data"
    },
    {
     "data": {
      "text/markdown": [
       "Ein Granatapfelsamenextrakt milderte in Tierversuchen die durch Cisplatin, ein Zytostatikum zur Hemmung der Zellteilung und Zellwachstum mit den Hauptindikationen Hoden-, Ovarial-, Bronchial-, Harnblasen- und Zervixkarzinom, Plattenepithelkarzinome an Kopf und Hals sowie das Chorionkarzinom, induzierte Hepatotoxizität [REF]."
      ],
      "text/plain": [
       "<IPython.core.display.Markdown object>"
      ]
     },
     "metadata": {},
     "output_type": "display_data"
    },
    {
     "data": {
      "text/markdown": [
       "__Error type:__ replace"
      ],
      "text/plain": [
       "<IPython.core.display.Markdown object>"
      ]
     },
     "metadata": {},
     "output_type": "display_data"
    },
    {
     "data": {
      "text/html": [
       "\n",
       "<!DOCTYPE html PUBLIC \"-//W3C//DTD XHTML 1.0 Transitional//EN\"\n",
       "          \"http://www.w3.org/TR/xhtml1/DTD/xhtml1-transitional.dtd\">\n",
       "\n",
       "<html>\n",
       "<head>\n",
       "<meta content=\"text/html; charset=utf-8\" http-equiv=\"Content-Type\"/>\n",
       "<title></title>\n",
       "<style type=\"text/css\">\n",
       "        table.diff {font-family:Courier; border:medium;}\n",
       "        .diff_header {background-color:#e0e0e0}\n",
       "        td.diff_header {text-align:right}\n",
       "        .diff_next {background-color:#c0c0c0}\n",
       "        .diff_add {background-color:#aaffaa}\n",
       "        .diff_chg {background-color:#ffff77}\n",
       "        .diff_sub {background-color:#ffaaaa}\n",
       "    </style>\n",
       "</head>\n",
       "<body>\n",
       "<table cellpadding=\"0\" cellspacing=\"0\" class=\"diff\" id=\"difflib_chg_to46__top\" rules=\"groups\">\n",
       "<colgroup></colgroup> <colgroup></colgroup> <colgroup></colgroup>\n",
       "<colgroup></colgroup> <colgroup></colgroup> <colgroup></colgroup>\n",
       "<tbody>\n",
       "<tr><div nowrap=\"nowrap\">Ein Granatapfelsamenextrakt milderte in Tierversuchen die durch Cisplatin, ein Zytostatikum zur Hemmung der Zellteilung und Zellwachstum mit den Hauptindikationen Hoden<span class=\"diff_chg\">karzinom,</span> Ovarialkarzinom, Bronchialkarzinom, Harnblasenkarzinom und Zervixkarzinom, Plattenepithelkarzinome an Kopf und Hals sowie das Chorionkarzinom, induzierte Hepatotoxizität [REF].</div><div nowrap=\"nowrap\">Ein Granatapfelsamenextrakt milderte in Tierversuchen die durch Cisplatin, ein Zytostatikum zur Hemmung der Zellteilung und Zellwachstum mit den Hauptindikationen Hoden<span class=\"diff_chg\">-,</span> Ovarialkarzinom, Bronchialkarzinom, Harnblasenkarzinom und Zervixkarzinom, Plattenepithelkarzinome an Kopf und Hals sowie das Chorionkarzinom, induzierte Hepatotoxizität [REF].</div></tr>\n",
       "</tbody>\n",
       "</table>\n",
       "\n",
       "</body>\n",
       "</html>"
      ],
      "text/plain": [
       "<IPython.core.display.HTML object>"
      ]
     },
     "metadata": {},
     "output_type": "display_data"
    },
    {
     "data": {
      "text/markdown": [
       "47;28_komplementaermedizin_0272.tsv;139"
      ],
      "text/plain": [
       "<IPython.core.display.Markdown object>"
      ]
     },
     "metadata": {},
     "output_type": "display_data"
    },
    {
     "data": {
      "text/markdown": [
       "__Input:__"
      ],
      "text/plain": [
       "<IPython.core.display.Markdown object>"
      ]
     },
     "metadata": {},
     "output_type": "display_data"
    },
    {
     "data": {
      "text/markdown": [
       "UE traten in der Verum- und Placebo-Gruppe gleich häufig auf."
      ],
      "text/plain": [
       "<IPython.core.display.Markdown object>"
      ]
     },
     "metadata": {},
     "output_type": "display_data"
    },
    {
     "data": {
      "text/markdown": [
       "__Error type:__ replace"
      ],
      "text/plain": [
       "<IPython.core.display.Markdown object>"
      ]
     },
     "metadata": {},
     "output_type": "display_data"
    },
    {
     "data": {
      "text/html": [
       "\n",
       "<!DOCTYPE html PUBLIC \"-//W3C//DTD XHTML 1.0 Transitional//EN\"\n",
       "          \"http://www.w3.org/TR/xhtml1/DTD/xhtml1-transitional.dtd\">\n",
       "\n",
       "<html>\n",
       "<head>\n",
       "<meta content=\"text/html; charset=utf-8\" http-equiv=\"Content-Type\"/>\n",
       "<title></title>\n",
       "<style type=\"text/css\">\n",
       "        table.diff {font-family:Courier; border:medium;}\n",
       "        .diff_header {background-color:#e0e0e0}\n",
       "        td.diff_header {text-align:right}\n",
       "        .diff_next {background-color:#c0c0c0}\n",
       "        .diff_add {background-color:#aaffaa}\n",
       "        .diff_chg {background-color:#ffff77}\n",
       "        .diff_sub {background-color:#ffaaaa}\n",
       "    </style>\n",
       "</head>\n",
       "<body>\n",
       "<table cellpadding=\"0\" cellspacing=\"0\" class=\"diff\" id=\"difflib_chg_to47__top\" rules=\"groups\">\n",
       "<colgroup></colgroup> <colgroup></colgroup> <colgroup></colgroup>\n",
       "<colgroup></colgroup> <colgroup></colgroup> <colgroup></colgroup>\n",
       "<tbody>\n",
       "<tr><div nowrap=\"nowrap\">UE traten in der Verum<span class=\"diff_chg\">-G</span>ruppe und Placebo-Gruppe gleich häufig auf.</div><div nowrap=\"nowrap\">UE traten in der Verum<span class=\"diff_chg\">g</span>ruppe und Placebo-Gruppe gleich häufig auf.</div></tr>\n",
       "</tbody>\n",
       "</table>\n",
       "\n",
       "</body>\n",
       "</html>"
      ],
      "text/plain": [
       "<IPython.core.display.HTML object>"
      ]
     },
     "metadata": {},
     "output_type": "display_data"
    },
    {
     "data": {
      "text/markdown": [
       "48;29_adulte-weichgewebesarkome_0147.tsv;1"
      ],
      "text/plain": [
       "<IPython.core.display.Markdown object>"
      ]
     },
     "metadata": {},
     "output_type": "display_data"
    },
    {
     "data": {
      "text/markdown": [
       "__Input:__"
      ],
      "text/plain": [
       "<IPython.core.display.Markdown object>"
      ]
     },
     "metadata": {},
     "output_type": "display_data"
    },
    {
     "data": {
      "text/markdown": [
       "Nach R1- oder R2-Resektion eines primären RPS soll eine Vorstellung an einem Sarkomzentrum zur Prüfung weiterer Therapiemodalitäten erfolgen."
      ],
      "text/plain": [
       "<IPython.core.display.Markdown object>"
      ]
     },
     "metadata": {},
     "output_type": "display_data"
    },
    {
     "data": {
      "text/markdown": [
       "__Error type:__ replace"
      ],
      "text/plain": [
       "<IPython.core.display.Markdown object>"
      ]
     },
     "metadata": {},
     "output_type": "display_data"
    },
    {
     "data": {
      "text/html": [
       "\n",
       "<!DOCTYPE html PUBLIC \"-//W3C//DTD XHTML 1.0 Transitional//EN\"\n",
       "          \"http://www.w3.org/TR/xhtml1/DTD/xhtml1-transitional.dtd\">\n",
       "\n",
       "<html>\n",
       "<head>\n",
       "<meta content=\"text/html; charset=utf-8\" http-equiv=\"Content-Type\"/>\n",
       "<title></title>\n",
       "<style type=\"text/css\">\n",
       "        table.diff {font-family:Courier; border:medium;}\n",
       "        .diff_header {background-color:#e0e0e0}\n",
       "        td.diff_header {text-align:right}\n",
       "        .diff_next {background-color:#c0c0c0}\n",
       "        .diff_add {background-color:#aaffaa}\n",
       "        .diff_chg {background-color:#ffff77}\n",
       "        .diff_sub {background-color:#ffaaaa}\n",
       "    </style>\n",
       "</head>\n",
       "<body>\n",
       "<table cellpadding=\"0\" cellspacing=\"0\" class=\"diff\" id=\"difflib_chg_to48__top\" rules=\"groups\">\n",
       "<colgroup></colgroup> <colgroup></colgroup> <colgroup></colgroup>\n",
       "<colgroup></colgroup> <colgroup></colgroup> <colgroup></colgroup>\n",
       "<tbody>\n",
       "<tr><div nowrap=\"nowrap\">Nach R1<span class=\"diff_chg\">-R</span>esektion oder R2-Resektion eines primären RPS soll eine Vorstellung an einem Sarkomzentrum zur Prüfung weiterer Therapiemodalitäten erfolgen.</div><div nowrap=\"nowrap\">Nach R1<span class=\"diff_chg\">r</span>esektion oder R2-Resektion eines primären RPS soll eine Vorstellung an einem Sarkomzentrum zur Prüfung weiterer Therapiemodalitäten erfolgen.</div></tr>\n",
       "</tbody>\n",
       "</table>\n",
       "\n",
       "</body>\n",
       "</html>"
      ],
      "text/plain": [
       "<IPython.core.display.HTML object>"
      ]
     },
     "metadata": {},
     "output_type": "display_data"
    },
    {
     "data": {
      "text/markdown": [
       "49;29_adulte-weichgewebesarkome_0381.tsv;13"
      ],
      "text/plain": [
       "<IPython.core.display.Markdown object>"
      ]
     },
     "metadata": {},
     "output_type": "display_data"
    },
    {
     "data": {
      "text/markdown": [
       "__Input:__"
      ],
      "text/plain": [
       "<IPython.core.display.Markdown object>"
      ]
     },
     "metadata": {},
     "output_type": "display_data"
    },
    {
     "data": {
      "text/markdown": [
       "Die VOYAGER Studie, eine Phase III Studie, evaluierte die Wirksamkeit und Sicherheit von Avapritinib vs. Regorafenib als Drittlinien- oder spätere Behandlung bei Patienten mit inoperablem oder metastasiertem GIST."
      ],
      "text/plain": [
       "<IPython.core.display.Markdown object>"
      ]
     },
     "metadata": {},
     "output_type": "display_data"
    },
    {
     "data": {
      "text/markdown": [
       "__Error type:__ replace"
      ],
      "text/plain": [
       "<IPython.core.display.Markdown object>"
      ]
     },
     "metadata": {},
     "output_type": "display_data"
    },
    {
     "data": {
      "text/html": [
       "\n",
       "<!DOCTYPE html PUBLIC \"-//W3C//DTD XHTML 1.0 Transitional//EN\"\n",
       "          \"http://www.w3.org/TR/xhtml1/DTD/xhtml1-transitional.dtd\">\n",
       "\n",
       "<html>\n",
       "<head>\n",
       "<meta content=\"text/html; charset=utf-8\" http-equiv=\"Content-Type\"/>\n",
       "<title></title>\n",
       "<style type=\"text/css\">\n",
       "        table.diff {font-family:Courier; border:medium;}\n",
       "        .diff_header {background-color:#e0e0e0}\n",
       "        td.diff_header {text-align:right}\n",
       "        .diff_next {background-color:#c0c0c0}\n",
       "        .diff_add {background-color:#aaffaa}\n",
       "        .diff_chg {background-color:#ffff77}\n",
       "        .diff_sub {background-color:#ffaaaa}\n",
       "    </style>\n",
       "</head>\n",
       "<body>\n",
       "<table cellpadding=\"0\" cellspacing=\"0\" class=\"diff\" id=\"difflib_chg_to49__top\" rules=\"groups\">\n",
       "<colgroup></colgroup> <colgroup></colgroup> <colgroup></colgroup>\n",
       "<colgroup></colgroup> <colgroup></colgroup> <colgroup></colgroup>\n",
       "<tbody>\n",
       "<tr><div nowrap=\"nowrap\">Die VOYAGER Studie, eine Phase III Studie, evaluierte die Wirksamkeit und Sicherheit von Avapritinib vs. Regorafenib als Drittlinien<span class=\"diff_chg\">behandlung oder</span> spätere Behandlung bei Patienten mit inoperablem oder metastasiertem GIST.</div><div nowrap=\"nowrap\">Die VOYAGER Studie, eine Phase III Studie, evaluierte die Wirksamkeit und Sicherheit von Avapritinib vs. Regorafenib als Drittlinien<span class=\"diff_chg\">ere oder</span> spätere Behandlung bei Patienten mit inoperablem oder metastasiertem GIST.</div></tr>\n",
       "</tbody>\n",
       "</table>\n",
       "\n",
       "</body>\n",
       "</html>"
      ],
      "text/plain": [
       "<IPython.core.display.HTML object>"
      ]
     },
     "metadata": {},
     "output_type": "display_data"
    }
   ],
   "source": [
    "show_errors(errors[(errors.error_type == 'replace')])"
   ]
  },
  {
   "cell_type": "code",
   "execution_count": null,
   "metadata": {},
   "outputs": [],
   "source": []
  },
  {
   "cell_type": "code",
   "execution_count": null,
   "metadata": {},
   "outputs": [],
   "source": []
  }
 ],
 "metadata": {
  "kernelspec": {
   "display_name": "Python [conda env:ellipses]",
   "language": "python",
   "name": "conda-env-ellipses-py"
  },
  "language_info": {
   "codemirror_mode": {
    "name": "ipython",
    "version": 3
   },
   "file_extension": ".py",
   "mimetype": "text/x-python",
   "name": "python",
   "nbconvert_exporter": "python",
   "pygments_lexer": "ipython3",
   "version": "3.10.6"
  }
 },
 "nbformat": 4,
 "nbformat_minor": 4
}
